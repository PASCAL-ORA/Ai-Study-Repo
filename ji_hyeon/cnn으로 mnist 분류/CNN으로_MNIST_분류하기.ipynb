{
  "cells": [
    {
      "cell_type": "markdown",
      "metadata": {
        "id": "m3vdSFZN8aPi"
      },
      "source": [
        "필요한 도구 임포트와 입력의 정의"
      ]
    },
    {
      "cell_type": "code",
      "execution_count": 28,
      "metadata": {
        "id": "YzWMenuG7gta"
      },
      "outputs": [],
      "source": [
        "import torch\n",
        "import torch.nn as nn"
      ]
    },
    {
      "cell_type": "code",
      "execution_count": null,
      "metadata": {
        "colab": {
          "base_uri": "https://localhost:8080/"
        },
        "id": "LqiDyUsk7oFc",
        "outputId": "43074f3b-9098-4b16-a357-3d4d0a837878"
      },
      "outputs": [
        {
          "name": "stdout",
          "output_type": "stream",
          "text": [
            "텐서의 크기 : torch.Size([1, 1, 28, 28])\n"
          ]
        }
      ],
      "source": [
        "inputs = torch.Tensor(1, 1, 28, 28)\n",
        "print('텐서의 크기 : {}'.format(inputs.shape))"
      ]
    },
    {
      "cell_type": "markdown",
      "metadata": {
        "id": "QidstgAH8iWk"
      },
      "source": [
        "합성곱층과 풀링 선언하기"
      ]
    },
    {
      "cell_type": "code",
      "execution_count": 30,
      "metadata": {
        "colab": {
          "base_uri": "https://localhost:8080/"
        },
        "id": "S31mrm5H7rlP",
        "outputId": "5b47d18e-d6de-4033-ad89-a787f8085477"
      },
      "outputs": [
        {
          "name": "stdout",
          "output_type": "stream",
          "text": [
            "Conv2d(1, 32, kernel_size=(3, 3), stride=(1, 1), padding=(1, 1))\n"
          ]
        }
      ],
      "source": [
        "conv1 = nn.Conv2d(1, 32, 3, padding=1)\n",
        "print(conv1)"
      ]
    },
    {
      "cell_type": "code",
      "execution_count": 31,
      "metadata": {
        "colab": {
          "base_uri": "https://localhost:8080/"
        },
        "id": "mGsktdkc7rhh",
        "outputId": "30f8082c-5af6-4e17-c217-bfdd2a80d924"
      },
      "outputs": [
        {
          "name": "stdout",
          "output_type": "stream",
          "text": [
            "Conv2d(32, 64, kernel_size=(3, 3), stride=(1, 1), padding=(1, 1))\n"
          ]
        }
      ],
      "source": [
        "conv2 = nn.Conv2d(32, 64, kernel_size=3, padding=1)\n",
        "print(conv2)"
      ]
    },
    {
      "cell_type": "code",
      "execution_count": 32,
      "metadata": {
        "colab": {
          "base_uri": "https://localhost:8080/"
        },
        "id": "hXMoh60R7ree",
        "outputId": "05c0ab55-188a-4987-da70-2d5b660c65b3"
      },
      "outputs": [
        {
          "name": "stdout",
          "output_type": "stream",
          "text": [
            "MaxPool2d(kernel_size=2, stride=2, padding=0, dilation=1, ceil_mode=False)\n"
          ]
        }
      ],
      "source": [
        "pool = nn.MaxPool2d(2)\n",
        "print(pool)"
      ]
    },
    {
      "cell_type": "markdown",
      "metadata": {
        "id": "_YrO322Y8tJF"
      },
      "source": [
        "구현체를 연결하여 모델 만들기"
      ]
    },
    {
      "cell_type": "code",
      "execution_count": 33,
      "metadata": {
        "colab": {
          "base_uri": "https://localhost:8080/"
        },
        "id": "KF94Sga172sr",
        "outputId": "af8a701b-6ae9-49cc-b331-b4cfc5c614f7"
      },
      "outputs": [
        {
          "name": "stdout",
          "output_type": "stream",
          "text": [
            "torch.Size([1, 32, 28, 28])\n"
          ]
        }
      ],
      "source": [
        "out = conv1(inputs)\n",
        "print(out.shape)"
      ]
    },
    {
      "cell_type": "code",
      "execution_count": 34,
      "metadata": {
        "colab": {
          "base_uri": "https://localhost:8080/"
        },
        "id": "wn_bj16h72qI",
        "outputId": "aa88d9f5-0a1c-424d-8f0a-9d67ef22d1e6"
      },
      "outputs": [
        {
          "name": "stdout",
          "output_type": "stream",
          "text": [
            "torch.Size([1, 32, 14, 14])\n"
          ]
        }
      ],
      "source": [
        "out = pool(out)\n",
        "print(out.shape)"
      ]
    },
    {
      "cell_type": "code",
      "execution_count": 35,
      "metadata": {
        "colab": {
          "base_uri": "https://localhost:8080/"
        },
        "id": "fxIrHHiA72nq",
        "outputId": "168922ef-9eae-482b-ef38-e3c3fb4d5955"
      },
      "outputs": [
        {
          "name": "stdout",
          "output_type": "stream",
          "text": [
            "torch.Size([1, 64, 14, 14])\n"
          ]
        }
      ],
      "source": [
        "out = conv2(out)\n",
        "print(out.shape)"
      ]
    },
    {
      "cell_type": "code",
      "execution_count": 36,
      "metadata": {
        "colab": {
          "base_uri": "https://localhost:8080/"
        },
        "id": "MzKz0Lkj72Wp",
        "outputId": "97b0ded5-afd7-47d1-df9e-b238983939f3"
      },
      "outputs": [
        {
          "name": "stdout",
          "output_type": "stream",
          "text": [
            "torch.Size([1, 64, 7, 7])\n"
          ]
        }
      ],
      "source": [
        "out = pool(out)\n",
        "print(out.shape)"
      ]
    },
    {
      "cell_type": "code",
      "execution_count": 37,
      "metadata": {
        "colab": {
          "base_uri": "https://localhost:8080/"
        },
        "id": "Q0tfzYJf7ra4",
        "outputId": "8752a772-e48e-462f-9cf3-c5de6a888940"
      },
      "outputs": [
        {
          "data": {
            "text/plain": [
              "1"
            ]
          },
          "execution_count": 37,
          "metadata": {},
          "output_type": "execute_result"
        }
      ],
      "source": [
        "out.size(0)"
      ]
    },
    {
      "cell_type": "code",
      "execution_count": 38,
      "metadata": {
        "colab": {
          "base_uri": "https://localhost:8080/"
        },
        "id": "UXAFYoU-8DE7",
        "outputId": "245d1cdc-aa11-46be-b3ad-ead24eecd744"
      },
      "outputs": [
        {
          "data": {
            "text/plain": [
              "64"
            ]
          },
          "execution_count": 38,
          "metadata": {},
          "output_type": "execute_result"
        }
      ],
      "source": [
        "out.size(1)"
      ]
    },
    {
      "cell_type": "code",
      "execution_count": 39,
      "metadata": {
        "colab": {
          "base_uri": "https://localhost:8080/"
        },
        "id": "Zttx6B0o8DtE",
        "outputId": "778831d3-f447-4747-8783-d340f7f4ae78"
      },
      "outputs": [
        {
          "data": {
            "text/plain": [
              "7"
            ]
          },
          "execution_count": 39,
          "metadata": {},
          "output_type": "execute_result"
        }
      ],
      "source": [
        "out.size(2)"
      ]
    },
    {
      "cell_type": "code",
      "execution_count": 40,
      "metadata": {
        "colab": {
          "base_uri": "https://localhost:8080/"
        },
        "id": "BDPfDLg28Dqp",
        "outputId": "85db20d9-0791-4606-a36a-40fdb52a2545"
      },
      "outputs": [
        {
          "data": {
            "text/plain": [
              "7"
            ]
          },
          "execution_count": 40,
          "metadata": {},
          "output_type": "execute_result"
        }
      ],
      "source": [
        "out.size(3)"
      ]
    },
    {
      "cell_type": "code",
      "execution_count": 41,
      "metadata": {
        "colab": {
          "base_uri": "https://localhost:8080/"
        },
        "id": "VIi0bTL1QEuW",
        "outputId": "db9d43a6-dd08-4c99-96d9-02374e330c29"
      },
      "outputs": [
        {
          "name": "stdout",
          "output_type": "stream",
          "text": [
            "tensor([[[[ 1.3913e+32,  4.1255e+32,  1.1801e+34,  ...,  1.1238e+33,\n",
            "            1.2028e+33,  2.1065e+33],\n",
            "          [ 5.8696e+32,  1.4245e+32,  4.3493e+34,  ...,  2.9707e+33,\n",
            "            1.0887e+34,  5.6206e+33],\n",
            "          [ 1.1858e+33,  2.3237e+33,  3.3012e+33,  ...,  1.3912e+31,\n",
            "            2.1535e+33,  1.2335e+33],\n",
            "          ...,\n",
            "          [ 4.3878e+33,  1.3819e+34,  1.5421e+33,  ...,  2.1541e+32,\n",
            "            2.4563e+33,  1.4217e+33],\n",
            "          [ 5.5860e+31,  8.0321e+32,  1.8014e+33,  ...,  1.0385e+33,\n",
            "            2.6585e+33,  2.6032e+33],\n",
            "          [ 2.2742e+30,  2.2298e+33,  1.0003e+33,  ...,  5.3565e+32,\n",
            "            1.2636e+33,  4.1871e+32]],\n",
            "\n",
            "         [[ 4.7463e+32,  1.5900e+32,  3.5813e+34,  ...,  5.1589e+33,\n",
            "            8.9914e+33,  1.6922e+33],\n",
            "          [ 1.9709e+32,  1.5041e+32,  9.7043e+32,  ...,  9.3410e+31,\n",
            "            7.7399e+33,  9.6623e+31],\n",
            "          [ 9.0513e+33,  1.6847e+33,  1.5958e+33,  ...,  4.8002e+33,\n",
            "            3.3400e+33,  2.1546e+33],\n",
            "          ...,\n",
            "          [ 1.5585e+32,  6.5593e+33,  1.7246e+33,  ...,  1.6493e+33,\n",
            "            2.7088e+33,  1.3698e+33],\n",
            "          [ 4.1228e+31,  1.9200e+33,  1.4610e+33,  ...,  1.8826e+32,\n",
            "            2.3326e+33,  1.8104e+33],\n",
            "          [ 5.2772e+30,  1.2107e+33,  7.6840e+32,  ...,  6.6049e+30,\n",
            "            4.0012e+32,  2.9754e+32]],\n",
            "\n",
            "         [[-6.4876e+31, -2.5339e+32,  3.7943e+33,  ..., -1.3720e+31,\n",
            "           -3.1049e+31, -6.1833e+30],\n",
            "          [-1.0037e+32,  1.3537e+32, -1.0452e+34,  ...,  9.8332e+32,\n",
            "           -1.7119e+33,  5.5514e+32],\n",
            "          [-2.6451e+30,  2.5329e+29, -1.9709e+32,  ..., -8.7648e+30,\n",
            "            9.9370e+32, -1.1996e+31],\n",
            "          ...,\n",
            "          [ 4.1928e+31,  2.4484e+32, -1.6627e+31,  ..., -2.6731e+31,\n",
            "            6.4640e+32,  1.6379e+32],\n",
            "          [-1.3351e+31,  4.8692e+31,  2.4096e+30,  ..., -3.1769e+32,\n",
            "           -1.2276e+32,  8.4812e+30],\n",
            "          [-6.1341e+29, -5.9874e+32, -1.6368e+32,  ...,  5.0672e+31,\n",
            "           -2.2708e+31,  2.8202e+32]],\n",
            "\n",
            "         ...,\n",
            "\n",
            "         [[ 6.4276e+31,  1.5976e+32,  2.2734e+33,  ...,  5.8832e+32,\n",
            "           -3.2351e+30, -1.7881e+30],\n",
            "          [ 1.1883e+32,  2.2817e+32,  1.3016e+34,  ...,  8.5646e+31,\n",
            "            2.4240e+33,  3.5838e+33],\n",
            "          [-6.1205e+30, -6.3712e+30,  1.4612e+33,  ...,  1.6363e+33,\n",
            "            3.1754e+33,  2.8350e+30],\n",
            "          ...,\n",
            "          [ 2.9735e+33,  5.8096e+33,  1.5070e+33,  ...,  1.7087e+33,\n",
            "            1.2647e+33,  2.5219e+32],\n",
            "          [ 1.4347e+31,  5.8445e+32,  1.5939e+32,  ...,  1.3164e+33,\n",
            "            4.5900e+31,  7.9408e+32],\n",
            "          [ 8.9623e+30,  5.5204e+32,  4.8935e+32,  ...,  5.9336e+32,\n",
            "            6.3231e+32,  1.5675e+32]],\n",
            "\n",
            "         [[-2.2184e+31,  5.0908e+31, -5.5263e+33,  ...,  3.9320e+31,\n",
            "            1.5550e+32,  9.3576e+32],\n",
            "          [-8.5166e+30, -9.0026e+31,  1.0889e+33,  ...,  3.1143e+32,\n",
            "           -2.2025e+33, -5.3017e+31],\n",
            "          [ 5.3403e+32,  8.9764e+32,  1.0430e+33,  ...,  1.5333e+30,\n",
            "           -6.7859e+32,  1.1292e+33],\n",
            "          ...,\n",
            "          [-2.6501e+32,  3.4332e+33, -4.7147e+31,  ...,  3.9958e+32,\n",
            "           -7.7333e+32,  5.5535e+32],\n",
            "          [-1.4170e+31, -2.4992e+32,  1.0689e+33,  ..., -1.5089e+32,\n",
            "           -1.8935e+32, -3.9400e+32],\n",
            "          [ 9.4167e+28, -1.5576e+32,  3.9215e+32,  ...,  2.9993e+30,\n",
            "            3.9869e+30, -4.6967e+31]],\n",
            "\n",
            "         [[ 3.1273e+32,  1.8401e+32,  3.5474e+34,  ...,  4.7848e+33,\n",
            "            2.3268e+33,  3.4000e+33],\n",
            "          [ 2.8015e+32,  2.8265e+32,  3.1938e+34,  ...,  6.1062e+33,\n",
            "            8.8309e+33,  4.1713e+33],\n",
            "          [ 2.3209e+33,  3.6550e+33,  1.2875e+33,  ...,  4.6701e+33,\n",
            "            4.8236e+33,  2.1606e+33],\n",
            "          ...,\n",
            "          [ 5.4138e+33,  1.0096e+34,  1.6892e+33,  ...,  2.9604e+33,\n",
            "            1.7584e+33,  9.7004e+32],\n",
            "          [ 5.0866e+31,  1.5238e+33,  2.7486e+33,  ...,  1.8314e+33,\n",
            "            3.2298e+33,  1.2052e+33],\n",
            "          [ 2.0767e+31,  2.2367e+33,  1.4225e+33,  ...,  1.1797e+33,\n",
            "            9.8271e+32,  1.2967e+32]]]],\n",
            "       grad_fn=<MaxPool2DWithIndicesBackward0>)\n"
          ]
        }
      ],
      "source": [
        "print(out)"
      ]
    },
    {
      "cell_type": "code",
      "execution_count": 42,
      "metadata": {
        "colab": {
          "base_uri": "https://localhost:8080/"
        },
        "id": "xILQUWVg8Dof",
        "outputId": "d11b6e93-9682-4158-8bdc-8a6ebd04e8cc"
      },
      "outputs": [
        {
          "name": "stdout",
          "output_type": "stream",
          "text": [
            "torch.Size([1, 3136])\n"
          ]
        }
      ],
      "source": [
        "out = out.view(out.size(0), -1)\n",
        "print(out.shape)"
      ]
    },
    {
      "cell_type": "code",
      "execution_count": 43,
      "metadata": {
        "colab": {
          "base_uri": "https://localhost:8080/"
        },
        "id": "lhUUf9y58Msh",
        "outputId": "e7b39256-3b34-4013-8444-fca48655a889"
      },
      "outputs": [
        {
          "name": "stdout",
          "output_type": "stream",
          "text": [
            "torch.Size([1, 10])\n"
          ]
        }
      ],
      "source": [
        "fc = nn.Linear(3136, 10)\n",
        "out = fc(out)\n",
        "print(out.shape)"
      ]
    },
    {
      "cell_type": "markdown",
      "metadata": {
        "id": "zePjOZlg9BB0"
      },
      "source": [
        "CNN으로 MNIST 분류하기 이제 찐찐!!"
      ]
    },
    {
      "cell_type": "code",
      "execution_count": 44,
      "metadata": {
        "id": "cj44Q60F8Sam"
      },
      "outputs": [],
      "source": [
        "import torch\n",
        "import torchvision.datasets as dsets\n",
        "import torchvision.transforms as transforms\n",
        "import torch.nn.init"
      ]
    },
    {
      "cell_type": "code",
      "execution_count": 45,
      "metadata": {
        "id": "KY5ioj9-9GyL"
      },
      "outputs": [],
      "source": [
        "device = 'cuda' if torch.cuda.is_available() else 'cpu'\n",
        "\n",
        "torch.manual_seed(777)\n",
        "\n",
        "if device == 'cuda':\n",
        "    torch.cuda.manual_seed_all(777)"
      ]
    },
    {
      "cell_type": "code",
      "execution_count": 46,
      "metadata": {
        "id": "TP_EqnQ89Gv8"
      },
      "outputs": [],
      "source": [
        "learning_rate = 0.001\n",
        "training_epochs = 15\n",
        "batch_size = 100"
      ]
    },
    {
      "cell_type": "code",
      "execution_count": 47,
      "metadata": {
        "id": "mLeC6pP99Gtg"
      },
      "outputs": [],
      "source": [
        "mnist_train = dsets.MNIST(root='MNIST_data/',\n",
        "                          train=True,\n",
        "                          transform=transforms.ToTensor(),\n",
        "                          download=True)\n",
        "\n",
        "mnist_test = dsets.MNIST(root='MNIST_data/',\n",
        "                         train=False,\n",
        "                         transform=transforms.ToTensor(),\n",
        "                         download=True)"
      ]
    },
    {
      "cell_type": "code",
      "execution_count": 48,
      "metadata": {
        "id": "nJ-KjBOc9GrG"
      },
      "outputs": [],
      "source": [
        "data_loader = torch.utils.data.DataLoader(dataset=mnist_train,\n",
        "                                          batch_size=batch_size,\n",
        "                                          shuffle=True,\n",
        "                                          drop_last=True)"
      ]
    },
    {
      "cell_type": "code",
      "execution_count": 49,
      "metadata": {
        "id": "XyjUvP6I9GoZ"
      },
      "outputs": [],
      "source": [
        "class CNN(torch.nn.Module):\n",
        "\n",
        "    def __init__(self):\n",
        "        super(CNN, self).__init__()\n",
        "\n",
        "        self.layer1 = torch.nn.Sequential(\n",
        "            torch.nn.Conv2d(1, 32, kernel_size=3, stride=1, padding=1),\n",
        "            torch.nn.ReLU(),\n",
        "            torch.nn.MaxPool2d(kernel_size=2, stride=2))\n",
        "\n",
        "        self.layer2 = torch.nn.Sequential(\n",
        "            torch.nn.Conv2d(32, 64, kernel_size=3, stride=1, padding=1),\n",
        "            torch.nn.ReLU(),\n",
        "            torch.nn.MaxPool2d(kernel_size=2, stride=2))\n",
        "\n",
        "        self.fc = torch.nn.Linear(7 * 7 * 64, 10, bias=True)\n",
        "\n",
        "        torch.nn.init.xavier_uniform_(self.fc.weight)\n",
        "\n",
        "    def forward(self, x):\n",
        "        out = self.layer1(x)\n",
        "        out = self.layer2(out)\n",
        "        out = out.view(out.size(0), -1)\n",
        "        out = self.fc(out)\n",
        "        return out"
      ]
    },
    {
      "cell_type": "code",
      "execution_count": 50,
      "metadata": {
        "id": "Dzw-cWuL9Gk8"
      },
      "outputs": [],
      "source": [
        "model = CNN().to(device)"
      ]
    },
    {
      "cell_type": "code",
      "execution_count": 51,
      "metadata": {
        "id": "hq7JkYVs9Gic"
      },
      "outputs": [],
      "source": [
        "criterion = torch.nn.CrossEntropyLoss().to(device)\n",
        "optimizer = torch.optim.Adam(model.parameters(), lr=learning_rate)"
      ]
    },
    {
      "cell_type": "code",
      "execution_count": 52,
      "metadata": {
        "colab": {
          "base_uri": "https://localhost:8080/"
        },
        "id": "LslST_R-C2WJ",
        "outputId": "cb9204ff-0213-4045-a3b2-bc74aefedaa0"
      },
      "outputs": [
        {
          "name": "stdout",
          "output_type": "stream",
          "text": [
            "총 배치의 수 : 600\n"
          ]
        }
      ],
      "source": [
        "total_batch = len(data_loader)\n",
        "print('총 배치의 수 : {}'.format(total_batch))"
      ]
    },
    {
      "cell_type": "code",
      "execution_count": 53,
      "metadata": {
        "colab": {
          "base_uri": "https://localhost:8080/"
        },
        "id": "Flc3wN2DC2TM",
        "outputId": "ff98abf6-835a-4428-dec6-588de9fca801"
      },
      "outputs": [
        {
          "name": "stdout",
          "output_type": "stream",
          "text": [
            "[Epoch:    1] cost = 0.225560248\n",
            "[Epoch:    2] cost = 0.0630551875\n",
            "[Epoch:    3] cost = 0.0462681577\n",
            "[Epoch:    4] cost = 0.0374339223\n",
            "[Epoch:    5] cost = 0.0314037167\n",
            "[Epoch:    6] cost = 0.0261414386\n",
            "[Epoch:    7] cost = 0.0216277987\n",
            "[Epoch:    8] cost = 0.0179725569\n",
            "[Epoch:    9] cost = 0.0158094056\n",
            "[Epoch:   10] cost = 0.0131764095\n",
            "[Epoch:   11] cost = 0.00995210093\n",
            "[Epoch:   12] cost = 0.00957405847\n",
            "[Epoch:   13] cost = 0.00827191118\n",
            "[Epoch:   14] cost = 0.00659538386\n",
            "[Epoch:   15] cost = 0.00589284115\n"
          ]
        }
      ],
      "source": [
        "for epoch in range(training_epochs):\n",
        "    avg_cost = 0\n",
        "    for X, Y in data_loader:\n",
        "        X = X.to(device)\n",
        "        Y = Y.to(device)\n",
        "\n",
        "        optimizer.zero_grad()\n",
        "        hypothesis = model(X)\n",
        "        cost = criterion(hypothesis, Y)\n",
        "        cost.backward()\n",
        "        optimizer.step()\n",
        "\n",
        "        avg_cost += cost / total_batch\n",
        "\n",
        "    print('[Epoch: {:>4}] cost = {:>.9}'.format(epoch + 1, avg_cost))"
      ]
    },
    {
      "cell_type": "code",
      "execution_count": 54,
      "metadata": {
        "colab": {
          "base_uri": "https://localhost:8080/"
        },
        "id": "7a1yyQhrC2Qw",
        "outputId": "c6ad2ae8-ddc0-48a9-97dd-1bd7989a4955"
      },
      "outputs": [
        {
          "name": "stderr",
          "output_type": "stream",
          "text": [
            "/usr/local/lib/python3.11/dist-packages/torchvision/datasets/mnist.py:81: UserWarning: test_data has been renamed data\n",
            "  warnings.warn(\"test_data has been renamed data\")\n",
            "/usr/local/lib/python3.11/dist-packages/torchvision/datasets/mnist.py:71: UserWarning: test_labels has been renamed targets\n",
            "  warnings.warn(\"test_labels has been renamed targets\")\n"
          ]
        },
        {
          "name": "stdout",
          "output_type": "stream",
          "text": [
            "Accuracy: 0.9883999824523926\n"
          ]
        }
      ],
      "source": [
        "with torch.no_grad():\n",
        "    X_test = mnist_test.test_data.view(len(mnist_test), 1, 28, 28).float().to(device)\n",
        "    Y_test = mnist_test.test_labels.to(device)\n",
        "\n",
        "    prediction = model(X_test)\n",
        "\n",
        "    correct_prediction = torch.argmax(prediction, 1) == Y_test\n",
        "\n",
        "    accuracy = correct_prediction.float().mean()\n",
        "    print('Accuracy:', accuracy.item())\n"
      ]
    }
  ],
  "metadata": {
    "colab": {
      "provenance": []
    },
    "kernelspec": {
      "display_name": "Python 3",
      "name": "python3"
    },
    "language_info": {
      "name": "python"
    }
  },
  "nbformat": 4,
  "nbformat_minor": 0
}
