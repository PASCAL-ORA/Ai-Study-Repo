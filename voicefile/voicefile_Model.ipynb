{
  "nbformat": 4,
  "nbformat_minor": 0,
  "metadata": {
    "colab": {
      "provenance": []
    },
    "kernelspec": {
      "name": "python3",
      "display_name": "Python 3"
    },
    "language_info": {
      "name": "python"
    }
  },
  "cells": [
    {
      "cell_type": "markdown",
      "source": [
        "# **상용 서비스**\n",
        "\n",
        "- ***Google Cloud Speech-to-Text***\n",
        "  - 스피터 다이어라이제이션(speaker diarization)기능으로 발화자가 바뀔 때를 감지하고 개별 음성을 번호로 라벨링\n",
        "  - 전사 결과에서 각 단어에 개별 발화자에게 할당된 번호를 태그로 표시\n",
        "\n",
        "- ***Microsoft Azure Speaker Recognition***\n",
        "  - 음성 생체인식을 통해 고유한 음성 특성으로 발화자를 확인하고 식별 (사용 불가능)\n",
        "  - 단일 발화자의 오디오 훈련 데이터로 등록 프로필 생성\n",
        "\n",
        "- ***Veritone AI***\n",
        "  - 오디오에서 발화자가 언제 바뀌는지, 그 발화자가 누구인지 식별하는 스피터 인식 엔진\n"
      ],
      "metadata": {
        "id": "Lfnmp08GM6tb"
      }
    },
    {
      "cell_type": "markdown",
      "source": [
        "# **오픈소스 모델**\n",
        "\n",
        "- ***Whisper(OpenAI)***\n",
        "  - 인간 수준의 견고성과 정확도를 가진 신경망 모델, 108개 언어를 인식하고 전사할 수 있는 범용 모델\n",
        "\n",
        "- ***SpeechBrain***\n",
        "  - 음성 인식, 강화, 분리, 스피커 다이어라이제이션 지원하는 오픈소스 툴킷\n",
        "\n",
        "- ***Wav2Vec 2.0***\n",
        "  - 페이스북에서 개발한 자기지도학습 기반 모델\n",
        "\n",
        "- ***DeepSpeech***\n",
        "  - Mozilla의 오픈소스 음성 인식 엔진\n",
        "\n",
        "- ***VOSK***\n",
        "  - 안드로이드, iOS, 라즈베리파이 및 서버용 정확한 오프라인 음성 인식 API\n"
      ],
      "metadata": {
        "id": "TgOuFNDoOPt8"
      }
    },
    {
      "cell_type": "markdown",
      "source": [
        "# **ORA platform**\n",
        "\n",
        "- ***KoSpeech***: 한국어 특화 모델\n",
        "  - PyTorch 기발의 모듈화되고 확장 가능한 종단간 한국어 자동 음성 인식 툴킷\n",
        "  - 한국어에 특화되어 있어 노인들의 한국어 발음 패턴을 더 잘 학습할 수 있음 <br>\n",
        "  [KsponSpeech에 대한 전처리 코드](https://github.com/sooftware/ksponspeech)\n",
        "\n",
        "- ***Whisper + KoSpeech***"
      ],
      "metadata": {
        "id": "3AGOv2ctPQZu"
      }
    }
  ]
}