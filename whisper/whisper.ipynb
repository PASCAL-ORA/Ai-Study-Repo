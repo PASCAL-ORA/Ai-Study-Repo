{
 "cells": [
  {
   "cell_type": "code",
   "execution_count": 2,
   "id": "be4981e4-b606-40e8-a728-2a475a4d4f79",
   "metadata": {},
   "outputs": [],
   "source": [
    "# ------------------------------\n",
    "# 🔧 1. 라이브러리 설치 및 임포트\n",
    "# ------------------------------\n",
    "!pip install librosa jiwer transformers tqdm pandas --quiet\n",
    "!pip install torch torchvision torchaudio --index-url https://download.pytorch.org/whl/cpu --quiet\n",
    "\n",
    "import os\n",
    "import json\n",
    "import re\n",
    "import random\n",
    "import torch\n",
    "import librosa\n",
    "import pandas as pd\n",
    "from tqdm import tqdm\n",
    "from jiwer import cer\n",
    "from transformers import WhisperProcessor, WhisperForConditionalGeneration"
   ]
  },
  {
   "cell_type": "code",
   "execution_count": 3,
   "id": "167dba20-ae6e-4938-9aea-c430452715a5",
   "metadata": {},
   "outputs": [],
   "source": [
    "# ------------------------------\n",
    "# 📁 2. 경로 설정\n",
    "# ------------------------------\n",
    "AUDIO_DIR = r\"C:\\Users\\cy\\Downloads\\139-1.중·노년층 한국어 방언 데이터 (강원도, 경상도)\\01-1.정식개방데이터\\Training\\01.원천데이터\"\n",
    "LABEL_DIR = r\"C:\\Users\\cy\\Downloads\\139-1.중·노년층 한국어 방언 데이터 (강원도, 경상도)\\01-1.정식개방데이터\\Training\\02.라벨링데이터\\TL_02. 경상도_02. 1인발화 질문에답하기\"\n",
    "OUTPUT_CSV = \"cer_results.csv\""
   ]
  },
  {
   "cell_type": "code",
   "execution_count": 4,
   "id": "8aeb1d1f-4954-4f9b-bcac-121129a74f93",
   "metadata": {},
   "outputs": [],
   "source": [
    "# ------------------------------\n",
    "# 🤖 3. Whisper 모델 로딩\n",
    "# ------------------------------\n",
    "device = \"cuda\" if torch.cuda.is_available() else \"cpu\"\n",
    "model_name = \"openai/whisper-small\"\n",
    "processor = WhisperProcessor.from_pretrained(model_name)\n",
    "model = WhisperForConditionalGeneration.from_pretrained(model_name).to(device)"
   ]
  },
  {
   "cell_type": "code",
   "execution_count": 5,
   "id": "7c349189-224e-4d76-80bb-8bfb9374ffe5",
   "metadata": {},
   "outputs": [],
   "source": [
    "\n",
    "# ------------------------------\n",
    "# 🧼 4. 한글 텍스트 정규화 함수\n",
    "# ------------------------------\n",
    "def normalize_korean(text):\n",
    "    text = re.sub(r\"[^ㄱ-ㅎ가-힣0-9a-zA-Z\\s]\", \"\", text)\n",
    "    text = re.sub(r\"\\s+\", \" \", text).strip()\n",
    "    return text.lower()"
   ]
  },
  {
   "cell_type": "code",
   "execution_count": 6,
   "id": "e0c066ae-67c0-4be8-b9da-d6f9d5733eb6",
   "metadata": {},
   "outputs": [],
   "source": [
    "# ------------------------------\n",
    "# 🔊 5. 오디오 파일 로드 함수\n",
    "# ------------------------------\n",
    "def load_audio(file_path, target_sr=16000):\n",
    "    audio, _ = librosa.load(file_path, sr=target_sr)\n",
    "    return audio"
   ]
  },
  {
   "cell_type": "code",
   "execution_count": 7,
   "id": "d4232dc4-9d36-404a-94a9-02c1be31d5ad",
   "metadata": {},
   "outputs": [],
   "source": [
    "# ------------------------------\n",
    "# 🗣️ 6. 음성 → 텍스트 변환 함수\n",
    "# ------------------------------\n",
    "def transcribe(audio):\n",
    "    inputs = processor(audio, sampling_rate=16000, return_tensors=\"pt\", return_attention_mask=True)\n",
    "    forced_decoder_ids = processor.get_decoder_prompt_ids(language=\"ko\", task=\"transcribe\")\n",
    "    outputs = model.generate(\n",
    "        inputs.input_features.to(device),\n",
    "        attention_mask=inputs.attention_mask.to(device),\n",
    "        forced_decoder_ids=forced_decoder_ids\n",
    "    )\n",
    "    return processor.batch_decode(outputs, skip_special_tokens=True)[0]"
   ]
  },
  {
   "cell_type": "code",
   "execution_count": 8,
   "id": "d6ac33bd-02f9-4eb9-8314-5371f10b6263",
   "metadata": {},
   "outputs": [
    {
     "name": "stdout",
     "output_type": "stream",
     "text": [
      "💬 CER 평가 시작...\n"
     ]
    }
   ],
   "source": [
    "# ------------------------------\n",
    "# 🚀 7. 평가 수행 (4000개 무작위)\n",
    "# ------------------------------\n",
    "results = []\n",
    "total_cer = 0\n",
    "count = 0\n",
    "\n",
    "print(\"💬 CER 평가 시작...\")"
   ]
  },
  {
   "cell_type": "code",
   "execution_count": 9,
   "id": "9b07907d-1b12-48d6-9cfb-1af94661d27c",
   "metadata": {},
   "outputs": [
    {
     "name": "stderr",
     "output_type": "stream",
     "text": [
      "Evaluating:   0%|                                                                 | 7/4000 [00:50<6:24:54,  5.78s/file]"
     ]
    },
    {
     "name": "stdout",
     "output_type": "stream",
     "text": [
      "[WARN] 라벨링 누락: say_set1_collectorgs150_speakergs2361_79_0_53_1\n"
     ]
    },
    {
     "name": "stderr",
     "output_type": "stream",
     "text": [
      "Evaluating:   0%|▏                                                               | 12/4000 [01:14<6:07:27,  5.53s/file]"
     ]
    },
    {
     "name": "stdout",
     "output_type": "stream",
     "text": [
      "[WARN] 라벨링 누락: say_set2_collectorgs62_speakergs238_47_0_50_1\n"
     ]
    },
    {
     "name": "stderr",
     "output_type": "stream",
     "text": [
      "Evaluating:   0%|▏                                                               | 14/4000 [01:16<4:02:42,  3.65s/file]"
     ]
    },
    {
     "name": "stdout",
     "output_type": "stream",
     "text": [
      "[WARN] 라벨링 누락: say_set1_collectorgs142_speakergs1156_72_0_37_1\n",
      "[WARN] 라벨링 누락: say_set1_collectorgs63_speakergs304_44_0_33_1\n"
     ]
    },
    {
     "name": "stderr",
     "output_type": "stream",
     "text": [
      "Evaluating:   0%|▎                                                               | 17/4000 [01:24<3:24:27,  3.08s/file]"
     ]
    },
    {
     "name": "stdout",
     "output_type": "stream",
     "text": [
      "[WARN] 라벨링 누락: say_set1_collectorgs129_speakergs2003_71_0_30_1\n",
      "[WARN] 라벨링 누락: say_set1_collectorgs129_speakergs1764_18_0_30_1\n"
     ]
    },
    {
     "name": "stderr",
     "output_type": "stream",
     "text": [
      "Evaluating:   0%|▎                                                               | 20/4000 [01:31<3:08:28,  2.84s/file]"
     ]
    },
    {
     "name": "stdout",
     "output_type": "stream",
     "text": [
      "[WARN] 라벨링 누락: say_set1_collectorgs187_speakergs2137_18_0_25_1\n",
      "[WARN] 라벨링 누락: say_set1_collectorgs197_speakergs1678_25_0_33_1\n",
      "[WARN] 라벨링 누락: say_set1_collectorgs437_speakergs3374_45_0_12_1\n",
      "[WARN] 라벨링 누락: say_set1_collectorgs65_speakergs1201_26_0_31_1\n"
     ]
    },
    {
     "name": "stderr",
     "output_type": "stream",
     "text": [
      "Evaluating:   1%|▍                                                               | 25/4000 [01:38<2:22:06,  2.14s/file]"
     ]
    },
    {
     "name": "stdout",
     "output_type": "stream",
     "text": [
      "[WARN] 라벨링 누락: say_set1_collectorgs493_speakergs3857_85_0_63_1\n"
     ]
    },
    {
     "name": "stderr",
     "output_type": "stream",
     "text": [
      "Evaluating:   1%|▍                                                               | 28/4000 [01:50<3:09:14,  2.86s/file]"
     ]
    },
    {
     "name": "stdout",
     "output_type": "stream",
     "text": [
      "[WARN] 라벨링 누락: say_set2_collectorgs129_speakergs1261_33_0_42_1\n"
     ]
    },
    {
     "name": "stderr",
     "output_type": "stream",
     "text": [
      "Evaluating:   1%|▍                                                               | 31/4000 [01:59<3:16:47,  2.98s/file]"
     ]
    },
    {
     "name": "stdout",
     "output_type": "stream",
     "text": [
      "[WARN] 라벨링 누락: say_set1_collectorgs32_speakergs967_12_0_37_1\n",
      "[WARN] 라벨링 누락: say_set1_collectorgs188_speakergs1074_4_0_7_1\n"
     ]
    },
    {
     "name": "stderr",
     "output_type": "stream",
     "text": [
      "Evaluating:   1%|▌                                                               | 35/4000 [02:15<4:03:16,  3.68s/file]"
     ]
    },
    {
     "name": "stdout",
     "output_type": "stream",
     "text": [
      "[WARN] 라벨링 누락: say_set1_collectorgs218_speakergs1715_47_0_4_1\n",
      "[WARN] 라벨링 누락: say_set2_collectorgs303_speakergs3281_76_0_35_1\n"
     ]
    },
    {
     "name": "stderr",
     "output_type": "stream",
     "text": [
      "Evaluating:   1%|▌                                                               | 38/4000 [02:21<3:18:58,  3.01s/file]"
     ]
    },
    {
     "name": "stdout",
     "output_type": "stream",
     "text": [
      "[WARN] 라벨링 누락: say_set1_collectorgs115_speakergs781_25_0_34_1\n"
     ]
    },
    {
     "name": "stderr",
     "output_type": "stream",
     "text": [
      "Evaluating:   1%|▋                                                               | 44/4000 [03:04<7:23:30,  6.73s/file]"
     ]
    },
    {
     "name": "stdout",
     "output_type": "stream",
     "text": [
      "[WARN] 라벨링 누락: say_set1_collectorgs261_speakergs2926_59_0_12_1\n",
      "[WARN] 라벨링 누락: say_set1_collectorgs218_speakergs1715_35_1_17_1\n",
      "[WARN] 라벨링 누락: say_set1_collectorgs160_speakergs1035_23_0_31_1\n",
      "[WARN] 라벨링 누락: say_set1_collectorgs186_speakergs2874_46_0_23_1\n"
     ]
    },
    {
     "name": "stderr",
     "output_type": "stream",
     "text": [
      "Evaluating:   1%|▊                                                               | 52/4000 [03:32<6:07:30,  5.59s/file]"
     ]
    },
    {
     "name": "stdout",
     "output_type": "stream",
     "text": [
      "[WARN] 라벨링 누락: say_set1_collectorgs293_speakergs2365_49_0_30_1\n"
     ]
    },
    {
     "name": "stderr",
     "output_type": "stream",
     "text": [
      "Evaluating:   1%|▉                                                               | 57/4000 [04:04<7:17:40,  6.66s/file]"
     ]
    },
    {
     "name": "stdout",
     "output_type": "stream",
     "text": [
      "[WARN] 라벨링 누락: say_set1_collectorgs65_speakergs1699_68_0_29_1\n",
      "[WARN] 라벨링 누락: say_set1_collectorgs212_speakergs2803_52_0_34_1\n",
      "[WARN] 라벨링 누락: say_set2_collectorgs303_speakergs2972_76_0_20_1\n",
      "[WARN] 라벨링 누락: say_set1_collectorgs130_speakergs2269_13_0_37_1\n",
      "[WARN] 라벨링 누락: say_set2_collectorgs161_speakergs1781_18_0_32_1\n",
      "[WARN] 라벨링 누락: say_set1_collectorgs384_speakergs3450_8_0_40_1\n"
     ]
    },
    {
     "name": "stderr",
     "output_type": "stream",
     "text": [
      "Evaluating:   2%|█                                                               | 64/4000 [04:15<3:16:22,  2.99s/file]"
     ]
    },
    {
     "name": "stdout",
     "output_type": "stream",
     "text": [
      "[WARN] 라벨링 누락: say_set1_collectorgs150_speakergs1102_34_0_36_1\n",
      "[WARN] 라벨링 누락: say_set1_collectorgs292_speakergs3000_31_0_21_1\n"
     ]
    },
    {
     "name": "stderr",
     "output_type": "stream",
     "text": [
      "Evaluating:   2%|█                                                               | 67/4000 [04:22<3:05:10,  2.82s/file]"
     ]
    },
    {
     "name": "stdout",
     "output_type": "stream",
     "text": [
      "[WARN] 라벨링 누락: say_set1_collectorgs486_speakergs4121_63_0_10_1\n",
      "[WARN] 라벨링 누락: say_set1_collectorgs237_speakergs3986_66_0_34_1\n",
      "[WARN] 라벨링 누락: say_set2_collectorgs31_speakergs3687_4_0_63_1\n",
      "[WARN] 라벨링 누락: say_set2_collectorgs119_speakergs1104_33_0_31_1\n"
     ]
    },
    {
     "name": "stderr",
     "output_type": "stream",
     "text": [
      "Evaluating:   2%|█▏                                                              | 72/4000 [04:32<2:40:18,  2.45s/file]"
     ]
    },
    {
     "name": "stdout",
     "output_type": "stream",
     "text": [
      "[WARN] 라벨링 누락: say_set2_collectorgs514_speakergs4155_19_1_15_1\n",
      "[WARN] 라벨링 누락: say_set2_collectorgs444_speakergs3701_46_0_18_1\n"
     ]
    },
    {
     "name": "stderr",
     "output_type": "stream",
     "text": [
      "Evaluating:   2%|█▏                                                              | 76/4000 [04:38<2:25:03,  2.22s/file]"
     ]
    },
    {
     "name": "stdout",
     "output_type": "stream",
     "text": [
      "[WARN] 라벨링 누락: say_set1_collectorgs164_speakergs1162_41_0_34_1\n",
      "[WARN] 라벨링 누락: say_set2_collectorgs154_speakergs1579_58_0_37_1\n"
     ]
    },
    {
     "name": "stderr",
     "output_type": "stream",
     "text": [
      "Evaluating:   2%|█▎                                                              | 80/4000 [04:54<3:24:41,  3.13s/file]"
     ]
    },
    {
     "name": "stdout",
     "output_type": "stream",
     "text": [
      "[WARN] 라벨링 누락: say_set2_collectorgs130_speakergs1773_38_0_31_1\n",
      "[WARN] 라벨링 누락: say_set1_collectorgs195_speakergs1504_9_0_22_1\n",
      "[WARN] 라벨링 누락: say_set2_collectorgs239_speakergs2095_3_0_35_1\n"
     ]
    },
    {
     "name": "stderr",
     "output_type": "stream",
     "text": [
      "Evaluating:   2%|█▍                                                              | 87/4000 [05:20<3:59:12,  3.67s/file]"
     ]
    },
    {
     "name": "stdout",
     "output_type": "stream",
     "text": [
      "[WARN] 라벨링 누락: say_set2_collectorgs466_speakergs4438_45_0_25_1\n"
     ]
    },
    {
     "name": "stderr",
     "output_type": "stream",
     "text": [
      "Evaluating:   2%|█▍                                                              | 89/4000 [05:27<3:55:22,  3.61s/file]"
     ]
    },
    {
     "name": "stdout",
     "output_type": "stream",
     "text": [
      "[WARN] 라벨링 누락: say_set1_collectorgs293_speakergs2365_60_0_32_1\n"
     ]
    },
    {
     "name": "stderr",
     "output_type": "stream",
     "text": [
      "Evaluating:   2%|█▍                                                              | 91/4000 [05:30<3:11:56,  2.95s/file]"
     ]
    },
    {
     "name": "stdout",
     "output_type": "stream",
     "text": [
      "[WARN] 라벨링 누락: say_set1_collectorgs384_speakergs2796_7_0_24_1\n"
     ]
    },
    {
     "name": "stderr",
     "output_type": "stream",
     "text": [
      "Evaluating:   2%|█▌                                                              | 94/4000 [05:42<3:40:10,  3.38s/file]"
     ]
    },
    {
     "name": "stdout",
     "output_type": "stream",
     "text": [
      "[WARN] 라벨링 누락: say_set1_collectorgs273_speakergs2813_44_0_23_1\n",
      "[WARN] 라벨링 누락: say_set1_collectorgs160_speakergs1443_22_0_30_1\n"
     ]
    },
    {
     "name": "stderr",
     "output_type": "stream",
     "text": [
      "Evaluating:   2%|█▌                                                              | 99/4000 [06:05<5:04:13,  4.68s/file]"
     ]
    },
    {
     "name": "stdout",
     "output_type": "stream",
     "text": [
      "[WARN] 라벨링 누락: say_set2_collectorgs131_speakergs1089_46_0_45_1\n",
      "[WARN] 라벨링 누락: say_set1_collectorgs212_speakergs3285_20_0_30_1\n"
     ]
    },
    {
     "name": "stderr",
     "output_type": "stream",
     "text": [
      "Evaluating:   3%|█▌                                                             | 102/4000 [06:10<3:33:05,  3.28s/file]"
     ]
    },
    {
     "name": "stdout",
     "output_type": "stream",
     "text": [
      "[WARN] 라벨링 누락: say_set2_collectorgs139_speakergs1260_21_0_39_1\n",
      "[WARN] 라벨링 누락: say_set2_collectorgs126_speakergs1423_41_0_39_1\n"
     ]
    },
    {
     "name": "stderr",
     "output_type": "stream",
     "text": [
      "Evaluating:   3%|█▋                                                             | 106/4000 [06:29<4:28:51,  4.14s/file]"
     ]
    },
    {
     "name": "stdout",
     "output_type": "stream",
     "text": [
      "[WARN] 라벨링 누락: say_set2_collectorgs119_speakergs2244_41_0_38_1\n",
      "[WARN] 라벨링 누락: say_set1_collectorgs160_speakergs2167_19_0_23_1\n"
     ]
    },
    {
     "name": "stderr",
     "output_type": "stream",
     "text": [
      "Evaluating:   3%|█▋                                                             | 110/4000 [06:40<3:54:11,  3.61s/file]"
     ]
    },
    {
     "name": "stdout",
     "output_type": "stream",
     "text": [
      "[WARN] 라벨링 누락: say_set1_collectorgs206_speakergs1982_19_0_32_1\n",
      "[WARN] 라벨링 누락: say_set1_collectorgs160_speakergs1573_12_0_36_1\n",
      "[WARN] 라벨링 누락: say_set1_collectorgs384_speakergs3690_9_0_29_1\n",
      "[WARN] 라벨링 누락: say_set1_collectorgs293_speakergs2365_19_0_47_1\n"
     ]
    },
    {
     "name": "stderr",
     "output_type": "stream",
     "text": [
      "Evaluating:   3%|█▊                                                             | 118/4000 [07:07<4:08:15,  3.84s/file]"
     ]
    },
    {
     "name": "stdout",
     "output_type": "stream",
     "text": [
      "[WARN] 라벨링 누락: say_set1_collectorgs187_speakergs2845_14_0_35_1\n",
      "[WARN] 라벨링 누락: say_set2_collectorgs139_speakergs1331_27_0_36_1\n"
     ]
    },
    {
     "name": "stderr",
     "output_type": "stream",
     "text": [
      "Evaluating:   3%|█▉                                                             | 123/4000 [07:34<5:52:59,  5.46s/file]"
     ]
    },
    {
     "name": "stdout",
     "output_type": "stream",
     "text": [
      "[WARN] 라벨링 누락: say_set2_collectorgs244_speakergs2175_39_0_34_1\n",
      "[WARN] 라벨링 누락: say_set1_collectorgs134_speakergs742_78_0_32_1\n",
      "[WARN] 라벨링 누락: say_set1_collectorgs195_speakergs1906_80_0_18_1\n",
      "[WARN] 라벨링 누락: say_set2_collectorgs31_speakergs2418_24_0_31_1\n",
      "[WARN] 라벨링 누락: say_set1_collectorgs129_speakergs2284_27_0_30_1\n"
     ]
    },
    {
     "name": "stderr",
     "output_type": "stream",
     "text": [
      "Evaluating:   3%|██                                                             | 129/4000 [07:41<3:02:16,  2.83s/file]"
     ]
    },
    {
     "name": "stdout",
     "output_type": "stream",
     "text": [
      "[WARN] 라벨링 누락: say_set1_collectorgs245_speakergs2311_51_0_38_1\n",
      "[WARN] 라벨링 누락: say_set1_collectorgs306_speakergs2623_46_0_18_1\n",
      "[WARN] 라벨링 누락: say_set1_collectorgs212_speakergs3285_7_0_37_1\n",
      "[WARN] 라벨링 누락: say_set1_collectorgs135_speakergs1998_14_0_35_1\n",
      "[WARN] 라벨링 누락: say_set1_collectorgs186_speakergs2300_22_0_26_1\n",
      "[WARN] 라벨링 누락: say_set1_collectorgs506_speakergs3963_14_1_8_1\n",
      "[WARN] 라벨링 누락: say_set2_collectorgs474_speakergs4821_63_0_7_1\n"
     ]
    },
    {
     "name": "stderr",
     "output_type": "stream",
     "text": [
      "Evaluating:   3%|██▏                                                            | 137/4000 [07:49<1:53:44,  1.77s/file]"
     ]
    },
    {
     "name": "stdout",
     "output_type": "stream",
     "text": [
      "[WARN] 라벨링 누락: say_set1_collectorgs244_speakergs3545_64_0_31_1\n",
      "[WARN] 라벨링 누락: say_set1_collectorgs186_speakergs2378_15_0_23_1\n",
      "[WARN] 라벨링 누락: say_set2_collectorgs129_speakergs1747_42_0_28_1\n",
      "[WARN] 라벨링 누락: say_set1_collectorgs436_speakergs3655_29_0_8_1\n"
     ]
    },
    {
     "name": "stderr",
     "output_type": "stream",
     "text": [
      "Evaluating:   4%|██▏                                                            | 142/4000 [07:58<1:56:25,  1.81s/file]"
     ]
    },
    {
     "name": "stdout",
     "output_type": "stream",
     "text": [
      "[WARN] 라벨링 누락: say_set2_collectorgs513_speakergs4372_43_0_22_1\n",
      "[WARN] 라벨링 누락: say_set2_collectorgs123_speakergs2363_27_0_28_1\n"
     ]
    },
    {
     "name": "stderr",
     "output_type": "stream",
     "text": [
      "Evaluating:   4%|██▎                                                            | 147/4000 [08:48<5:02:39,  4.71s/file]"
     ]
    },
    {
     "name": "stdout",
     "output_type": "stream",
     "text": [
      "[WARN] 라벨링 누락: say_set1_collectorgs150_speakergs2449_11_0_36_1\n",
      "[WARN] 라벨링 누락: say_set1_collectorgs206_speakergs2392_6_0_15_1\n",
      "[WARN] 라벨링 누락: say_set2_collectorgs206_speakergs2475_22_0_41_1\n",
      "[WARN] 라벨링 누락: say_set1_collectorgs500_speakergs3829_18_0_7_1\n"
     ]
    },
    {
     "name": "stderr",
     "output_type": "stream",
     "text": [
      "Evaluating:   4%|██▍                                                            | 155/4000 [09:48<8:48:59,  8.25s/file]"
     ]
    },
    {
     "name": "stdout",
     "output_type": "stream",
     "text": [
      "[WARN] 라벨링 누락: say_set1_collectorgs356_speakergs3011_72_0_10_1\n",
      "[WARN] 라벨링 누락: say_set2_collectorgs73_speakergs689_9_0_37_1\n"
     ]
    },
    {
     "name": "stderr",
     "output_type": "stream",
     "text": [
      "Evaluating:   4%|██▌                                                            | 159/4000 [09:59<5:51:21,  5.49s/file]"
     ]
    },
    {
     "name": "stdout",
     "output_type": "stream",
     "text": [
      "[WARN] 라벨링 누락: say_set1_collectorgs270_speakergs2219_70_0_11_1\n"
     ]
    },
    {
     "name": "stderr",
     "output_type": "stream",
     "text": [
      "Evaluating:   4%|██▌                                                            | 161/4000 [10:05<4:56:44,  4.64s/file]"
     ]
    },
    {
     "name": "stdout",
     "output_type": "stream",
     "text": [
      "[WARN] 라벨링 누락: say_set1_collectorgs150_speakergs2289_80_0_37_1\n"
     ]
    },
    {
     "name": "stderr",
     "output_type": "stream",
     "text": [
      "Evaluating:   4%|██▌                                                            | 164/4000 [10:19<5:11:21,  4.87s/file]"
     ]
    },
    {
     "name": "stdout",
     "output_type": "stream",
     "text": [
      "[WARN] 라벨링 누락: say_set1_collectorgs142_speakergs1411_29_0_39_1\n",
      "[WARN] 라벨링 누락: say_set2_collectorgs218_speakergs2428_34_0_27_1\n",
      "[WARN] 라벨링 누락: say_set1_collectorgs130_speakergs994_29_0_48_1\n"
     ]
    },
    {
     "name": "stderr",
     "output_type": "stream",
     "text": [
      "Evaluating:   4%|██▋                                                            | 168/4000 [10:24<3:17:20,  3.09s/file]"
     ]
    },
    {
     "name": "stdout",
     "output_type": "stream",
     "text": [
      "[WARN] 라벨링 누락: say_set1_collectorgs143_speakergs2274_21_0_32_1\n",
      "[WARN] 라벨링 누락: say_set1_collectorgs154_speakergs938_72_0_43_1\n"
     ]
    },
    {
     "name": "stderr",
     "output_type": "stream",
     "text": [
      "Evaluating:   4%|██▋                                                            | 171/4000 [10:32<3:06:05,  2.92s/file]"
     ]
    },
    {
     "name": "stdout",
     "output_type": "stream",
     "text": [
      "[WARN] 라벨링 누락: say_set1_collectorgs160_speakergs1311_55_0_29_1\n",
      "[WARN] 라벨링 누락: say_set2_collectorgs264_speakergs2177_80_0_5_1\n"
     ]
    },
    {
     "name": "stderr",
     "output_type": "stream",
     "text": [
      "Evaluating:   4%|██▋                                                            | 174/4000 [10:44<3:26:47,  3.24s/file]"
     ]
    },
    {
     "name": "stdout",
     "output_type": "stream",
     "text": [
      "[WARN] 라벨링 누락: say_set1_collectorgs344_speakergs2947_40_0_19_1\n"
     ]
    },
    {
     "name": "stderr",
     "output_type": "stream",
     "text": [
      "Evaluating:   4%|██▊                                                            | 178/4000 [11:10<5:06:04,  4.81s/file]"
     ]
    },
    {
     "name": "stdout",
     "output_type": "stream",
     "text": [
      "[WARN] 라벨링 누락: say_set1_collectorgs293_speakergs2692_0_1_33_1\n"
     ]
    },
    {
     "name": "stderr",
     "output_type": "stream",
     "text": [
      "Evaluating:   5%|██▊                                                            | 182/4000 [11:28<4:54:01,  4.62s/file]"
     ]
    },
    {
     "name": "stdout",
     "output_type": "stream",
     "text": [
      "[WARN] 라벨링 누락: say_set1_collectorgs207_speakergs2036_32_0_28_1\n"
     ]
    },
    {
     "name": "stderr",
     "output_type": "stream",
     "text": [
      "Evaluating:   5%|██▉                                                            | 189/4000 [12:07<6:29:40,  6.14s/file]"
     ]
    },
    {
     "name": "stdout",
     "output_type": "stream",
     "text": [
      "[WARN] 라벨링 누락: say_set2_collectorgs134_speakergs1913_32_0_33_1\n"
     ]
    },
    {
     "name": "stderr",
     "output_type": "stream",
     "text": [
      "Evaluating:   5%|███                                                            | 191/4000 [12:10<4:23:24,  4.15s/file]"
     ]
    },
    {
     "name": "stdout",
     "output_type": "stream",
     "text": [
      "[WARN] 라벨링 누락: say_set1_collectorgs476_speakergs3617_10_0_15_1\n",
      "[WARN] 라벨링 누락: say_set2_collectorgs213_speakergs2504_42_0_30_1\n",
      "[WARN] 라벨링 누락: say_set1_collectorgs212_speakergs3285_0_0_23_1\n",
      "[WARN] 라벨링 누락: say_set2_collectorgs219_speakergs3390_24_0_64_1\n"
     ]
    },
    {
     "name": "stderr",
     "output_type": "stream",
     "text": [
      "Evaluating:   5%|███                                                            | 196/4000 [12:18<2:36:44,  2.47s/file]"
     ]
    },
    {
     "name": "stdout",
     "output_type": "stream",
     "text": [
      "[WARN] 라벨링 누락: say_set1_collectorgs261_speakergs2926_54_0_20_1\n",
      "[WARN] 라벨링 누락: say_set1_collectorgs143_speakergs2316_64_0_33_1\n",
      "[WARN] 라벨링 누락: say_set1_collectorgs237_speakergs4020_68_0_23_1\n",
      "[WARN] 라벨링 누락: say_set1_collectorgs369_speakergs4101_27_0_13_1\n"
     ]
    },
    {
     "name": "stderr",
     "output_type": "stream",
     "text": [
      "Evaluating:   5%|███▏                                                           | 202/4000 [12:33<2:51:28,  2.71s/file]"
     ]
    },
    {
     "name": "stdout",
     "output_type": "stream",
     "text": [
      "[WARN] 라벨링 누락: say_set1_collectorgs115_speakergs1676_36_0_28_1\n"
     ]
    },
    {
     "name": "stderr",
     "output_type": "stream",
     "text": [
      "Evaluating:   5%|███▏                                                           | 204/4000 [12:41<3:10:45,  3.02s/file]"
     ]
    },
    {
     "name": "stdout",
     "output_type": "stream",
     "text": [
      "[WARN] 라벨링 누락: say_set2_collectorgs474_speakergs4821_22_1_3_1\n",
      "[WARN] 라벨링 누락: say_set2_collectorgs160_speakergs2928_28_0_36_1\n"
     ]
    },
    {
     "name": "stderr",
     "output_type": "stream",
     "text": [
      "Evaluating:   5%|███▎                                                           | 208/4000 [12:54<3:22:41,  3.21s/file]"
     ]
    },
    {
     "name": "stdout",
     "output_type": "stream",
     "text": [
      "[WARN] 라벨링 누락: say_set2_collectorgs218_speakergs2904_48_0_21_1\n"
     ]
    },
    {
     "name": "stderr",
     "output_type": "stream",
     "text": [
      "Evaluating:   5%|███▎                                                           | 211/4000 [13:08<3:56:49,  3.75s/file]"
     ]
    },
    {
     "name": "stdout",
     "output_type": "stream",
     "text": [
      "[WARN] 라벨링 누락: say_set1_collectorgs143_speakergs1543_27_0_32_1\n"
     ]
    },
    {
     "name": "stderr",
     "output_type": "stream",
     "text": [
      "Evaluating:   5%|███▎                                                           | 213/4000 [13:11<3:17:41,  3.13s/file]"
     ]
    },
    {
     "name": "stdout",
     "output_type": "stream",
     "text": [
      "[WARN] 라벨링 누락: say_set1_collectorgs86_speakergs306_55_0_29_1\n",
      "[WARN] 라벨링 누락: say_set1_collectorgs238_speakergs2344_15_0_30_1\n",
      "[WARN] 라벨링 누락: say_set2_collectorgs359_speakergs4426_6_0_8_1\n"
     ]
    },
    {
     "name": "stderr",
     "output_type": "stream",
     "text": [
      "Evaluating:   5%|███▍                                                           | 219/4000 [13:34<4:09:55,  3.97s/file]"
     ]
    },
    {
     "name": "stdout",
     "output_type": "stream",
     "text": [
      "[WARN] 라벨링 누락: say_set1_collectorgs183_speakergs1100_33_0_41_1\n"
     ]
    },
    {
     "name": "stderr",
     "output_type": "stream",
     "text": [
      "Evaluating:   6%|███▍                                                           | 221/4000 [13:41<3:53:57,  3.71s/file]"
     ]
    },
    {
     "name": "stdout",
     "output_type": "stream",
     "text": [
      "[WARN] 라벨링 누락: say_set1_collectorgs287_speakergs2711_5_0_30_1\n",
      "[WARN] 라벨링 누락: say_set2_collectorgs218_speakergs2904_75_0_10_1\n"
     ]
    },
    {
     "name": "stderr",
     "output_type": "stream",
     "text": [
      "Evaluating:   6%|███▌                                                           | 224/4000 [13:49<3:27:42,  3.30s/file]"
     ]
    },
    {
     "name": "stdout",
     "output_type": "stream",
     "text": [
      "[WARN] 라벨링 누락: say_set1_collectorgs477_speakergs4090_57_0_53_1\n"
     ]
    },
    {
     "name": "stderr",
     "output_type": "stream",
     "text": [
      "Evaluating:   6%|███▌                                                           | 229/4000 [14:17<5:25:04,  5.17s/file]"
     ]
    },
    {
     "name": "stdout",
     "output_type": "stream",
     "text": [
      "[WARN] 라벨링 누락: say_set1_collectorgs246_speakergs2889_50_0_30_1\n"
     ]
    },
    {
     "name": "stderr",
     "output_type": "stream",
     "text": [
      "Evaluating:   6%|███▋                                                           | 234/4000 [14:41<5:31:11,  5.28s/file]"
     ]
    },
    {
     "name": "stdout",
     "output_type": "stream",
     "text": [
      "[WARN] 라벨링 누락: say_set2_collectorgs476_speakergs3667_57_0_28_1\n"
     ]
    },
    {
     "name": "stderr",
     "output_type": "stream",
     "text": [
      "Evaluating:   6%|███▋                                                           | 236/4000 [14:51<5:21:16,  5.12s/file]"
     ]
    },
    {
     "name": "stdout",
     "output_type": "stream",
     "text": [
      "[WARN] 라벨링 누락: say_set2_collectorgs303_speakergs2972_53_0_20_1\n"
     ]
    },
    {
     "name": "stderr",
     "output_type": "stream",
     "text": [
      "Evaluating:   6%|███▋                                                           | 238/4000 [14:58<4:42:08,  4.50s/file]"
     ]
    },
    {
     "name": "stdout",
     "output_type": "stream",
     "text": [
      "[WARN] 라벨링 누락: say_set1_collectorgs203_speakergs1388_34_0_56_1\n"
     ]
    },
    {
     "name": "stderr",
     "output_type": "stream",
     "text": [
      "Evaluating:   6%|███▊                                                           | 240/4000 [15:06<4:33:22,  4.36s/file]"
     ]
    },
    {
     "name": "stdout",
     "output_type": "stream",
     "text": [
      "[WARN] 라벨링 누락: say_set1_collectorgs206_speakergs1510_36_0_16_1\n"
     ]
    },
    {
     "name": "stderr",
     "output_type": "stream",
     "text": [
      "Evaluating:   6%|███▊                                                           | 246/4000 [15:45<6:32:36,  6.27s/file]"
     ]
    },
    {
     "name": "stdout",
     "output_type": "stream",
     "text": [
      "[WARN] 라벨링 누락: say_set1_collectorgs419_speakergs3607_26_0_13_1\n",
      "[WARN] 라벨링 누락: say_set2_collectorgs31_speakergs1721_13_0_38_1\n",
      "[WARN] 라벨링 누락: say_set1_collectorgs135_speakergs2132_66_0_33_1\n",
      "[WARN] 라벨링 누락: say_set2_collectorgs218_speakergs2707_67_0_16_1\n"
     ]
    },
    {
     "name": "stderr",
     "output_type": "stream",
     "text": [
      "Evaluating:   6%|███▉                                                           | 251/4000 [15:48<2:49:49,  2.72s/file]"
     ]
    },
    {
     "name": "stdout",
     "output_type": "stream",
     "text": [
      "[WARN] 라벨링 누락: say_set2_collectorgs219_speakergs2286_16_0_34_1\n",
      "[WARN] 라벨링 누락: say_set1_collectorgs150_speakergs1254_10_0_34_1\n"
     ]
    },
    {
     "name": "stderr",
     "output_type": "stream",
     "text": [
      "Evaluating:   6%|████                                                           | 256/4000 [16:09<4:07:31,  3.97s/file]"
     ]
    },
    {
     "name": "stdout",
     "output_type": "stream",
     "text": [
      "[WARN] 라벨링 누락: say_set1_collectorgs486_speakergs3898_6_0_6_1\n",
      "[WARN] 라벨링 누락: say_set1_collectorgs160_speakergs1591_6_0_37_1\n",
      "[WARN] 라벨링 누락: say_set1_collectorgs212_speakergs2880_37_0_31_1\n",
      "[WARN] 라벨링 누락: say_set1_collectorgs466_speakergs4846_43_0_22_1\n",
      "[WARN] 라벨링 누락: say_set2_collectorgs474_speakergs4173_54_0_4_1\n",
      "[WARN] 라벨링 누락: say_set1_collectorgs72_speakergs334_19_0_27_1\n",
      "[WARN] 라벨링 누락: say_set1_collectorgs344_speakergs3123_39_0_20_1\n"
     ]
    },
    {
     "name": "stderr",
     "output_type": "stream",
     "text": [
      "Evaluating:   7%|████▏                                                          | 266/4000 [16:30<3:05:28,  2.98s/file]"
     ]
    },
    {
     "name": "stdout",
     "output_type": "stream",
     "text": [
      "[WARN] 라벨링 누락: say_set2_collectorgs161_speakergs1781_2_0_33_1\n"
     ]
    },
    {
     "name": "stderr",
     "output_type": "stream",
     "text": [
      "Evaluating:   7%|████▏                                                          | 268/4000 [16:38<3:28:06,  3.35s/file]"
     ]
    },
    {
     "name": "stdout",
     "output_type": "stream",
     "text": [
      "[WARN] 라벨링 누락: say_set1_collectorgs185_speakergs1005_6_0_38_1\n",
      "[WARN] 라벨링 누락: say_set2_collectorgs154_speakergs2892_40_0_44_1\n",
      "[WARN] 라벨링 누락: say_set1_collectorgs244_speakergs2852_11_0_27_1\n"
     ]
    },
    {
     "name": "stderr",
     "output_type": "stream",
     "text": [
      "Evaluating:   7%|████▎                                                          | 272/4000 [16:41<2:14:03,  2.16s/file]"
     ]
    },
    {
     "name": "stdout",
     "output_type": "stream",
     "text": [
      "[WARN] 라벨링 누락: say_set2_collectorgs131_speakergs1413_4_0_37_1\n"
     ]
    },
    {
     "name": "stderr",
     "output_type": "stream",
     "text": [
      "Evaluating:   7%|████▎                                                          | 277/4000 [17:06<3:56:00,  3.80s/file]"
     ]
    },
    {
     "name": "stdout",
     "output_type": "stream",
     "text": [
      "[WARN] 라벨링 누락: say_set1_collectorgs448_speakergs3926_43_0_31_1\n",
      "[WARN] 라벨링 누락: say_set1_collectorgs380_speakergs4286_41_0_29_1\n"
     ]
    },
    {
     "name": "stderr",
     "output_type": "stream",
     "text": [
      "Evaluating:   7%|████▍                                                          | 280/4000 [17:14<3:22:14,  3.26s/file]"
     ]
    },
    {
     "name": "stdout",
     "output_type": "stream",
     "text": [
      "[WARN] 라벨링 누락: say_set1_collectorgs206_speakergs2474_30_0_27_1\n",
      "[WARN] 라벨링 누락: say_set1_collectorgs195_speakergs1333_5_0_12_1\n"
     ]
    },
    {
     "name": "stderr",
     "output_type": "stream",
     "text": [
      "Evaluating:   7%|████▍                                                          | 283/4000 [17:21<3:01:10,  2.92s/file]"
     ]
    },
    {
     "name": "stdout",
     "output_type": "stream",
     "text": [
      "[WARN] 라벨링 누락: say_set1_collectorgs261_speakergs2721_61_0_32_1\n",
      "[WARN] 라벨링 누락: say_set1_collectorgs126_speakergs2396_19_0_30_1\n"
     ]
    },
    {
     "name": "stderr",
     "output_type": "stream",
     "text": [
      "Evaluating:   7%|████▌                                                          | 286/4000 [17:27<2:39:01,  2.57s/file]"
     ]
    },
    {
     "name": "stdout",
     "output_type": "stream",
     "text": [
      "[WARN] 라벨링 누락: say_set1_collectorgs492_speakergs4118_37_0_13_1\n",
      "[WARN] 라벨링 누락: say_set1_collectorgs197_speakergs1179_64_0_32_1\n"
     ]
    },
    {
     "name": "stderr",
     "output_type": "stream",
     "text": [
      "Evaluating:   7%|████▌                                                          | 291/4000 [17:46<3:57:03,  3.83s/file]"
     ]
    },
    {
     "name": "stdout",
     "output_type": "stream",
     "text": [
      "[WARN] 라벨링 누락: say_set1_collectorgs135_speakergs2395_31_0_33_1\n"
     ]
    },
    {
     "name": "stderr",
     "output_type": "stream",
     "text": [
      "Evaluating:   7%|████▌                                                          | 293/4000 [17:54<3:59:34,  3.88s/file]"
     ]
    },
    {
     "name": "stdout",
     "output_type": "stream",
     "text": [
      "[WARN] 라벨링 누락: say_set2_collectorgs119_speakergs1208_52_0_91_1\n"
     ]
    },
    {
     "name": "stderr",
     "output_type": "stream",
     "text": [
      "Evaluating:   7%|████▋                                                          | 295/4000 [18:04<4:26:37,  4.32s/file]"
     ]
    },
    {
     "name": "stdout",
     "output_type": "stream",
     "text": [
      "[WARN] 라벨링 누락: say_set1_collectorgs195_speakergs1906_74_0_25_1\n"
     ]
    },
    {
     "name": "stderr",
     "output_type": "stream",
     "text": [
      "Evaluating:   7%|████▋                                                          | 297/4000 [18:09<3:44:29,  3.64s/file]"
     ]
    },
    {
     "name": "stdout",
     "output_type": "stream",
     "text": [
      "[WARN] 라벨링 누락: say_set3_collectorgs119_speakergs1225_17_0_59_1\n",
      "[WARN] 라벨링 누락: say_set1_collectorgs129_speakergs2003_50_0_37_1\n"
     ]
    },
    {
     "name": "stderr",
     "output_type": "stream",
     "text": [
      "Evaluating:   8%|████▋                                                          | 300/4000 [18:16<3:14:26,  3.15s/file]"
     ]
    },
    {
     "name": "stdout",
     "output_type": "stream",
     "text": [
      "[WARN] 라벨링 누락: say_set1_collectorgs25_speakergs3515_35_0_20_1\n",
      "[WARN] 라벨링 누락: say_set1_collectorgs135_speakergs2395_23_0_29_1\n",
      "[WARN] 라벨링 누락: say_set1_collectorgs443_speakergs3383_64_0_17_1\n",
      "[WARN] 라벨링 누락: say_set1_collectorgs201_speakergs2705_6_0_48_1\n"
     ]
    },
    {
     "name": "stderr",
     "output_type": "stream",
     "text": [
      "Evaluating:   8%|████▊                                                         | 310/4000 [19:48<12:48:43, 12.50s/file]"
     ]
    },
    {
     "name": "stdout",
     "output_type": "stream",
     "text": [
      "[WARN] 라벨링 누락: say_set2_collectorgs160_speakergs3448_37_0_31_1\n",
      "[WARN] 라벨링 누락: say_set2_collectorgs504_speakergs4333_29_0_33_1\n",
      "[WARN] 라벨링 누락: say_set1_collectorgs506_speakergs4128_23_0_19_1\n",
      "[WARN] 라벨링 누락: say_set1_collectorgs512_speakergs4146_40_0_13_1\n",
      "[WARN] 라벨링 누락: say_set1_collectorgs390_speakergs3977_40_0_37_1\n"
     ]
    },
    {
     "name": "stderr",
     "output_type": "stream",
     "text": [
      "Evaluating:   8%|████▉                                                          | 316/4000 [19:55<5:05:27,  4.97s/file]"
     ]
    },
    {
     "name": "stdout",
     "output_type": "stream",
     "text": [
      "[WARN] 라벨링 누락: say_set2_collectorgs249_speakergs2614_72_0_6_1\n",
      "[WARN] 라벨링 누락: say_set1_collectorgs390_speakergs4031_24_0_29_1\n"
     ]
    },
    {
     "name": "stderr",
     "output_type": "stream",
     "text": [
      "Evaluating:   8%|█████                                                          | 320/4000 [20:09<4:43:17,  4.62s/file]"
     ]
    },
    {
     "name": "stdout",
     "output_type": "stream",
     "text": [
      "[WARN] 라벨링 누락: say_set1_collectorgs163_speakergs1310_45_0_28_1\n",
      "[WARN] 라벨링 누락: say_set1_collectorgs142_speakergs1973_31_0_28_1\n"
     ]
    },
    {
     "name": "stderr",
     "output_type": "stream",
     "text": [
      "Evaluating:   8%|█████▏                                                         | 326/4000 [20:38<5:24:54,  5.31s/file]"
     ]
    },
    {
     "name": "stdout",
     "output_type": "stream",
     "text": [
      "[WARN] 라벨링 누락: say_set1_collectorgs348_speakergs2602_28_0_29_1\n",
      "[WARN] 라벨링 누락: say_set1_collectorgs32_speakergs2242_44_0_30_1\n",
      "[WARN] 라벨링 누락: say_set1_collectorgs390_speakergs3242_5_0_26_1\n"
     ]
    },
    {
     "name": "stderr",
     "output_type": "stream",
     "text": [
      "Evaluating:   8%|█████▏                                                         | 330/4000 [20:41<2:55:50,  2.87s/file]"
     ]
    },
    {
     "name": "stdout",
     "output_type": "stream",
     "text": [
      "[WARN] 라벨링 누락: say_set2_collectorgs161_speakergs1002_33_0_33_1\n"
     ]
    },
    {
     "name": "stderr",
     "output_type": "stream",
     "text": [
      "Evaluating:   8%|█████▏                                                         | 332/4000 [20:52<3:38:50,  3.58s/file]"
     ]
    },
    {
     "name": "stdout",
     "output_type": "stream",
     "text": [
      "[WARN] 라벨링 누락: say_set2_collectorgs131_speakergs1450_9_0_38_1\n",
      "[WARN] 라벨링 누락: say_set2_collectorgs129_speakergs1714_54_0_31_1\n"
     ]
    },
    {
     "name": "stderr",
     "output_type": "stream",
     "text": [
      "Evaluating:   8%|█████▎                                                         | 335/4000 [20:59<3:09:56,  3.11s/file]"
     ]
    },
    {
     "name": "stdout",
     "output_type": "stream",
     "text": [
      "[WARN] 라벨링 누락: say_set1_collectorgs142_speakergs2212_7_0_23_1\n"
     ]
    },
    {
     "name": "stderr",
     "output_type": "stream",
     "text": [
      "Evaluating:   8%|█████▎                                                         | 339/4000 [21:18<4:16:46,  4.21s/file]"
     ]
    },
    {
     "name": "stdout",
     "output_type": "stream",
     "text": [
      "[WARN] 라벨링 누락: say_set1_collectorgs261_speakergs2885_63_0_23_1\n",
      "[WARN] 라벨링 누락: say_set2_collectorgs294_speakergs2484_59_0_27_1\n",
      "[WARN] 라벨링 누락: say_set2_collectorgs444_speakergs3701_43_0_58_1\n"
     ]
    },
    {
     "name": "stderr",
     "output_type": "stream",
     "text": [
      "Evaluating:   9%|█████▍                                                         | 343/4000 [21:26<3:07:40,  3.08s/file]"
     ]
    },
    {
     "name": "stdout",
     "output_type": "stream",
     "text": [
      "[WARN] 라벨링 누락: say_set1_collectorgs206_speakergs2725_26_0_32_1\n"
     ]
    },
    {
     "name": "stderr",
     "output_type": "stream",
     "text": [
      "Evaluating:   9%|█████▍                                                         | 345/4000 [21:35<3:27:33,  3.41s/file]"
     ]
    },
    {
     "name": "stdout",
     "output_type": "stream",
     "text": [
      "[WARN] 라벨링 누락: say_set1_collectorgs163_speakergs1310_32_0_32_1\n"
     ]
    },
    {
     "name": "stderr",
     "output_type": "stream",
     "text": [
      "Evaluating:   9%|█████▍                                                         | 348/4000 [21:49<4:04:20,  4.01s/file]"
     ]
    },
    {
     "name": "stdout",
     "output_type": "stream",
     "text": [
      "[WARN] 라벨링 누락: say_set1_collectorgs150_speakergs2449_44_0_34_1\n"
     ]
    },
    {
     "name": "stderr",
     "output_type": "stream",
     "text": [
      "Evaluating:   9%|█████▌                                                         | 351/4000 [21:57<3:27:06,  3.41s/file]"
     ]
    },
    {
     "name": "stdout",
     "output_type": "stream",
     "text": [
      "[WARN] 라벨링 누락: say_set1_collectorgs218_speakergs1715_61_0_3_1\n",
      "[WARN] 라벨링 누락: say_set1_collectorgs384_speakergs3734_3_0_26_1\n"
     ]
    },
    {
     "name": "stderr",
     "output_type": "stream",
     "text": [
      "Evaluating:   9%|█████▌                                                         | 357/4000 [22:21<4:25:45,  4.38s/file]"
     ]
    },
    {
     "name": "stdout",
     "output_type": "stream",
     "text": [
      "[WARN] 라벨링 누락: say_set2_collectorgs303_speakergs3146_5_0_59_1\n"
     ]
    },
    {
     "name": "stderr",
     "output_type": "stream",
     "text": [
      "Evaluating:   9%|█████▋                                                         | 359/4000 [22:29<4:16:41,  4.23s/file]"
     ]
    },
    {
     "name": "stdout",
     "output_type": "stream",
     "text": [
      "[WARN] 라벨링 누락: say_set2_collectorgs436_speakergs3310_8_0_5_1\n"
     ]
    },
    {
     "name": "stderr",
     "output_type": "stream",
     "text": [
      "Evaluating:   9%|█████▋                                                         | 361/4000 [22:33<3:24:48,  3.38s/file]"
     ]
    },
    {
     "name": "stdout",
     "output_type": "stream",
     "text": [
      "[WARN] 라벨링 누락: say_set1_collectorgs142_speakergs2212_32_0_31_1\n"
     ]
    },
    {
     "name": "stderr",
     "output_type": "stream",
     "text": [
      "Evaluating:   9%|█████▋                                                         | 363/4000 [22:41<3:37:37,  3.59s/file]"
     ]
    },
    {
     "name": "stdout",
     "output_type": "stream",
     "text": [
      "[WARN] 라벨링 누락: say_set2_collectorgs129_speakergs1402_43_0_34_1\n",
      "[WARN] 라벨링 누락: say_set1_collectorgs482_speakergs3702_0_0_20_1\n",
      "[WARN] 라벨링 누락: say_set2_collectorgs32_speakergs2535_61_0_41_1\n"
     ]
    },
    {
     "name": "stderr",
     "output_type": "stream",
     "text": [
      "Evaluating:   9%|█████▊                                                         | 368/4000 [22:56<3:37:56,  3.60s/file]"
     ]
    },
    {
     "name": "stdout",
     "output_type": "stream",
     "text": [
      "[WARN] 라벨링 누락: say_set2_collectorgs213_speakergs3211_34_0_26_1\n"
     ]
    },
    {
     "name": "stderr",
     "output_type": "stream",
     "text": [
      "Evaluating:   9%|█████▊                                                         | 372/4000 [23:18<4:57:29,  4.92s/file]"
     ]
    },
    {
     "name": "stdout",
     "output_type": "stream",
     "text": [
      "[WARN] 라벨링 누락: say_set1_collectorgs32_speakergs1087_32_0_35_1\n",
      "[WARN] 라벨링 누락: say_set1_collectorgs416_speakergs3818_61_0_12_1\n"
     ]
    },
    {
     "name": "stderr",
     "output_type": "stream",
     "text": [
      "Evaluating:   9%|█████▉                                                         | 376/4000 [23:33<4:36:51,  4.58s/file]"
     ]
    },
    {
     "name": "stdout",
     "output_type": "stream",
     "text": [
      "[WARN] 라벨링 누락: say_set2_collectorgs448_speakergs3575_9_0_7_1\n",
      "[WARN] 라벨링 누락: say_set1_collectorgs306_speakergs2623_35_0_29_1\n"
     ]
    },
    {
     "name": "stderr",
     "output_type": "stream",
     "text": [
      "Evaluating:   9%|█████▉                                                         | 379/4000 [23:41<3:42:45,  3.69s/file]"
     ]
    },
    {
     "name": "stdout",
     "output_type": "stream",
     "text": [
      "[WARN] 라벨링 누락: say_set1_collectorgs135_speakergs1253_13_0_35_1\n",
      "[WARN] 라벨링 누락: say_set1_collectorgs160_speakergs1591_30_0_28_1\n"
     ]
    },
    {
     "name": "stderr",
     "output_type": "stream",
     "text": [
      "Evaluating:  10%|██████                                                         | 383/4000 [23:53<3:33:22,  3.54s/file]"
     ]
    },
    {
     "name": "stdout",
     "output_type": "stream",
     "text": [
      "[WARN] 라벨링 누락: say_set1_collectorgs302_speakergs2617_44_0_26_1\n"
     ]
    },
    {
     "name": "stderr",
     "output_type": "stream",
     "text": [
      "Evaluating:  10%|██████                                                         | 385/4000 [24:01<3:38:33,  3.63s/file]"
     ]
    },
    {
     "name": "stdout",
     "output_type": "stream",
     "text": [
      "[WARN] 라벨링 누락: say_set2_collectorgs249_speakergs2614_31_0_16_1\n"
     ]
    },
    {
     "name": "stderr",
     "output_type": "stream",
     "text": [
      "Evaluating:  10%|██████▏                                                        | 390/4000 [24:32<5:27:51,  5.45s/file]"
     ]
    },
    {
     "name": "stdout",
     "output_type": "stream",
     "text": [
      "[WARN] 라벨링 누락: say_set2_collectorgs144_speakergs2142_67_0_60_1\n"
     ]
    },
    {
     "name": "stderr",
     "output_type": "stream",
     "text": [
      "Evaluating:  10%|██████▏                                                        | 393/4000 [24:49<5:42:54,  5.70s/file]"
     ]
    },
    {
     "name": "stdout",
     "output_type": "stream",
     "text": [
      "[WARN] 라벨링 누락: say_set1_collectorgs492_speakergs4369_68_1_3_1\n"
     ]
    },
    {
     "name": "stderr",
     "output_type": "stream",
     "text": [
      "Evaluating:  10%|██████▏                                                        | 395/4000 [24:54<4:39:31,  4.65s/file]"
     ]
    },
    {
     "name": "stdout",
     "output_type": "stream",
     "text": [
      "[WARN] 라벨링 누락: say_set2_collectorgs160_speakergs2722_5_0_25_1\n"
     ]
    },
    {
     "name": "stderr",
     "output_type": "stream",
     "text": [
      "Evaluating:  10%|██████▎                                                        | 397/4000 [25:03<4:28:00,  4.46s/file]"
     ]
    },
    {
     "name": "stdout",
     "output_type": "stream",
     "text": [
      "[WARN] 라벨링 누락: say_set1_collectorgs15_speakergs32_20_0_43_1\n"
     ]
    },
    {
     "name": "stderr",
     "output_type": "stream",
     "text": [
      "Evaluating:  10%|██████▎                                                        | 401/4000 [25:27<5:31:51,  5.53s/file]"
     ]
    },
    {
     "name": "stdout",
     "output_type": "stream",
     "text": [
      "[WARN] 라벨링 누락: say_set1_collectorgs135_speakergs11341_67_0_41_1\n"
     ]
    },
    {
     "name": "stderr",
     "output_type": "stream",
     "text": [
      "Evaluating:  10%|██████▍                                                        | 405/4000 [25:46<5:23:03,  5.39s/file]"
     ]
    },
    {
     "name": "stdout",
     "output_type": "stream",
     "text": [
      "[WARN] 라벨링 누락: say_set1_collectorgs135_speakergs1399_19_0_39_1\n"
     ]
    },
    {
     "name": "stderr",
     "output_type": "stream",
     "text": [
      "Evaluating:  10%|██████▍                                                        | 410/4000 [26:11<5:16:02,  5.28s/file]"
     ]
    },
    {
     "name": "stdout",
     "output_type": "stream",
     "text": [
      "[WARN] 라벨링 누락: say_set1_collectorgs518_speakergs4254_46_0_22_1\n",
      "[WARN] 라벨링 누락: say_set1_collectorgs397_speakergs4405_68_0_24_1\n",
      "[WARN] 라벨링 누락: say_set1_collectorgs436_speakergs4274_24_0_15_1\n",
      "[WARN] 라벨링 누락: say_set2_collectorgs414_speakergs3446_27_0_13_1\n",
      "[WARN] 라벨링 누락: say_set1_collectorgs474_speakergs4365_0_0_5_1\n",
      "[WARN] 라벨링 누락: say_set1_collectorgs160_speakergs1160_32_0_35_1\n",
      "[WARN] 라벨링 누락: say_set1_collectorgs135_speakergs1041_42_0_43_1\n"
     ]
    },
    {
     "name": "stderr",
     "output_type": "stream",
     "text": [
      "Evaluating:  10%|██████▌                                                        | 419/4000 [26:27<2:52:01,  2.88s/file]"
     ]
    },
    {
     "name": "stdout",
     "output_type": "stream",
     "text": [
      "[WARN] 라벨링 누락: say_set2_collectorgs406_speakergs2958_23_0_40_1\n"
     ]
    },
    {
     "name": "stderr",
     "output_type": "stream",
     "text": [
      "Evaluating:  11%|██████▋                                                        | 421/4000 [26:36<3:12:45,  3.23s/file]"
     ]
    },
    {
     "name": "stdout",
     "output_type": "stream",
     "text": [
      "[WARN] 라벨링 누락: say_set1_collectorgs135_speakergs2132_22_0_37_1\n"
     ]
    },
    {
     "name": "stderr",
     "output_type": "stream",
     "text": [
      "Evaluating:  11%|██████▋                                                        | 423/4000 [26:44<3:25:32,  3.45s/file]"
     ]
    },
    {
     "name": "stdout",
     "output_type": "stream",
     "text": [
      "[WARN] 라벨링 누락: say_set1_collectorgs135_speakergs2066_60_0_30_1\n",
      "[WARN] 라벨링 누락: say_set2_collectorgs134_speakergs1245_23_0_34_1\n"
     ]
    },
    {
     "name": "stderr",
     "output_type": "stream",
     "text": [
      "Evaluating:  11%|██████▋                                                        | 427/4000 [27:00<3:59:22,  4.02s/file]"
     ]
    },
    {
     "name": "stdout",
     "output_type": "stream",
     "text": [
      "[WARN] 라벨링 누락: say_set1_collectorgs31_speakergs1229_60_0_39_1\n",
      "[WARN] 라벨링 누락: say_set1_collectorgs144_speakergs685_18_0_38_1\n",
      "[WARN] 라벨링 누락: say_set2_collectorgs62_speakergs206_29_0_25_1\n"
     ]
    },
    {
     "name": "stderr",
     "output_type": "stream",
     "text": [
      "Evaluating:  11%|██████▊                                                        | 431/4000 [27:06<2:48:22,  2.83s/file]"
     ]
    },
    {
     "name": "stdout",
     "output_type": "stream",
     "text": [
      "[WARN] 라벨링 누락: say_set1_collectorgs206_speakergs2392_46_0_39_1\n"
     ]
    },
    {
     "name": "stderr",
     "output_type": "stream",
     "text": [
      "Evaluating:  11%|██████▊                                                        | 434/4000 [27:18<3:26:14,  3.47s/file]"
     ]
    },
    {
     "name": "stdout",
     "output_type": "stream",
     "text": [
      "[WARN] 라벨링 누락: say_set1_collectorgs130_speakergs1412_46_0_34_1\n",
      "[WARN] 라벨링 누락: say_set1_collectorgs81_speakergs1695_29_0_32_1\n",
      "[WARN] 라벨링 누락: say_set1_collectorgs141_speakergs1070_83_0_37_1\n"
     ]
    },
    {
     "name": "stderr",
     "output_type": "stream",
     "text": [
      "Evaluating:  11%|██████▉                                                        | 438/4000 [27:30<3:08:31,  3.18s/file]"
     ]
    },
    {
     "name": "stdout",
     "output_type": "stream",
     "text": [
      "[WARN] 라벨링 누락: say_set2_collectorgs129_speakergs2357_36_0_30_1\n",
      "[WARN] 라벨링 누락: say_set1_collectorgs518_speakergs4137_74_0_14_1\n",
      "[WARN] 라벨링 누락: say_set1_collectorgs504_speakergs4172_61_0_17_1\n"
     ]
    },
    {
     "name": "stderr",
     "output_type": "stream",
     "text": [
      "Evaluating:  11%|██████▉                                                        | 442/4000 [27:33<2:12:29,  2.23s/file]"
     ]
    },
    {
     "name": "stdout",
     "output_type": "stream",
     "text": [
      "[WARN] 라벨링 누락: say_set1_collectorgs245_speakergs2582_38_0_38_1\n",
      "[WARN] 라벨링 누락: say_set1_collectorgs212_speakergs2303_34_0_33_1\n"
     ]
    },
    {
     "name": "stderr",
     "output_type": "stream",
     "text": [
      "Evaluating:  11%|███████                                                        | 448/4000 [28:03<4:16:17,  4.33s/file]"
     ]
    },
    {
     "name": "stdout",
     "output_type": "stream",
     "text": [
      "[WARN] 라벨링 누락: say_set1_collectorgs203_speakergs1383_16_0_20_1\n"
     ]
    },
    {
     "name": "stderr",
     "output_type": "stream",
     "text": [
      "Evaluating:  11%|███████                                                        | 452/4000 [28:25<5:24:31,  5.49s/file]"
     ]
    },
    {
     "name": "stdout",
     "output_type": "stream",
     "text": [
      "[WARN] 라벨링 누락: say_set2_collectorgs123_speakergs2695_6_0_24_1\n",
      "[WARN] 라벨링 누락: say_set1_collectorgs238_speakergs2717_58_0_21_1\n",
      "[WARN] 라벨링 누락: say_set1_collectorgs384_speakergs3239_33_0_39_1\n",
      "[WARN] 라벨링 누락: say_set1_collectorgs245_speakergs2582_21_0_33_1\n"
     ]
    },
    {
     "name": "stderr",
     "output_type": "stream",
     "text": [
      "Evaluating:  12%|███████▎                                                       | 466/4000 [29:42<6:46:38,  6.90s/file]"
     ]
    },
    {
     "name": "stdout",
     "output_type": "stream",
     "text": [
      "[WARN] 라벨링 누락: say_set1_collectorgs437_speakergs4755_19_0_44_1\n",
      "[WARN] 라벨링 누락: say_set1_collectorgs150_speakergs1762_77_0_32_1\n",
      "[WARN] 라벨링 누락: say_set1_collectorgs261_speakergs4073_14_0_13_1\n"
     ]
    },
    {
     "name": "stderr",
     "output_type": "stream",
     "text": [
      "Evaluating:  12%|███████▍                                                       | 471/4000 [29:52<3:38:39,  3.72s/file]"
     ]
    },
    {
     "name": "stdout",
     "output_type": "stream",
     "text": [
      "[WARN] 라벨링 누락: say_set2_collectorgs479_speakergs4212_46_0_32_1\n"
     ]
    },
    {
     "name": "stderr",
     "output_type": "stream",
     "text": [
      "Evaluating:  12%|███████▍                                                       | 474/4000 [30:06<4:16:51,  4.37s/file]"
     ]
    },
    {
     "name": "stdout",
     "output_type": "stream",
     "text": [
      "[WARN] 라벨링 누락: say_set1_collectorgs219_speakergs2703_18_0_15_1\n"
     ]
    },
    {
     "name": "stderr",
     "output_type": "stream",
     "text": [
      "Evaluating:  12%|███████▍                                                       | 476/4000 [30:14<4:05:59,  4.19s/file]"
     ]
    },
    {
     "name": "stdout",
     "output_type": "stream",
     "text": [
      "[WARN] 라벨링 누락: say_set1_collectorgs371_speakergs2694_65_0_12_1\n"
     ]
    },
    {
     "name": "stderr",
     "output_type": "stream",
     "text": [
      "Evaluating:  12%|███████▌                                                       | 480/4000 [30:28<4:05:58,  4.19s/file]"
     ]
    },
    {
     "name": "stdout",
     "output_type": "stream",
     "text": [
      "[WARN] 라벨링 누락: say_set1_collectorgs239_speakergs2024_2_0_34_1\n",
      "[WARN] 라벨링 누락: say_set1_collectorgs75_speakergs273_26_0_34_1\n"
     ]
    },
    {
     "name": "stderr",
     "output_type": "stream",
     "text": [
      "Evaluating:  12%|███████▌                                                       | 483/4000 [30:32<2:40:51,  2.74s/file]"
     ]
    },
    {
     "name": "stdout",
     "output_type": "stream",
     "text": [
      "[WARN] 라벨링 누락: say_set2_collectorgs129_speakergs1746_1_0_20_1\n",
      "[WARN] 라벨링 누락: say_set1_collectorgs474_speakergs3514_2_0_17_1\n",
      "[WARN] 라벨링 누락: say_set1_collectorgs115_speakergs790_49_0_44_1\n"
     ]
    },
    {
     "name": "stderr",
     "output_type": "stream",
     "text": [
      "Evaluating:  12%|███████▋                                                       | 487/4000 [30:45<2:58:44,  3.05s/file]"
     ]
    },
    {
     "name": "stdout",
     "output_type": "stream",
     "text": [
      "[WARN] 라벨링 누락: say_set2_collectorgs31_speakergs1740_23_0_34_1\n"
     ]
    },
    {
     "name": "stderr",
     "output_type": "stream",
     "text": [
      "Evaluating:  12%|███████▋                                                       | 490/4000 [30:56<3:18:06,  3.39s/file]"
     ]
    },
    {
     "name": "stdout",
     "output_type": "stream",
     "text": [
      "[WARN] 라벨링 누락: say_set2_collectorgs130_speakergs1975_56_0_32_1\n",
      "[WARN] 라벨링 누락: say_set1_collectorgs142_speakergs2534_45_0_37_1\n",
      "[WARN] 라벨링 누락: say_set2_collectorgs474_speakergs4859_48_0_24_1\n",
      "[WARN] 라벨링 누락: say_set1_collectorgs150_speakergs2001_38_0_33_1\n"
     ]
    },
    {
     "name": "stderr",
     "output_type": "stream",
     "text": [
      "Evaluating:  12%|███████▊                                                       | 495/4000 [31:05<2:28:52,  2.55s/file]"
     ]
    },
    {
     "name": "stdout",
     "output_type": "stream",
     "text": [
      "[WARN] 라벨링 누락: say_set1_collectorgs143_speakergs2696_14_0_29_1\n"
     ]
    },
    {
     "name": "stderr",
     "output_type": "stream",
     "text": [
      "Evaluating:  12%|███████▊                                                       | 497/4000 [31:09<2:27:02,  2.52s/file]"
     ]
    },
    {
     "name": "stdout",
     "output_type": "stream",
     "text": [
      "[WARN] 라벨링 누락: say_set1_collectorgs143_speakergs1543_66_0_28_1\n"
     ]
    },
    {
     "name": "stderr",
     "output_type": "stream",
     "text": [
      "Evaluating:  12%|███████▉                                                       | 500/4000 [31:26<3:33:11,  3.65s/file]"
     ]
    },
    {
     "name": "stdout",
     "output_type": "stream",
     "text": [
      "[WARN] 라벨링 누락: say_set1_collectorgs213_speakergs3302_47_0_16_1\n"
     ]
    },
    {
     "name": "stderr",
     "output_type": "stream",
     "text": [
      "Evaluating:  13%|███████▉                                                       | 503/4000 [31:38<3:58:44,  4.10s/file]"
     ]
    },
    {
     "name": "stdout",
     "output_type": "stream",
     "text": [
      "[WARN] 라벨링 누락: say_set1_collectorgs186_speakergs2149_57_0_26_1\n"
     ]
    },
    {
     "name": "stderr",
     "output_type": "stream",
     "text": [
      "Evaluating:  13%|███████▉                                                       | 506/4000 [31:56<4:48:59,  4.96s/file]"
     ]
    },
    {
     "name": "stdout",
     "output_type": "stream",
     "text": [
      "[WARN] 라벨링 누락: say_set1_collectorgs186_speakergs1119_2_0_28_1\n",
      "[WARN] 라벨링 누락: say_set2_collectorgs139_speakergs1763_10_0_34_1\n"
     ]
    },
    {
     "name": "stderr",
     "output_type": "stream",
     "text": [
      "Evaluating:  13%|████████▏                                                      | 517/4000 [32:57<6:10:33,  6.38s/file]"
     ]
    },
    {
     "name": "stdout",
     "output_type": "stream",
     "text": [
      "[WARN] 라벨링 누락: say_set1_collectorgs142_speakergs1448_62_4_12_1\n"
     ]
    },
    {
     "name": "stderr",
     "output_type": "stream",
     "text": [
      "Evaluating:  13%|████████▏                                                      | 521/4000 [33:26<7:11:19,  7.44s/file]"
     ]
    },
    {
     "name": "stdout",
     "output_type": "stream",
     "text": [
      "[WARN] 라벨링 누락: say_set1_collectorgs217_speakergs2248_40_0_11_1\n"
     ]
    },
    {
     "name": "stderr",
     "output_type": "stream",
     "text": [
      "Evaluating:  13%|████████▎                                                      | 524/4000 [33:46<6:54:11,  7.15s/file]"
     ]
    },
    {
     "name": "stdout",
     "output_type": "stream",
     "text": [
      "[WARN] 라벨링 누락: say_set1_collectorgs261_speakergs2341_22_0_31_1\n"
     ]
    },
    {
     "name": "stderr",
     "output_type": "stream",
     "text": [
      "Evaluating:  13%|████████▎                                                      | 527/4000 [34:04<6:32:27,  6.78s/file]"
     ]
    },
    {
     "name": "stdout",
     "output_type": "stream",
     "text": [
      "[WARN] 라벨링 누락: say_set2_collectorgs119_speakergs806_37_0_30_1\n",
      "[WARN] 라벨링 누락: say_set1_collectorgs212_speakergs2388_4_0_27_1\n"
     ]
    },
    {
     "name": "stderr",
     "output_type": "stream",
     "text": [
      "Evaluating:  13%|████████▍                                                      | 532/4000 [34:28<5:53:04,  6.11s/file]"
     ]
    },
    {
     "name": "stdout",
     "output_type": "stream",
     "text": [
      "[WARN] 라벨링 누락: say_set1_collectorgs486_speakergs4121_3_0_7_1\n",
      "[WARN] 라벨링 누락: say_set2_collectorgs154_speakergs1796_53_0_24_1\n",
      "[WARN] 라벨링 누락: say_set1_collectorgs356_speakergs2971_7_1_6_1\n",
      "[WARN] 라벨링 누락: say_set1_collectorgs493_speakergs3835_63_0_34_1\n",
      "[WARN] 라벨링 누락: say_set1_collectorgs119_speakergs1178_5_0_42_1\n",
      "[WARN] 라벨링 누락: say_set1_collectorgs143_speakergs2353_13_0_29_1\n"
     ]
    },
    {
     "name": "stderr",
     "output_type": "stream",
     "text": [
      "Evaluating:  14%|████████▌                                                      | 540/4000 [34:43<3:09:06,  3.28s/file]"
     ]
    },
    {
     "name": "stdout",
     "output_type": "stream",
     "text": [
      "[WARN] 라벨링 누락: say_set2_collectorgs139_speakergs2279_45_0_35_1\n",
      "[WARN] 라벨링 누락: say_set3_collectorgs115_speakergs842_34_0_32_1\n"
     ]
    },
    {
     "name": "stderr",
     "output_type": "stream",
     "text": [
      "Evaluating:  14%|████████▌                                                      | 543/4000 [34:51<2:56:37,  3.07s/file]"
     ]
    },
    {
     "name": "stdout",
     "output_type": "stream",
     "text": [
      "[WARN] 라벨링 누락: say_set1_collectorgs483_speakergs3870_7_0_3_1\n"
     ]
    },
    {
     "name": "stderr",
     "output_type": "stream",
     "text": [
      "Evaluating:  14%|████████▌                                                      | 546/4000 [35:08<3:51:43,  4.03s/file]"
     ]
    },
    {
     "name": "stdout",
     "output_type": "stream",
     "text": [
      "[WARN] 라벨링 누락: say_set1_collectorgs281_speakergs2838_16_0_30_1\n"
     ]
    },
    {
     "name": "stderr",
     "output_type": "stream",
     "text": [
      "Evaluating:  14%|████████▋                                                      | 550/4000 [35:21<3:28:03,  3.62s/file]"
     ]
    },
    {
     "name": "stdout",
     "output_type": "stream",
     "text": [
      "[WARN] 라벨링 누락: say_set1_collectorgs357_speakergs2631_84_0_12_1\n"
     ]
    },
    {
     "name": "stderr",
     "output_type": "stream",
     "text": [
      "Evaluating:  14%|████████▋                                                      | 554/4000 [35:50<6:01:23,  6.29s/file]"
     ]
    },
    {
     "name": "stdout",
     "output_type": "stream",
     "text": [
      "[WARN] 라벨링 누락: say_set1_collectorgs273_speakergs2813_33_0_26_1\n",
      "[WARN] 라벨링 누락: say_set3_collectorgs115_speakergs1698_17_0_30_1\n",
      "[WARN] 라벨링 누락: say_set2_collectorgs276_speakergs4132_5_0_33_1\n"
     ]
    },
    {
     "name": "stderr",
     "output_type": "stream",
     "text": [
      "Evaluating:  14%|████████▊                                                      | 558/4000 [35:56<3:24:25,  3.56s/file]"
     ]
    },
    {
     "name": "stdout",
     "output_type": "stream",
     "text": [
      "[WARN] 라벨링 누락: say_set1_collectorgs130_speakergs1412_57_0_37_1\n",
      "[WARN] 라벨링 누락: say_set3_collectorgs115_speakergs1698_13_0_30_1\n"
     ]
    },
    {
     "name": "stderr",
     "output_type": "stream",
     "text": [
      "Evaluating:  14%|████████▊                                                      | 561/4000 [36:04<3:02:14,  3.18s/file]"
     ]
    },
    {
     "name": "stdout",
     "output_type": "stream",
     "text": [
      "[WARN] 라벨링 누락: say_set1_collectorgs186_speakergs2149_22_0_27_1\n",
      "[WARN] 라벨링 누락: say_set2_collectorgs134_speakergs1913_53_0_33_1\n"
     ]
    },
    {
     "name": "stderr",
     "output_type": "stream",
     "text": [
      "Evaluating:  14%|████████▉                                                      | 565/4000 [36:24<4:04:55,  4.28s/file]"
     ]
    },
    {
     "name": "stdout",
     "output_type": "stream",
     "text": [
      "[WARN] 라벨링 누락: say_set1_collectorgs142_speakergs2470_4_0_38_1\n",
      "[WARN] 라벨링 누락: say_set1_collectorgs264_speakergs4193_47_0_12_1\n",
      "[WARN] 라벨링 누락: say_set2_collectorgs244_speakergs3602_48_0_35_1\n",
      "[WARN] 라벨링 누락: say_set1_collectorgs493_speakergs3812_76_1_11_1\n",
      "[WARN] 라벨링 누락: say_set2_collectorgs508_speakergs4297_72_0_25_1\n"
     ]
    },
    {
     "name": "stderr",
     "output_type": "stream",
     "text": [
      "Evaluating:  14%|█████████                                                      | 572/4000 [36:41<3:15:29,  3.42s/file]"
     ]
    },
    {
     "name": "stdout",
     "output_type": "stream",
     "text": [
      "[WARN] 라벨링 누락: say_set1_collectorgs81_speakergs1718_53_0_33_1\n",
      "[WARN] 라벨링 누락: say_set2_collectorgs213_speakergs2237_57_0_38_1\n",
      "[WARN] 라벨링 누락: say_set1_collectorgs15_speakergs32_12_0_33_1\n",
      "[WARN] 라벨링 누락: say_set1_collectorgs200_speakergs3127_20_0_21_1\n",
      "[WARN] 라벨링 누락: say_set2_collectorgs448_speakergs3575_88_0_7_1\n",
      "[WARN] 라벨링 누락: say_set1_collectorgs160_speakergs1443_12_0_30_1\n"
     ]
    },
    {
     "name": "stderr",
     "output_type": "stream",
     "text": [
      "Evaluating:  14%|█████████                                                      | 579/4000 [36:50<2:11:22,  2.30s/file]"
     ]
    },
    {
     "name": "stdout",
     "output_type": "stream",
     "text": [
      "[WARN] 라벨링 누락: say_set2_collectorgs303_speakergs3650_89_0_8_1\n"
     ]
    },
    {
     "name": "stderr",
     "output_type": "stream",
     "text": [
      "Evaluating:  15%|█████████▏                                                     | 584/4000 [37:20<4:16:09,  4.50s/file]"
     ]
    },
    {
     "name": "stdout",
     "output_type": "stream",
     "text": [
      "[WARN] 라벨링 누락: say_set1_collectorgs160_speakergs3982_62_0_34_1\n"
     ]
    },
    {
     "name": "stderr",
     "output_type": "stream",
     "text": [
      "Evaluating:  15%|█████████▎                                                     | 592/4000 [38:04<5:14:49,  5.54s/file]"
     ]
    },
    {
     "name": "stdout",
     "output_type": "stream",
     "text": [
      "[WARN] 라벨링 누락: say_set2_collectorgs185_speakergs4360_17_0_40_1\n"
     ]
    },
    {
     "name": "stderr",
     "output_type": "stream",
     "text": [
      "Evaluating:  15%|█████████▎                                                     | 594/4000 [38:10<4:17:59,  4.54s/file]"
     ]
    },
    {
     "name": "stdout",
     "output_type": "stream",
     "text": [
      "[WARN] 라벨링 누락: say_set1_collectorgs206_speakergs2474_51_0_41_1\n"
     ]
    },
    {
     "name": "stderr",
     "output_type": "stream",
     "text": [
      "Evaluating:  15%|█████████▍                                                     | 598/4000 [38:28<4:25:17,  4.68s/file]"
     ]
    },
    {
     "name": "stdout",
     "output_type": "stream",
     "text": [
      "[WARN] 라벨링 누락: say_set2_collectorgs14_speakergs39_12_0_35_1\n"
     ]
    },
    {
     "name": "stderr",
     "output_type": "stream",
     "text": [
      "Evaluating:  15%|█████████                                                   | 602/4000 [50:07<113:01:10, 119.74s/file]"
     ]
    },
    {
     "name": "stdout",
     "output_type": "stream",
     "text": [
      "[WARN] 라벨링 누락: say_set1_collectorgs130_speakergs1345_37_0_43_1\n",
      "[WARN] 라벨링 누락: say_set2_collectorgs436_speakergs4214_75_0_22_1\n"
     ]
    },
    {
     "name": "stderr",
     "output_type": "stream",
     "text": [
      "Evaluating:  15%|█████████▍                                                    | 607/4000 [50:30<38:23:15, 40.73s/file]"
     ]
    },
    {
     "name": "stdout",
     "output_type": "stream",
     "text": [
      "[WARN] 라벨링 누락: say_set2_collectorgs31_speakergs1721_48_0_36_1\n"
     ]
    },
    {
     "name": "stderr",
     "output_type": "stream",
     "text": [
      "Evaluating:  15%|█████████▍                                                    | 610/4000 [50:45<21:16:03, 22.59s/file]"
     ]
    },
    {
     "name": "stdout",
     "output_type": "stream",
     "text": [
      "[WARN] 라벨링 누락: say_set1_collectorgs239_speakergs2581_68_0_39_1\n",
      "[WARN] 라벨링 누락: say_set2_collectorgs31_speakergs2245_54_0_32_1\n",
      "[WARN] 라벨링 누락: say_set2_collectorgs276_speakergs4010_68_0_5_1\n"
     ]
    },
    {
     "name": "stderr",
     "output_type": "stream",
     "text": [
      "Evaluating:  15%|█████████▌                                                    | 614/4000 [50:53<10:30:07, 11.17s/file]"
     ]
    },
    {
     "name": "stdout",
     "output_type": "stream",
     "text": [
      "[WARN] 라벨링 누락: say_set1_collectorgs195_speakergs1504_50_0_23_1\n",
      "[WARN] 라벨링 누락: say_set1_collectorgs193_speakergs2841_3_0_20_1\n",
      "[WARN] 라벨링 누락: say_set1_collectorgs126_speakergs2891_5_0_34_1\n",
      "[WARN] 라벨링 누락: say_set2_collectorgs129_speakergs913_60_0_36_1\n",
      "[WARN] 라벨링 누락: say_set1_collectorgs164_speakergs1377_37_0_34_1\n",
      "[WARN] 라벨링 누락: say_set1_collectorgs305_speakergs2973_18_0_11_1\n",
      "[WARN] 라벨링 누락: say_set1_collectorgs25_speakergs1701_23_0_19_1\n",
      "[WARN] 라벨링 누락: say_set1_collectorgs218_speakergs1715_64_0_26_1\n"
     ]
    },
    {
     "name": "stderr",
     "output_type": "stream",
     "text": [
      "Evaluating:  16%|█████████▊                                                     | 623/4000 [50:57<4:03:11,  4.32s/file]"
     ]
    },
    {
     "name": "stdout",
     "output_type": "stream",
     "text": [
      "[WARN] 라벨링 누락: say_set1_collectorgs135_speakergs2132_7_0_32_1\n",
      "[WARN] 라벨링 누락: say_set2_collectorgs239_speakergs2095_56_0_35_1\n",
      "[WARN] 라벨링 누락: say_set1_collectorgs218_speakergs1715_88_1_7_1\n",
      "[WARN] 라벨링 누락: say_set1_collectorgs264_speakergs2173_16_0_2_1\n"
     ]
    },
    {
     "name": "stderr",
     "output_type": "stream",
     "text": [
      "Evaluating:  16%|█████████▉                                                     | 630/4000 [51:15<3:28:11,  3.71s/file]"
     ]
    },
    {
     "name": "stdout",
     "output_type": "stream",
     "text": [
      "[WARN] 라벨링 누락: say_set2_collectorgs134_speakergs1576_38_0_28_1\n"
     ]
    },
    {
     "name": "stderr",
     "output_type": "stream",
     "text": [
      "Evaluating:  16%|█████████▉                                                     | 634/4000 [51:38<4:35:03,  4.90s/file]"
     ]
    },
    {
     "name": "stdout",
     "output_type": "stream",
     "text": [
      "[WARN] 라벨링 누락: say_set1_collectorgs129_speakergs1545_12_0_37_1\n"
     ]
    },
    {
     "name": "stderr",
     "output_type": "stream",
     "text": [
      "Evaluating:  16%|██████████                                                     | 636/4000 [51:48<4:34:35,  4.90s/file]"
     ]
    },
    {
     "name": "stdout",
     "output_type": "stream",
     "text": [
      "[WARN] 라벨링 누락: say_set2_collectorgs474_speakergs4844_40_0_17_1\n",
      "[WARN] 라벨링 누락: say_set1_collectorgs212_speakergs2303_64_0_37_1\n",
      "[WARN] 라벨링 누락: say_set1_collectorgs160_speakergs3982_13_0_31_1\n",
      "[WARN] 라벨링 누락: say_set1_collectorgs514_speakergs4409_62_1_12_1\n",
      "[WARN] 라벨링 누락: say_set1_collectorgs212_speakergs3002_0_0_29_1\n"
     ]
    },
    {
     "name": "stderr",
     "output_type": "stream",
     "text": [
      "Evaluating:  16%|██████████▏                                                    | 643/4000 [52:02<3:02:21,  3.26s/file]"
     ]
    },
    {
     "name": "stdout",
     "output_type": "stream",
     "text": [
      "[WARN] 라벨링 누락: say_set1_collectorgs64_speakergs1202_39_0_32_1\n",
      "[WARN] 라벨링 누락: say_set1_collectorgs369_speakergs4101_19_1_21_1\n",
      "[WARN] 라벨링 누락: say_set1_collectorgs261_speakergs3756_57_0_14_1\n",
      "[WARN] 라벨링 누락: say_set2_collectorgs160_speakergs3944_61_0_27_1\n"
     ]
    },
    {
     "name": "stderr",
     "output_type": "stream",
     "text": [
      "Evaluating:  16%|██████████▏                                                    | 649/4000 [52:18<2:57:13,  3.17s/file]"
     ]
    },
    {
     "name": "stdout",
     "output_type": "stream",
     "text": [
      "[WARN] 라벨링 누락: say_set1_collectorgs370_speakergs2858_57_0_17_1\n",
      "[WARN] 라벨링 누락: say_set1_collectorgs69_speakergs256_8_0_34_1\n",
      "[WARN] 라벨링 누락: say_set1_collectorgs442_speakergs3394_44_0_38_1\n",
      "[WARN] 라벨링 누락: say_set1_collectorgs143_speakergs2696_27_0_27_1\n"
     ]
    },
    {
     "name": "stderr",
     "output_type": "stream",
     "text": [
      "Evaluating:  16%|██████████▎                                                    | 654/4000 [52:24<2:09:58,  2.33s/file]"
     ]
    },
    {
     "name": "stdout",
     "output_type": "stream",
     "text": [
      "[WARN] 라벨링 누락: say_set3_collectorgs115_speakergs1698_48_0_29_1\n"
     ]
    },
    {
     "name": "stderr",
     "output_type": "stream",
     "text": [
      "Evaluating:  16%|██████████▎                                                    | 658/4000 [52:45<3:26:09,  3.70s/file]"
     ]
    },
    {
     "name": "stdout",
     "output_type": "stream",
     "text": [
      "[WARN] 라벨링 누락: say_set1_collectorgs130_speakergs2269_72_0_32_1\n",
      "[WARN] 라벨링 누락: say_set2_collectorgs154_speakergs2102_42_0_29_1\n"
     ]
    },
    {
     "name": "stderr",
     "output_type": "stream",
     "text": [
      "Evaluating:  17%|██████████▍                                                    | 661/4000 [52:52<2:54:20,  3.13s/file]"
     ]
    },
    {
     "name": "stdout",
     "output_type": "stream",
     "text": [
      "[WARN] 라벨링 누락: say_set1_collectorgs103_speakergs389_68_0_36_1\n"
     ]
    },
    {
     "name": "stderr",
     "output_type": "stream",
     "text": [
      "Evaluating:  17%|██████████▍                                                    | 664/4000 [53:07<3:38:21,  3.93s/file]"
     ]
    },
    {
     "name": "stdout",
     "output_type": "stream",
     "text": [
      "[WARN] 라벨링 누락: say_set1_collectorgs477_speakergs3615_2_0_13_1\n",
      "[WARN] 라벨링 누락: say_set2_collectorgs139_speakergs1546_31_0_35_1\n",
      "[WARN] 라벨링 누락: say_set2_collectorgs160_speakergs2884_67_0_26_1\n"
     ]
    },
    {
     "name": "stderr",
     "output_type": "stream",
     "text": [
      "Evaluating:  17%|██████████▌                                                    | 668/4000 [53:14<2:44:39,  2.97s/file]"
     ]
    },
    {
     "name": "stdout",
     "output_type": "stream",
     "text": [
      "[WARN] 라벨링 누락: say_set2_collectorgs187_speakergs2447_13_0_43_1\n"
     ]
    },
    {
     "name": "stderr",
     "output_type": "stream",
     "text": [
      "Evaluating:  17%|██████████▌                                                    | 670/4000 [53:22<2:53:43,  3.13s/file]"
     ]
    },
    {
     "name": "stdout",
     "output_type": "stream",
     "text": [
      "[WARN] 라벨링 누락: say_set1_collectorgs170_speakergs792_12_0_46_1\n",
      "[WARN] 라벨링 누락: say_set1_collectorgs273_speakergs2243_6_0_36_1\n",
      "[WARN] 라벨링 누락: say_set1_collectorgs359_speakergs4219_68_0_17_1\n",
      "[WARN] 라벨링 누락: say_set1_collectorgs135_speakergs2288_39_0_34_1\n"
     ]
    },
    {
     "name": "stderr",
     "output_type": "stream",
     "text": [
      "Evaluating:  17%|██████████▋                                                    | 675/4000 [53:28<2:03:56,  2.24s/file]"
     ]
    },
    {
     "name": "stdout",
     "output_type": "stream",
     "text": [
      "[WARN] 라벨링 누락: say_set1_collectorgs25_speakergs3515_25_1_12_1\n"
     ]
    },
    {
     "name": "stderr",
     "output_type": "stream",
     "text": [
      "Evaluating:  17%|██████████▋                                                    | 677/4000 [53:38<2:37:09,  2.84s/file]"
     ]
    },
    {
     "name": "stdout",
     "output_type": "stream",
     "text": [
      "[WARN] 라벨링 누락: say_set1_collectorgs244_speakergs3545_16_0_31_1\n",
      "[WARN] 라벨링 누락: say_set2_collectorgs396_speakergs3705_61_0_8_1\n"
     ]
    },
    {
     "name": "stderr",
     "output_type": "stream",
     "text": [
      "Evaluating:  17%|██████████▋                                                    | 680/4000 [53:46<2:32:59,  2.77s/file]"
     ]
    },
    {
     "name": "stdout",
     "output_type": "stream",
     "text": [
      "[WARN] 라벨링 누락: say_set2_collectorgs160_speakergs2928_38_0_34_1\n"
     ]
    },
    {
     "name": "stderr",
     "output_type": "stream",
     "text": [
      "Evaluating:  17%|██████████▋                                                    | 682/4000 [53:51<2:30:30,  2.72s/file]"
     ]
    },
    {
     "name": "stdout",
     "output_type": "stream",
     "text": [
      "[WARN] 라벨링 누락: say_set1_collectorgs238_speakergs3105_32_0_36_1\n",
      "[WARN] 라벨링 누락: say_set1_collectorgs437_speakergs4759_57_0_20_1\n"
     ]
    },
    {
     "name": "stderr",
     "output_type": "stream",
     "text": [
      "Evaluating:  17%|██████████▊                                                    | 687/4000 [54:17<3:58:23,  4.32s/file]"
     ]
    },
    {
     "name": "stdout",
     "output_type": "stream",
     "text": [
      "[WARN] 라벨링 누락: say_set1_collectorgs249_speakergs2902_57_0_7_1\n",
      "[WARN] 라벨링 누락: say_set1_collectorgs306_speakergs3030_57_0_20_1\n"
     ]
    },
    {
     "name": "stderr",
     "output_type": "stream",
     "text": [
      "Evaluating:  17%|██████████▉                                                    | 691/4000 [54:29<3:28:45,  3.79s/file]"
     ]
    },
    {
     "name": "stdout",
     "output_type": "stream",
     "text": [
      "[WARN] 라벨링 누락: say_set1_collectorgs492_speakergs4118_62_0_27_1\n",
      "[WARN] 라벨링 누락: say_set1_collectorgs150_speakergs1328_23_0_37_1\n"
     ]
    },
    {
     "name": "stderr",
     "output_type": "stream",
     "text": [
      "Evaluating:  17%|██████████▉                                                    | 695/4000 [54:47<4:02:35,  4.40s/file]"
     ]
    },
    {
     "name": "stdout",
     "output_type": "stream",
     "text": [
      "[WARN] 라벨링 누락: say_set2_collectorgs130_speakergs2086_37_0_32_1\n",
      "[WARN] 라벨링 누락: say_set1_collectorgs292_speakergs3000_76_0_67_1\n",
      "[WARN] 라벨링 누락: say_set2_collectorgs134_speakergs1421_33_0_33_1\n",
      "[WARN] 라벨링 누락: say_set2_collectorgs213_speakergs2216_13_0_23_1\n"
     ]
    },
    {
     "name": "stderr",
     "output_type": "stream",
     "text": [
      "Evaluating:  18%|███████████                                                    | 702/4000 [55:16<4:36:24,  5.03s/file]"
     ]
    },
    {
     "name": "stdout",
     "output_type": "stream",
     "text": [
      "[WARN] 라벨링 누락: say_set1_collectorgs506_speakergs3997_45_0_23_1\n"
     ]
    },
    {
     "name": "stderr",
     "output_type": "stream",
     "text": [
      "Evaluating:  18%|███████████                                                    | 704/4000 [55:21<3:53:44,  4.25s/file]"
     ]
    },
    {
     "name": "stdout",
     "output_type": "stream",
     "text": [
      "[WARN] 라벨링 누락: say_set1_collectorgs32_speakergs1087_12_0_36_1\n",
      "[WARN] 라벨링 누락: say_set1_collectorgs484_speakergs3995_21_0_19_1\n"
     ]
    },
    {
     "name": "stderr",
     "output_type": "stream",
     "text": [
      "Evaluating:  18%|███████████▏                                                   | 707/4000 [55:25<2:46:18,  3.03s/file]"
     ]
    },
    {
     "name": "stdout",
     "output_type": "stream",
     "text": [
      "[WARN] 라벨링 누락: say_set1_collectorgs100_speakergs449_33_0_29_1\n",
      "[WARN] 라벨링 누락: say_set1_collectorgs239_speakergs2312_40_0_38_1\n"
     ]
    },
    {
     "name": "stderr",
     "output_type": "stream",
     "text": [
      "Evaluating:  18%|███████████▏                                                   | 710/4000 [55:32<2:32:45,  2.79s/file]"
     ]
    },
    {
     "name": "stdout",
     "output_type": "stream",
     "text": [
      "[WARN] 라벨링 누락: say_set1_collectorgs186_speakergs2149_30_0_29_1\n"
     ]
    },
    {
     "name": "stderr",
     "output_type": "stream",
     "text": [
      "Evaluating:  18%|███████████▏                                                   | 713/4000 [55:45<3:12:20,  3.51s/file]"
     ]
    },
    {
     "name": "stdout",
     "output_type": "stream",
     "text": [
      "[WARN] 라벨링 누락: say_set1_collectorgs514_speakergs4409_26_0_13_1\n"
     ]
    },
    {
     "name": "stderr",
     "output_type": "stream",
     "text": [
      "Evaluating:  18%|███████████▎                                                   | 715/4000 [55:52<3:14:08,  3.55s/file]"
     ]
    },
    {
     "name": "stdout",
     "output_type": "stream",
     "text": [
      "[WARN] 라벨링 누락: say_set2_collectorgs129_speakergs1746_64_0_34_1\n",
      "[WARN] 라벨링 누락: say_set1_collectorgs246_speakergs2489_65_0_28_1\n"
     ]
    },
    {
     "name": "stderr",
     "output_type": "stream",
     "text": [
      "Evaluating:  18%|███████████▎                                                   | 718/4000 [56:03<3:18:50,  3.64s/file]"
     ]
    },
    {
     "name": "stdout",
     "output_type": "stream",
     "text": [
      "[WARN] 라벨링 누락: say_set1_collectorgs376_speakergs3798_14_0_41_1\n"
     ]
    },
    {
     "name": "stderr",
     "output_type": "stream",
     "text": [
      "Evaluating:  18%|███████████▎                                                   | 720/4000 [56:14<3:46:08,  4.14s/file]"
     ]
    },
    {
     "name": "stdout",
     "output_type": "stream",
     "text": [
      "[WARN] 라벨링 누락: say_set2_collectorgs134_speakergs1245_50_0_37_1\n"
     ]
    },
    {
     "name": "stderr",
     "output_type": "stream",
     "text": [
      "Evaluating:  18%|███████████▍                                                   | 723/4000 [56:29<4:09:48,  4.57s/file]"
     ]
    },
    {
     "name": "stdout",
     "output_type": "stream",
     "text": [
      "[WARN] 라벨링 누락: say_set1_collectorgs390_speakergs4031_42_0_33_1\n"
     ]
    },
    {
     "name": "stderr",
     "output_type": "stream",
     "text": [
      "Evaluating:  18%|███████████▍                                                   | 725/4000 [56:38<4:10:28,  4.59s/file]"
     ]
    },
    {
     "name": "stdout",
     "output_type": "stream",
     "text": [
      "[WARN] 라벨링 누락: say_set3_collectorgs115_speakergs436_43_0_40_1\n"
     ]
    },
    {
     "name": "stderr",
     "output_type": "stream",
     "text": [
      "Evaluating:  18%|███████████▍                                                   | 727/4000 [56:42<3:25:26,  3.77s/file]"
     ]
    },
    {
     "name": "stdout",
     "output_type": "stream",
     "text": [
      "[WARN] 라벨링 누락: say_set2_collectorgs185_speakergs4434_5_0_33_1\n",
      "[WARN] 라벨링 누락: say_set1_collectorgs160_speakergs2093_23_0_29_1\n"
     ]
    },
    {
     "name": "stderr",
     "output_type": "stream",
     "text": [
      "Evaluating:  18%|███████████▌                                                   | 732/4000 [57:05<4:12:25,  4.63s/file]"
     ]
    },
    {
     "name": "stdout",
     "output_type": "stream",
     "text": [
      "[WARN] 라벨링 누락: say_set1_collectorgs448_speakergs3465_32_0_8_1\n"
     ]
    },
    {
     "name": "stderr",
     "output_type": "stream",
     "text": [
      "Evaluating:  18%|███████████▌                                                   | 735/4000 [57:22<4:43:48,  5.22s/file]"
     ]
    },
    {
     "name": "stdout",
     "output_type": "stream",
     "text": [
      "[WARN] 라벨링 누락: say_set1_collectorgs81_speakergs1695_20_0_28_1\n",
      "[WARN] 라벨링 누락: say_set1_collectorgs261_speakergs2478_63_0_24_1\n"
     ]
    },
    {
     "name": "stderr",
     "output_type": "stream",
     "text": [
      "Evaluating:  18%|███████████▋                                                   | 739/4000 [57:37<4:10:50,  4.62s/file]"
     ]
    },
    {
     "name": "stdout",
     "output_type": "stream",
     "text": [
      "[WARN] 라벨링 누락: say_set2_collectorgs213_speakergs2504_58_0_36_1\n"
     ]
    },
    {
     "name": "stderr",
     "output_type": "stream",
     "text": [
      "Evaluating:  19%|███████████▋                                                   | 742/4000 [57:51<4:21:10,  4.81s/file]"
     ]
    },
    {
     "name": "stdout",
     "output_type": "stream",
     "text": [
      "[WARN] 라벨링 누락: say_set1_collectorgs244_speakergs2059_6_0_28_1\n"
     ]
    },
    {
     "name": "stderr",
     "output_type": "stream",
     "text": [
      "Evaluating:  19%|███████████▋                                                   | 744/4000 [57:57<3:43:22,  4.12s/file]"
     ]
    },
    {
     "name": "stdout",
     "output_type": "stream",
     "text": [
      "[WARN] 라벨링 누락: say_set2_collectorgs303_speakergs2972_38_0_5_1\n"
     ]
    },
    {
     "name": "stderr",
     "output_type": "stream",
     "text": [
      "Evaluating:  19%|███████████▋                                                   | 746/4000 [58:03<3:24:28,  3.77s/file]"
     ]
    },
    {
     "name": "stdout",
     "output_type": "stream",
     "text": [
      "[WARN] 라벨링 누락: say_set1_collectorgs154_speakergs1009_70_0_47_1\n",
      "[WARN] 라벨링 누락: say_set1_collectorgs126_speakergs677_40_0_18_1\n",
      "[WARN] 라벨링 누락: say_set1_collectorgs130_speakergs923_15_0_36_1\n"
     ]
    },
    {
     "name": "stderr",
     "output_type": "stream",
     "text": [
      "Evaluating:  19%|███████████▊                                                   | 750/4000 [58:10<2:29:59,  2.77s/file]"
     ]
    },
    {
     "name": "stdout",
     "output_type": "stream",
     "text": [
      "[WARN] 라벨링 누락: say_set1_collectorgs397_speakergs4131_2_0_18_1\n"
     ]
    },
    {
     "name": "stderr",
     "output_type": "stream",
     "text": [
      "Evaluating:  19%|███████████▊                                                   | 753/4000 [58:28<3:49:44,  4.25s/file]"
     ]
    },
    {
     "name": "stdout",
     "output_type": "stream",
     "text": [
      "[WARN] 라벨링 누락: say_set2_collectorgs219_speakergs3390_17_0_73_1\n",
      "[WARN] 라벨링 누락: say_set1_collectorgs135_speakergs2661_11_0_30_1\n"
     ]
    },
    {
     "name": "stderr",
     "output_type": "stream",
     "text": [
      "Evaluating:  19%|███████████▉                                                   | 756/4000 [58:34<2:58:54,  3.31s/file]"
     ]
    },
    {
     "name": "stdout",
     "output_type": "stream",
     "text": [
      "[WARN] 라벨링 누락: say_set1_collectorgs32_speakergs3109_6_0_34_1\n",
      "[WARN] 라벨링 누락: say_set2_collectorgs514_speakergs4155_6_1_15_1\n"
     ]
    },
    {
     "name": "stderr",
     "output_type": "stream",
     "text": [
      "Evaluating:  19%|███████████▉                                                   | 760/4000 [58:49<3:15:29,  3.62s/file]"
     ]
    },
    {
     "name": "stdout",
     "output_type": "stream",
     "text": [
      "[WARN] 라벨링 누락: say_set1_collectorgs164_speakergs1465_48_0_28_1\n",
      "[WARN] 라벨링 누락: say_set2_collectorgs160_speakergs2722_47_0_18_1\n"
     ]
    },
    {
     "name": "stderr",
     "output_type": "stream",
     "text": [
      "Evaluating:  19%|████████████                                                   | 764/4000 [59:03<3:26:01,  3.82s/file]"
     ]
    },
    {
     "name": "stdout",
     "output_type": "stream",
     "text": [
      "[WARN] 라벨링 누락: say_set1_collectorgs429_speakergs3929_41_0_31_29_1\n",
      "[WARN] 라벨링 누락: say_set1_collectorgs306_speakergs2531_27_0_18_1\n",
      "[WARN] 라벨링 누락: say_set1_collectorgs206_speakergs1793_6_0_5_1\n"
     ]
    },
    {
     "name": "stderr",
     "output_type": "stream",
     "text": [
      "Evaluating:  19%|███████████▊                                                 | 773/4000 [1:00:18<6:38:49,  7.42s/file]"
     ]
    },
    {
     "name": "stdout",
     "output_type": "stream",
     "text": [
      "[WARN] 라벨링 누락: say_set2_collectorgs442_speakergs4784_81_0_17_1\n",
      "[WARN] 라벨링 누락: say_set2_collectorgs219_speakergs3698_58_1_14_1\n",
      "[WARN] 라벨링 누락: say_set2_collectorgs514_speakergs4155_1_1_9_1\n"
     ]
    },
    {
     "name": "stderr",
     "output_type": "stream",
     "text": [
      "Evaluating:  19%|███████████▊                                                 | 777/4000 [1:00:25<3:48:02,  4.25s/file]"
     ]
    },
    {
     "name": "stdout",
     "output_type": "stream",
     "text": [
      "[WARN] 라벨링 누락: say_set2_collectorgs244_speakergs2688_8_0_36_1\n"
     ]
    },
    {
     "name": "stderr",
     "output_type": "stream",
     "text": [
      "Evaluating:  19%|███████████▉                                                 | 779/4000 [1:00:33<3:43:05,  4.16s/file]"
     ]
    },
    {
     "name": "stdout",
     "output_type": "stream",
     "text": [
      "[WARN] 라벨링 누락: say_set1_collectorgs187_speakergs2321_18_0_55_1\n",
      "[WARN] 라벨링 누락: say_set1_collectorgs160_speakergs2417_5_0_30_1\n"
     ]
    },
    {
     "name": "stderr",
     "output_type": "stream",
     "text": [
      "Evaluating:  20%|███████████▉                                                 | 783/4000 [1:01:14<6:08:06,  6.87s/file]"
     ]
    },
    {
     "name": "stdout",
     "output_type": "stream",
     "text": [
      "[WARN] 라벨링 누락: say_set1_collectorgs448_speakergs3926_6_0_30_1\n",
      "[WARN] 라벨링 누락: say_set1_collectorgs384_speakergs4054_16_0_27_1\n"
     ]
    },
    {
     "name": "stderr",
     "output_type": "stream",
     "text": [
      "Evaluating:  20%|████████████                                                 | 788/4000 [1:01:34<5:05:31,  5.71s/file]"
     ]
    },
    {
     "name": "stdout",
     "output_type": "stream",
     "text": [
      "[WARN] 라벨링 누락: say_set2_collectorgs397_speakergs4260_0_0_44_1\n"
     ]
    },
    {
     "name": "stderr",
     "output_type": "stream",
     "text": [
      "Evaluating:  20%|████████████                                                 | 790/4000 [1:01:42<4:36:03,  5.16s/file]"
     ]
    },
    {
     "name": "stdout",
     "output_type": "stream",
     "text": [
      "[WARN] 라벨링 누락: say_set1_collectorgs384_speakergs3126_52_0_52_1\n",
      "[WARN] 라벨링 누락: say_set1_collectorgs150_speakergs1914_59_0_33_1\n",
      "[WARN] 라벨링 누락: say_set2_collectorgs296_speakergs3321_9_0_30_1\n",
      "[WARN] 라벨링 누락: say_set1_collectorgs384_speakergs4054_37_0_33_1\n"
     ]
    },
    {
     "name": "stderr",
     "output_type": "stream",
     "text": [
      "Evaluating:  20%|████████████▏                                                | 796/4000 [1:01:56<3:07:49,  3.52s/file]"
     ]
    },
    {
     "name": "stdout",
     "output_type": "stream",
     "text": [
      "[WARN] 라벨링 누락: say_set1_collectorgs493_speakergs3812_39_2_17_1\n",
      "[WARN] 라벨링 누락: say_set1_collectorgs64_speakergs1180_28_0_55_1\n"
     ]
    },
    {
     "name": "stderr",
     "output_type": "stream",
     "text": [
      "Evaluating:  20%|████████████▏                                                | 802/4000 [1:02:24<4:15:13,  4.79s/file]"
     ]
    },
    {
     "name": "stdout",
     "output_type": "stream",
     "text": [
      "[WARN] 라벨링 누락: say_set1_collectorgs75_speakergs305_43_0_42_1\n"
     ]
    },
    {
     "name": "stderr",
     "output_type": "stream",
     "text": [
      "Evaluating:  20%|████████████▎                                                | 807/4000 [1:03:00<6:11:53,  6.99s/file]"
     ]
    },
    {
     "name": "stdout",
     "output_type": "stream",
     "text": [
      "[WARN] 라벨링 누락: say_set1_collectorgs356_speakergs2905_70_0_10_1\n"
     ]
    },
    {
     "name": "stderr",
     "output_type": "stream",
     "text": [
      "Evaluating:  20%|████████████▎                                                | 809/4000 [1:03:10<5:37:04,  6.34s/file]"
     ]
    },
    {
     "name": "stdout",
     "output_type": "stream",
     "text": [
      "[WARN] 라벨링 누락: say_set3_collectorgs119_speakergs1234_38_0_34_1\n"
     ]
    },
    {
     "name": "stderr",
     "output_type": "stream",
     "text": [
      "Evaluating:  20%|████████████▍                                                | 813/4000 [1:03:31<5:17:20,  5.97s/file]"
     ]
    },
    {
     "name": "stdout",
     "output_type": "stream",
     "text": [
      "[WARN] 라벨링 누락: say_set1_collectorgs160_speakergs1276_7_0_29_1\n"
     ]
    },
    {
     "name": "stderr",
     "output_type": "stream",
     "text": [
      "Evaluating:  20%|████████████▍                                                | 815/4000 [1:03:38<4:25:11,  5.00s/file]"
     ]
    },
    {
     "name": "stdout",
     "output_type": "stream",
     "text": [
      "[WARN] 라벨링 누락: say_set2_collectorgs444_speakergs3701_29_0_48_1\n"
     ]
    },
    {
     "name": "stderr",
     "output_type": "stream",
     "text": [
      "Evaluating:  20%|████████████▍                                                | 817/4000 [1:03:45<3:57:54,  4.48s/file]"
     ]
    },
    {
     "name": "stdout",
     "output_type": "stream",
     "text": [
      "[WARN] 라벨링 누락: say_set1_collectorgs380_speakergs4115_52_0_19_1\n"
     ]
    },
    {
     "name": "stderr",
     "output_type": "stream",
     "text": [
      "Evaluating:  21%|████████████▌                                                | 822/4000 [1:04:16<5:03:38,  5.73s/file]"
     ]
    },
    {
     "name": "stdout",
     "output_type": "stream",
     "text": [
      "[WARN] 라벨링 누락: say_set2_collectorgs119_speakergs806_71_0_22_1\n",
      "[WARN] 라벨링 누락: say_set1_collectorgs217_speakergs2248_84_0_15_1\n"
     ]
    },
    {
     "name": "stderr",
     "output_type": "stream",
     "text": [
      "Evaluating:  21%|████████████▌                                                | 825/4000 [1:04:20<3:04:07,  3.48s/file]"
     ]
    },
    {
     "name": "stdout",
     "output_type": "stream",
     "text": [
      "[WARN] 라벨링 누락: say_set2_collectorgs244_speakergs2688_12_0_16_1\n",
      "[WARN] 라벨링 누락: say_set1_collectorgs448_speakergs4386_81_0_37_1\n",
      "[WARN] 라벨링 누락: say_set1_collectorgs416_speakergs3697_40_0_47_1\n",
      "[WARN] 라벨링 누락: say_set1_collectorgs93_speakergs340_36_0_31_1\n"
     ]
    },
    {
     "name": "stderr",
     "output_type": "stream",
     "text": [
      "Evaluating:  21%|████████████▋                                                | 832/4000 [1:04:34<2:33:22,  2.90s/file]"
     ]
    },
    {
     "name": "stdout",
     "output_type": "stream",
     "text": [
      "[WARN] 라벨링 누락: say_set1_collectorgs139_speakergs1106_21_0_45_1\n",
      "[WARN] 라벨링 누락: say_set2_collectorgs154_speakergs2892_77_0_20_1\n"
     ]
    },
    {
     "name": "stderr",
     "output_type": "stream",
     "text": [
      "Evaluating:  21%|████████████▋                                                | 835/4000 [1:04:40<2:14:57,  2.56s/file]"
     ]
    },
    {
     "name": "stdout",
     "output_type": "stream",
     "text": [
      "[WARN] 라벨링 누락: say_set1_collectorgs198_speakergs1397_28_0_28_1\n"
     ]
    },
    {
     "name": "stderr",
     "output_type": "stream",
     "text": [
      "Evaluating:  21%|████████████▊                                                | 841/4000 [1:05:19<5:10:09,  5.89s/file]"
     ]
    },
    {
     "name": "stdout",
     "output_type": "stream",
     "text": [
      "[WARN] 라벨링 누락: say_set1_collectorgs139_speakergs646_29_0_27_1\n"
     ]
    },
    {
     "name": "stderr",
     "output_type": "stream",
     "text": [
      "Evaluating:  21%|████████████▊                                                | 843/4000 [1:05:25<4:08:35,  4.72s/file]"
     ]
    },
    {
     "name": "stdout",
     "output_type": "stream",
     "text": [
      "[WARN] 라벨링 누락: say_set1_collectorgs154_speakergs1426_35_0_31_1\n",
      "[WARN] 라벨링 누락: say_set1_collectorgs197_speakergs1203_73_0_37_1\n",
      "[WARN] 라벨링 누락: say_set1_collectorgs296_speakergs2994_18_0_36_1\n",
      "[WARN] 라벨링 누락: say_set2_collectorgs142_speakergs1948_41_0_38_1\n"
     ]
    },
    {
     "name": "stderr",
     "output_type": "stream",
     "text": [
      "Evaluating:  21%|████████████▉                                                | 848/4000 [1:05:32<2:29:26,  2.84s/file]"
     ]
    },
    {
     "name": "stdout",
     "output_type": "stream",
     "text": [
      "[WARN] 라벨링 누락: say_set2_collectorgs154_speakergs1962_2_0_32_1\n",
      "[WARN] 라벨링 누락: say_set1_collectorgs186_speakergs2446_42_0_27_1\n"
     ]
    },
    {
     "name": "stderr",
     "output_type": "stream",
     "text": [
      "Evaluating:  21%|████████████▉                                                | 851/4000 [1:05:41<2:31:39,  2.89s/file]"
     ]
    },
    {
     "name": "stdout",
     "output_type": "stream",
     "text": [
      "[WARN] 라벨링 누락: say_set1_collectorgs32_speakergs3282_35_0_31_1\n"
     ]
    },
    {
     "name": "stderr",
     "output_type": "stream",
     "text": [
      "Evaluating:  21%|█████████████                                                | 853/4000 [1:05:48<2:36:58,  2.99s/file]"
     ]
    },
    {
     "name": "stdout",
     "output_type": "stream",
     "text": [
      "[WARN] 라벨링 누락: say_set1_collectorgs25_speakergs3515_55_0_24_1\n",
      "[WARN] 라벨링 누락: say_set1_collectorgs482_speakergs4105_16_0_15_1\n",
      "[WARN] 라벨링 누락: say_set1_collectorgs390_speakergs3117_22_0_29_1\n"
     ]
    },
    {
     "name": "stderr",
     "output_type": "stream",
     "text": [
      "Evaluating:  21%|█████████████                                                | 857/4000 [1:05:58<2:24:25,  2.76s/file]"
     ]
    },
    {
     "name": "stdout",
     "output_type": "stream",
     "text": [
      "[WARN] 라벨링 누락: say_set1_collectorgs135_speakergs1470_31_0_34_1\n"
     ]
    },
    {
     "name": "stderr",
     "output_type": "stream",
     "text": [
      "Evaluating:  22%|█████████████                                                | 860/4000 [1:06:13<3:10:45,  3.64s/file]"
     ]
    },
    {
     "name": "stdout",
     "output_type": "stream",
     "text": [
      "[WARN] 라벨링 누락: say_set1_collectorgs336_speakergs3600_30_0_9_1\n",
      "[WARN] 라벨링 누락: say_set1_collectorgs297_speakergs2956_61_0_15_1\n"
     ]
    },
    {
     "name": "stderr",
     "output_type": "stream",
     "text": [
      "Evaluating:  22%|█████████████▏                                               | 865/4000 [1:06:34<3:43:03,  4.27s/file]"
     ]
    },
    {
     "name": "stdout",
     "output_type": "stream",
     "text": [
      "[WARN] 라벨링 누락: say_set2_collectorgs144_speakergs2097_75_0_51_1\n"
     ]
    },
    {
     "name": "stderr",
     "output_type": "stream",
     "text": [
      "Evaluating:  22%|█████████████▏                                               | 867/4000 [1:06:37<2:59:29,  3.44s/file]"
     ]
    },
    {
     "name": "stdout",
     "output_type": "stream",
     "text": [
      "[WARN] 라벨링 누락: say_set2_collectorgs436_speakergs3978_46_0_6_1\n",
      "[WARN] 라벨링 누락: say_set2_collectorgs500_speakergs4239_21_0_7_1\n"
     ]
    },
    {
     "name": "stderr",
     "output_type": "stream",
     "text": [
      "Evaluating:  22%|█████████████▎                                               | 871/4000 [1:06:51<3:11:09,  3.67s/file]"
     ]
    },
    {
     "name": "stdout",
     "output_type": "stream",
     "text": [
      "[WARN] 라벨링 누락: say_set1_collectorgs293_speakergs2365_78_0_27_1\n"
     ]
    },
    {
     "name": "stderr",
     "output_type": "stream",
     "text": [
      "Evaluating:  22%|█████████████▎                                               | 874/4000 [1:07:05<3:43:25,  4.29s/file]"
     ]
    },
    {
     "name": "stdout",
     "output_type": "stream",
     "text": [
      "[WARN] 라벨링 누락: say_set1_collectorgs264_speakergs2173_75_0_6_1\n",
      "[WARN] 라벨링 누락: say_set1_collectorgs238_speakergs2344_25_0_37_1\n",
      "[WARN] 라벨링 누락: say_set2_collectorgs213_speakergs3211_29_0_13_1\n"
     ]
    },
    {
     "name": "stderr",
     "output_type": "stream",
     "text": [
      "Evaluating:  22%|█████████████▍                                               | 878/4000 [1:07:10<2:21:04,  2.71s/file]"
     ]
    },
    {
     "name": "stdout",
     "output_type": "stream",
     "text": [
      "[WARN] 라벨링 누락: say_set2_collectorgs414_speakergs3782_6_0_17_1\n",
      "[WARN] 라벨링 누락: say_set2_collectorgs62_speakergs238_28_0_44_1\n"
     ]
    },
    {
     "name": "stderr",
     "output_type": "stream",
     "text": [
      "Evaluating:  22%|█████████████▍                                               | 881/4000 [1:07:20<2:31:46,  2.92s/file]"
     ]
    },
    {
     "name": "stdout",
     "output_type": "stream",
     "text": [
      "[WARN] 라벨링 누락: say_set1_collectorgs32_speakergs3964_33_0_27_1\n",
      "[WARN] 라벨링 누락: say_set1_collectorgs477_speakergs3615_16_0_25_1\n"
     ]
    },
    {
     "name": "stderr",
     "output_type": "stream",
     "text": [
      "Evaluating:  22%|█████████████▍                                               | 884/4000 [1:07:26<2:15:35,  2.61s/file]"
     ]
    },
    {
     "name": "stdout",
     "output_type": "stream",
     "text": [
      "[WARN] 라벨링 누락: say_set2_collectorgs185_speakergs4030_3_0_21_1\n"
     ]
    },
    {
     "name": "stderr",
     "output_type": "stream",
     "text": [
      "Evaluating:  22%|█████████████▌                                               | 887/4000 [1:07:42<3:13:10,  3.72s/file]"
     ]
    },
    {
     "name": "stdout",
     "output_type": "stream",
     "text": [
      "[WARN] 라벨링 누락: say_set1_collectorgs65_speakergs1699_39_0_26_1\n",
      "[WARN] 라벨링 누락: say_set2_collectorgs73_speakergs689_8_0_34_1\n"
     ]
    },
    {
     "name": "stderr",
     "output_type": "stream",
     "text": [
      "Evaluating:  22%|█████████████▌                                               | 890/4000 [1:07:45<2:18:58,  2.68s/file]"
     ]
    },
    {
     "name": "stdout",
     "output_type": "stream",
     "text": [
      "[WARN] 라벨링 누락: say_set1_collectorgs419_speakergs3700_7_1_8_1\n"
     ]
    },
    {
     "name": "stderr",
     "output_type": "stream",
     "text": [
      "Evaluating:  22%|█████████████▌                                               | 893/4000 [1:07:56<2:45:04,  3.19s/file]"
     ]
    },
    {
     "name": "stdout",
     "output_type": "stream",
     "text": [
      "[WARN] 라벨링 누락: say_set1_collectorgs370_speakergs2858_23_0_37_1\n"
     ]
    },
    {
     "name": "stderr",
     "output_type": "stream",
     "text": [
      "Evaluating:  22%|█████████████▋                                               | 897/4000 [1:08:14<3:35:39,  4.17s/file]"
     ]
    },
    {
     "name": "stdout",
     "output_type": "stream",
     "text": [
      "[WARN] 라벨링 누락: say_set1_collectorgs261_speakergs2519_61_0_31_1\n"
     ]
    },
    {
     "name": "stderr",
     "output_type": "stream",
     "text": [
      "Evaluating:  23%|█████████████▊                                               | 902/4000 [1:09:12<6:56:54,  8.07s/file]"
     ]
    },
    {
     "name": "stdout",
     "output_type": "stream",
     "text": [
      "[WARN] 라벨링 누락: say_set2_collectorgs160_speakergs3599_29_0_32_1\n"
     ]
    },
    {
     "name": "stderr",
     "output_type": "stream",
     "text": [
      "Evaluating:  23%|█████████████▊                                               | 905/4000 [1:09:28<5:46:41,  6.72s/file]"
     ]
    },
    {
     "name": "stdout",
     "output_type": "stream",
     "text": [
      "[WARN] 라벨링 누락: say_set1_collectorgs390_speakergs3365_37_0_25_1\n"
     ]
    },
    {
     "name": "stderr",
     "output_type": "stream",
     "text": [
      "Evaluating:  23%|█████████████▉                                               | 911/4000 [1:10:04<5:25:53,  6.33s/file]"
     ]
    },
    {
     "name": "stdout",
     "output_type": "stream",
     "text": [
      "[WARN] 라벨링 누락: say_set1_collectorgs303_speakergs3004_89_0_9_1\n"
     ]
    },
    {
     "name": "stderr",
     "output_type": "stream",
     "text": [
      "Evaluating:  23%|█████████████▉                                               | 913/4000 [1:10:11<4:27:10,  5.19s/file]"
     ]
    },
    {
     "name": "stdout",
     "output_type": "stream",
     "text": [
      "[WARN] 라벨링 누락: say_set1_collectorgs503_speakergs4334_84_0_22_1\n"
     ]
    },
    {
     "name": "stderr",
     "output_type": "stream",
     "text": [
      "Evaluating:  23%|█████████████▉                                               | 916/4000 [1:10:28<4:43:09,  5.51s/file]"
     ]
    },
    {
     "name": "stdout",
     "output_type": "stream",
     "text": [
      "[WARN] 라벨링 누락: say_set1_collectorgs141_speakergs1288_61_0_50_1\n"
     ]
    },
    {
     "name": "stderr",
     "output_type": "stream",
     "text": [
      "Evaluating:  23%|█████████████▉                                               | 918/4000 [1:10:34<3:53:08,  4.54s/file]"
     ]
    },
    {
     "name": "stdout",
     "output_type": "stream",
     "text": [
      "[WARN] 라벨링 누락: say_set1_collectorgs356_speakergs3011_88_1_10_1\n"
     ]
    },
    {
     "name": "stderr",
     "output_type": "stream",
     "text": [
      "Evaluating:  23%|██████████████                                               | 920/4000 [1:10:40<3:30:37,  4.10s/file]"
     ]
    },
    {
     "name": "stdout",
     "output_type": "stream",
     "text": [
      "[WARN] 라벨링 누락: say_set2_collectorgs466_speakergs4438_6_0_26_1\n",
      "[WARN] 라벨링 누락: say_set1_collectorgs384_speakergs3684_4_0_51_1\n",
      "[WARN] 라벨링 누락: say_set1_collectorgs160_speakergs926_57_0_30_1\n"
     ]
    },
    {
     "name": "stderr",
     "output_type": "stream",
     "text": [
      "Evaluating:  23%|██████████████                                               | 924/4000 [1:10:49<2:40:32,  3.13s/file]"
     ]
    },
    {
     "name": "stdout",
     "output_type": "stream",
     "text": [
      "[WARN] 라벨링 누락: say_set1_collectorgs212_speakergs2153_31_0_28_1\n",
      "[WARN] 라벨링 누락: say_set1_collectorgs292_speakergs3000_71_0_23_1\n"
     ]
    },
    {
     "name": "stderr",
     "output_type": "stream",
     "text": [
      "Evaluating:  23%|██████████████▏                                              | 931/4000 [1:11:23<4:20:27,  5.09s/file]"
     ]
    },
    {
     "name": "stdout",
     "output_type": "stream",
     "text": [
      "[WARN] 라벨링 누락: say_set2_collectorgs218_speakergs2904_20_0_11_1\n"
     ]
    },
    {
     "name": "stderr",
     "output_type": "stream",
     "text": [
      "Evaluating:  23%|██████████████▏                                              | 934/4000 [1:11:35<3:51:41,  4.53s/file]"
     ]
    },
    {
     "name": "stdout",
     "output_type": "stream",
     "text": [
      "[WARN] 라벨링 누락: say_set1_collectorgs218_speakergs1715_49_0_8_1\n",
      "[WARN] 라벨링 누락: say_set2_collectorgs213_speakergs3108_18_0_25_1\n",
      "[WARN] 라벨링 누락: say_set2_collectorgs31_speakergs3965_49_0_56_1\n",
      "[WARN] 라벨링 누락: say_set1_collectorgs33_speakergs115_55_0_16_1\n",
      "[WARN] 라벨링 누락: say_set1_collectorgs207_speakergs2058_21_0_19_1\n",
      "[WARN] 라벨링 누락: say_set2_collectorgs32_speakergs2209_3_0_31_1\n",
      "[WARN] 라벨링 누락: say_set1_collectorgs141_speakergs1070_78_0_47_1\n"
     ]
    },
    {
     "name": "stderr",
     "output_type": "stream",
     "text": [
      "Evaluating:  24%|██████████████▍                                              | 947/4000 [1:12:17<3:51:25,  4.55s/file]"
     ]
    },
    {
     "name": "stdout",
     "output_type": "stream",
     "text": [
      "[WARN] 라벨링 누락: say_set1_collectorgs195_speakergs1333_20_0_28_1\n",
      "[WARN] 라벨링 누락: say_set2_collectorgs129_speakergs1261_50_0_42_1\n",
      "[WARN] 라벨링 누락: say_set1_collectorgs135_speakergs2132_28_0_31_1\n",
      "[WARN] 라벨링 누락: say_set2_collectorgs245_speakergs2092_59_0_39_1\n"
     ]
    },
    {
     "name": "stderr",
     "output_type": "stream",
     "text": [
      "Evaluating:  24%|██████████████▌                                              | 954/4000 [1:12:38<3:12:57,  3.80s/file]"
     ]
    },
    {
     "name": "stdout",
     "output_type": "stream",
     "text": [
      "[WARN] 라벨링 누락: say_set1_collectorgs129_speakergs2003_28_0_30_1\n",
      "[WARN] 라벨링 누락: say_set1_collectorgs206_speakergs2394_58_0_36_1\n"
     ]
    },
    {
     "name": "stderr",
     "output_type": "stream",
     "text": [
      "Evaluating:  24%|██████████████▌                                              | 957/4000 [1:12:43<2:30:25,  2.97s/file]"
     ]
    },
    {
     "name": "stdout",
     "output_type": "stream",
     "text": [
      "[WARN] 라벨링 누락: say_set2_collectorgs357_speakergs3786_29_0_12_1\n",
      "[WARN] 라벨링 누락: say_set1_collectorgs126_speakergs2318_47_0_36_1\n",
      "[WARN] 라벨링 누락: say_set1_collectorgs81_speakergs1739_40_0_32_1\n",
      "[WARN] 라벨링 누락: say_set1_collectorgs154_speakergs938_44_0_36_1\n"
     ]
    },
    {
     "name": "stderr",
     "output_type": "stream",
     "text": [
      "Evaluating:  24%|██████████████▋                                              | 964/4000 [1:13:06<2:59:20,  3.54s/file]"
     ]
    },
    {
     "name": "stdout",
     "output_type": "stream",
     "text": [
      "[WARN] 라벨링 누락: say_set2_collectorgs131_speakergs1020_82_0_40_1\n",
      "[WARN] 라벨링 누락: say_set1_collectorgs143_speakergs2615_26_0_32_1\n"
     ]
    },
    {
     "name": "stderr",
     "output_type": "stream",
     "text": [
      "Evaluating:  24%|██████████████▋                                              | 967/4000 [1:13:11<2:26:04,  2.89s/file]"
     ]
    },
    {
     "name": "stdout",
     "output_type": "stream",
     "text": [
      "[WARN] 라벨링 누락: say_set1_collectorgs186_speakergs3381_53_0_25_1\n"
     ]
    },
    {
     "name": "stderr",
     "output_type": "stream",
     "text": [
      "Evaluating:  24%|██████████████▊                                              | 972/4000 [1:13:44<4:41:00,  5.57s/file]"
     ]
    },
    {
     "name": "stdout",
     "output_type": "stream",
     "text": [
      "[WARN] 라벨링 누락: say_set1_collectorgs281_speakergs2804_50_0_39_1\n"
     ]
    },
    {
     "name": "stderr",
     "output_type": "stream",
     "text": [
      "Evaluating:  24%|██████████████▊                                              | 974/4000 [1:13:54<4:25:36,  5.27s/file]"
     ]
    },
    {
     "name": "stdout",
     "output_type": "stream",
     "text": [
      "[WARN] 라벨링 누락: say_set1_collectorgs69_speakergs256_64_0_60_1\n",
      "[WARN] 라벨링 누락: say_set1_collectorgs72_speakergs349_25_0_31_1\n"
     ]
    },
    {
     "name": "stderr",
     "output_type": "stream",
     "text": [
      "Evaluating:  24%|██████████████▉                                              | 980/4000 [1:14:25<4:53:55,  5.84s/file]"
     ]
    },
    {
     "name": "stdout",
     "output_type": "stream",
     "text": [
      "[WARN] 라벨링 누락: say_set2_collectorgs31_speakergs2116_39_0_31_1\n",
      "[WARN] 라벨링 누락: say_set1_collectorgs160_speakergs1573_37_0_32_1\n"
     ]
    },
    {
     "name": "stderr",
     "output_type": "stream",
     "text": [
      "Evaluating:  25%|██████████████▉                                              | 983/4000 [1:14:33<3:37:40,  4.33s/file]"
     ]
    },
    {
     "name": "stdout",
     "output_type": "stream",
     "text": [
      "[WARN] 라벨링 누락: say_set1_collectorgs514_speakergs4129_73_0_33_1\n",
      "[WARN] 라벨링 누락: say_set1_collectorgs128_speakergs1944_1_0_31_1\n"
     ]
    },
    {
     "name": "stderr",
     "output_type": "stream",
     "text": [
      "Evaluating:  25%|███████████████                                              | 987/4000 [1:14:46<3:16:32,  3.91s/file]"
     ]
    },
    {
     "name": "stdout",
     "output_type": "stream",
     "text": [
      "[WARN] 라벨링 누락: say_set2_collectorgs134_speakergs1421_36_0_34_1\n"
     ]
    },
    {
     "name": "stderr",
     "output_type": "stream",
     "text": [
      "Evaluating:  25%|███████████████                                              | 991/4000 [1:15:05<3:56:58,  4.73s/file]"
     ]
    },
    {
     "name": "stdout",
     "output_type": "stream",
     "text": [
      "[WARN] 라벨링 누락: say_set1_collectorgs183_speakergs1075_20_0_48_1\n",
      "[WARN] 라벨링 누락: say_set1_collectorgs135_speakergs714_19_0_32_1\n",
      "[WARN] 라벨링 누락: say_set1_collectorgs63_speakergs335_5_0_42_1\n"
     ]
    },
    {
     "name": "stderr",
     "output_type": "stream",
     "text": [
      "Evaluating:  25%|███████████████▏                                             | 995/4000 [1:15:13<2:43:22,  3.26s/file]"
     ]
    },
    {
     "name": "stdout",
     "output_type": "stream",
     "text": [
      "[WARN] 라벨링 누락: say_set1_collectorgs98_speakergs489_51_0_48_1\n"
     ]
    },
    {
     "name": "stderr",
     "output_type": "stream",
     "text": [
      "Evaluating:  25%|███████████████                                             | 1000/4000 [1:15:39<3:56:29,  4.73s/file]"
     ]
    },
    {
     "name": "stdout",
     "output_type": "stream",
     "text": [
      "[WARN] 라벨링 누락: say_set1_collectorgs238_speakergs3803_14_0_38_1\n",
      "[WARN] 라벨링 누락: say_set2_collectorgs397_speakergs4421_73_0_41_1\n",
      "[WARN] 라벨링 누락: say_set2_collectorgs139_speakergs1260_64_0_37_1\n",
      "[WARN] 라벨링 누락: say_set1_collectorgs64_speakergs355_4_0_22_1\n"
     ]
    },
    {
     "name": "stderr",
     "output_type": "stream",
     "text": [
      "Evaluating:  25%|███████████████                                             | 1006/4000 [1:15:52<2:50:35,  3.42s/file]"
     ]
    },
    {
     "name": "stdout",
     "output_type": "stream",
     "text": [
      "[WARN] 라벨링 누락: say_set2_collectorgs276_speakergs4132_69_0_21_1\n",
      "[WARN] 라벨링 누락: say_set1_collectorgs504_speakergs4477_30_0_9_1\n",
      "[WARN] 라벨링 누락: say_set2_collectorgs245_speakergs2382_80_0_33_1\n",
      "[WARN] 라벨링 누락: say_set1_collectorgs130_speakergs1555_37_0_32_1\n"
     ]
    },
    {
     "name": "stderr",
     "output_type": "stream",
     "text": [
      "Evaluating:  25%|███████████████▏                                            | 1011/4000 [1:16:01<2:10:27,  2.62s/file]"
     ]
    },
    {
     "name": "stdout",
     "output_type": "stream",
     "text": [
      "[WARN] 라벨링 누락: say_set1_collectorgs474_speakergs4771_56_0_15_1\n"
     ]
    },
    {
     "name": "stderr",
     "output_type": "stream",
     "text": [
      "Evaluating:  25%|███████████████▏                                            | 1014/4000 [1:16:14<2:43:38,  3.29s/file]"
     ]
    },
    {
     "name": "stdout",
     "output_type": "stream",
     "text": [
      "[WARN] 라벨링 누락: say_set1_collectorgs282_speakergs2340_43_0_37_1\n"
     ]
    },
    {
     "name": "stderr",
     "output_type": "stream",
     "text": [
      "Evaluating:  25%|███████████████▏                                            | 1016/4000 [1:16:22<2:52:29,  3.47s/file]"
     ]
    },
    {
     "name": "stdout",
     "output_type": "stream",
     "text": [
      "[WARN] 라벨링 누락: say_set1_collectorgs437_speakergs4755_25_0_50_1\n"
     ]
    },
    {
     "name": "stderr",
     "output_type": "stream",
     "text": [
      "Evaluating:  25%|███████████████▎                                            | 1018/4000 [1:16:30<3:03:01,  3.68s/file]"
     ]
    },
    {
     "name": "stdout",
     "output_type": "stream",
     "text": [
      "[WARN] 라벨링 누락: say_set1_collectorgs261_speakergs3116_61_0_12_1\n"
     ]
    },
    {
     "name": "stderr",
     "output_type": "stream",
     "text": [
      "Evaluating:  26%|███████████████▎                                            | 1020/4000 [1:16:39<3:11:40,  3.86s/file]"
     ]
    },
    {
     "name": "stdout",
     "output_type": "stream",
     "text": [
      "[WARN] 라벨링 누락: say_set2_collectorgs397_speakergs4421_28_0_31_1\n",
      "[WARN] 라벨링 누락: say_set1_collectorgs336_speakergs3600_19_0_17_1\n"
     ]
    },
    {
     "name": "stderr",
     "output_type": "stream",
     "text": [
      "Evaluating:  26%|███████████████▎                                            | 1023/4000 [1:16:47<2:51:11,  3.45s/file]"
     ]
    },
    {
     "name": "stdout",
     "output_type": "stream",
     "text": [
      "[WARN] 라벨링 누락: say_set1_collectorgs419_speakergs4077_25_0_18_1\n",
      "[WARN] 라벨링 누락: say_set1_collectorgs143_speakergs1283_44_0_36_1\n"
     ]
    },
    {
     "name": "stderr",
     "output_type": "stream",
     "text": [
      "Evaluating:  26%|███████████████▍                                            | 1027/4000 [1:17:03<3:08:14,  3.80s/file]"
     ]
    },
    {
     "name": "stdout",
     "output_type": "stream",
     "text": [
      "[WARN] 라벨링 누락: say_set2_collectorgs119_speakergs487_13_0_28_1\n"
     ]
    },
    {
     "name": "stderr",
     "output_type": "stream",
     "text": [
      "Evaluating:  26%|███████████████▎                                           | 1041/4000 [1:19:07<12:39:54, 15.41s/file]"
     ]
    },
    {
     "name": "stdout",
     "output_type": "stream",
     "text": [
      "[WARN] 라벨링 누락: say_set1_collectorgs477_speakergs3615_13_0_39_1\n",
      "[WARN] 라벨링 누락: say_set2_collectorgs239_speakergs2383_73_0_33_1\n"
     ]
    },
    {
     "name": "stderr",
     "output_type": "stream",
     "text": [
      "Evaluating:  26%|███████████████▋                                            | 1044/4000 [1:19:13<6:32:35,  7.97s/file]"
     ]
    },
    {
     "name": "stdout",
     "output_type": "stream",
     "text": [
      "[WARN] 라벨링 누락: say_set1_collectorgs384_speakergs4099_22_0_48_1\n",
      "[WARN] 라벨링 누락: say_set1_collectorgs369_speakergs4101_86_0_34_1\n"
     ]
    },
    {
     "name": "stderr",
     "output_type": "stream",
     "text": [
      "Evaluating:  26%|███████████████▋                                            | 1047/4000 [1:19:23<4:49:11,  5.88s/file]"
     ]
    },
    {
     "name": "stdout",
     "output_type": "stream",
     "text": [
      "[WARN] 라벨링 누락: say_set2_collectorgs164_speakergs1031_49_0_31_1\n"
     ]
    },
    {
     "name": "stderr",
     "output_type": "stream",
     "text": [
      "Evaluating:  26%|███████████████▋                                            | 1049/4000 [1:19:32<4:27:56,  5.45s/file]"
     ]
    },
    {
     "name": "stdout",
     "output_type": "stream",
     "text": [
      "[WARN] 라벨링 누락: say_set1_collectorgs212_speakergs3634_39_0_21_1\n",
      "[WARN] 라벨링 누락: say_set1_collectorgs246_speakergs2489_6_0_32_1\n",
      "[WARN] 라벨링 누락: say_set2_collectorgs411_speakergs3045_75_0_4_1\n",
      "[WARN] 라벨링 누락: say_set1_collectorgs206_speakergs1983_6_1_21_1\n",
      "[WARN] 라벨링 누락: say_set2_collectorgs31_speakergs3877_31_0_46_1\n",
      "[WARN] 라벨링 누락: say_set1_collectorgs142_speakergs1156_4_0_29_1\n",
      "[WARN] 라벨링 누락: say_set1_collectorgs218_speakergs1715_79_0_30_1\n",
      "[WARN] 라벨링 누락: say_set2_collectorgs500_speakergs4239_79_0_6_1\n",
      "[WARN] 라벨링 누락: say_set1_collectorgs380_speakergs4165_15_0_27_1\n",
      "[WARN] 라벨링 누락: say_set1_collectorgs206_speakergs1793_59_0_8_1\n"
     ]
    },
    {
     "name": "stderr",
     "output_type": "stream",
     "text": [
      "Evaluating:  27%|███████████████▉                                            | 1061/4000 [1:19:44<1:57:53,  2.41s/file]"
     ]
    },
    {
     "name": "stdout",
     "output_type": "stream",
     "text": [
      "[WARN] 라벨링 누락: say_set1_collectorgs506_speakergs3999_15_0_9_1\n",
      "[WARN] 라벨링 누락: say_set1_collectorgs73_speakergs2240_51_0_35_1\n"
     ]
    },
    {
     "name": "stderr",
     "output_type": "stream",
     "text": [
      "Evaluating:  27%|███████████████▉                                            | 1066/4000 [1:20:05<2:39:21,  3.26s/file]"
     ]
    },
    {
     "name": "stdout",
     "output_type": "stream",
     "text": [
      "[WARN] 라벨링 누락: say_set1_collectorgs129_speakergs1711_1_0_41_1\n",
      "[WARN] 라벨링 누락: say_set1_collectorgs429_speakergs3929_35_0_15_12_1\n"
     ]
    },
    {
     "name": "stderr",
     "output_type": "stream",
     "text": [
      "Evaluating:  27%|████████████████                                            | 1073/4000 [1:20:37<3:46:32,  4.64s/file]"
     ]
    },
    {
     "name": "stdout",
     "output_type": "stream",
     "text": [
      "[WARN] 라벨링 누락: say_set1_collectorgs265_speakergs2622_39_0_42_1\n",
      "[WARN] 라벨링 누락: say_set2_collectorgs278_speakergs2314_28_1_21_1\n"
     ]
    },
    {
     "name": "stderr",
     "output_type": "stream",
     "text": [
      "Evaluating:  27%|████████████████▏                                           | 1077/4000 [1:20:52<3:30:48,  4.33s/file]"
     ]
    },
    {
     "name": "stdout",
     "output_type": "stream",
     "text": [
      "[WARN] 라벨링 누락: say_set1_collectorgs218_speakergs2068_43_0_37_1\n",
      "[WARN] 라벨링 누락: say_set2_collectorgs489_speakergs3802_67_0_44_1\n",
      "[WARN] 라벨링 누락: say_set1_collectorgs64_speakergs1180_8_0_37_1\n",
      "[WARN] 라벨링 누락: say_set2_collectorgs145_speakergs998_8_0_39_1\n",
      "[WARN] 라벨링 누락: say_set2_collectorgs489_speakergs3802_53_0_30_1\n",
      "[WARN] 라벨링 누락: say_set1_collectorgs217_speakergs2248_15_0_10_1\n"
     ]
    },
    {
     "name": "stderr",
     "output_type": "stream",
     "text": [
      "Evaluating:  27%|████████████████▎                                           | 1085/4000 [1:21:06<2:12:59,  2.74s/file]"
     ]
    },
    {
     "name": "stdout",
     "output_type": "stream",
     "text": [
      "[WARN] 라벨링 누락: say_set1_collectorgs448_speakergs3575_63_0_7_1\n"
     ]
    },
    {
     "name": "stderr",
     "output_type": "stream",
     "text": [
      "Evaluating:  27%|████████████████▎                                           | 1087/4000 [1:21:12<2:14:23,  2.77s/file]"
     ]
    },
    {
     "name": "stdout",
     "output_type": "stream",
     "text": [
      "[WARN] 라벨링 누락: say_set1_collectorgs141_speakergs1425_52_0_38_1\n",
      "[WARN] 라벨링 누락: say_set1_collectorgs206_speakergs1514_17_0_7_1\n",
      "[WARN] 라벨링 누락: say_set2_collectorgs160_speakergs2928_7_0_30_1\n",
      "[WARN] 라벨링 누락: say_set1_collectorgs32_speakergs1087_33_0_34_1\n"
     ]
    },
    {
     "name": "stderr",
     "output_type": "stream",
     "text": [
      "Evaluating:  27%|████████████████▍                                           | 1094/4000 [1:21:29<2:26:12,  3.02s/file]"
     ]
    },
    {
     "name": "stdout",
     "output_type": "stream",
     "text": [
      "[WARN] 라벨링 누락: say_set1_collectorgs206_speakergs1442_16_0_3_1\n",
      "[WARN] 라벨링 누락: say_set2_collectorgs139_speakergs2279_17_0_34_1\n"
     ]
    },
    {
     "name": "stderr",
     "output_type": "stream",
     "text": [
      "Evaluating:  27%|████████████████▍                                           | 1097/4000 [1:21:36<2:10:59,  2.71s/file]"
     ]
    },
    {
     "name": "stdout",
     "output_type": "stream",
     "text": [
      "[WARN] 라벨링 누락: say_set2_collectorgs123_speakergs2811_23_0_33_1\n"
     ]
    },
    {
     "name": "stderr",
     "output_type": "stream",
     "text": [
      "Evaluating:  28%|████████████████▌                                           | 1100/4000 [1:21:46<2:29:06,  3.09s/file]"
     ]
    },
    {
     "name": "stdout",
     "output_type": "stream",
     "text": [
      "[WARN] 라벨링 누락: say_set1_collectorgs380_speakergs3610_76_0_14_1\n",
      "[WARN] 라벨링 누락: say_set2_collectorgs269_speakergs2220_12_0_36_1\n"
     ]
    },
    {
     "name": "stderr",
     "output_type": "stream",
     "text": [
      "Evaluating:  28%|████████████████▌                                           | 1105/4000 [1:22:10<3:36:01,  4.48s/file]"
     ]
    },
    {
     "name": "stdout",
     "output_type": "stream",
     "text": [
      "[WARN] 라벨링 누락: say_set1_collectorgs188_speakergs2903_14_0_24_1\n",
      "[WARN] 라벨링 누락: say_set1_collectorgs320_speakergs3948_1_0_9_1\n",
      "[WARN] 라벨링 누락: say_set2_collectorgs139_speakergs914_17_0_32_1\n"
     ]
    },
    {
     "name": "stderr",
     "output_type": "stream",
     "text": [
      "Evaluating:  28%|████████████████▋                                           | 1109/4000 [1:22:16<2:23:54,  2.99s/file]"
     ]
    },
    {
     "name": "stdout",
     "output_type": "stream",
     "text": [
      "[WARN] 라벨링 누락: say_set1_collectorgs240_speakergs2802_5_0_34_1\n"
     ]
    },
    {
     "name": "stderr",
     "output_type": "stream",
     "text": [
      "Evaluating:  28%|████████████████▋                                           | 1111/4000 [1:22:23<2:30:01,  3.12s/file]"
     ]
    },
    {
     "name": "stdout",
     "output_type": "stream",
     "text": [
      "[WARN] 라벨링 누락: say_set1_collectorgs515_speakergs4106_43_0_17_1\n"
     ]
    },
    {
     "name": "stderr",
     "output_type": "stream",
     "text": [
      "Evaluating:  28%|████████████████▋                                           | 1113/4000 [1:22:31<2:39:39,  3.32s/file]"
     ]
    },
    {
     "name": "stdout",
     "output_type": "stream",
     "text": [
      "[WARN] 라벨링 누락: say_set1_collectorgs390_speakergs4031_6_0_29_1\n"
     ]
    },
    {
     "name": "stderr",
     "output_type": "stream",
     "text": [
      "Evaluating:  28%|████████████████▊                                           | 1117/4000 [1:22:49<3:24:07,  4.25s/file]"
     ]
    },
    {
     "name": "stdout",
     "output_type": "stream",
     "text": [
      "[WARN] 라벨링 누락: say_set1_collectorgs352_speakergs3408_49_0_5_1\n",
      "[WARN] 라벨링 누락: say_set2_collectorgs207_speakergs2004_19_0_21_1\n"
     ]
    },
    {
     "name": "stderr",
     "output_type": "stream",
     "text": [
      "Evaluating:  28%|████████████████▊                                           | 1120/4000 [1:23:22<5:54:39,  7.39s/file]"
     ]
    },
    {
     "name": "stdout",
     "output_type": "stream",
     "text": [
      "[WARN] 라벨링 누락: say_set1_collectorgs25_speakergs3515_4_0_10_1\n"
     ]
    },
    {
     "name": "stderr",
     "output_type": "stream",
     "text": [
      "Evaluating:  28%|████████████████▊                                           | 1123/4000 [1:23:36<5:14:40,  6.56s/file]"
     ]
    },
    {
     "name": "stdout",
     "output_type": "stream",
     "text": [
      "[WARN] 라벨링 누락: say_set1_collectorgs384_speakergs2984_2_0_22_1\n",
      "[WARN] 라벨링 누락: say_set1_collectorgs213_speakergs2468_55_0_43_1\n",
      "[WARN] 라벨링 누락: say_set1_collectorgs242_speakergs2029_36_0_44_1\n",
      "[WARN] 라벨링 누락: say_set1_collectorgs207_speakergs2036_31_0_27_1\n",
      "[WARN] 라벨링 누락: say_set1_collectorgs197_speakergs1203_26_0_34_1\n"
     ]
    },
    {
     "name": "stderr",
     "output_type": "stream",
     "text": [
      "Evaluating:  28%|████████████████▉                                           | 1131/4000 [1:24:01<3:43:09,  4.67s/file]"
     ]
    },
    {
     "name": "stdout",
     "output_type": "stream",
     "text": [
      "[WARN] 라벨링 누락: say_set1_collectorgs245_speakergs2311_57_0_37_1\n"
     ]
    },
    {
     "name": "stderr",
     "output_type": "stream",
     "text": [
      "Evaluating:  28%|█████████████████                                           | 1135/4000 [1:24:20<3:39:05,  4.59s/file]"
     ]
    },
    {
     "name": "stdout",
     "output_type": "stream",
     "text": [
      "[WARN] 라벨링 누락: say_set2_collectorgs218_speakergs2904_59_0_47_1\n",
      "[WARN] 라벨링 누락: say_set2_collectorgs139_speakergs2002_58_0_29_1\n",
      "[WARN] 라벨링 누락: say_set1_collectorgs161_speakergs1451_54_0_34_1\n",
      "[WARN] 라벨링 누락: say_set1_collectorgs164_speakergs1090_4_0_32_1\n",
      "[WARN] 라벨링 누락: say_set1_collectorgs186_speakergs2965_5_0_25_1\n"
     ]
    },
    {
     "name": "stderr",
     "output_type": "stream",
     "text": [
      "Evaluating:  29%|█████████████████▏                                          | 1142/4000 [1:24:27<1:48:51,  2.29s/file]"
     ]
    },
    {
     "name": "stdout",
     "output_type": "stream",
     "text": [
      "[WARN] 라벨링 누락: say_set1_collectorgs217_speakergs2248_2_0_5_1\n"
     ]
    },
    {
     "name": "stderr",
     "output_type": "stream",
     "text": [
      "Evaluating:  29%|█████████████████▏                                          | 1145/4000 [1:24:42<2:45:20,  3.47s/file]"
     ]
    },
    {
     "name": "stdout",
     "output_type": "stream",
     "text": [
      "[WARN] 라벨링 누락: say_set2_collectorgs218_speakergs2707_44_0_22_1\n",
      "[WARN] 라벨링 누락: say_set1_collectorgs465_speakergs3874_6_0_60_1\n"
     ]
    },
    {
     "name": "stderr",
     "output_type": "stream",
     "text": [
      "Evaluating:  29%|█████████████████▏                                          | 1148/4000 [1:24:52<2:40:31,  3.38s/file]"
     ]
    },
    {
     "name": "stdout",
     "output_type": "stream",
     "text": [
      "[WARN] 라벨링 누락: say_set1_collectorgs218_speakergs3527_7_1_20_1\n"
     ]
    },
    {
     "name": "stderr",
     "output_type": "stream",
     "text": [
      "Evaluating:  29%|█████████████████▎                                          | 1151/4000 [1:25:08<3:25:22,  4.33s/file]"
     ]
    },
    {
     "name": "stdout",
     "output_type": "stream",
     "text": [
      "[WARN] 라벨링 누락: say_set1_collectorgs164_speakergs1465_29_0_31_1\n",
      "[WARN] 라벨링 누락: say_set1_collectorgs237_speakergs4456_52_0_22_1\n"
     ]
    },
    {
     "name": "stderr",
     "output_type": "stream",
     "text": [
      "Evaluating:  29%|█████████████████▎                                          | 1154/4000 [1:25:14<2:37:27,  3.32s/file]"
     ]
    },
    {
     "name": "stdout",
     "output_type": "stream",
     "text": [
      "[WARN] 라벨링 누락: say_set1_collectorgs26_speakergs72_15_0_37_1\n",
      "[WARN] 라벨링 누락: say_set1_collectorgs160_speakergs3982_8_0_30_1\n"
     ]
    },
    {
     "name": "stderr",
     "output_type": "stream",
     "text": [
      "Evaluating:  29%|█████████████████▎                                          | 1158/4000 [1:25:26<2:38:38,  3.35s/file]"
     ]
    },
    {
     "name": "stdout",
     "output_type": "stream",
     "text": [
      "[WARN] 라벨링 누락: say_set2_collectorgs154_speakergs2031_65_0_30_1\n",
      "[WARN] 라벨링 누락: say_set1_collectorgs150_speakergs1254_5_0_34_1\n"
     ]
    },
    {
     "name": "stderr",
     "output_type": "stream",
     "text": [
      "Evaluating:  29%|█████████████████▍                                          | 1161/4000 [1:25:32<2:13:08,  2.81s/file]"
     ]
    },
    {
     "name": "stdout",
     "output_type": "stream",
     "text": [
      "[WARN] 라벨링 누락: say_set1_collectorgs130_speakergs2416_1_0_31_1\n"
     ]
    },
    {
     "name": "stderr",
     "output_type": "stream",
     "text": [
      "Evaluating:  29%|█████████████████▍                                          | 1163/4000 [1:25:41<2:33:02,  3.24s/file]"
     ]
    },
    {
     "name": "stdout",
     "output_type": "stream",
     "text": [
      "[WARN] 라벨링 누락: say_set1_collectorgs492_speakergs3831_72_0_12_1\n"
     ]
    },
    {
     "name": "stderr",
     "output_type": "stream",
     "text": [
      "Evaluating:  29%|█████████████████▍                                          | 1165/4000 [1:25:48<2:37:24,  3.33s/file]"
     ]
    },
    {
     "name": "stdout",
     "output_type": "stream",
     "text": [
      "[WARN] 라벨링 누락: say_set2_collectorgs145_speakergs1129_16_0_40_1\n",
      "[WARN] 라벨링 누락: say_set1_collectorgs150_speakergs1254_41_0_36_1\n"
     ]
    },
    {
     "name": "stderr",
     "output_type": "stream",
     "text": [
      "Evaluating:  29%|█████████████████▌                                          | 1169/4000 [1:26:05<3:02:38,  3.87s/file]"
     ]
    },
    {
     "name": "stdout",
     "output_type": "stream",
     "text": [
      "[WARN] 라벨링 누락: say_set2_collectorgs213_speakergs3132_1_0_17_1\n"
     ]
    },
    {
     "name": "stderr",
     "output_type": "stream",
     "text": [
      "Evaluating:  29%|█████████████████▌                                          | 1172/4000 [1:26:15<3:02:02,  3.86s/file]"
     ]
    },
    {
     "name": "stdout",
     "output_type": "stream",
     "text": [
      "[WARN] 라벨링 누락: say_set2_collectorgs474_speakergs4173_7_0_11_1\n",
      "[WARN] 라벨링 누락: say_set1_collectorgs126_speakergs1068_2_0_38_1\n",
      "[WARN] 라벨링 누락: say_set1_collectorgs509_speakergs4213_39_0_26_1\n"
     ]
    },
    {
     "name": "stderr",
     "output_type": "stream",
     "text": [
      "Evaluating:  29%|█████████████████▋                                          | 1178/4000 [1:26:37<3:06:35,  3.97s/file]"
     ]
    },
    {
     "name": "stdout",
     "output_type": "stream",
     "text": [
      "[WARN] 라벨링 누락: say_set1_collectorgs376_speakergs2832_70_0_36_1\n",
      "[WARN] 라벨링 누락: say_set1_collectorgs261_speakergs3116_24_0_21_1\n"
     ]
    },
    {
     "name": "stderr",
     "output_type": "stream",
     "text": [
      "Evaluating:  30%|█████████████████▋                                          | 1183/4000 [1:27:03<4:06:24,  5.25s/file]"
     ]
    },
    {
     "name": "stdout",
     "output_type": "stream",
     "text": [
      "[WARN] 라벨링 누락: say_set2_collectorgs444_speakergs3701_48_0_25_1\n"
     ]
    },
    {
     "name": "stderr",
     "output_type": "stream",
     "text": [
      "Evaluating:  30%|█████████████████▊                                          | 1185/4000 [1:27:08<3:21:26,  4.29s/file]"
     ]
    },
    {
     "name": "stdout",
     "output_type": "stream",
     "text": [
      "[WARN] 라벨링 누락: say_set1_collectorgs143_speakergs2615_0_2_30_1\n"
     ]
    },
    {
     "name": "stderr",
     "output_type": "stream",
     "text": [
      "Evaluating:  30%|█████████████████▊                                          | 1188/4000 [1:27:27<4:12:52,  5.40s/file]"
     ]
    },
    {
     "name": "stdout",
     "output_type": "stream",
     "text": [
      "[WARN] 라벨링 누락: say_set1_collectorgs306_speakergs2623_10_0_10_1\n"
     ]
    },
    {
     "name": "stderr",
     "output_type": "stream",
     "text": [
      "Evaluating:  30%|█████████████████▊                                          | 1191/4000 [1:27:42<4:11:57,  5.38s/file]"
     ]
    },
    {
     "name": "stdout",
     "output_type": "stream",
     "text": [
      "[WARN] 라벨링 누락: say_set1_collectorgs513_speakergs4085_53_0_14_1\n"
     ]
    },
    {
     "name": "stderr",
     "output_type": "stream",
     "text": [
      "Evaluating:  30%|█████████████████▉                                          | 1195/4000 [1:27:59<3:34:38,  4.59s/file]"
     ]
    },
    {
     "name": "stdout",
     "output_type": "stream",
     "text": [
      "[WARN] 라벨링 누락: say_set1_collectorgs154_speakergs750_56_0_36_1\n",
      "[WARN] 라벨링 누락: say_set1_collectorgs154_speakergs1142_38_0_39_1\n"
     ]
    },
    {
     "name": "stderr",
     "output_type": "stream",
     "text": [
      "Evaluating:  30%|██████████████████                                          | 1202/4000 [1:28:29<4:05:12,  5.26s/file]"
     ]
    },
    {
     "name": "stdout",
     "output_type": "stream",
     "text": [
      "[WARN] 라벨링 누락: say_set1_collectorgs144_speakergs1964_60_0_38_1\n",
      "[WARN] 라벨링 누락: say_set1_collectorgs492_speakergs4445_5_0_5_1\n",
      "[WARN] 라벨링 누락: say_set2_collectorgs218_speakergs4357_29_0_18_1\n"
     ]
    },
    {
     "name": "stderr",
     "output_type": "stream",
     "text": [
      "Evaluating:  30%|██████████████████                                          | 1206/4000 [1:28:41<3:00:15,  3.87s/file]"
     ]
    },
    {
     "name": "stdout",
     "output_type": "stream",
     "text": [
      "[WARN] 라벨링 누락: say_set1_collectorgs72_speakergs303_26_0_37_1\n",
      "[WARN] 라벨링 누락: say_set1_collectorgs64_speakergs1180_74_0_41_1\n",
      "[WARN] 라벨링 누락: say_set2_collectorgs263_speakergs3970_57_0_14_1\n",
      "[WARN] 라벨링 누락: say_set1_collectorgs81_speakergs1672_24_0_33_1\n",
      "[WARN] 라벨링 누락: say_set1_collectorgs195_speakergs1398_57_0_13_1\n",
      "[WARN] 라벨링 누락: say_set2_collectorgs244_speakergs2175_1_0_26_1\n"
     ]
    },
    {
     "name": "stderr",
     "output_type": "stream",
     "text": [
      "Evaluating:  30%|██████████████████▏                                         | 1214/4000 [1:28:54<2:04:40,  2.69s/file]"
     ]
    },
    {
     "name": "stdout",
     "output_type": "stream",
     "text": [
      "[WARN] 라벨링 누락: say_set1_collectorgs380_speakergs4159_31_0_27_1\n"
     ]
    },
    {
     "name": "stderr",
     "output_type": "stream",
     "text": [
      "Evaluating:  30%|██████████████████▎                                         | 1217/4000 [1:29:10<2:51:26,  3.70s/file]"
     ]
    },
    {
     "name": "stdout",
     "output_type": "stream",
     "text": [
      "[WARN] 라벨링 누락: say_set2_collectorgs442_speakergs4784_4_0_29_1\n",
      "[WARN] 라벨링 누락: say_set1_collectorgs522_speakergs4376_9_0_8_1\n",
      "[WARN] 라벨링 누락: say_set1_collectorgs357_speakergs2631_22_0_8_1\n"
     ]
    },
    {
     "name": "stderr",
     "output_type": "stream",
     "text": [
      "Evaluating:  31%|██████████████████▎                                         | 1221/4000 [1:29:17<2:13:06,  2.87s/file]"
     ]
    },
    {
     "name": "stdout",
     "output_type": "stream",
     "text": [
      "[WARN] 라벨링 누락: say_set1_collectorgs506_speakergs3997_10_0_21_1\n",
      "[WARN] 라벨링 누락: say_set1_collectorgs81_speakergs1739_21_0_33_1\n"
     ]
    },
    {
     "name": "stderr",
     "output_type": "stream",
     "text": [
      "Evaluating:  31%|██████████████████▎                                         | 1224/4000 [1:29:23<1:59:27,  2.58s/file]"
     ]
    },
    {
     "name": "stdout",
     "output_type": "stream",
     "text": [
      "[WARN] 라벨링 누락: say_set1_collectorgs73_speakergs1717_9_0_35_1\n"
     ]
    },
    {
     "name": "stderr",
     "output_type": "stream",
     "text": [
      "Evaluating:  31%|██████████████████▍                                         | 1227/4000 [1:29:37<2:33:47,  3.33s/file]"
     ]
    },
    {
     "name": "stdout",
     "output_type": "stream",
     "text": [
      "[WARN] 라벨링 누락: say_set2_collectorgs218_speakergs2904_84_0_10_1\n",
      "[WARN] 라벨링 누락: say_set1_collectorgs186_speakergs1770_43_0_20_1\n",
      "[WARN] 라벨링 누락: say_set1_collectorgs86_speakergs326_16_0_34_1\n",
      "[WARN] 라벨링 누락: say_set1_collectorgs186_speakergs2300_25_0_28_1\n",
      "[WARN] 라벨링 누락: say_set1_collectorgs212_speakergs2803_62_0_41_1\n",
      "[WARN] 라벨링 누락: say_set2_collectorgs129_speakergs991_19_0_32_1\n",
      "[WARN] 라벨링 누락: say_set1_collectorgs141_speakergs1070_19_0_47_1\n",
      "[WARN] 라벨링 누락: say_set1_collectorgs160_speakergs1063_8_0_38_1\n",
      "[WARN] 라벨링 누락: say_set1_collectorgs203_speakergs1388_7_0_42_1\n"
     ]
    },
    {
     "name": "stderr",
     "output_type": "stream",
     "text": [
      "Evaluating:  31%|██████████████████▌                                         | 1239/4000 [1:29:59<2:04:37,  2.71s/file]"
     ]
    },
    {
     "name": "stdout",
     "output_type": "stream",
     "text": [
      "[WARN] 라벨링 누락: say_set1_collectorgs160_speakergs1063_3_0_38_1\n"
     ]
    },
    {
     "name": "stderr",
     "output_type": "stream",
     "text": [
      "Evaluating:  31%|██████████████████▌                                         | 1241/4000 [1:30:07<2:18:33,  3.01s/file]"
     ]
    },
    {
     "name": "stdout",
     "output_type": "stream",
     "text": [
      "[WARN] 라벨링 누락: say_set1_collectorgs32_speakergs1207_58_0_33_1\n"
     ]
    },
    {
     "name": "stderr",
     "output_type": "stream",
     "text": [
      "Evaluating:  31%|██████████████████▋                                         | 1243/4000 [1:30:15<2:30:30,  3.28s/file]"
     ]
    },
    {
     "name": "stdout",
     "output_type": "stream",
     "text": [
      "[WARN] 라벨링 누락: say_set2_collectorgs139_speakergs2002_10_0_44_1\n"
     ]
    },
    {
     "name": "stderr",
     "output_type": "stream",
     "text": [
      "Evaluating:  31%|██████████████████▋                                         | 1246/4000 [1:30:32<3:16:23,  4.28s/file]"
     ]
    },
    {
     "name": "stdout",
     "output_type": "stream",
     "text": [
      "[WARN] 라벨링 누락: say_set1_collectorgs237_speakergs3842_22_0_25_1\n"
     ]
    },
    {
     "name": "stderr",
     "output_type": "stream",
     "text": [
      "Evaluating:  31%|██████████████████▊                                         | 1252/4000 [1:31:07<4:22:34,  5.73s/file]"
     ]
    },
    {
     "name": "stdout",
     "output_type": "stream",
     "text": [
      "[WARN] 라벨링 누락: say_set2_collectorgs154_speakergs1508_25_0_33_1\n"
     ]
    },
    {
     "name": "stderr",
     "output_type": "stream",
     "text": [
      "Evaluating:  31%|██████████████████▊                                         | 1255/4000 [1:31:21<4:10:03,  5.47s/file]"
     ]
    },
    {
     "name": "stdout",
     "output_type": "stream",
     "text": [
      "[WARN] 라벨링 누락: say_set1_collectorgs135_speakergs2395_44_0_23_1\n"
     ]
    },
    {
     "name": "stderr",
     "output_type": "stream",
     "text": [
      "Evaluating:  31%|██████████████████▊                                         | 1257/4000 [1:31:30<3:46:51,  4.96s/file]"
     ]
    },
    {
     "name": "stdout",
     "output_type": "stream",
     "text": [
      "[WARN] 라벨링 누락: say_set1_collectorgs197_speakergs1700_17_0_36_1\n",
      "[WARN] 라벨링 누락: say_set1_collectorgs212_speakergs2803_54_0_40_1\n"
     ]
    },
    {
     "name": "stderr",
     "output_type": "stream",
     "text": [
      "Evaluating:  32%|██████████████████▉                                         | 1261/4000 [1:31:40<2:54:52,  3.83s/file]"
     ]
    },
    {
     "name": "stdout",
     "output_type": "stream",
     "text": [
      "[WARN] 라벨링 누락: say_set1_collectorgs86_speakergs306_38_0_30_1\n"
     ]
    },
    {
     "name": "stderr",
     "output_type": "stream",
     "text": [
      "Evaluating:  32%|██████████████████▉                                         | 1264/4000 [1:31:59<3:52:21,  5.10s/file]"
     ]
    },
    {
     "name": "stdout",
     "output_type": "stream",
     "text": [
      "[WARN] 라벨링 누락: say_set2_collectorgs303_speakergs2578_50_0_26_1\n"
     ]
    },
    {
     "name": "stderr",
     "output_type": "stream",
     "text": [
      "Evaluating:  32%|██████████████████▉                                         | 1266/4000 [1:32:08<3:43:20,  4.90s/file]"
     ]
    },
    {
     "name": "stdout",
     "output_type": "stream",
     "text": [
      "[WARN] 라벨링 누락: say_set1_collectorgs348_speakergs3021_66_0_33_1\n",
      "[WARN] 라벨링 누락: say_set1_collectorgs143_speakergs2615_4_0_33_1\n"
     ]
    },
    {
     "name": "stderr",
     "output_type": "stream",
     "text": [
      "Evaluating:  32%|███████████████████                                         | 1274/4000 [1:32:47<4:42:46,  6.22s/file]"
     ]
    },
    {
     "name": "stdout",
     "output_type": "stream",
     "text": [
      "[WARN] 라벨링 누락: say_set1_collectorgs150_speakergs2857_2_0_31_1\n",
      "[WARN] 라벨링 누락: say_set1_collectorgs135_speakergs2401_53_0_31_1\n"
     ]
    },
    {
     "name": "stderr",
     "output_type": "stream",
     "text": [
      "Evaluating:  32%|███████████████████▏                                        | 1277/4000 [1:32:56<3:24:10,  4.50s/file]"
     ]
    },
    {
     "name": "stdout",
     "output_type": "stream",
     "text": [
      "[WARN] 라벨링 누락: say_set1_collectorgs160_speakergs1777_57_0_34_1\n",
      "[WARN] 라벨링 누락: say_set2_collectorgs269_speakergs2214_11_0_26_1\n",
      "[WARN] 라벨링 누락: say_set1_collectorgs242_speakergs2060_27_0_47_1\n",
      "[WARN] 라벨링 누락: say_set1_collectorgs63_speakergs962_57_0_36_1\n",
      "[WARN] 라벨링 누락: say_set2_collectorgs213_speakergs2237_26_0_14_1\n"
     ]
    },
    {
     "name": "stderr",
     "output_type": "stream",
     "text": [
      "Evaluating:  32%|███████████████████▏                                        | 1283/4000 [1:33:05<2:04:43,  2.75s/file]"
     ]
    },
    {
     "name": "stdout",
     "output_type": "stream",
     "text": [
      "[WARN] 라벨링 누락: say_set1_collectorgs506_speakergs3997_53_0_9_1\n"
     ]
    },
    {
     "name": "stderr",
     "output_type": "stream",
     "text": [
      "Evaluating:  32%|███████████████████▎                                        | 1286/4000 [1:33:18<2:30:55,  3.34s/file]"
     ]
    },
    {
     "name": "stdout",
     "output_type": "stream",
     "text": [
      "[WARN] 라벨링 누락: say_set1_collectorgs150_speakergs1044_70_0_35_1\n",
      "[WARN] 라벨링 누락: say_set1_collectorgs390_speakergs3587_22_0_39_1\n"
     ]
    },
    {
     "name": "stderr",
     "output_type": "stream",
     "text": [
      "Evaluating:  32%|███████████████████▎                                        | 1289/4000 [1:33:22<1:57:32,  2.60s/file]"
     ]
    },
    {
     "name": "stdout",
     "output_type": "stream",
     "text": [
      "[WARN] 라벨링 누락: say_set1_collectorgs239_speakergs2312_55_0_40_1\n",
      "[WARN] 라벨링 누락: say_set2_collectorgs145_speakergs1776_37_0_41_1\n",
      "[WARN] 라벨링 누락: say_set1_collectorgs306_speakergs3030_65_0_26_1\n",
      "[WARN] 라벨링 누락: say_set1_collectorgs213_speakergs3302_38_0_22_1\n",
      "[WARN] 라벨링 누락: say_set1_collectorgs436_speakergs3675_48_0_19_1\n"
     ]
    },
    {
     "name": "stderr",
     "output_type": "stream",
     "text": [
      "Evaluating:  32%|███████████████████▍                                        | 1296/4000 [1:33:38<1:53:46,  2.52s/file]"
     ]
    },
    {
     "name": "stdout",
     "output_type": "stream",
     "text": [
      "[WARN] 라벨링 누락: say_set1_collectorgs371_speakergs2694_31_0_6_1\n",
      "[WARN] 라벨링 누락: say_set1_collectorgs139_speakergs643_25_0_32_1\n",
      "[WARN] 라벨링 누락: say_set1_collectorgs64_speakergs339_10_0_30_1\n"
     ]
    },
    {
     "name": "stderr",
     "output_type": "stream",
     "text": [
      "Evaluating:  33%|███████████████████▌                                        | 1303/4000 [1:34:10<3:25:54,  4.58s/file]"
     ]
    },
    {
     "name": "stdout",
     "output_type": "stream",
     "text": [
      "[WARN] 라벨링 누락: say_set1_collectorgs246_speakergs2489_70_0_32_1\n",
      "[WARN] 라벨링 누락: say_set1_collectorgs65_speakergs1699_67_0_32_1\n"
     ]
    },
    {
     "name": "stderr",
     "output_type": "stream",
     "text": [
      "Evaluating:  33%|███████████████████▌                                        | 1308/4000 [1:35:00<5:44:24,  7.68s/file]"
     ]
    },
    {
     "name": "stdout",
     "output_type": "stream",
     "text": [
      "[WARN] 라벨링 누락: say_set1_collectorgs195_speakergs1906_73_0_28_1\n",
      "[WARN] 라벨링 누락: say_set2_collectorgs131_speakergs1775_68_0_28_1\n"
     ]
    },
    {
     "name": "stderr",
     "output_type": "stream",
     "text": [
      "Evaluating:  33%|███████████████████▋                                        | 1311/4000 [1:35:10<4:10:59,  5.60s/file]"
     ]
    },
    {
     "name": "stdout",
     "output_type": "stream",
     "text": [
      "[WARN] 라벨링 누락: say_set2_collectorgs442_speakergs4784_88_0_50_1\n"
     ]
    },
    {
     "name": "stderr",
     "output_type": "stream",
     "text": [
      "Evaluating:  33%|███████████████████▋                                        | 1313/4000 [1:35:16<3:35:20,  4.81s/file]"
     ]
    },
    {
     "name": "stdout",
     "output_type": "stream",
     "text": [
      "[WARN] 라벨링 누락: say_set1_collectorgs520_speakergs4325_30_0_79_1\n",
      "[WARN] 라벨링 누락: say_set1_collectorgs126_speakergs2318_70_0_29_1\n"
     ]
    },
    {
     "name": "stderr",
     "output_type": "stream",
     "text": [
      "Evaluating:  33%|███████████████████▋                                        | 1316/4000 [1:35:19<2:29:31,  3.34s/file]"
     ]
    },
    {
     "name": "stdout",
     "output_type": "stream",
     "text": [
      "[WARN] 라벨링 누락: say_set2_collectorgs131_speakergs1450_12_0_41_1\n",
      "[WARN] 라벨링 누락: say_set2_collectorgs31_speakergs2268_55_0_35_1\n",
      "[WARN] 라벨링 누락: say_set1_collectorgs213_speakergs1961_43_0_13_1\n",
      "[WARN] 라벨링 누락: say_set1_collectorgs512_speakergs4146_44_0_14_1\n",
      "[WARN] 라벨링 누락: say_set1_collectorgs130_speakergs1496_18_0_31_1\n"
     ]
    },
    {
     "name": "stderr",
     "output_type": "stream",
     "text": [
      "Evaluating:  33%|███████████████████▊                                        | 1322/4000 [1:35:24<1:29:01,  1.99s/file]"
     ]
    },
    {
     "name": "stdout",
     "output_type": "stream",
     "text": [
      "[WARN] 라벨링 누락: say_set2_collectorgs218_speakergs2428_57_0_42_1\n"
     ]
    },
    {
     "name": "stderr",
     "output_type": "stream",
     "text": [
      "Evaluating:  33%|███████████████████▊                                        | 1324/4000 [1:35:33<1:54:28,  2.57s/file]"
     ]
    },
    {
     "name": "stdout",
     "output_type": "stream",
     "text": [
      "[WARN] 라벨링 누락: say_set1_collectorgs390_speakergs3861_0_0_27_1\n",
      "[WARN] 라벨링 누락: say_set1_collectorgs448_speakergs4089_10_0_31_1\n"
     ]
    },
    {
     "name": "stderr",
     "output_type": "stream",
     "text": [
      "Evaluating:  33%|███████████████████▉                                        | 1327/4000 [1:35:39<1:43:14,  2.32s/file]"
     ]
    },
    {
     "name": "stdout",
     "output_type": "stream",
     "text": [
      "[WARN] 라벨링 누락: say_set1_collectorgs376_speakergs3904_8_0_21_1\n"
     ]
    },
    {
     "name": "stderr",
     "output_type": "stream",
     "text": [
      "Evaluating:  33%|████████████████████                                        | 1334/4000 [1:36:28<4:54:59,  6.64s/file]"
     ]
    },
    {
     "name": "stdout",
     "output_type": "stream",
     "text": [
      "[WARN] 라벨링 누락: say_set1_collectorgs422_speakergs3401_44_0_5_1\n",
      "[WARN] 라벨링 누락: say_set1_collectorgs142_speakergs1411_53_0_35_1\n",
      "[WARN] 라벨링 누락: say_set1_collectorgs390_speakergs3826_0_0_32_1\n",
      "[WARN] 라벨링 누락: say_set1_collectorgs261_speakergs3979_0_0_24_1\n",
      "[WARN] 라벨링 누락: say_set1_collectorgs32_speakergs1207_44_0_30_1\n",
      "[WARN] 라벨링 누락: say_set1_collectorgs261_speakergs2304_6_0_7_1\n",
      "[WARN] 라벨링 누락: say_set1_collectorgs246_speakergs2397_63_0_35_1\n",
      "[WARN] 라벨링 누락: say_set2_collectorgs131_speakergs1089_43_0_41_1\n"
     ]
    },
    {
     "name": "stderr",
     "output_type": "stream",
     "text": [
      "Evaluating:  34%|████████████████████▏                                       | 1344/4000 [1:36:41<1:55:39,  2.61s/file]"
     ]
    },
    {
     "name": "stdout",
     "output_type": "stream",
     "text": [
      "[WARN] 라벨링 누락: say_set1_collectorgs160_speakergs1361_54_1_39_1\n"
     ]
    },
    {
     "name": "stderr",
     "output_type": "stream",
     "text": [
      "Evaluating:  34%|████████████████████▏                                       | 1346/4000 [1:36:48<2:05:50,  2.85s/file]"
     ]
    },
    {
     "name": "stdout",
     "output_type": "stream",
     "text": [
      "[WARN] 라벨링 누락: say_set1_collectorgs32_speakergs2380_22_0_38_1\n",
      "[WARN] 라벨링 누락: say_set2_collectorgs142_speakergs1948_24_0_33_1\n"
     ]
    },
    {
     "name": "stderr",
     "output_type": "stream",
     "text": [
      "Evaluating:  34%|████████████████████▏                                       | 1349/4000 [1:36:52<1:44:59,  2.38s/file]"
     ]
    },
    {
     "name": "stdout",
     "output_type": "stream",
     "text": [
      "[WARN] 라벨링 누락: say_set1_collectorgs219_speakergs4183_59_0_39_1\n"
     ]
    },
    {
     "name": "stderr",
     "output_type": "stream",
     "text": [
      "Evaluating:  34%|████████████████████▎                                       | 1352/4000 [1:37:08<2:30:01,  3.40s/file]"
     ]
    },
    {
     "name": "stdout",
     "output_type": "stream",
     "text": [
      "[WARN] 라벨링 누락: say_set2_collectorgs307_speakergs2488_36_1_33_1\n"
     ]
    },
    {
     "name": "stderr",
     "output_type": "stream",
     "text": [
      "Evaluating:  34%|████████████████████▎                                       | 1355/4000 [1:37:17<2:23:54,  3.26s/file]"
     ]
    },
    {
     "name": "stdout",
     "output_type": "stream",
     "text": [
      "[WARN] 라벨링 누락: say_set1_collectorgs130_speakergs1111_44_0_35_1\n"
     ]
    },
    {
     "name": "stderr",
     "output_type": "stream",
     "text": [
      "Evaluating:  34%|████████████████████▍                                       | 1362/4000 [1:38:03<5:04:50,  6.93s/file]"
     ]
    },
    {
     "name": "stdout",
     "output_type": "stream",
     "text": [
      "[WARN] 라벨링 누락: say_set2_collectorgs237_speakergs4359_7_0_24_1\n"
     ]
    },
    {
     "name": "stderr",
     "output_type": "stream",
     "text": [
      "Evaluating:  34%|████████████████████▍                                       | 1364/4000 [1:38:12<4:23:24,  6.00s/file]"
     ]
    },
    {
     "name": "stdout",
     "output_type": "stream",
     "text": [
      "[WARN] 라벨링 누락: say_set2_collectorgs448_speakergs4773_75_0_2_1\n",
      "[WARN] 라벨링 누락: say_set1_collectorgs443_speakergs4762_28_0_33_1\n"
     ]
    },
    {
     "name": "stderr",
     "output_type": "stream",
     "text": [
      "Evaluating:  34%|████████████████████▌                                       | 1369/4000 [1:38:38<4:12:34,  5.76s/file]"
     ]
    },
    {
     "name": "stdout",
     "output_type": "stream",
     "text": [
      "[WARN] 라벨링 누락: say_set2_collectorgs466_speakergs4868_42_0_15_1\n"
     ]
    },
    {
     "name": "stderr",
     "output_type": "stream",
     "text": [
      "Evaluating:  34%|████████████████████▌                                       | 1372/4000 [1:38:52<4:01:30,  5.51s/file]"
     ]
    },
    {
     "name": "stdout",
     "output_type": "stream",
     "text": [
      "[WARN] 라벨링 누락: say_set1_collectorgs32_speakergs262_45_0_43_1\n"
     ]
    },
    {
     "name": "stderr",
     "output_type": "stream",
     "text": [
      "Evaluating:  34%|████████████████████▋                                       | 1376/4000 [1:39:19<4:40:21,  6.41s/file]"
     ]
    },
    {
     "name": "stdout",
     "output_type": "stream",
     "text": [
      "[WARN] 라벨링 누락: say_set1_collectorgs270_speakergs2219_54_0_19_1\n",
      "[WARN] 라벨링 누락: say_set1_collectorgs81_speakergs2241_17_0_31_1\n"
     ]
    },
    {
     "name": "stderr",
     "output_type": "stream",
     "text": [
      "Evaluating:  34%|████████████████████▋                                       | 1380/4000 [1:39:29<3:00:43,  4.14s/file]"
     ]
    },
    {
     "name": "stdout",
     "output_type": "stream",
     "text": [
      "[WARN] 라벨링 누락: say_set1_collectorgs86_speakergs326_0_0_30_1\n",
      "[WARN] 라벨링 누락: say_set1_collectorgs376_speakergs3805_5_0_25_1\n",
      "[WARN] 라벨링 누락: say_set2_collectorgs218_speakergs2707_32_0_14_1\n"
     ]
    },
    {
     "name": "stderr",
     "output_type": "stream",
     "text": [
      "Evaluating:  35%|████████████████████▊                                       | 1385/4000 [1:39:49<3:11:29,  4.39s/file]"
     ]
    },
    {
     "name": "stdout",
     "output_type": "stream",
     "text": [
      "[WARN] 라벨링 누락: say_set1_collectorgs212_speakergs3285_25_0_32_1\n",
      "[WARN] 라벨링 누락: say_set1_collectorgs486_speakergs3898_2_0_2_1\n"
     ]
    },
    {
     "name": "stderr",
     "output_type": "stream",
     "text": [
      "Evaluating:  35%|████████████████████▊                                       | 1391/4000 [1:40:14<3:09:52,  4.37s/file]"
     ]
    },
    {
     "name": "stdout",
     "output_type": "stream",
     "text": [
      "[WARN] 라벨링 누락: say_set2_collectorgs145_speakergs1371_15_0_39_1\n"
     ]
    },
    {
     "name": "stderr",
     "output_type": "stream",
     "text": [
      "Evaluating:  35%|████████████████████▉                                       | 1393/4000 [1:40:21<2:52:20,  3.97s/file]"
     ]
    },
    {
     "name": "stdout",
     "output_type": "stream",
     "text": [
      "[WARN] 라벨링 누락: say_set1_collectorgs145_speakergs1348_4_0_39_1\n",
      "[WARN] 라벨링 누락: say_set1_collectorgs129_speakergs1711_2_0_31_1\n"
     ]
    },
    {
     "name": "stderr",
     "output_type": "stream",
     "text": [
      "Evaluating:  35%|████████████████████▉                                       | 1397/4000 [1:40:35<2:59:57,  4.15s/file]"
     ]
    },
    {
     "name": "stdout",
     "output_type": "stream",
     "text": [
      "[WARN] 라벨링 누락: say_set2_collectorgs282_speakergs2493_26_0_36_1\n",
      "[WARN] 라벨링 누락: say_set1_collectorgs203_speakergs1388_25_0_55_1\n"
     ]
    },
    {
     "name": "stderr",
     "output_type": "stream",
     "text": [
      "Evaluating:  35%|█████████████████████                                       | 1402/4000 [1:40:58<3:26:48,  4.78s/file]"
     ]
    },
    {
     "name": "stdout",
     "output_type": "stream",
     "text": [
      "[WARN] 라벨링 누락: say_set1_collectorgs486_speakergs3983_62_0_15_1\n"
     ]
    },
    {
     "name": "stderr",
     "output_type": "stream",
     "text": [
      "Evaluating:  35%|█████████████████████                                       | 1406/4000 [1:41:20<3:45:44,  5.22s/file]"
     ]
    },
    {
     "name": "stdout",
     "output_type": "stream",
     "text": [
      "[WARN] 라벨링 누락: say_set1_collectorgs142_speakergs1556_40_0_29_1\n"
     ]
    },
    {
     "name": "stderr",
     "output_type": "stream",
     "text": [
      "Evaluating:  35%|█████████████████████                                       | 1408/4000 [1:41:29<3:35:17,  4.98s/file]"
     ]
    },
    {
     "name": "stdout",
     "output_type": "stream",
     "text": [
      "[WARN] 라벨링 누락: say_set1_collectorgs143_speakergs2490_37_0_31_1\n"
     ]
    },
    {
     "name": "stderr",
     "output_type": "stream",
     "text": [
      "Evaluating:  35%|█████████████████████▏                                      | 1413/4000 [1:42:00<4:36:29,  6.41s/file]"
     ]
    },
    {
     "name": "stdout",
     "output_type": "stream",
     "text": [
      "[WARN] 라벨링 누락: say_set1_collectorgs156_speakergs2999_56_0_24_1\n",
      "[WARN] 라벨링 누락: say_set1_collectorgs431_speakergs4413_44_1_18_1\n"
     ]
    },
    {
     "name": "stderr",
     "output_type": "stream",
     "text": [
      "Evaluating:  35%|█████████████████████▎                                      | 1418/4000 [1:42:22<3:44:17,  5.21s/file]"
     ]
    },
    {
     "name": "stdout",
     "output_type": "stream",
     "text": [
      "[WARN] 라벨링 누락: say_set2_collectorgs154_speakergs1796_35_0_26_1\n"
     ]
    },
    {
     "name": "stderr",
     "output_type": "stream",
     "text": [
      "Evaluating:  36%|█████████████████████▎                                      | 1420/4000 [1:42:25<2:47:46,  3.90s/file]"
     ]
    },
    {
     "name": "stdout",
     "output_type": "stream",
     "text": [
      "[WARN] 라벨링 누락: say_set1_collectorgs32_speakergs342_13_0_43_1\n"
     ]
    },
    {
     "name": "stderr",
     "output_type": "stream",
     "text": [
      "Evaluating:  36%|█████████████████████▍                                      | 1425/4000 [1:42:52<3:35:15,  5.02s/file]"
     ]
    },
    {
     "name": "stdout",
     "output_type": "stream",
     "text": [
      "[WARN] 라벨링 누락: say_set1_collectorgs384_speakergs3144_34_0_43_1\n",
      "[WARN] 라벨링 누락: say_set1_collectorgs486_speakergs4121_0_1_11_1\n"
     ]
    },
    {
     "name": "stderr",
     "output_type": "stream",
     "text": [
      "Evaluating:  36%|█████████████████████▍                                      | 1428/4000 [1:43:01<2:46:23,  3.88s/file]"
     ]
    },
    {
     "name": "stdout",
     "output_type": "stream",
     "text": [
      "[WARN] 라벨링 누락: say_set1_collectorgs296_speakergs3096_29_0_7_1\n",
      "[WARN] 라벨링 누락: say_set1_collectorgs163_speakergs1310_58_0_31_1\n",
      "[WARN] 라벨링 누락: say_set1_collectorgs64_speakergs339_69_0_28_1\n"
     ]
    },
    {
     "name": "stderr",
     "output_type": "stream",
     "text": [
      "Evaluating:  36%|█████████████████████▍                                      | 1433/4000 [1:43:13<2:20:23,  3.28s/file]"
     ]
    },
    {
     "name": "stdout",
     "output_type": "stream",
     "text": [
      "[WARN] 라벨링 누락: say_set2_collectorgs479_speakergs4212_55_0_17_1\n"
     ]
    },
    {
     "name": "stderr",
     "output_type": "stream",
     "text": [
      "Evaluating:  36%|█████████████████████▌                                      | 1435/4000 [1:43:20<2:28:01,  3.46s/file]"
     ]
    },
    {
     "name": "stdout",
     "output_type": "stream",
     "text": [
      "[WARN] 라벨링 누락: say_set2_collectorgs448_speakergs3575_41_0_7_1\n"
     ]
    },
    {
     "name": "stderr",
     "output_type": "stream",
     "text": [
      "Evaluating:  36%|█████████████████████▌                                      | 1439/4000 [1:43:43<3:26:46,  4.84s/file]"
     ]
    },
    {
     "name": "stdout",
     "output_type": "stream",
     "text": [
      "[WARN] 라벨링 누락: say_set2_collectorgs263_speakergs2168_83_0_15_1\n",
      "[WARN] 라벨링 누락: say_set2_collectorgs414_speakergs4080_49_0_40_1\n",
      "[WARN] 라벨링 누락: say_set1_collectorgs32_speakergs3282_3_0_30_1\n"
     ]
    },
    {
     "name": "stderr",
     "output_type": "stream",
     "text": [
      "Evaluating:  36%|█████████████████████▋                                      | 1443/4000 [1:43:49<2:08:14,  3.01s/file]"
     ]
    },
    {
     "name": "stdout",
     "output_type": "stream",
     "text": [
      "[WARN] 라벨링 누락: say_set2_collectorgs262_speakergs2180_56_0_24_1\n"
     ]
    },
    {
     "name": "stderr",
     "output_type": "stream",
     "text": [
      "Evaluating:  36%|█████████████████████▋                                      | 1446/4000 [1:44:00<2:27:54,  3.47s/file]"
     ]
    },
    {
     "name": "stdout",
     "output_type": "stream",
     "text": [
      "[WARN] 라벨링 누락: say_set2_collectorgs31_speakergs2245_56_0_35_1\n"
     ]
    },
    {
     "name": "stderr",
     "output_type": "stream",
     "text": [
      "Evaluating:  36%|█████████████████████▊                                      | 1451/4000 [1:44:28<3:45:09,  5.30s/file]"
     ]
    },
    {
     "name": "stdout",
     "output_type": "stream",
     "text": [
      "[WARN] 라벨링 누락: say_set2_collectorgs344_speakergs3729_16_1_8_1\n",
      "[WARN] 라벨링 누락: say_set1_collectorgs520_speakergs4325_12_0_41_1\n",
      "[WARN] 라벨링 누락: say_set1_collectorgs514_speakergs4409_21_0_19_1\n",
      "[WARN] 라벨링 누락: say_set2_collectorgs129_speakergs913_54_0_39_1\n"
     ]
    },
    {
     "name": "stderr",
     "output_type": "stream",
     "text": [
      "Evaluating:  36%|█████████████████████▊                                      | 1456/4000 [1:44:32<1:46:10,  2.50s/file]"
     ]
    },
    {
     "name": "stdout",
     "output_type": "stream",
     "text": [
      "[WARN] 라벨링 누락: say_set2_collectorgs448_speakergs4776_3_0_9_1\n"
     ]
    },
    {
     "name": "stderr",
     "output_type": "stream",
     "text": [
      "Evaluating:  36%|█████████████████████▊                                      | 1458/4000 [1:44:41<2:08:09,  3.03s/file]"
     ]
    },
    {
     "name": "stdout",
     "output_type": "stream",
     "text": [
      "[WARN] 라벨링 누락: say_set1_collectorgs377_speakergs4127_2_0_30_1\n"
     ]
    },
    {
     "name": "stderr",
     "output_type": "stream",
     "text": [
      "Evaluating:  36%|█████████████████████▉                                      | 1460/4000 [1:44:49<2:17:18,  3.24s/file]"
     ]
    },
    {
     "name": "stdout",
     "output_type": "stream",
     "text": [
      "[WARN] 라벨링 누락: say_set1_collectorgs416_speakergs3697_23_0_17_1\n"
     ]
    },
    {
     "name": "stderr",
     "output_type": "stream",
     "text": [
      "Evaluating:  37%|█████████████████████▉                                      | 1462/4000 [1:44:54<2:07:14,  3.01s/file]"
     ]
    },
    {
     "name": "stdout",
     "output_type": "stream",
     "text": [
      "[WARN] 라벨링 누락: say_set1_collectorgs261_speakergs2156_80_0_14_1\n"
     ]
    },
    {
     "name": "stderr",
     "output_type": "stream",
     "text": [
      "Evaluating:  37%|█████████████████████▉                                      | 1464/4000 [1:45:00<2:08:35,  3.04s/file]"
     ]
    },
    {
     "name": "stdout",
     "output_type": "stream",
     "text": [
      "[WARN] 라벨링 누락: say_set2_collectorgs218_speakergs2904_9_0_8_1\n"
     ]
    },
    {
     "name": "stderr",
     "output_type": "stream",
     "text": [
      "Evaluating:  37%|█████████████████████▉                                      | 1466/4000 [1:45:03<1:50:27,  2.62s/file]"
     ]
    },
    {
     "name": "stdout",
     "output_type": "stream",
     "text": [
      "[WARN] 라벨링 누락: say_set1_collectorgs292_speakergs2585_0_0_18_1\n"
     ]
    },
    {
     "name": "stderr",
     "output_type": "stream",
     "text": [
      "Evaluating:  37%|██████████████████████                                      | 1470/4000 [1:45:31<3:46:49,  5.38s/file]"
     ]
    },
    {
     "name": "stdout",
     "output_type": "stream",
     "text": [
      "[WARN] 라벨링 누락: say_set1_collectorgs163_speakergs1118_8_0_29_1\n"
     ]
    },
    {
     "name": "stderr",
     "output_type": "stream",
     "text": [
      "Evaluating:  37%|██████████████████████▏                                     | 1475/4000 [1:46:02<4:11:52,  5.99s/file]"
     ]
    },
    {
     "name": "stdout",
     "output_type": "stream",
     "text": [
      "[WARN] 라벨링 누락: say_set1_collectorgs197_speakergs1700_26_0_35_1\n",
      "[WARN] 라벨링 누락: say_set2_collectorgs436_speakergs3906_11_0_33_1\n"
     ]
    },
    {
     "name": "stderr",
     "output_type": "stream",
     "text": [
      "Evaluating:  37%|██████████████████████▏                                     | 1478/4000 [1:46:09<2:52:38,  4.11s/file]"
     ]
    },
    {
     "name": "stdout",
     "output_type": "stream",
     "text": [
      "[WARN] 라벨링 누락: say_set1_collectorgs32_speakergs2242_21_0_39_1\n"
     ]
    },
    {
     "name": "stderr",
     "output_type": "stream",
     "text": [
      "Evaluating:  37%|██████████████████████▏                                     | 1481/4000 [1:46:30<3:52:56,  5.55s/file]"
     ]
    },
    {
     "name": "stdout",
     "output_type": "stream",
     "text": [
      "[WARN] 라벨링 누락: say_set2_collectorgs206_speakergs11407_4_0_25_1\n",
      "[WARN] 라벨링 누락: say_set2_collectorgs154_speakergs1796_23_0_45_1\n"
     ]
    },
    {
     "name": "stderr",
     "output_type": "stream",
     "text": [
      "Evaluating:  37%|██████████████████████▎                                     | 1486/4000 [1:46:50<3:19:27,  4.76s/file]"
     ]
    },
    {
     "name": "stdout",
     "output_type": "stream",
     "text": [
      "[WARN] 라벨링 누락: say_set2_collectorgs130_speakergs2010_1_0_31_1\n"
     ]
    },
    {
     "name": "stderr",
     "output_type": "stream",
     "text": [
      "Evaluating:  37%|██████████████████████▎                                     | 1488/4000 [1:46:59<3:12:38,  4.60s/file]"
     ]
    },
    {
     "name": "stdout",
     "output_type": "stream",
     "text": [
      "[WARN] 라벨링 누락: say_set2_collectorgs31_speakergs2268_14_0_28_1\n",
      "[WARN] 라벨링 누락: say_set2_collectorgs129_speakergs1402_36_0_39_1\n"
     ]
    },
    {
     "name": "stderr",
     "output_type": "stream",
     "text": [
      "Evaluating:  37%|██████████████████████▎                                     | 1491/4000 [1:47:07<2:40:09,  3.83s/file]"
     ]
    },
    {
     "name": "stdout",
     "output_type": "stream",
     "text": [
      "[WARN] 라벨링 누락: say_set1_collectorgs431_speakergs3775_14_0_8_1\n"
     ]
    },
    {
     "name": "stderr",
     "output_type": "stream",
     "text": [
      "Evaluating:  37%|██████████████████████▍                                     | 1493/4000 [1:47:17<2:54:15,  4.17s/file]"
     ]
    },
    {
     "name": "stdout",
     "output_type": "stream",
     "text": [
      "[WARN] 라벨링 누락: say_set1_collectorgs150_speakergs1254_3_0_38_1\n"
     ]
    },
    {
     "name": "stderr",
     "output_type": "stream",
     "text": [
      "Evaluating:  37%|██████████████████████▍                                     | 1496/4000 [1:47:32<3:19:14,  4.77s/file]"
     ]
    },
    {
     "name": "stdout",
     "output_type": "stream",
     "text": [
      "[WARN] 라벨링 누락: say_set1_collectorgs261_speakergs2156_50_0_6_1\n",
      "[WARN] 라벨링 누락: say_set2_collectorgs466_speakergs4868_64_0_35_1\n"
     ]
    },
    {
     "name": "stderr",
     "output_type": "stream",
     "text": [
      "Evaluating:  37%|██████████████████████▍                                     | 1499/4000 [1:47:40<2:39:53,  3.84s/file]"
     ]
    },
    {
     "name": "stdout",
     "output_type": "stream",
     "text": [
      "[WARN] 라벨링 누락: say_set2_collectorgs474_speakergs4420_3_0_26_1\n",
      "[WARN] 라벨링 누락: say_set2_collectorgs376_speakergs3356_22_0_36_1\n",
      "[WARN] 라벨링 누락: say_set1_collectorgs376_speakergs2832_45_0_38_1\n",
      "[WARN] 라벨링 누락: say_set1_collectorgs142_speakergs2336_29_1_33_1\n",
      "[WARN] 라벨링 누락: say_set1_collectorgs466_speakergs4332_59_0_10_1\n"
     ]
    },
    {
     "name": "stderr",
     "output_type": "stream",
     "text": [
      "Evaluating:  38%|██████████████████████▌                                     | 1505/4000 [1:47:49<1:46:54,  2.57s/file]"
     ]
    },
    {
     "name": "stdout",
     "output_type": "stream",
     "text": [
      "[WARN] 라벨링 누락: say_set1_collectorgs126_speakergs1360_22_0_31_1\n"
     ]
    },
    {
     "name": "stderr",
     "output_type": "stream",
     "text": [
      "Evaluating:  38%|██████████████████████▋                                     | 1510/4000 [1:48:18<3:15:04,  4.70s/file]"
     ]
    },
    {
     "name": "stdout",
     "output_type": "stream",
     "text": [
      "[WARN] 라벨링 누락: say_set2_collectorgs129_speakergs1746_69_0_28_1\n"
     ]
    },
    {
     "name": "stderr",
     "output_type": "stream",
     "text": [
      "Evaluating:  38%|██████████████████████▋                                     | 1512/4000 [1:48:26<3:03:41,  4.43s/file]"
     ]
    },
    {
     "name": "stdout",
     "output_type": "stream",
     "text": [
      "[WARN] 라벨링 누락: say_set1_collectorgs135_speakergs2860_69_0_34_1\n",
      "[WARN] 라벨링 누락: say_set1_collectorgs390_speakergs3627_8_0_28_1\n"
     ]
    },
    {
     "name": "stderr",
     "output_type": "stream",
     "text": [
      "Evaluating:  38%|██████████████████████▋                                     | 1515/4000 [1:48:33<2:26:17,  3.53s/file]"
     ]
    },
    {
     "name": "stdout",
     "output_type": "stream",
     "text": [
      "[WARN] 라벨링 누락: say_set1_collectorgs212_speakergs2880_35_0_29_1\n",
      "[WARN] 라벨링 누락: say_set1_collectorgs261_speakergs2885_15_0_25_1\n",
      "[WARN] 라벨링 누락: say_set1_collectorgs81_speakergs2241_54_0_30_1\n"
     ]
    },
    {
     "name": "stderr",
     "output_type": "stream",
     "text": [
      "Evaluating:  38%|██████████████████████▊                                     | 1520/4000 [1:48:46<2:07:23,  3.08s/file]"
     ]
    },
    {
     "name": "stdout",
     "output_type": "stream",
     "text": [
      "[WARN] 라벨링 누락: say_set2_collectorgs129_speakergs1261_30_0_35_1\n",
      "[WARN] 라벨링 누락: say_set1_collectorgs139_speakergs643_13_0_44_1\n"
     ]
    },
    {
     "name": "stderr",
     "output_type": "stream",
     "text": [
      "Evaluating:  38%|██████████████████████▊                                     | 1523/4000 [1:48:52<1:51:53,  2.71s/file]"
     ]
    },
    {
     "name": "stdout",
     "output_type": "stream",
     "text": [
      "[WARN] 라벨링 누락: say_set1_collectorgs25_speakergs1701_45_0_37_1\n"
     ]
    },
    {
     "name": "stderr",
     "output_type": "stream",
     "text": [
      "Evaluating:  38%|██████████████████████▉                                     | 1525/4000 [1:48:59<1:55:22,  2.80s/file]"
     ]
    },
    {
     "name": "stdout",
     "output_type": "stream",
     "text": [
      "[WARN] 라벨링 누락: say_set2_collectorgs131_speakergs1775_71_0_30_1\n",
      "[WARN] 라벨링 누락: say_set2_collectorgs442_speakergs3726_62_0_49_1\n"
     ]
    },
    {
     "name": "stderr",
     "output_type": "stream",
     "text": [
      "Evaluating:  38%|██████████████████████▉                                     | 1529/4000 [1:49:14<2:21:30,  3.44s/file]"
     ]
    },
    {
     "name": "stdout",
     "output_type": "stream",
     "text": [
      "[WARN] 라벨링 누락: say_set1_collectorgs245_speakergs2582_56_0_37_1\n",
      "[WARN] 라벨링 누락: say_set1_collectorgs93_speakergs340_39_0_30_1\n",
      "[WARN] 라벨링 누락: say_set2_collectorgs160_speakergs2884_23_0_30_1\n"
     ]
    },
    {
     "name": "stderr",
     "output_type": "stream",
     "text": [
      "Evaluating:  38%|███████████████████████                                     | 1537/4000 [1:49:41<2:50:58,  4.16s/file]"
     ]
    },
    {
     "name": "stdout",
     "output_type": "stream",
     "text": [
      "[WARN] 라벨링 누락: say_set1_collectorgs130_speakergs1057_45_0_44_1\n",
      "[WARN] 라벨링 누락: say_set1_collectorgs81_speakergs1226_1_0_30_1\n"
     ]
    },
    {
     "name": "stderr",
     "output_type": "stream",
     "text": [
      "Evaluating:  38%|███████████████████████                                     | 1540/4000 [1:49:49<2:23:08,  3.49s/file]"
     ]
    },
    {
     "name": "stdout",
     "output_type": "stream",
     "text": [
      "[WARN] 라벨링 누락: say_set1_collectorgs198_speakergs1397_45_0_43_1\n",
      "[WARN] 라벨링 누락: say_set2_collectorgs119_speakergs1208_56_0_74_1\n",
      "[WARN] 라벨링 누락: say_set2_collectorgs139_speakergs1331_13_0_37_1\n",
      "[WARN] 라벨링 누락: say_set1_collectorgs219_speakergs3598_69_0_39_1\n",
      "[WARN] 라벨링 누락: say_set1_collectorgs195_speakergs1504_43_0_26_1\n"
     ]
    },
    {
     "name": "stderr",
     "output_type": "stream",
     "text": [
      "Evaluating:  39%|███████████████████████▏                                    | 1547/4000 [1:50:04<1:57:35,  2.88s/file]"
     ]
    },
    {
     "name": "stdout",
     "output_type": "stream",
     "text": [
      "[WARN] 라벨링 누락: say_set1_collectorgs369_speakergs4027_3_0_25_1\n",
      "[WARN] 라벨링 누락: say_set1_collectorgs142_speakergs2212_9_0_27_1\n",
      "[WARN] 라벨링 누락: say_set2_collectorgs218_speakergs2707_53_0_8_1\n"
     ]
    },
    {
     "name": "stderr",
     "output_type": "stream",
     "text": [
      "Evaluating:  39%|███████████████████████▎                                    | 1553/4000 [1:50:25<2:17:54,  3.38s/file]"
     ]
    },
    {
     "name": "stdout",
     "output_type": "stream",
     "text": [
      "[WARN] 라벨링 누락: say_set1_collectorgs142_speakergs2381_21_0_34_1\n",
      "[WARN] 라벨링 누락: say_set1_collectorgs377_speakergs3101_7_0_33_1\n",
      "[WARN] 라벨링 누락: say_set1_collectorgs160_speakergs1927_30_0_33_1\n"
     ]
    },
    {
     "name": "stderr",
     "output_type": "stream",
     "text": [
      "Evaluating:  39%|███████████████████████▎                                    | 1557/4000 [1:50:34<1:58:05,  2.90s/file]"
     ]
    },
    {
     "name": "stdout",
     "output_type": "stream",
     "text": [
      "[WARN] 라벨링 누락: say_set1_collectorgs238_speakergs2717_23_0_34_1\n",
      "[WARN] 라벨링 누락: say_set3_collectorgs115_speakergs809_58_0_48_1\n"
     ]
    },
    {
     "name": "stderr",
     "output_type": "stream",
     "text": [
      "Evaluating:  39%|███████████████████████▍                                    | 1563/4000 [1:51:03<3:03:52,  4.53s/file]"
     ]
    },
    {
     "name": "stdout",
     "output_type": "stream",
     "text": [
      "[WARN] 라벨링 누락: say_set1_collectorgs134_speakergs911_15_0_43_1\n"
     ]
    },
    {
     "name": "stderr",
     "output_type": "stream",
     "text": [
      "Evaluating:  39%|███████████████████████▍                                    | 1566/4000 [1:51:24<3:53:12,  5.75s/file]"
     ]
    },
    {
     "name": "stdout",
     "output_type": "stream",
     "text": [
      "[WARN] 라벨링 누락: say_set1_collectorgs287_speakergs3020_30_0_14_1\n"
     ]
    },
    {
     "name": "stderr",
     "output_type": "stream",
     "text": [
      "Evaluating:  39%|███████████████████████▌                                    | 1569/4000 [1:51:43<4:17:17,  6.35s/file]"
     ]
    },
    {
     "name": "stdout",
     "output_type": "stream",
     "text": [
      "[WARN] 라벨링 누락: say_set1_collectorgs206_speakergs1793_87_0_12_1\n",
      "[WARN] 라벨링 누락: say_set1_collectorgs474_speakergs4365_12_0_9_1\n"
     ]
    },
    {
     "name": "stderr",
     "output_type": "stream",
     "text": [
      "Evaluating:  39%|███████████████████████▌                                    | 1573/4000 [1:52:01<3:42:02,  5.49s/file]"
     ]
    },
    {
     "name": "stdout",
     "output_type": "stream",
     "text": [
      "[WARN] 라벨링 누락: say_set2_collectorgs265_speakergs2948_79_0_18_1\n"
     ]
    },
    {
     "name": "stderr",
     "output_type": "stream",
     "text": [
      "Evaluating:  39%|███████████████████████▋                                    | 1578/4000 [1:52:33<4:23:15,  6.52s/file]"
     ]
    },
    {
     "name": "stdout",
     "output_type": "stream",
     "text": [
      "[WARN] 라벨링 누락: say_set1_collectorgs73_speakergs1717_64_0_34_1\n"
     ]
    },
    {
     "name": "stderr",
     "output_type": "stream",
     "text": [
      "Evaluating:  40%|███████████████████████▋                                    | 1581/4000 [1:52:52<4:29:21,  6.68s/file]"
     ]
    },
    {
     "name": "stdout",
     "output_type": "stream",
     "text": [
      "[WARN] 라벨링 누락: say_set2_collectorgs139_speakergs1045_10_0_41_1\n"
     ]
    },
    {
     "name": "stderr",
     "output_type": "stream",
     "text": [
      "Evaluating:  40%|███████████████████████▊                                    | 1584/4000 [1:52:59<2:58:12,  4.43s/file]"
     ]
    },
    {
     "name": "stdout",
     "output_type": "stream",
     "text": [
      "[WARN] 라벨링 누락: say_set1_collectorgs518_speakergs4137_3_0_22_1\n"
     ]
    },
    {
     "name": "stderr",
     "output_type": "stream",
     "text": [
      "Evaluating:  40%|███████████████████████▊                                    | 1586/4000 [1:53:06<2:45:41,  4.12s/file]"
     ]
    },
    {
     "name": "stdout",
     "output_type": "stream",
     "text": [
      "[WARN] 라벨링 누락: say_set1_collectorgs197_speakergs1215_62_0_37_1\n",
      "[WARN] 라벨링 누락: say_set1_collectorgs384_speakergs3640_32_0_29_1\n",
      "[WARN] 라벨링 누락: say_set2_collectorgs119_speakergs823_21_0_44_1\n",
      "[WARN] 라벨링 누락: say_set1_collectorgs207_speakergs2108_26_0_35_1\n"
     ]
    },
    {
     "name": "stderr",
     "output_type": "stream",
     "text": [
      "Evaluating:  40%|███████████████████████▉                                    | 1593/4000 [1:53:37<3:28:25,  5.20s/file]"
     ]
    },
    {
     "name": "stdout",
     "output_type": "stream",
     "text": [
      "[WARN] 라벨링 누락: say_set1_collectorgs119_speakergs1178_42_0_39_1\n",
      "[WARN] 라벨링 누락: say_set3_collectorgs115_speakergs1698_12_0_28_1\n"
     ]
    },
    {
     "name": "stderr",
     "output_type": "stream",
     "text": [
      "Evaluating:  40%|███████████████████████▉                                    | 1596/4000 [1:53:41<2:21:24,  3.53s/file]"
     ]
    },
    {
     "name": "stdout",
     "output_type": "stream",
     "text": [
      "[WARN] 라벨링 누락: say_set1_collectorgs384_speakergs4112_9_0_28_1\n",
      "[WARN] 라벨링 누락: say_set3_collectorgs115_speakergs436_45_0_40_1\n"
     ]
    },
    {
     "name": "stderr",
     "output_type": "stream",
     "text": [
      "Evaluating:  40%|███████████████████████▉                                    | 1599/4000 [1:53:49<2:10:16,  3.26s/file]"
     ]
    },
    {
     "name": "stdout",
     "output_type": "stream",
     "text": [
      "[WARN] 라벨링 누락: say_set2_collectorgs134_speakergs1421_51_0_35_1\n",
      "[WARN] 라벨링 누락: say_set1_collectorgs484_speakergs3768_78_0_8_1\n"
     ]
    },
    {
     "name": "stderr",
     "output_type": "stream",
     "text": [
      "Evaluating:  40%|████████████████████████                                    | 1602/4000 [1:53:58<2:07:25,  3.19s/file]"
     ]
    },
    {
     "name": "stdout",
     "output_type": "stream",
     "text": [
      "[WARN] 라벨링 누락: say_set1_collectorgs135_speakergs2667_72_0_36_1\n"
     ]
    },
    {
     "name": "stderr",
     "output_type": "stream",
     "text": [
      "Evaluating:  40%|████████████████████████                                    | 1604/4000 [1:54:08<2:23:03,  3.58s/file]"
     ]
    },
    {
     "name": "stdout",
     "output_type": "stream",
     "text": [
      "[WARN] 라벨링 누락: say_set1_collectorgs261_speakergs3756_4_0_33_1\n"
     ]
    },
    {
     "name": "stderr",
     "output_type": "stream",
     "text": [
      "Evaluating:  40%|████████████████████████                                    | 1608/4000 [1:54:25<2:51:53,  4.31s/file]"
     ]
    },
    {
     "name": "stdout",
     "output_type": "stream",
     "text": [
      "[WARN] 라벨링 누락: say_set1_collectorgs348_speakergs3021_11_0_28_1\n"
     ]
    },
    {
     "name": "stderr",
     "output_type": "stream",
     "text": [
      "Evaluating:  40%|████████████████████████▏                                   | 1612/4000 [1:54:51<4:09:32,  6.27s/file]"
     ]
    },
    {
     "name": "stdout",
     "output_type": "stream",
     "text": [
      "[WARN] 라벨링 누락: say_set2_collectorgs380_speakergs11437_55_0_30_1\n",
      "[WARN] 라벨링 누락: say_set1_collectorgs238_speakergs3803_57_0_28_1\n",
      "[WARN] 라벨링 누락: say_set1_collectorgs183_speakergs1100_6_0_37_1\n"
     ]
    },
    {
     "name": "stderr",
     "output_type": "stream",
     "text": [
      "Evaluating:  40%|████████████████████████▎                                   | 1617/4000 [1:55:06<2:57:55,  4.48s/file]"
     ]
    },
    {
     "name": "stdout",
     "output_type": "stream",
     "text": [
      "[WARN] 라벨링 누락: say_set1_collectorgs414_speakergs4004_21_0_9_1\n",
      "[WARN] 라벨링 누락: say_set1_collectorgs143_speakergs1543_41_0_31_1\n",
      "[WARN] 라벨링 누락: say_set1_collectorgs200_speakergs3127_63_0_28_1\n"
     ]
    },
    {
     "name": "stderr",
     "output_type": "stream",
     "text": [
      "Evaluating:  41%|████████████████████████▎                                   | 1621/4000 [1:55:14<2:11:32,  3.32s/file]"
     ]
    },
    {
     "name": "stdout",
     "output_type": "stream",
     "text": [
      "[WARN] 라벨링 누락: say_set1_collectorgs508_speakergs4120_22_0_13_1\n",
      "[WARN] 라벨링 누락: say_set1_collectorgs267_speakergs2191_11_0_32_1\n",
      "[WARN] 라벨링 누락: say_set1_collectorgs510_speakergs4110_25_0_17_1\n"
     ]
    },
    {
     "name": "stderr",
     "output_type": "stream",
     "text": [
      "Evaluating:  41%|████████████████████████▍                                   | 1625/4000 [1:55:20<1:41:19,  2.56s/file]"
     ]
    },
    {
     "name": "stdout",
     "output_type": "stream",
     "text": [
      "[WARN] 라벨링 누락: say_set2_collectorgs145_speakergs1371_8_0_38_1\n"
     ]
    },
    {
     "name": "stderr",
     "output_type": "stream",
     "text": [
      "Evaluating:  41%|████████████████████████▍                                   | 1627/4000 [1:55:30<2:00:22,  3.04s/file]"
     ]
    },
    {
     "name": "stdout",
     "output_type": "stream",
     "text": [
      "[WARN] 라벨링 누락: say_set1_collectorgs126_speakergs2487_16_0_31_1\n"
     ]
    },
    {
     "name": "stderr",
     "output_type": "stream",
     "text": [
      "Evaluating:  41%|████████████████████████▍                                   | 1629/4000 [1:55:41<2:23:49,  3.64s/file]"
     ]
    },
    {
     "name": "stdout",
     "output_type": "stream",
     "text": [
      "[WARN] 라벨링 누락: say_set2_collectorgs129_speakergs2456_17_0_32_1\n",
      "[WARN] 라벨링 누락: say_set1_collectorgs303_speakergs3616_58_0_42_1\n"
     ]
    },
    {
     "name": "stderr",
     "output_type": "stream",
     "text": [
      "Evaluating:  41%|████████████████████████▍                                   | 1632/4000 [1:55:45<1:54:08,  2.89s/file]"
     ]
    },
    {
     "name": "stdout",
     "output_type": "stream",
     "text": [
      "[WARN] 라벨링 누락: say_set1_collectorgs115_speakergs821_13_0_27_1\n"
     ]
    },
    {
     "name": "stderr",
     "output_type": "stream",
     "text": [
      "Evaluating:  41%|████████████████████████▌                                   | 1634/4000 [1:55:49<1:43:14,  2.62s/file]"
     ]
    },
    {
     "name": "stdout",
     "output_type": "stream",
     "text": [
      "[WARN] 라벨링 누락: say_set2_collectorgs139_speakergs1474_2_0_42_1\n"
     ]
    },
    {
     "name": "stderr",
     "output_type": "stream",
     "text": [
      "Evaluating:  41%|████████████████████████▌                                   | 1636/4000 [1:55:57<1:57:21,  2.98s/file]"
     ]
    },
    {
     "name": "stdout",
     "output_type": "stream",
     "text": [
      "[WARN] 라벨링 누락: say_set2_collectorgs206_speakergs11405_47_0_37_1\n"
     ]
    },
    {
     "name": "stderr",
     "output_type": "stream",
     "text": [
      "Evaluating:  41%|████████████████████████▌                                   | 1639/4000 [1:56:12<2:35:50,  3.96s/file]"
     ]
    },
    {
     "name": "stdout",
     "output_type": "stream",
     "text": [
      "[WARN] 라벨링 누락: say_set2_collectorgs206_speakergs2475_51_0_43_1\n",
      "[WARN] 라벨링 누락: say_set1_collectorgs431_speakergs3927_1_0_15_1\n",
      "[WARN] 라벨링 누락: say_set2_collectorgs31_speakergs4087_4_0_33_1\n",
      "[WARN] 라벨링 누락: say_set3_collectorgs115_speakergs842_53_0_35_1\n",
      "[WARN] 라벨링 누락: say_set3_collectorgs115_speakergs809_27_0_40_1\n"
     ]
    },
    {
     "name": "stderr",
     "output_type": "stream",
     "text": [
      "Evaluating:  41%|████████████████████████▋                                   | 1645/4000 [1:56:17<1:23:38,  2.13s/file]"
     ]
    },
    {
     "name": "stdout",
     "output_type": "stream",
     "text": [
      "[WARN] 라벨링 누락: say_set2_collectorgs244_speakergs2175_22_1_29_1\n"
     ]
    },
    {
     "name": "stderr",
     "output_type": "stream",
     "text": [
      "Evaluating:  41%|████████████████████████▋                                   | 1648/4000 [1:56:30<1:58:35,  3.03s/file]"
     ]
    },
    {
     "name": "stdout",
     "output_type": "stream",
     "text": [
      "[WARN] 라벨링 누락: say_set1_collectorgs72_speakergs334_7_0_33_1\n"
     ]
    },
    {
     "name": "stderr",
     "output_type": "stream",
     "text": [
      "Evaluating:  41%|████████████████████████▊                                   | 1650/4000 [1:56:36<1:59:35,  3.05s/file]"
     ]
    },
    {
     "name": "stdout",
     "output_type": "stream",
     "text": [
      "[WARN] 라벨링 누락: say_set1_collectorgs264_speakergs3967_35_0_14_1\n",
      "[WARN] 라벨링 누락: say_set1_collectorgs187_speakergs2321_30_0_44_1\n"
     ]
    },
    {
     "name": "stderr",
     "output_type": "stream",
     "text": [
      "Evaluating:  41%|████████████████████████▊                                   | 1654/4000 [1:56:53<2:28:13,  3.79s/file]"
     ]
    },
    {
     "name": "stdout",
     "output_type": "stream",
     "text": [
      "[WARN] 라벨링 누락: say_set1_collectorgs81_speakergs1739_12_0_32_1\n"
     ]
    },
    {
     "name": "stderr",
     "output_type": "stream",
     "text": [
      "Evaluating:  41%|████████████████████████▊                                   | 1656/4000 [1:57:01<2:32:19,  3.90s/file]"
     ]
    },
    {
     "name": "stdout",
     "output_type": "stream",
     "text": [
      "[WARN] 라벨링 누락: say_set2_collectorgs134_speakergs1421_60_0_38_1\n",
      "[WARN] 라벨링 누락: say_set2_collectorgs218_speakergs2428_22_1_16_1\n",
      "[WARN] 라벨링 누락: say_set2_collectorgs160_speakergs3107_62_0_32_1\n",
      "[WARN] 라벨링 누락: say_set2_collectorgs219_speakergs3118_19_0_27_1\n"
     ]
    },
    {
     "name": "stderr",
     "output_type": "stream",
     "text": [
      "Evaluating:  42%|████████████████████████▉                                   | 1661/4000 [1:57:09<1:45:33,  2.71s/file]"
     ]
    },
    {
     "name": "stdout",
     "output_type": "stream",
     "text": [
      "[WARN] 라벨링 누락: say_set2_collectorgs134_speakergs1896_63_0_32_1\n"
     ]
    },
    {
     "name": "stderr",
     "output_type": "stream",
     "text": [
      "Evaluating:  42%|████████████████████████▉                                   | 1663/4000 [1:57:20<2:09:46,  3.33s/file]"
     ]
    },
    {
     "name": "stdout",
     "output_type": "stream",
     "text": [
      "[WARN] 라벨링 누락: say_set1_collectorgs150_speakergs2069_48_0_36_1\n",
      "[WARN] 라벨링 누락: say_set1_collectorgw35_speakergs826_9_0_31_1\n",
      "[WARN] 라벨링 누락: say_set1_collectorgs142_speakergs2189_42_0_28_1\n"
     ]
    },
    {
     "name": "stderr",
     "output_type": "stream",
     "text": [
      "Evaluating:  42%|█████████████████████████                                   | 1668/4000 [1:57:33<1:54:55,  2.96s/file]"
     ]
    },
    {
     "name": "stdout",
     "output_type": "stream",
     "text": [
      "[WARN] 라벨링 누락: say_set2_collectorgs123_speakergs2811_53_0_27_1\n",
      "[WARN] 라벨링 누락: say_set1_collectorgs130_speakergs1412_25_0_35_1\n"
     ]
    },
    {
     "name": "stderr",
     "output_type": "stream",
     "text": [
      "Evaluating:  42%|█████████████████████████                                   | 1672/4000 [1:57:48<2:17:01,  3.53s/file]"
     ]
    },
    {
     "name": "stdout",
     "output_type": "stream",
     "text": [
      "[WARN] 라벨링 누락: say_set1_collectorgs376_speakergs3077_62_0_46_1\n",
      "[WARN] 라벨링 누락: say_set1_collectorgs129_speakergs2664_35_0_36_1\n",
      "[WARN] 라벨링 누락: say_set1_collectorgs514_speakergs4177_76_0_61_1\n",
      "[WARN] 라벨링 누락: say_set1_collectorgs273_speakergs2813_46_0_41_1\n",
      "[WARN] 라벨링 누락: say_set2_collectorgs164_speakergs1485_14_0_30_1\n"
     ]
    },
    {
     "name": "stderr",
     "output_type": "stream",
     "text": [
      "Evaluating:  42%|█████████████████████████▏                                  | 1678/4000 [1:57:59<1:37:53,  2.53s/file]"
     ]
    },
    {
     "name": "stdout",
     "output_type": "stream",
     "text": [
      "[WARN] 라벨링 누락: say_set1_collectorgs142_speakergs1349_34_0_35_1\n"
     ]
    },
    {
     "name": "stderr",
     "output_type": "stream",
     "text": [
      "Evaluating:  42%|█████████████████████████▏                                  | 1680/4000 [1:58:07<1:49:40,  2.84s/file]"
     ]
    },
    {
     "name": "stdout",
     "output_type": "stream",
     "text": [
      "[WARN] 라벨링 누락: say_set1_collectorgs24_speakergs71_1_0_37_1\n",
      "[WARN] 라벨링 누락: say_set2_collectorgs213_speakergs2077_50_0_4_1\n"
     ]
    },
    {
     "name": "stderr",
     "output_type": "stream",
     "text": [
      "Evaluating:  42%|█████████████████████████▏                                  | 1683/4000 [1:58:17<1:57:52,  3.05s/file]"
     ]
    },
    {
     "name": "stdout",
     "output_type": "stream",
     "text": [
      "[WARN] 라벨링 누락: say_set1_collectorgs160_speakergs2417_37_0_35_1\n"
     ]
    },
    {
     "name": "stderr",
     "output_type": "stream",
     "text": [
      "Evaluating:  42%|█████████████████████████▎                                  | 1686/4000 [1:58:38<2:55:01,  4.54s/file]"
     ]
    },
    {
     "name": "stdout",
     "output_type": "stream",
     "text": [
      "[WARN] 라벨링 누락: say_set2_collectorgs25_speakergs3519_51_0_43_1\n",
      "[WARN] 라벨링 누락: say_set1_collectorgs477_speakergs4090_59_0_36_1\n",
      "[WARN] 라벨링 누락: say_set2_collectorgs474_speakergs4821_69_0_6_1\n",
      "[WARN] 라벨링 누락: say_set1_collectorgs273_speakergs2817_4_0_36_1\n",
      "[WARN] 라벨링 누락: say_set1_collectorgs474_speakergs3981_59_0_21_1\n",
      "[WARN] 라벨링 누락: say_set1_collectorgs436_speakergs4153_14_0_7_1\n"
     ]
    },
    {
     "name": "stderr",
     "output_type": "stream",
     "text": [
      "Evaluating:  42%|█████████████████████████▍                                  | 1693/4000 [1:58:46<1:36:47,  2.52s/file]"
     ]
    },
    {
     "name": "stdout",
     "output_type": "stream",
     "text": [
      "[WARN] 라벨링 누락: say_set2_collectorgs31_speakergs3877_14_0_45_1\n",
      "[WARN] 라벨링 누락: say_set1_collectorgs160_speakergs1591_25_0_33_1\n",
      "[WARN] 라벨링 누락: say_set1_collectorgs212_speakergs1782_5_0_31_1\n",
      "[WARN] 라벨링 누락: say_set2_collectorgs31_speakergs2621_37_0_37_1\n"
     ]
    },
    {
     "name": "stderr",
     "output_type": "stream",
     "text": [
      "Evaluating:  42%|█████████████████████████▌                                  | 1700/4000 [1:59:09<2:10:16,  3.40s/file]"
     ]
    },
    {
     "name": "stdout",
     "output_type": "stream",
     "text": [
      "[WARN] 라벨링 누락: say_set2_collectorgs213_speakergs2028_19_0_9_1\n"
     ]
    },
    {
     "name": "stderr",
     "output_type": "stream",
     "text": [
      "Evaluating:  43%|█████████████████████████▌                                  | 1704/4000 [1:59:30<2:47:55,  4.39s/file]"
     ]
    },
    {
     "name": "stdout",
     "output_type": "stream",
     "text": [
      "[WARN] 라벨링 누락: say_set1_collectorgs143_speakergs2615_75_0_30_1\n",
      "[WARN] 라벨링 누락: say_set1_collectorgs390_speakergs3568_33_0_29_1\n",
      "[WARN] 라벨링 누락: say_set1_collectorgs135_speakergs640_34_0_35_1\n",
      "[WARN] 라벨링 누락: say_set1_collectorgs150_speakergs2449_9_0_44_1\n"
     ]
    },
    {
     "name": "stderr",
     "output_type": "stream",
     "text": [
      "Evaluating:  43%|█████████████████████████▋                                  | 1709/4000 [1:59:34<1:28:22,  2.31s/file]"
     ]
    },
    {
     "name": "stdout",
     "output_type": "stream",
     "text": [
      "[WARN] 라벨링 누락: say_set1_collectorgs195_speakergs1398_52_0_23_1\n"
     ]
    },
    {
     "name": "stderr",
     "output_type": "stream",
     "text": [
      "Evaluating:  43%|█████████████████████████▋                                  | 1711/4000 [1:59:40<1:37:54,  2.57s/file]"
     ]
    },
    {
     "name": "stdout",
     "output_type": "stream",
     "text": [
      "[WARN] 라벨링 누락: say_set2_collectorgs134_speakergs1325_44_0_33_1\n"
     ]
    },
    {
     "name": "stderr",
     "output_type": "stream",
     "text": [
      "Evaluating:  43%|█████████████████████████▋                                  | 1713/4000 [1:59:48<1:51:16,  2.92s/file]"
     ]
    },
    {
     "name": "stdout",
     "output_type": "stream",
     "text": [
      "[WARN] 라벨링 누락: say_set2_collectorgs131_speakergs1775_74_0_34_1\n",
      "[WARN] 라벨링 누락: say_set1_collectorgs305_speakergs2699_22_2_8_1\n",
      "[WARN] 라벨링 누락: say_set2_collectorgs380_speakergs3743_35_0_25_1\n"
     ]
    },
    {
     "name": "stderr",
     "output_type": "stream",
     "text": [
      "Evaluating:  43%|█████████████████████████▊                                  | 1721/4000 [2:00:23<3:09:14,  4.98s/file]"
     ]
    },
    {
     "name": "stdout",
     "output_type": "stream",
     "text": [
      "[WARN] 라벨링 누락: say_set1_collectorgs303_speakergs3122_45_0_47_1\n"
     ]
    },
    {
     "name": "stderr",
     "output_type": "stream",
     "text": [
      "Evaluating:  43%|█████████████████████████▊                                  | 1723/4000 [2:00:32<3:03:23,  4.83s/file]"
     ]
    },
    {
     "name": "stdout",
     "output_type": "stream",
     "text": [
      "[WARN] 라벨링 누락: say_set1_collectorgs212_speakergs2803_49_0_31_1\n",
      "[WARN] 라벨링 누락: say_set1_collectorgs475_speakergs3890_53_0_16_1\n",
      "[WARN] 라벨링 누락: say_set1_collectorgs150_speakergs1044_18_0_33_1\n",
      "[WARN] 라벨링 누락: say_set1_collectorgs384_speakergs3014_7_0_34_1\n",
      "[WARN] 라벨링 누락: say_set1_collectorgs281_speakergs2804_10_0_38_1\n"
     ]
    },
    {
     "name": "stderr",
     "output_type": "stream",
     "text": [
      "Evaluating:  43%|█████████████████████████▉                                  | 1730/4000 [2:00:47<2:01:14,  3.20s/file]"
     ]
    },
    {
     "name": "stdout",
     "output_type": "stream",
     "text": [
      "[WARN] 라벨링 누락: say_set2_collectorgs131_speakergs1450_16_0_36_1\n"
     ]
    },
    {
     "name": "stderr",
     "output_type": "stream",
     "text": [
      "Evaluating:  43%|█████████████████████████▉                                  | 1732/4000 [2:00:58<2:26:10,  3.87s/file]"
     ]
    },
    {
     "name": "stdout",
     "output_type": "stream",
     "text": [
      "[WARN] 라벨링 누락: say_set1_collectorgs518_speakergs4254_80_0_17_1\n",
      "[WARN] 라벨링 누락: say_set1_collectorgs293_speakergs2600_39_0_40_1\n",
      "[WARN] 라벨링 누락: say_set2_collectorgs31_speakergs2418_7_0_29_1\n",
      "[WARN] 라벨링 누락: say_set2_collectorgs119_speakergs823_8_0_33_1\n",
      "[WARN] 라벨링 누락: say_set1_collectorgs282_speakergs2920_45_0_46_1\n",
      "[WARN] 라벨링 누락: say_set1_collectorgs143_speakergs1989_32_0_29_1\n"
     ]
    },
    {
     "name": "stderr",
     "output_type": "stream",
     "text": [
      "Evaluating:  43%|██████████████████████████                                  | 1739/4000 [2:01:05<1:23:33,  2.22s/file]"
     ]
    },
    {
     "name": "stdout",
     "output_type": "stream",
     "text": [
      "[WARN] 라벨링 누락: say_set1_collectorgs197_speakergs1700_42_0_32_1\n",
      "[WARN] 라벨링 누락: say_set1_collectorgs390_speakergs3918_46_0_30_1\n"
     ]
    },
    {
     "name": "stderr",
     "output_type": "stream",
     "text": [
      "Evaluating:  44%|██████████████████████████▏                                 | 1742/4000 [2:01:14<1:30:37,  2.41s/file]"
     ]
    },
    {
     "name": "stdout",
     "output_type": "stream",
     "text": [
      "[WARN] 라벨링 누락: say_set1_collectorgs81_speakergs1695_39_0_28_1\n"
     ]
    },
    {
     "name": "stderr",
     "output_type": "stream",
     "text": [
      "Evaluating:  44%|██████████████████████████▏                                 | 1747/4000 [2:01:37<2:23:45,  3.83s/file]"
     ]
    },
    {
     "name": "stdout",
     "output_type": "stream",
     "text": [
      "[WARN] 라벨링 누락: say_set1_collectorgs188_speakergs2597_0_0_21_1\n",
      "[WARN] 라벨링 누락: say_set2_collectorgs126_speakergs1423_12_0_36_1\n",
      "[WARN] 라벨링 누락: say_set1_collectorgs135_speakergs1541_20_0_32_1\n",
      "[WARN] 라벨링 누락: say_set2_collectorgs119_speakergs2244_69_0_28_1\n"
     ]
    },
    {
     "name": "stderr",
     "output_type": "stream",
     "text": [
      "Evaluating:  44%|██████████████████████████▎                                 | 1753/4000 [2:01:52<2:02:22,  3.27s/file]"
     ]
    },
    {
     "name": "stdout",
     "output_type": "stream",
     "text": [
      "[WARN] 라벨링 누락: say_set2_collectorgs145_speakergs998_69_0_61_1\n"
     ]
    },
    {
     "name": "stderr",
     "output_type": "stream",
     "text": [
      "Evaluating:  44%|██████████████████████████▎                                 | 1755/4000 [2:02:01<2:15:04,  3.61s/file]"
     ]
    },
    {
     "name": "stdout",
     "output_type": "stream",
     "text": [
      "[WARN] 라벨링 누락: say_set2_collectorgs129_speakergs1105_4_0_47_1\n"
     ]
    },
    {
     "name": "stderr",
     "output_type": "stream",
     "text": [
      "Evaluating:  44%|██████████████████████████▍                                 | 1759/4000 [2:02:22<2:47:50,  4.49s/file]"
     ]
    },
    {
     "name": "stdout",
     "output_type": "stream",
     "text": [
      "[WARN] 라벨링 누락: say_set1_collectorgs130_speakergs2342_9_0_33_1\n",
      "[WARN] 라벨링 누락: say_set1_collectorgs130_speakergs1273_11_0_48_1\n",
      "[WARN] 라벨링 누락: say_set1_collectorgs239_speakergs2312_81_0_39_1\n",
      "[WARN] 라벨링 누락: say_set1_collectorgs429_speakergs3265_46_0_26_1\n"
     ]
    },
    {
     "name": "stderr",
     "output_type": "stream",
     "text": [
      "Evaluating:  44%|██████████████████████████▍                                 | 1764/4000 [2:02:30<1:45:07,  2.82s/file]"
     ]
    },
    {
     "name": "stdout",
     "output_type": "stream",
     "text": [
      "[WARN] 라벨링 누락: say_set1_collectorgs142_speakergs2189_44_0_33_1\n",
      "[WARN] 라벨링 누락: say_set1_collectorgs198_speakergs1397_47_0_31_1\n"
     ]
    },
    {
     "name": "stderr",
     "output_type": "stream",
     "text": [
      "Evaluating:  44%|██████████████████████████▌                                 | 1767/4000 [2:02:39<1:45:25,  2.83s/file]"
     ]
    },
    {
     "name": "stdout",
     "output_type": "stream",
     "text": [
      "[WARN] 라벨링 누락: say_set1_collectorgs476_speakergs3617_47_0_12_1\n",
      "[WARN] 라벨링 누락: say_set1_collectorgs150_speakergs2065_57_0_27_1\n"
     ]
    },
    {
     "name": "stderr",
     "output_type": "stream",
     "text": [
      "Evaluating:  44%|██████████████████████████▌                                 | 1770/4000 [2:02:43<1:29:36,  2.41s/file]"
     ]
    },
    {
     "name": "stdout",
     "output_type": "stream",
     "text": [
      "[WARN] 라벨링 누락: say_set1_collectorgs384_speakergs2984_21_0_41_1\n",
      "[WARN] 라벨링 누락: say_set1_collectorgs282_speakergs2340_81_0_46_1\n",
      "[WARN] 라벨링 누락: say_set2_collectorgs131_speakergs1126_10_0_35_1\n"
     ]
    },
    {
     "name": "stderr",
     "output_type": "stream",
     "text": [
      "Evaluating:  44%|██████████████████████████▌                                 | 1774/4000 [2:02:51<1:21:05,  2.19s/file]"
     ]
    },
    {
     "name": "stdout",
     "output_type": "stream",
     "text": [
      "[WARN] 라벨링 누락: say_set2_collectorgs144_speakergs2142_60_0_39_1\n"
     ]
    },
    {
     "name": "stderr",
     "output_type": "stream",
     "text": [
      "Evaluating:  44%|██████████████████████████▋                                 | 1776/4000 [2:03:00<1:39:45,  2.69s/file]"
     ]
    },
    {
     "name": "stdout",
     "output_type": "stream",
     "text": [
      "[WARN] 라벨링 누락: say_set1_collectorgs32_speakergs3964_41_0_51_1\n",
      "[WARN] 라벨링 누락: say_set1_collectorgs520_speakergs4325_56_0_59_1\n"
     ]
    },
    {
     "name": "stderr",
     "output_type": "stream",
     "text": [
      "Evaluating:  44%|██████████████████████████▋                                 | 1780/4000 [2:03:10<1:40:04,  2.70s/file]"
     ]
    },
    {
     "name": "stdout",
     "output_type": "stream",
     "text": [
      "[WARN] 라벨링 누락: say_set1_collectorgs15_speakergs32_11_0_54_1\n"
     ]
    },
    {
     "name": "stderr",
     "output_type": "stream",
     "text": [
      "Evaluating:  45%|██████████████████████████▋                                 | 1782/4000 [2:03:15<1:34:35,  2.56s/file]"
     ]
    },
    {
     "name": "stdout",
     "output_type": "stream",
     "text": [
      "[WARN] 라벨링 누락: say_set1_collectorgs32_speakergs3282_36_0_33_1\n",
      "[WARN] 라벨링 누락: say_set2_collectorgs129_speakergs1746_7_0_23_1\n"
     ]
    },
    {
     "name": "stderr",
     "output_type": "stream",
     "text": [
      "Evaluating:  45%|██████████████████████████▊                                 | 1785/4000 [2:03:17<1:11:22,  1.93s/file]"
     ]
    },
    {
     "name": "stdout",
     "output_type": "stream",
     "text": [
      "[WARN] 라벨링 누락: say_set2_collectorgs320_speakergs4233_27_0_4_1\n",
      "[WARN] 라벨링 누락: say_set1_collectorgs419_speakergs3708_56_0_33_1\n"
     ]
    },
    {
     "name": "stderr",
     "output_type": "stream",
     "text": [
      "Evaluating:  45%|██████████████████████████▉                                 | 1793/4000 [2:04:00<3:10:11,  5.17s/file]"
     ]
    },
    {
     "name": "stdout",
     "output_type": "stream",
     "text": [
      "[WARN] 라벨링 누락: say_set1_collectorgs186_speakergs3212_6_0_23_1\n",
      "[WARN] 라벨링 누락: say_set1_collectorgs377_speakergs3101_22_0_30_1\n",
      "[WARN] 라벨링 누락: say_set1_collectorgs377_speakergs3262_4_0_38_1\n",
      "[WARN] 라벨링 누락: say_set1_collectorgs198_speakergs1996_32_0_42_1\n",
      "[WARN] 라벨링 누락: say_set2_collectorgs417_speakergs2996_58_0_13_1\n",
      "[WARN] 라벨링 누락: say_set1_collectorgs272_speakergs3998_46_0_8_1\n"
     ]
    },
    {
     "name": "stderr",
     "output_type": "stream",
     "text": [
      "Evaluating:  45%|███████████████████████████                                 | 1800/4000 [2:04:06<1:19:50,  2.18s/file]"
     ]
    },
    {
     "name": "stdout",
     "output_type": "stream",
     "text": [
      "[WARN] 라벨링 누락: say_set2_collectorgs139_speakergs1474_22_0_33_1\n",
      "[WARN] 라벨링 누락: say_set1_collectorgs278_speakergs2586_24_2_23_1\n"
     ]
    },
    {
     "name": "stderr",
     "output_type": "stream",
     "text": [
      "Evaluating:  45%|███████████████████████████                                 | 1803/4000 [2:04:09<1:05:18,  1.78s/file]"
     ]
    },
    {
     "name": "stdout",
     "output_type": "stream",
     "text": [
      "[WARN] 라벨링 누락: say_set3_collectorgs115_speakergs722_11_0_29_1\n"
     ]
    },
    {
     "name": "stderr",
     "output_type": "stream",
     "text": [
      "Evaluating:  45%|███████████████████████████▏                                | 1810/4000 [2:04:46<2:45:25,  4.53s/file]"
     ]
    },
    {
     "name": "stdout",
     "output_type": "stream",
     "text": [
      "[WARN] 라벨링 누락: say_set1_collectorgs145_speakergs785_24_0_31_1\n",
      "[WARN] 라벨링 누락: say_set2_collectorgs396_speakergs3705_63_0_10_1\n"
     ]
    },
    {
     "name": "stderr",
     "output_type": "stream",
     "text": [
      "Evaluating:  45%|███████████████████████████▏                                | 1814/4000 [2:04:59<2:27:51,  4.06s/file]"
     ]
    },
    {
     "name": "stdout",
     "output_type": "stream",
     "text": [
      "[WARN] 라벨링 누락: say_set1_collectorgs142_speakergs1448_24_0_38_1\n"
     ]
    },
    {
     "name": "stderr",
     "output_type": "stream",
     "text": [
      "Evaluating:  45%|███████████████████████████▏                                | 1816/4000 [2:05:09<2:37:42,  4.33s/file]"
     ]
    },
    {
     "name": "stdout",
     "output_type": "stream",
     "text": [
      "[WARN] 라벨링 누락: say_set1_collectorgs186_speakergs2362_38_0_27_1\n",
      "[WARN] 라벨링 누락: say_set2_collectorgs123_speakergs2166_18_0_33_1\n",
      "[WARN] 라벨링 누락: say_set2_collectorgs119_speakergs892_68_0_36_1\n",
      "[WARN] 라벨링 누락: say_set1_collectorgs64_speakergs1696_25_0_29_1\n",
      "[WARN] 라벨링 누락: say_set1_collectorgs126_speakergs2396_47_0_30_1\n",
      "[WARN] 라벨링 누락: say_set1_collectorgs131_speakergs2021_59_0_36_1\n"
     ]
    },
    {
     "name": "stderr",
     "output_type": "stream",
     "text": [
      "Evaluating:  46%|███████████████████████████▎                                | 1823/4000 [2:05:13<1:10:33,  1.94s/file]"
     ]
    },
    {
     "name": "stdout",
     "output_type": "stream",
     "text": [
      "[WARN] 라벨링 누락: say_set1_collectorgs261_speakergs2341_1_0_4_1\n",
      "[WARN] 라벨링 누락: say_set1_collectorgs206_speakergs1793_29_1_12_1\n",
      "[WARN] 라벨링 누락: say_set1_collectorgs150_speakergs1254_20_0_34_1\n"
     ]
    },
    {
     "name": "stderr",
     "output_type": "stream",
     "text": [
      "Evaluating:  46%|███████████████████████████▍                                | 1830/4000 [2:06:13<3:30:22,  5.82s/file]"
     ]
    },
    {
     "name": "stdout",
     "output_type": "stream",
     "text": [
      "[WARN] 라벨링 누락: say_set2_collectorgs31_speakergs3764_22_0_33_1\n"
     ]
    },
    {
     "name": "stderr",
     "output_type": "stream",
     "text": [
      "Evaluating:  46%|███████████████████████████▍                                | 1832/4000 [2:06:18<2:53:31,  4.80s/file]"
     ]
    },
    {
     "name": "stdout",
     "output_type": "stream",
     "text": [
      "[WARN] 라벨링 누락: say_set1_collectorgs492_speakergs4118_52_0_12_1\n"
     ]
    },
    {
     "name": "stderr",
     "output_type": "stream",
     "text": [
      "Evaluating:  46%|███████████████████████████▌                                | 1835/4000 [2:06:34<3:08:40,  5.23s/file]"
     ]
    },
    {
     "name": "stdout",
     "output_type": "stream",
     "text": [
      "[WARN] 라벨링 누락: say_set1_collectorgs186_speakergs2965_31_0_25_1\n"
     ]
    },
    {
     "name": "stderr",
     "output_type": "stream",
     "text": [
      "Evaluating:  46%|███████████████████████████▌                                | 1838/4000 [2:06:51<3:19:27,  5.54s/file]"
     ]
    },
    {
     "name": "stdout",
     "output_type": "stream",
     "text": [
      "[WARN] 라벨링 누락: say_set1_collectorgs197_speakergs1678_46_0_34_1\n"
     ]
    },
    {
     "name": "stderr",
     "output_type": "stream",
     "text": [
      "Evaluating:  46%|███████████████████████████▋                                | 1842/4000 [2:07:16<3:49:03,  6.37s/file]"
     ]
    },
    {
     "name": "stdout",
     "output_type": "stream",
     "text": [
      "[WARN] 라벨링 누락: say_set2_collectorgs262_speakergs3086_63_0_11_1\n"
     ]
    },
    {
     "name": "stderr",
     "output_type": "stream",
     "text": [
      "Evaluating:  46%|███████████████████████████▋                                | 1845/4000 [2:07:32<3:35:54,  6.01s/file]"
     ]
    },
    {
     "name": "stdout",
     "output_type": "stream",
     "text": [
      "[WARN] 라벨링 누락: say_set1_collectorgs115_speakergs1676_11_0_23_1\n"
     ]
    },
    {
     "name": "stderr",
     "output_type": "stream",
     "text": [
      "Evaluating:  46%|███████████████████████████▋                                | 1847/4000 [2:07:38<2:50:56,  4.76s/file]"
     ]
    },
    {
     "name": "stdout",
     "output_type": "stream",
     "text": [
      "[WARN] 라벨링 누락: say_set2_collectorgs436_speakergs4214_40_0_24_1\n"
     ]
    },
    {
     "name": "stderr",
     "output_type": "stream",
     "text": [
      "Evaluating:  46%|███████████████████████████▊                                | 1850/4000 [2:07:54<3:08:46,  5.27s/file]"
     ]
    },
    {
     "name": "stdout",
     "output_type": "stream",
     "text": [
      "[WARN] 라벨링 누락: say_set1_collectorgs477_speakergs4326_77_0_36_1\n",
      "[WARN] 라벨링 누락: say_set1_collectorgs206_speakergs3752_72_0_28_1\n"
     ]
    },
    {
     "name": "stderr",
     "output_type": "stream",
     "text": [
      "Evaluating:  46%|███████████████████████████▊                                | 1853/4000 [2:08:03<2:29:11,  4.17s/file]"
     ]
    },
    {
     "name": "stdout",
     "output_type": "stream",
     "text": [
      "[WARN] 라벨링 누락: say_set1_collectorgs160_speakergs2384_15_0_32_1\n"
     ]
    },
    {
     "name": "stderr",
     "output_type": "stream",
     "text": [
      "Evaluating:  46%|███████████████████████████▊                                | 1856/4000 [2:08:19<2:54:18,  4.88s/file]"
     ]
    },
    {
     "name": "stdout",
     "output_type": "stream",
     "text": [
      "[WARN] 라벨링 누락: say_set2_collectorgs466_speakergs4438_42_0_35_1\n",
      "[WARN] 라벨링 누락: say_set1_collectorgs128_speakergs1944_28_1_33_1\n",
      "[WARN] 라벨링 누락: say_set1_collectorgs150_speakergs1762_33_0_44_1\n",
      "[WARN] 라벨링 누락: say_set1_collectorgs126_speakergs1284_59_0_35_1\n",
      "[WARN] 라벨링 누락: say_set1_collectorgs266_speakergs4187_26_0_61_1\n"
     ]
    },
    {
     "name": "stderr",
     "output_type": "stream",
     "text": [
      "Evaluating:  47%|███████████████████████████▉                                | 1862/4000 [2:08:23<1:21:52,  2.30s/file]"
     ]
    },
    {
     "name": "stdout",
     "output_type": "stream",
     "text": [
      "[WARN] 라벨링 누락: say_set2_collectorgs262_speakergs3086_38_0_7_1\n"
     ]
    },
    {
     "name": "stderr",
     "output_type": "stream",
     "text": [
      "Evaluating:  47%|███████████████████████████▉                                | 1865/4000 [2:08:34<1:37:55,  2.75s/file]"
     ]
    },
    {
     "name": "stdout",
     "output_type": "stream",
     "text": [
      "[WARN] 라벨링 누락: say_set1_collectorgs246_speakergs2889_28_0_38_1\n"
     ]
    },
    {
     "name": "stderr",
     "output_type": "stream",
     "text": [
      "Evaluating:  47%|████████████████████████████                                | 1873/4000 [2:09:21<3:10:11,  5.37s/file]"
     ]
    },
    {
     "name": "stdout",
     "output_type": "stream",
     "text": [
      "[WARN] 라벨링 누락: say_set1_collectorgs466_speakergs4354_14_0_27_1\n"
     ]
    },
    {
     "name": "stderr",
     "output_type": "stream",
     "text": [
      "Evaluating:  47%|████████████████████████████▏                               | 1875/4000 [2:09:34<3:25:05,  5.79s/file]"
     ]
    },
    {
     "name": "stdout",
     "output_type": "stream",
     "text": [
      "[WARN] 라벨링 누락: say_set2_collectorgs207_speakergs1472_28_0_18_1\n"
     ]
    },
    {
     "name": "stderr",
     "output_type": "stream",
     "text": [
      "Evaluating:  47%|████████████████████████████▏                               | 1880/4000 [2:09:59<3:33:57,  6.06s/file]"
     ]
    },
    {
     "name": "stdout",
     "output_type": "stream",
     "text": [
      "[WARN] 라벨링 누락: say_set1_collectorgs270_speakergs2219_74_0_12_1\n",
      "[WARN] 라벨링 누락: say_set1_collectorgs442_speakergs4764_81_0_24_1\n"
     ]
    },
    {
     "name": "stderr",
     "output_type": "stream",
     "text": [
      "Evaluating:  47%|████████████████████████████▏                               | 1883/4000 [2:10:02<1:57:34,  3.33s/file]"
     ]
    },
    {
     "name": "stdout",
     "output_type": "stream",
     "text": [
      "[WARN] 라벨링 누락: say_set1_collectorgs143_speakergs1989_67_0_33_1\n",
      "[WARN] 라벨링 누락: say_set1_collectorgs381_speakergs3017_31_1_19_1\n",
      "[WARN] 라벨링 누락: say_set1_collectorgs437_speakergs3266_68_0_32_1\n"
     ]
    },
    {
     "name": "stderr",
     "output_type": "stream",
     "text": [
      "Evaluating:  47%|████████████████████████████▎                               | 1887/4000 [2:10:06<1:17:41,  2.21s/file]"
     ]
    },
    {
     "name": "stdout",
     "output_type": "stream",
     "text": [
      "[WARN] 라벨링 누락: say_set1_collectorgs81_speakergs1174_41_0_31_1\n",
      "[WARN] 라벨링 누락: say_set1_collectorgs130_speakergs2119_8_0_39_1\n",
      "[WARN] 라벨링 누락: say_set2_collectorgs160_speakergs3704_42_0_34_1\n",
      "[WARN] 라벨링 누락: say_set2_collectorgs245_speakergs2686_41_0_35_1\n"
     ]
    },
    {
     "name": "stderr",
     "output_type": "stream",
     "text": [
      "Evaluating:  47%|████████████████████████████▍                               | 1892/4000 [2:10:15<1:09:59,  1.99s/file]"
     ]
    },
    {
     "name": "stdout",
     "output_type": "stream",
     "text": [
      "[WARN] 라벨링 누락: say_set2_collectorgs129_speakergs2456_57_0_34_1\n",
      "[WARN] 라벨링 누락: say_set1_collectorgs448_speakergs4770_15_0_14_1\n",
      "[WARN] 라벨링 누락: say_set1_collectorgs238_speakergs3803_17_0_23_1\n"
     ]
    },
    {
     "name": "stderr",
     "output_type": "stream",
     "text": [
      "Evaluating:  47%|████████████████████████████▍                               | 1896/4000 [2:10:24<1:13:36,  2.10s/file]"
     ]
    },
    {
     "name": "stdout",
     "output_type": "stream",
     "text": [
      "[WARN] 라벨링 누락: say_set2_collectorgs123_speakergs2363_59_0_37_1\n"
     ]
    },
    {
     "name": "stderr",
     "output_type": "stream",
     "text": [
      "Evaluating:  47%|████████████████████████████▍                               | 1899/4000 [2:10:39<1:43:09,  2.95s/file]"
     ]
    },
    {
     "name": "stdout",
     "output_type": "stream",
     "text": [
      "[WARN] 라벨링 누락: say_set1_collectorgs411_speakergs2940_58_0_7_1\n",
      "[WARN] 라벨링 누락: say_set2_collectorgs396_speakergs3705_15_0_15_1\n"
     ]
    },
    {
     "name": "stderr",
     "output_type": "stream",
     "text": [
      "Evaluating:  48%|████████████████████████████▌                               | 1906/4000 [2:11:13<3:13:38,  5.55s/file]"
     ]
    },
    {
     "name": "stdout",
     "output_type": "stream",
     "text": [
      "[WARN] 라벨링 누락: say_set2_collectorgs154_speakergs2702_8_0_29_1\n"
     ]
    },
    {
     "name": "stderr",
     "output_type": "stream",
     "text": [
      "Evaluating:  48%|████████████████████████████▋                               | 1910/4000 [2:11:34<3:09:25,  5.44s/file]"
     ]
    },
    {
     "name": "stdout",
     "output_type": "stream",
     "text": [
      "[WARN] 라벨링 누락: say_set1_collectorgs139_speakergs646_50_0_29_1\n",
      "[WARN] 라벨링 누락: say_set1_collectorgs246_speakergs2489_56_0_30_1\n"
     ]
    },
    {
     "name": "stderr",
     "output_type": "stream",
     "text": [
      "Evaluating:  48%|████████████████████████████▋                               | 1914/4000 [2:11:48<2:36:56,  4.51s/file]"
     ]
    },
    {
     "name": "stdout",
     "output_type": "stream",
     "text": [
      "[WARN] 라벨링 누락: say_set1_collectorgs135_speakergs1963_46_0_31_1\n"
     ]
    },
    {
     "name": "stderr",
     "output_type": "stream",
     "text": [
      "Evaluating:  48%|████████████████████████████▊                               | 1921/4000 [2:12:29<3:33:40,  6.17s/file]"
     ]
    },
    {
     "name": "stdout",
     "output_type": "stream",
     "text": [
      "[WARN] 라벨링 누락: say_set2_collectorgs154_speakergs2702_32_0_35_1\n"
     ]
    },
    {
     "name": "stderr",
     "output_type": "stream",
     "text": [
      "Evaluating:  48%|████████████████████████████▊                               | 1923/4000 [2:12:33<2:33:25,  4.43s/file]"
     ]
    },
    {
     "name": "stdout",
     "output_type": "stream",
     "text": [
      "[WARN] 라벨링 누락: say_set1_collectorgs293_speakergs2600_31_0_36_1\n",
      "[WARN] 라벨링 누락: say_set1_collectorgs64_speakergs1696_3_0_16_1\n",
      "[WARN] 라벨링 누락: say_set1_collectorgs474_speakergs3981_39_0_12_1\n"
     ]
    },
    {
     "name": "stderr",
     "output_type": "stream",
     "text": [
      "Evaluating:  48%|████████████████████████████▉                               | 1927/4000 [2:12:43<1:56:33,  3.37s/file]"
     ]
    },
    {
     "name": "stdout",
     "output_type": "stream",
     "text": [
      "[WARN] 라벨링 누락: say_set1_collectorgs384_speakergs2984_26_0_34_1\n",
      "[WARN] 라벨링 누락: say_set1_collectorgs437_speakergs3374_60_0_14_1\n"
     ]
    },
    {
     "name": "stderr",
     "output_type": "stream",
     "text": [
      "Evaluating:  48%|████████████████████████████▉                               | 1930/4000 [2:13:17<3:38:26,  6.33s/file]"
     ]
    },
    {
     "name": "stdout",
     "output_type": "stream",
     "text": [
      "[WARN] 라벨링 누락: say_set1_collectorgs358_speakergs2636_42_0_21_1\n",
      "[WARN] 라벨링 누락: say_set1_collectorgs142_speakergs2301_58_0_34_1\n"
     ]
    },
    {
     "name": "stderr",
     "output_type": "stream",
     "text": [
      "Evaluating:  48%|████████████████████████████▉                               | 1933/4000 [2:13:23<2:45:05,  4.79s/file]"
     ]
    },
    {
     "name": "stdout",
     "output_type": "stream",
     "text": [
      "[WARN] 라벨링 누락: say_set2_collectorgs14_speakergs39_6_0_26_1\n"
     ]
    },
    {
     "name": "stderr",
     "output_type": "stream",
     "text": [
      "Evaluating:  48%|█████████████████████████████                               | 1935/4000 [2:13:31<2:39:27,  4.63s/file]"
     ]
    },
    {
     "name": "stdout",
     "output_type": "stream",
     "text": [
      "[WARN] 라벨링 누락: say_set2_collectorgs414_speakergs3446_3_0_18_1\n"
     ]
    },
    {
     "name": "stderr",
     "output_type": "stream",
     "text": [
      "Evaluating:  48%|█████████████████████████████                               | 1939/4000 [2:13:51<2:53:26,  5.05s/file]"
     ]
    },
    {
     "name": "stdout",
     "output_type": "stream",
     "text": [
      "[WARN] 라벨링 누락: say_set2_collectorgs219_speakergs3390_48_0_45_1\n"
     ]
    },
    {
     "name": "stderr",
     "output_type": "stream",
     "text": [
      "Evaluating:  49%|█████████████████████████████                               | 1941/4000 [2:13:54<2:11:17,  3.83s/file]"
     ]
    },
    {
     "name": "stdout",
     "output_type": "stream",
     "text": [
      "[WARN] 라벨링 누락: say_set2_collectorgs160_speakergs3107_57_0_27_1\n",
      "[WARN] 라벨링 누락: say_set2_collectorgs448_speakergs4776_57_1_6_1\n",
      "[WARN] 라벨링 누락: say_set1_collectorgs186_speakergs2874_23_0_26_1\n"
     ]
    },
    {
     "name": "stderr",
     "output_type": "stream",
     "text": [
      "Evaluating:  49%|█████████████████████████████▏                              | 1946/4000 [2:14:03<1:37:10,  2.84s/file]"
     ]
    },
    {
     "name": "stdout",
     "output_type": "stream",
     "text": [
      "[WARN] 라벨링 누락: say_set2_collectorgs51_speakergs1723_9_0_23_1\n",
      "[WARN] 라벨링 누락: say_set1_collectorgs195_speakergs1906_47_0_22_1\n",
      "[WARN] 라벨링 누락: say_set1_collectorgs32_speakergs3109_13_0_41_1\n"
     ]
    },
    {
     "name": "stderr",
     "output_type": "stream",
     "text": [
      "Evaluating:  49%|█████████████████████████████▎                              | 1950/4000 [2:14:07<1:06:34,  1.95s/file]"
     ]
    },
    {
     "name": "stdout",
     "output_type": "stream",
     "text": [
      "[WARN] 라벨링 누락: say_set2_collectorgs31_speakergs3398_39_0_38_1\n",
      "[WARN] 라벨링 누락: say_set1_collectorgs384_speakergs2984_11_0_32_1\n"
     ]
    },
    {
     "name": "stderr",
     "output_type": "stream",
     "text": [
      "Evaluating:  49%|█████████████████████████████▎                              | 1954/4000 [2:14:23<1:44:56,  3.08s/file]"
     ]
    },
    {
     "name": "stdout",
     "output_type": "stream",
     "text": [
      "[WARN] 라벨링 누락: say_set2_collectorgs161_speakergs1781_10_0_30_1\n",
      "[WARN] 라벨링 누락: say_set1_collectorgs142_speakergs2011_18_0_32_1\n"
     ]
    },
    {
     "name": "stderr",
     "output_type": "stream",
     "text": [
      "Evaluating:  49%|█████████████████████████████▎                              | 1958/4000 [2:14:34<1:40:04,  2.94s/file]"
     ]
    },
    {
     "name": "stdout",
     "output_type": "stream",
     "text": [
      "[WARN] 라벨링 누락: say_set1_collectorgs244_speakergs2852_67_0_33_1\n",
      "[WARN] 라벨링 누락: say_set2_collectorgs130_speakergs2086_49_0_36_1\n"
     ]
    },
    {
     "name": "stderr",
     "output_type": "stream",
     "text": [
      "Evaluating:  49%|█████████████████████████████▍                              | 1963/4000 [2:14:56<2:24:17,  4.25s/file]"
     ]
    },
    {
     "name": "stdout",
     "output_type": "stream",
     "text": [
      "[WARN] 라벨링 누락: say_set2_collectorgs139_speakergs1546_2_0_29_1\n",
      "[WARN] 라벨링 누락: say_set1_collectorgs392_speakergs3016_40_0_36_1\n",
      "[WARN] 라벨링 누락: say_set1_collectorgs135_speakergs1998_8_0_32_1\n",
      "[WARN] 라벨링 누락: say_set1_collectorgs142_speakergs1411_52_0_34_1\n"
     ]
    },
    {
     "name": "stderr",
     "output_type": "stream",
     "text": [
      "Evaluating:  49%|█████████████████████████████▌                              | 1969/4000 [2:15:12<1:57:32,  3.47s/file]"
     ]
    },
    {
     "name": "stdout",
     "output_type": "stream",
     "text": [
      "[WARN] 라벨링 누락: say_set1_collectorgs142_speakergs1556_41_0_33_1\n"
     ]
    },
    {
     "name": "stderr",
     "output_type": "stream",
     "text": [
      "Evaluating:  49%|█████████████████████████████▌                              | 1973/4000 [2:15:34<2:49:12,  5.01s/file]"
     ]
    },
    {
     "name": "stdout",
     "output_type": "stream",
     "text": [
      "[WARN] 라벨링 누락: say_set2_collectorgs188_speakergs1099_18_0_3_1\n",
      "[WARN] 라벨링 누락: say_set1_collectorgs284_speakergs2337_10_0_22_1\n"
     ]
    },
    {
     "name": "stderr",
     "output_type": "stream",
     "text": [
      "Evaluating:  49%|█████████████████████████████▋                              | 1978/4000 [2:15:55<2:42:13,  4.81s/file]"
     ]
    },
    {
     "name": "stdout",
     "output_type": "stream",
     "text": [
      "[WARN] 라벨링 누락: say_set1_collectorgs135_speakergs1359_29_0_33_1\n",
      "[WARN] 라벨링 누락: say_set1_collectorgs520_speakergs4225_4_0_38_1\n"
     ]
    },
    {
     "name": "stderr",
     "output_type": "stream",
     "text": [
      "Evaluating:  50%|█████████████████████████████▋                              | 1982/4000 [2:16:01<1:43:25,  3.08s/file]"
     ]
    },
    {
     "name": "stdout",
     "output_type": "stream",
     "text": [
      "[WARN] 라벨링 누락: say_set1_collectorgs25_speakergs2215_46_0_20_1\n",
      "[WARN] 라벨링 누락: say_set2_collectorgs131_speakergs1089_36_0_37_1\n",
      "[WARN] 라벨링 누락: say_set1_collectorgs145_speakergs785_29_0_35_1\n",
      "[WARN] 라벨링 누락: say_set1_collectorgs32_speakergs2242_23_0_27_1\n"
     ]
    },
    {
     "name": "stderr",
     "output_type": "stream",
     "text": [
      "Evaluating:  50%|██████████████████████████████▊                               | 1987/4000 [2:16:05<58:36,  1.75s/file]"
     ]
    },
    {
     "name": "stdout",
     "output_type": "stream",
     "text": [
      "[WARN] 라벨링 누락: say_set2_collectorgs474_speakergs4346_67_0_14_1\n",
      "[WARN] 라벨링 누락: say_set2_collectorgs130_speakergs2086_62_0_34_1\n",
      "[WARN] 라벨링 누락: say_set2_collectorgs213_speakergs2400_56_0_22_1\n",
      "[WARN] 라벨링 누락: say_set1_collectorgs344_speakergs3123_25_0_62_1\n"
     ]
    },
    {
     "name": "stderr",
     "output_type": "stream",
     "text": [
      "Evaluating:  50%|█████████████████████████████▉                              | 1993/4000 [2:16:19<1:14:02,  2.21s/file]"
     ]
    },
    {
     "name": "stdout",
     "output_type": "stream",
     "text": [
      "[WARN] 라벨링 누락: say_set1_collectorgs131_speakergs924_70_0_41_1\n"
     ]
    },
    {
     "name": "stderr",
     "output_type": "stream",
     "text": [
      "Evaluating:  50%|█████████████████████████████▉                              | 1995/4000 [2:16:26<1:25:28,  2.56s/file]"
     ]
    },
    {
     "name": "stdout",
     "output_type": "stream",
     "text": [
      "[WARN] 라벨링 누락: say_set1_collectorgs244_speakergs2852_62_0_37_1\n"
     ]
    },
    {
     "name": "stderr",
     "output_type": "stream",
     "text": [
      "Evaluating:  50%|█████████████████████████████▉                              | 1997/4000 [2:16:29<1:14:48,  2.24s/file]"
     ]
    },
    {
     "name": "stdout",
     "output_type": "stream",
     "text": [
      "[WARN] 라벨링 누락: say_set1_collectorgs142_speakergs2534_46_0_37_1\n"
     ]
    },
    {
     "name": "stderr",
     "output_type": "stream",
     "text": [
      "Evaluating:  50%|█████████████████████████████▉                              | 1999/4000 [2:16:35<1:22:35,  2.48s/file]"
     ]
    },
    {
     "name": "stdout",
     "output_type": "stream",
     "text": [
      "[WARN] 라벨링 누락: say_set1_collectorgs437_speakergs4759_8_0_15_1\n"
     ]
    },
    {
     "name": "stderr",
     "output_type": "stream",
     "text": [
      "Evaluating:  50%|██████████████████████████████                              | 2002/4000 [2:16:48<1:51:36,  3.35s/file]"
     ]
    },
    {
     "name": "stdout",
     "output_type": "stream",
     "text": [
      "[WARN] 라벨링 누락: say_set2_collectorgs129_speakergs1921_62_0_25_1\n",
      "[WARN] 라벨링 누락: say_set1_collectorgs414_speakergs3903_58_0_12_1\n"
     ]
    },
    {
     "name": "stderr",
     "output_type": "stream",
     "text": [
      "Evaluating:  50%|██████████████████████████████▏                             | 2015/4000 [2:18:03<4:11:43,  7.61s/file]"
     ]
    },
    {
     "name": "stdout",
     "output_type": "stream",
     "text": [
      "[WARN] 라벨링 누락: say_set1_collectorgs195_speakergs1431_28_0_33_1\n"
     ]
    },
    {
     "name": "stderr",
     "output_type": "stream",
     "text": [
      "Evaluating:  51%|██████████████████████████████▎                             | 2024/4000 [2:19:26<6:08:11, 11.18s/file]"
     ]
    },
    {
     "name": "stdout",
     "output_type": "stream",
     "text": [
      "[WARN] 라벨링 누락: say_set2_collectorgs123_speakergs2363_15_0_26_1\n"
     ]
    },
    {
     "name": "stderr",
     "output_type": "stream",
     "text": [
      "Evaluating:  51%|██████████████████████████████▍                             | 2026/4000 [2:19:29<3:40:54,  6.71s/file]"
     ]
    },
    {
     "name": "stdout",
     "output_type": "stream",
     "text": [
      "[WARN] 라벨링 누락: say_set1_collectorgs128_speakergs1944_56_1_27_1\n"
     ]
    },
    {
     "name": "stderr",
     "output_type": "stream",
     "text": [
      "Evaluating:  51%|██████████████████████████████▍                             | 2028/4000 [2:19:38<3:16:31,  5.98s/file]"
     ]
    },
    {
     "name": "stdout",
     "output_type": "stream",
     "text": [
      "[WARN] 라벨링 누락: say_set2_collectorgs129_speakergs2357_63_0_33_1\n",
      "[WARN] 라벨링 누락: say_set2_collectorgs31_speakergs3687_53_0_38_1\n"
     ]
    },
    {
     "name": "stderr",
     "output_type": "stream",
     "text": [
      "Evaluating:  51%|██████████████████████████████▍                             | 2032/4000 [2:19:57<2:57:16,  5.40s/file]"
     ]
    },
    {
     "name": "stdout",
     "output_type": "stream",
     "text": [
      "[WARN] 라벨링 누락: say_set1_collectorgs160_speakergs901_29_0_39_1\n"
     ]
    },
    {
     "name": "stderr",
     "output_type": "stream",
     "text": [
      "Evaluating:  51%|██████████████████████████████▌                             | 2036/4000 [2:20:16<3:00:44,  5.52s/file]"
     ]
    },
    {
     "name": "stdout",
     "output_type": "stream",
     "text": [
      "[WARN] 라벨링 누락: say_set1_collectorgs242_speakergs2415_33_0_34_1\n",
      "[WARN] 라벨링 누락: say_set1_collectorgs261_speakergs2926_33_0_21_1\n",
      "[WARN] 라벨링 누락: say_set1_collectorgs264_speakergs2162_86_0_12_1\n"
     ]
    },
    {
     "name": "stderr",
     "output_type": "stream",
     "text": [
      "Evaluating:  51%|██████████████████████████████▌                             | 2040/4000 [2:20:25<2:01:00,  3.70s/file]"
     ]
    },
    {
     "name": "stdout",
     "output_type": "stream",
     "text": [
      "[WARN] 라벨링 누락: say_set1_collectorgs160_speakergs926_35_0_33_1\n"
     ]
    },
    {
     "name": "stderr",
     "output_type": "stream",
     "text": [
      "Evaluating:  51%|██████████████████████████████▋                             | 2044/4000 [2:20:40<2:07:55,  3.92s/file]"
     ]
    },
    {
     "name": "stdout",
     "output_type": "stream",
     "text": [
      "[WARN] 라벨링 누락: say_set2_collectorgs129_speakergs2357_34_0_31_1\n",
      "[WARN] 라벨링 누락: say_set1_collectorgs306_speakergs2623_15_0_16_1\n"
     ]
    },
    {
     "name": "stderr",
     "output_type": "stream",
     "text": [
      "Evaluating:  51%|██████████████████████████████▋                             | 2047/4000 [2:20:47<1:46:18,  3.27s/file]"
     ]
    },
    {
     "name": "stdout",
     "output_type": "stream",
     "text": [
      "[WARN] 라벨링 누락: say_set1_collectorgs150_speakergs2662_75_0_34_1\n"
     ]
    },
    {
     "name": "stderr",
     "output_type": "stream",
     "text": [
      "Evaluating:  51%|██████████████████████████████▋                             | 2049/4000 [2:20:55<1:52:47,  3.47s/file]"
     ]
    },
    {
     "name": "stdout",
     "output_type": "stream",
     "text": [
      "[WARN] 라벨링 누락: say_set2_collectorgs119_speakergs1673_56_0_39_1\n"
     ]
    },
    {
     "name": "stderr",
     "output_type": "stream",
     "text": [
      "Evaluating:  51%|██████████████████████████████▊                             | 2053/4000 [2:21:20<2:42:21,  5.00s/file]"
     ]
    },
    {
     "name": "stdout",
     "output_type": "stream",
     "text": [
      "[WARN] 라벨링 누락: say_set1_collectorgs474_speakergs3981_34_0_24_1\n",
      "[WARN] 라벨링 누락: say_set1_collectorgs186_speakergs2874_31_0_24_1\n"
     ]
    },
    {
     "name": "stderr",
     "output_type": "stream",
     "text": [
      "Evaluating:  51%|██████████████████████████████▊                             | 2058/4000 [2:21:43<2:50:03,  5.25s/file]"
     ]
    },
    {
     "name": "stdout",
     "output_type": "stream",
     "text": [
      "[WARN] 라벨링 누락: say_set1_collectorgs261_speakergs3116_36_0_25_1\n",
      "[WARN] 라벨링 누락: say_set1_collectorgs160_speakergs1160_30_1_40_1\n",
      "[WARN] 라벨링 누락: say_set1_collectorgs281_speakergs2838_6_0_39_1\n"
     ]
    },
    {
     "name": "stderr",
     "output_type": "stream",
     "text": [
      "Evaluating:  52%|██████████████████████████████▉                             | 2062/4000 [2:21:52<1:53:51,  3.53s/file]"
     ]
    },
    {
     "name": "stdout",
     "output_type": "stream",
     "text": [
      "[WARN] 라벨링 누락: say_set2_collectorgs160_speakergs3142_45_0_25_1\n",
      "[WARN] 라벨링 누락: say_set1_collectorgs246_speakergs2889_64_0_39_1\n",
      "[WARN] 라벨링 누락: say_set2_collectorgs244_speakergs2310_14_0_26_1\n",
      "[WARN] 라벨링 누락: say_set1_collectorgs506_speakergs3963_35_0_25_1\n"
     ]
    },
    {
     "name": "stderr",
     "output_type": "stream",
     "text": [
      "Evaluating:  52%|███████████████████████████████                             | 2067/4000 [2:22:00<1:23:47,  2.60s/file]"
     ]
    },
    {
     "name": "stdout",
     "output_type": "stream",
     "text": [
      "[WARN] 라벨링 누락: say_set1_collectorgs141_speakergs1425_0_0_34_1\n",
      "[WARN] 라벨링 누락: say_set2_collectorgs504_speakergs4366_47_0_33_1\n",
      "[WARN] 라벨링 누락: say_set1_collectorgs131_speakergs969_61_0_38_1\n"
     ]
    },
    {
     "name": "stderr",
     "output_type": "stream",
     "text": [
      "Evaluating:  52%|███████████████████████████████                             | 2072/4000 [2:22:15<1:35:56,  2.99s/file]"
     ]
    },
    {
     "name": "stdout",
     "output_type": "stream",
     "text": [
      "[WARN] 라벨링 누락: say_set2_collectorgs216_speakergs2872_40_0_14_1\n",
      "[WARN] 라벨링 누락: say_set1_collectorgs81_speakergs1226_44_0_25_1\n"
     ]
    },
    {
     "name": "stderr",
     "output_type": "stream",
     "text": [
      "Evaluating:  52%|███████████████████████████████▏                            | 2076/4000 [2:22:31<1:53:51,  3.55s/file]"
     ]
    },
    {
     "name": "stdout",
     "output_type": "stream",
     "text": [
      "[WARN] 라벨링 누락: say_set1_collectorgs141_speakergs1070_50_0_40_1\n",
      "[WARN] 라벨링 누락: say_set1_collectorgs213_speakergs3302_26_0_8_1\n",
      "[WARN] 라벨링 누락: say_set1_collectorgs377_speakergs3073_1_0_44_1\n",
      "[WARN] 라벨링 누락: say_set2_collectorgs130_speakergs1949_22_0_34_1\n"
     ]
    },
    {
     "name": "stderr",
     "output_type": "stream",
     "text": [
      "Evaluating:  52%|███████████████████████████████▏                            | 2083/4000 [2:22:54<2:05:52,  3.94s/file]"
     ]
    },
    {
     "name": "stdout",
     "output_type": "stream",
     "text": [
      "[WARN] 라벨링 누락: say_set1_collectorgs32_speakergs3109_36_0_29_1\n"
     ]
    },
    {
     "name": "stderr",
     "output_type": "stream",
     "text": [
      "Evaluating:  52%|███████████████████████████████▎                            | 2085/4000 [2:23:01<2:01:36,  3.81s/file]"
     ]
    },
    {
     "name": "stdout",
     "output_type": "stream",
     "text": [
      "[WARN] 라벨링 누락: say_set1_collectorgs186_speakergs2874_7_0_23_1\n",
      "[WARN] 라벨링 누락: say_set2_collectorgs216_speakergs2872_72_0_15_1\n"
     ]
    },
    {
     "name": "stderr",
     "output_type": "stream",
     "text": [
      "Evaluating:  52%|███████████████████████████████▎                            | 2090/4000 [2:23:46<3:59:16,  7.52s/file]"
     ]
    },
    {
     "name": "stdout",
     "output_type": "stream",
     "text": [
      "[WARN] 라벨링 누락: say_set1_collectorgs358_speakergs2636_10_0_26_1\n"
     ]
    },
    {
     "name": "stderr",
     "output_type": "stream",
     "text": [
      "Evaluating:  52%|███████████████████████████████▍                            | 2092/4000 [2:23:55<3:24:14,  6.42s/file]"
     ]
    },
    {
     "name": "stdout",
     "output_type": "stream",
     "text": [
      "[WARN] 라벨링 누락: say_set1_collectorgs219_speakergs2364_16_0_44_1\n",
      "[WARN] 라벨링 누락: say_set2_collectorgs134_speakergs1505_14_0_35_1\n"
     ]
    },
    {
     "name": "stderr",
     "output_type": "stream",
     "text": [
      "Evaluating:  52%|███████████████████████████████▍                            | 2095/4000 [2:24:02<2:31:45,  4.78s/file]"
     ]
    },
    {
     "name": "stdout",
     "output_type": "stream",
     "text": [
      "[WARN] 라벨링 누락: say_set1_collectorgs63_speakergs350_4_0_33_1\n",
      "[WARN] 라벨링 누락: say_set1_collectorgs419_speakergs3607_69_0_21_1\n"
     ]
    },
    {
     "name": "stderr",
     "output_type": "stream",
     "text": [
      "Evaluating:  52%|███████████████████████████████▍                            | 2099/4000 [2:24:16<2:20:17,  4.43s/file]"
     ]
    },
    {
     "name": "stdout",
     "output_type": "stream",
     "text": [
      "[WARN] 라벨링 누락: say_set1_collectorgs242_speakergs2060_78_1_38_1\n"
     ]
    },
    {
     "name": "stderr",
     "output_type": "stream",
     "text": [
      "Evaluating:  53%|███████████████████████████████▌                            | 2101/4000 [2:24:29<2:39:12,  5.03s/file]"
     ]
    },
    {
     "name": "stdout",
     "output_type": "stream",
     "text": [
      "[WARN] 라벨링 누락: say_set1_collectorgs188_speakergs1074_55_0_33_1\n",
      "[WARN] 라벨링 누락: say_set1_collectorgs303_speakergs3616_19_0_31_1\n"
     ]
    },
    {
     "name": "stderr",
     "output_type": "stream",
     "text": [
      "Evaluating:  53%|███████████████████████████████▌                            | 2105/4000 [2:24:42<2:16:01,  4.31s/file]"
     ]
    },
    {
     "name": "stdout",
     "output_type": "stream",
     "text": [
      "[WARN] 라벨링 누락: say_set1_collectorgs115_speakergs790_3_0_28_1\n"
     ]
    },
    {
     "name": "stderr",
     "output_type": "stream",
     "text": [
      "Evaluating:  53%|███████████████████████████████▌                            | 2107/4000 [2:24:51<2:16:58,  4.34s/file]"
     ]
    },
    {
     "name": "stdout",
     "output_type": "stream",
     "text": [
      "[WARN] 라벨링 누락: say_set1_collectorgs238_speakergs3546_58_0_33_1\n"
     ]
    },
    {
     "name": "stderr",
     "output_type": "stream",
     "text": [
      "Evaluating:  53%|███████████████████████████████▋                            | 2110/4000 [2:25:05<2:26:41,  4.66s/file]"
     ]
    },
    {
     "name": "stdout",
     "output_type": "stream",
     "text": [
      "[WARN] 라벨링 누락: say_set1_collectorgs150_speakergs2289_11_0_38_1\n"
     ]
    },
    {
     "name": "stderr",
     "output_type": "stream",
     "text": [
      "Evaluating:  53%|███████████████████████████████▋                            | 2112/4000 [2:25:11<2:05:35,  3.99s/file]"
     ]
    },
    {
     "name": "stdout",
     "output_type": "stream",
     "text": [
      "[WARN] 라벨링 누락: say_set1_collectorgs212_speakergs1574_0_0_44_1\n"
     ]
    },
    {
     "name": "stderr",
     "output_type": "stream",
     "text": [
      "Evaluating:  53%|███████████████████████████████▋                            | 2114/4000 [2:25:19<2:07:09,  4.05s/file]"
     ]
    },
    {
     "name": "stdout",
     "output_type": "stream",
     "text": [
      "[WARN] 라벨링 누락: say_set1_collectorgs25_speakergs1701_15_0_30_1\n"
     ]
    },
    {
     "name": "stderr",
     "output_type": "stream",
     "text": [
      "Evaluating:  53%|███████████████████████████████▋                            | 2116/4000 [2:25:25<1:54:31,  3.65s/file]"
     ]
    },
    {
     "name": "stdout",
     "output_type": "stream",
     "text": [
      "[WARN] 라벨링 누락: say_set1_collectorgs115_speakergs790_43_0_41_1\n",
      "[WARN] 라벨링 누락: say_set1_collectorgs431_speakergs3927_5_0_19_1\n"
     ]
    },
    {
     "name": "stderr",
     "output_type": "stream",
     "text": [
      "Evaluating:  53%|███████████████████████████████▊                            | 2123/4000 [2:26:04<3:02:08,  5.82s/file]"
     ]
    },
    {
     "name": "stdout",
     "output_type": "stream",
     "text": [
      "[WARN] 라벨링 누락: say_set2_collectorgs154_speakergs1508_74_0_33_1\n"
     ]
    },
    {
     "name": "stderr",
     "output_type": "stream",
     "text": [
      "Evaluating:  53%|███████████████████████████████▉                            | 2125/4000 [2:26:10<2:26:34,  4.69s/file]"
     ]
    },
    {
     "name": "stdout",
     "output_type": "stream",
     "text": [
      "[WARN] 라벨링 누락: say_set1_collectorgs493_speakergs3812_26_1_14_1\n",
      "[WARN] 라벨링 누락: say_set2_collectorgs31_speakergs98_28_0_43_1\n"
     ]
    },
    {
     "name": "stderr",
     "output_type": "stream",
     "text": [
      "Evaluating:  53%|███████████████████████████████▉                            | 2129/4000 [2:26:23<2:02:08,  3.92s/file]"
     ]
    },
    {
     "name": "stdout",
     "output_type": "stream",
     "text": [
      "[WARN] 라벨링 누락: say_set1_collectorgs264_speakergs4193_84_0_6_1\n",
      "[WARN] 라벨링 누락: say_set1_collectorgs135_speakergs2448_32_0_33_1\n"
     ]
    },
    {
     "name": "stderr",
     "output_type": "stream",
     "text": [
      "Evaluating:  53%|███████████████████████████████▉                            | 2132/4000 [2:26:27<1:25:55,  2.76s/file]"
     ]
    },
    {
     "name": "stdout",
     "output_type": "stream",
     "text": [
      "[WARN] 라벨링 누락: say_set2_collectorgs444_speakergs3701_9_0_65_1\n"
     ]
    },
    {
     "name": "stderr",
     "output_type": "stream",
     "text": [
      "Evaluating:  53%|████████████████████████████████                            | 2138/4000 [2:27:11<3:18:09,  6.39s/file]"
     ]
    },
    {
     "name": "stdout",
     "output_type": "stream",
     "text": [
      "[WARN] 라벨링 누락: say_set1_collectorgs139_speakergs1106_46_0_40_1\n"
     ]
    },
    {
     "name": "stderr",
     "output_type": "stream",
     "text": [
      "Evaluating:  54%|████████████████████████████████                            | 2140/4000 [2:27:17<2:33:48,  4.96s/file]"
     ]
    },
    {
     "name": "stdout",
     "output_type": "stream",
     "text": [
      "[WARN] 라벨링 누락: say_set1_collectorgs244_speakergs3139_1_0_32_1\n",
      "[WARN] 라벨링 누락: say_set1_collectorgs510_speakergs4110_89_0_21_1\n",
      "[WARN] 라벨링 누락: say_set1_collectorgs357_speakergs2631_53_0_21_1\n"
     ]
    },
    {
     "name": "stderr",
     "output_type": "stream",
     "text": [
      "Evaluating:  54%|████████████████████████████████▏                           | 2145/4000 [2:27:31<1:52:53,  3.65s/file]"
     ]
    },
    {
     "name": "stdout",
     "output_type": "stream",
     "text": [
      "[WARN] 라벨링 누락: say_set2_collectorgs154_speakergs2159_29_0_30_1\n"
     ]
    },
    {
     "name": "stderr",
     "output_type": "stream",
     "text": [
      "Evaluating:  54%|████████████████████████████████▏                           | 2147/4000 [2:27:38<1:51:15,  3.60s/file]"
     ]
    },
    {
     "name": "stdout",
     "output_type": "stream",
     "text": [
      "[WARN] 라벨링 누락: say_set1_collectorgs32_speakergs3686_58_0_43_1\n",
      "[WARN] 라벨링 누락: say_set1_collectorgs233_speakergs2577_1_0_32_1\n"
     ]
    },
    {
     "name": "stderr",
     "output_type": "stream",
     "text": [
      "Evaluating:  54%|████████████████████████████████▎                           | 2151/4000 [2:27:53<2:02:44,  3.98s/file]"
     ]
    },
    {
     "name": "stdout",
     "output_type": "stream",
     "text": [
      "[WARN] 라벨링 누락: say_set1_collectorgs126_speakergs2318_8_0_29_1\n"
     ]
    },
    {
     "name": "stderr",
     "output_type": "stream",
     "text": [
      "Evaluating:  54%|████████████████████████████████▎                           | 2153/4000 [2:27:58<1:45:38,  3.43s/file]"
     ]
    },
    {
     "name": "stdout",
     "output_type": "stream",
     "text": [
      "[WARN] 라벨링 누락: say_set1_collectorgs160_speakergs2307_10_0_33_1\n"
     ]
    },
    {
     "name": "stderr",
     "output_type": "stream",
     "text": [
      "Evaluating:  54%|████████████████████████████████▎                           | 2156/4000 [2:28:11<2:01:19,  3.95s/file]"
     ]
    },
    {
     "name": "stdout",
     "output_type": "stream",
     "text": [
      "[WARN] 라벨링 누락: say_set1_collectorgs384_speakergs3580_25_0_25_1\n",
      "[WARN] 라벨링 누락: say_set2_collectorgs31_speakergs3965_55_0_42_1\n"
     ]
    },
    {
     "name": "stderr",
     "output_type": "stream",
     "text": [
      "Evaluating:  54%|████████████████████████████████▍                           | 2160/4000 [2:28:20<1:37:11,  3.17s/file]"
     ]
    },
    {
     "name": "stdout",
     "output_type": "stream",
     "text": [
      "[WARN] 라벨링 누락: say_set1_collectorgs142_speakergs1200_21_0_35_1\n"
     ]
    },
    {
     "name": "stderr",
     "output_type": "stream",
     "text": [
      "Evaluating:  54%|████████████████████████████████▍                           | 2163/4000 [2:28:30<1:40:05,  3.27s/file]"
     ]
    },
    {
     "name": "stdout",
     "output_type": "stream",
     "text": [
      "[WARN] 라벨링 누락: say_set1_collectorgs143_speakergs1283_64_0_36_1\n",
      "[WARN] 라벨링 누락: say_set1_collectorgs206_speakergs1792_5_0_27_1\n"
     ]
    },
    {
     "name": "stderr",
     "output_type": "stream",
     "text": [
      "Evaluating:  54%|████████████████████████████████▌                           | 2167/4000 [2:28:44<1:48:41,  3.56s/file]"
     ]
    },
    {
     "name": "stdout",
     "output_type": "stream",
     "text": [
      "[WARN] 라벨링 누락: say_set1_collectorgs306_speakergs2531_77_0_11_1\n"
     ]
    },
    {
     "name": "stderr",
     "output_type": "stream",
     "text": [
      "Evaluating:  54%|████████████████████████████████▌                           | 2170/4000 [2:29:00<2:19:19,  4.57s/file]"
     ]
    },
    {
     "name": "stdout",
     "output_type": "stream",
     "text": [
      "[WARN] 라벨링 누락: say_set1_collectorgs303_speakergs3616_52_0_23_1\n",
      "[WARN] 라벨링 누락: say_set2_collectorgs474_speakergs3517_69_0_10_1\n"
     ]
    },
    {
     "name": "stderr",
     "output_type": "stream",
     "text": [
      "Evaluating:  54%|████████████████████████████████▋                           | 2175/4000 [2:29:22<2:24:02,  4.74s/file]"
     ]
    },
    {
     "name": "stdout",
     "output_type": "stream",
     "text": [
      "[WARN] 라벨링 누락: say_set1_collectorgs188_speakergs2903_12_0_19_1\n",
      "[WARN] 라벨링 누락: say_set1_collectorgs261_speakergs2304_50_0_9_1\n"
     ]
    },
    {
     "name": "stderr",
     "output_type": "stream",
     "text": [
      "Evaluating:  54%|████████████████████████████████▋                           | 2178/4000 [2:29:30<1:53:53,  3.75s/file]"
     ]
    },
    {
     "name": "stdout",
     "output_type": "stream",
     "text": [
      "[WARN] 라벨링 누락: say_set1_collectorgs160_speakergs2016_42_0_23_1\n",
      "[WARN] 라벨링 누락: say_set1_collectorgs135_speakergs714_9_0_54_1\n"
     ]
    },
    {
     "name": "stderr",
     "output_type": "stream",
     "text": [
      "Evaluating:  55%|████████████████████████████████▋                           | 2182/4000 [2:29:43<1:54:04,  3.76s/file]"
     ]
    },
    {
     "name": "stdout",
     "output_type": "stream",
     "text": [
      "[WARN] 라벨링 누락: say_set1_collectorgs143_speakergs2490_7_0_30_1\n",
      "[WARN] 라벨링 누락: say_set1_collectorgs474_speakergs3981_43_0_27_1\n"
     ]
    },
    {
     "name": "stderr",
     "output_type": "stream",
     "text": [
      "Evaluating:  55%|████████████████████████████████▊                           | 2185/4000 [2:29:48<1:28:54,  2.94s/file]"
     ]
    },
    {
     "name": "stdout",
     "output_type": "stream",
     "text": [
      "[WARN] 라벨링 누락: say_set1_collectorgs164_speakergs1465_16_0_31_1\n",
      "[WARN] 라벨링 누락: say_set3_collectorgs119_speakergs1225_47_0_55_1\n",
      "[WARN] 라벨링 누락: say_set2_collectorgs244_speakergs2175_54_0_31_1\n",
      "[WARN] 라벨링 누락: say_set1_collectorgs261_speakergs4073_36_0_20_1\n",
      "[WARN] 라벨링 누락: say_set1_collectorgs264_speakergs2162_9_0_6_1\n",
      "[WARN] 라벨링 누락: say_set2_collectorgs160_speakergs3704_50_0_34_1\n",
      "[WARN] 라벨링 누락: say_set2_collectorgs31_speakergs2116_14_0_41_1\n",
      "[WARN] 라벨링 누락: say_set2_collectorgs123_speakergs2695_61_0_17_1\n"
     ]
    },
    {
     "name": "stderr",
     "output_type": "stream",
     "text": [
      "Evaluating:  55%|█████████████████████████████████                           | 2201/4000 [2:30:52<3:02:00,  6.07s/file]"
     ]
    },
    {
     "name": "stdout",
     "output_type": "stream",
     "text": [
      "[WARN] 라벨링 누락: say_set1_collectorgs65_speakergs1201_63_0_29_1\n"
     ]
    },
    {
     "name": "stderr",
     "output_type": "stream",
     "text": [
      "Evaluating:  55%|█████████████████████████████████                           | 2204/4000 [2:31:28<4:22:39,  8.77s/file]"
     ]
    },
    {
     "name": "stdout",
     "output_type": "stream",
     "text": [
      "[WARN] 라벨링 누락: say_set2_collectorgs218_speakergs2641_7_0_13_1\n"
     ]
    },
    {
     "name": "stderr",
     "output_type": "stream",
     "text": [
      "Evaluating:  55%|█████████████████████████████████▏                          | 2211/4000 [2:32:10<3:44:30,  7.53s/file]"
     ]
    },
    {
     "name": "stdout",
     "output_type": "stream",
     "text": [
      "[WARN] 라벨링 누락: say_set1_collectorgs384_speakergs3887_4_0_25_1\n"
     ]
    },
    {
     "name": "stderr",
     "output_type": "stream",
     "text": [
      "Evaluating:  55%|█████████████████████████████████▏                          | 2213/4000 [2:32:15<2:36:07,  5.24s/file]"
     ]
    },
    {
     "name": "stdout",
     "output_type": "stream",
     "text": [
      "[WARN] 라벨링 누락: say_set1_collectorgs503_speakergs4328_37_0_25_1\n"
     ]
    },
    {
     "name": "stderr",
     "output_type": "stream",
     "text": [
      "Evaluating:  55%|█████████████████████████████████▎                          | 2217/4000 [2:32:38<2:56:16,  5.93s/file]"
     ]
    },
    {
     "name": "stdout",
     "output_type": "stream",
     "text": [
      "[WARN] 라벨링 누락: say_set2_collectorgs134_speakergs1896_7_0_32_1\n",
      "[WARN] 라벨링 누락: say_set2_collectorgs504_speakergs3869_20_0_30_1\n",
      "[WARN] 라벨링 누락: say_set1_collectorgs504_speakergs3942_67_0_12_1\n"
     ]
    },
    {
     "name": "stderr",
     "output_type": "stream",
     "text": [
      "Evaluating:  56%|█████████████████████████████████▎                          | 2221/4000 [2:32:46<1:48:16,  3.65s/file]"
     ]
    },
    {
     "name": "stdout",
     "output_type": "stream",
     "text": [
      "[WARN] 라벨링 누락: say_set2_collectorgs119_speakergs2244_62_0_27_1\n",
      "[WARN] 라벨링 누락: say_set1_collectorgs81_speakergs463_29_0_37_1\n",
      "[WARN] 라벨링 누락: say_set1_collectorgs246_speakergs2701_65_0_35_1\n"
     ]
    },
    {
     "name": "stderr",
     "output_type": "stream",
     "text": [
      "Evaluating:  56%|█████████████████████████████████▍                          | 2231/4000 [2:33:41<3:27:39,  7.04s/file]"
     ]
    },
    {
     "name": "stdout",
     "output_type": "stream",
     "text": [
      "[WARN] 라벨링 누락: say_set1_collectorgs376_speakergs3904_7_0_35_1\n"
     ]
    },
    {
     "name": "stderr",
     "output_type": "stream",
     "text": [
      "Evaluating:  56%|█████████████████████████████████▍                          | 2233/4000 [2:33:48<2:45:14,  5.61s/file]"
     ]
    },
    {
     "name": "stdout",
     "output_type": "stream",
     "text": [
      "[WARN] 라벨링 누락: say_set1_collectorgs239_speakergs2024_50_0_34_1\n"
     ]
    },
    {
     "name": "stderr",
     "output_type": "stream",
     "text": [
      "Evaluating:  56%|█████████████████████████████████▌                          | 2238/4000 [2:34:15<2:56:37,  6.01s/file]"
     ]
    },
    {
     "name": "stdout",
     "output_type": "stream",
     "text": [
      "[WARN] 라벨링 누락: say_set1_collectorgs264_speakergs3967_0_0_6_1\n",
      "[WARN] 라벨링 누락: say_set1_collectorgs437_speakergs4759_70_0_31_1\n"
     ]
    },
    {
     "name": "stderr",
     "output_type": "stream",
     "text": [
      "Evaluating:  56%|█████████████████████████████████▌                          | 2241/4000 [2:34:25<2:16:23,  4.65s/file]"
     ]
    },
    {
     "name": "stdout",
     "output_type": "stream",
     "text": [
      "[WARN] 라벨링 누락: say_set1_collectorgs244_speakergs2059_69_0_32_1\n",
      "[WARN] 라벨링 누락: say_set1_collectorgs384_speakergs3684_7_0_48_1\n",
      "[WARN] 라벨링 누락: say_set1_collectorgs381_speakergs3017_26_0_46_1\n",
      "[WARN] 라벨링 누락: say_set1_collectorgs130_speakergs1273_38_0_41_1\n"
     ]
    },
    {
     "name": "stderr",
     "output_type": "stream",
     "text": [
      "Evaluating:  56%|█████████████████████████████████▋                          | 2246/4000 [2:34:35<1:32:20,  3.16s/file]"
     ]
    },
    {
     "name": "stdout",
     "output_type": "stream",
     "text": [
      "[WARN] 라벨링 누락: say_set1_collectorgs281_speakergs2804_31_0_33_1\n"
     ]
    },
    {
     "name": "stderr",
     "output_type": "stream",
     "text": [
      "Evaluating:  56%|█████████████████████████████████▋                          | 2248/4000 [2:34:43<1:39:24,  3.40s/file]"
     ]
    },
    {
     "name": "stdout",
     "output_type": "stream",
     "text": [
      "[WARN] 라벨링 누락: say_set1_collectorgs219_speakergs3598_49_0_23_1\n",
      "[WARN] 라벨링 누락: say_set1_collectorgs135_speakergs929_37_0_34_1\n",
      "[WARN] 라벨링 누락: say_set2_collectorgs123_speakergs2486_75_0_26_1\n",
      "[WARN] 라벨링 누락: say_set2_collectorgs417_speakergs2995_43_0_16_1\n",
      "[WARN] 라벨링 누락: say_set1_collectorgs142_speakergs1349_44_0_36_1\n"
     ]
    },
    {
     "name": "stderr",
     "output_type": "stream",
     "text": [
      "Evaluating:  56%|█████████████████████████████████▊                          | 2254/4000 [2:34:54<1:15:43,  2.60s/file]"
     ]
    },
    {
     "name": "stdout",
     "output_type": "stream",
     "text": [
      "[WARN] 라벨링 누락: say_set1_collectorgs63_speakergs919_52_0_36_1\n"
     ]
    },
    {
     "name": "stderr",
     "output_type": "stream",
     "text": [
      "Evaluating:  56%|█████████████████████████████████▉                          | 2259/4000 [2:35:20<1:56:52,  4.03s/file]"
     ]
    },
    {
     "name": "stdout",
     "output_type": "stream",
     "text": [
      "[WARN] 라벨링 누락: say_set1_collectorgs492_speakergs4118_58_0_11_1\n",
      "[WARN] 라벨링 누락: say_set2_collectorgs264_speakergs2177_60_0_4_1\n",
      "[WARN] 라벨링 누락: say_set2_collectorgs188_speakergs1099_30_0_10_1\n"
     ]
    },
    {
     "name": "stderr",
     "output_type": "stream",
     "text": [
      "Evaluating:  57%|█████████████████████████████████▉                          | 2264/4000 [2:35:38<1:58:35,  4.10s/file]"
     ]
    },
    {
     "name": "stdout",
     "output_type": "stream",
     "text": [
      "[WARN] 라벨링 누락: say_set1_collectorgs380_speakergs4115_16_0_19_1\n"
     ]
    },
    {
     "name": "stderr",
     "output_type": "stream",
     "text": [
      "Evaluating:  57%|██████████████████████████████████                          | 2267/4000 [2:35:53<2:11:36,  4.56s/file]"
     ]
    },
    {
     "name": "stdout",
     "output_type": "stream",
     "text": [
      "[WARN] 라벨링 누락: say_set2_collectorgs129_speakergs1402_25_0_39_1\n"
     ]
    },
    {
     "name": "stderr",
     "output_type": "stream",
     "text": [
      "Evaluating:  57%|██████████████████████████████████                          | 2269/4000 [2:36:03<2:13:35,  4.63s/file]"
     ]
    },
    {
     "name": "stdout",
     "output_type": "stream",
     "text": [
      "[WARN] 라벨링 누락: say_set1_collectorgs246_speakergs2489_21_0_31_1\n",
      "[WARN] 라벨링 누락: say_set1_collectorgs69_speakergs256_14_0_18_1\n",
      "[WARN] 라벨링 누락: say_set1_collectorgs397_speakergs4136_56_0_23_1\n",
      "[WARN] 라벨링 누락: say_set1_collectorgs436_speakergs4107_51_0_13_1\n",
      "[WARN] 라벨링 누락: say_set1_collectorgs154_speakergs1426_37_0_35_1\n",
      "[WARN] 라벨링 누락: say_set1_collectorgs135_speakergs1399_7_0_35_1\n"
     ]
    },
    {
     "name": "stderr",
     "output_type": "stream",
     "text": [
      "Evaluating:  57%|██████████████████████████████████▏                         | 2277/4000 [2:36:18<1:25:14,  2.97s/file]"
     ]
    },
    {
     "name": "stdout",
     "output_type": "stream",
     "text": [
      "[WARN] 라벨링 누락: say_set2_collectorgs303_speakergs3685_20_0_50_1\n"
     ]
    },
    {
     "name": "stderr",
     "output_type": "stream",
     "text": [
      "Evaluating:  57%|██████████████████████████████████▏                         | 2280/4000 [2:36:33<1:49:36,  3.82s/file]"
     ]
    },
    {
     "name": "stdout",
     "output_type": "stream",
     "text": [
      "[WARN] 라벨링 누락: say_set1_collectorgs261_speakergs3603_30_0_6_1\n"
     ]
    },
    {
     "name": "stderr",
     "output_type": "stream",
     "text": [
      "Evaluating:  57%|██████████████████████████████████▏                         | 2282/4000 [2:36:42<1:52:09,  3.92s/file]"
     ]
    },
    {
     "name": "stdout",
     "output_type": "stream",
     "text": [
      "[WARN] 라벨링 누락: say_set1_collectorgs141_speakergs1355_26_0_69_1\n"
     ]
    },
    {
     "name": "stderr",
     "output_type": "stream",
     "text": [
      "Evaluating:  57%|██████████████████████████████████▎                         | 2284/4000 [2:36:50<1:54:18,  4.00s/file]"
     ]
    },
    {
     "name": "stdout",
     "output_type": "stream",
     "text": [
      "[WARN] 라벨링 누락: say_set2_collectorgs123_speakergs2811_38_0_31_1\n",
      "[WARN] 라벨링 누락: say_set1_collectorgs160_speakergs2307_5_0_35_1\n"
     ]
    },
    {
     "name": "stderr",
     "output_type": "stream",
     "text": [
      "Evaluating:  57%|██████████████████████████████████▎                         | 2288/4000 [2:37:05<1:58:32,  4.15s/file]"
     ]
    },
    {
     "name": "stdout",
     "output_type": "stream",
     "text": [
      "[WARN] 라벨링 누락: say_set2_collectorgs154_speakergs2031_3_0_31_1\n",
      "[WARN] 라벨링 누락: say_set1_collectorgs371_speakergs3759_7_0_11_1\n"
     ]
    },
    {
     "name": "stderr",
     "output_type": "stream",
     "text": [
      "Evaluating:  57%|██████████████████████████████████▎                         | 2291/4000 [2:37:09<1:23:20,  2.93s/file]"
     ]
    },
    {
     "name": "stdout",
     "output_type": "stream",
     "text": [
      "[WARN] 라벨링 누락: say_set1_collectorgs448_speakergs4776_64_0_8_1\n"
     ]
    },
    {
     "name": "stderr",
     "output_type": "stream",
     "text": [
      "Evaluating:  57%|██████████████████████████████████▍                         | 2293/4000 [2:37:18<1:35:57,  3.37s/file]"
     ]
    },
    {
     "name": "stdout",
     "output_type": "stream",
     "text": [
      "[WARN] 라벨링 누락: say_set1_collectorgs160_speakergs1276_46_0_30_1\n"
     ]
    },
    {
     "name": "stderr",
     "output_type": "stream",
     "text": [
      "Evaluating:  57%|██████████████████████████████████▍                         | 2296/4000 [2:37:32<1:54:44,  4.04s/file]"
     ]
    },
    {
     "name": "stdout",
     "output_type": "stream",
     "text": [
      "[WARN] 라벨링 누락: say_set1_collectorgs218_speakergs3527_76_0_15_1\n",
      "[WARN] 라벨링 누락: say_set1_collectorgs297_speakergs2599_70_0_28_1\n"
     ]
    },
    {
     "name": "stderr",
     "output_type": "stream",
     "text": [
      "Evaluating:  58%|██████████████████████████████████▌                         | 2303/4000 [2:38:35<3:52:03,  8.20s/file]"
     ]
    },
    {
     "name": "stdout",
     "output_type": "stream",
     "text": [
      "[WARN] 라벨링 누락: say_set1_collectorgs131_speakergs969_47_0_41_1\n",
      "[WARN] 라벨링 누락: say_set2_collectorgs263_speakergs2168_27_0_15_1\n",
      "[WARN] 라벨링 누락: say_set2_collectorgs119_speakergs1208_39_0_63_1\n",
      "[WARN] 라벨링 누락: say_set2_collectorgs123_speakergs2814_56_0_33_1\n",
      "[WARN] 라벨링 누락: say_set1_collectorgs261_speakergs2478_27_0_21_1\n",
      "[WARN] 라벨링 누락: say_set1_collectorgs135_speakergs1963_62_0_31_1\n",
      "[WARN] 라벨링 누락: say_set1_collectorgs25_speakergs2215_48_0_17_1\n",
      "[WARN] 라벨링 누락: say_set1_collectorgs142_speakergs1973_45_0_34_1\n",
      "[WARN] 라벨링 누락: say_set1_collectorgs492_speakergs4445_54_0_36_1\n"
     ]
    },
    {
     "name": "stderr",
     "output_type": "stream",
     "text": [
      "Evaluating:  58%|██████████████████████████████████▋                         | 2313/4000 [2:38:41<1:06:11,  2.35s/file]"
     ]
    },
    {
     "name": "stdout",
     "output_type": "stream",
     "text": [
      "[WARN] 라벨링 누락: say_set1_collectorgs297_speakergs2442_89_0_15_1\n",
      "[WARN] 라벨링 누락: say_set1_collectorgs219_speakergs2450_20_0_49_1\n",
      "[WARN] 라벨링 누락: say_set1_collectorgs207_speakergs2036_69_0_29_1\n",
      "[WARN] 라벨링 누락: say_set2_collectorgs160_speakergs3448_5_0_31_1\n"
     ]
    },
    {
     "name": "stderr",
     "output_type": "stream",
     "text": [
      "Evaluating:  58%|██████████████████████████████████▊                         | 2318/4000 [2:39:15<1:50:33,  3.94s/file]"
     ]
    },
    {
     "name": "stdout",
     "output_type": "stream",
     "text": [
      "[WARN] 라벨링 누락: say_set2_collectorgs129_speakergs1921_49_0_28_1\n"
     ]
    },
    {
     "name": "stderr",
     "output_type": "stream",
     "text": [
      "Evaluating:  58%|██████████████████████████████████▊                         | 2320/4000 [2:39:24<1:52:28,  4.02s/file]"
     ]
    },
    {
     "name": "stdout",
     "output_type": "stream",
     "text": [
      "[WARN] 라벨링 누락: say_set1_collectorgs65_speakergs1201_87_0_31_1\n"
     ]
    },
    {
     "name": "stderr",
     "output_type": "stream",
     "text": [
      "Evaluating:  58%|██████████████████████████████████▊                         | 2322/4000 [2:39:27<1:38:38,  3.53s/file]"
     ]
    },
    {
     "name": "stdout",
     "output_type": "stream",
     "text": [
      "[WARN] 라벨링 누락: say_set1_collectorgs154_speakergs1309_76_0_31_1\n"
     ]
    },
    {
     "name": "stderr",
     "output_type": "stream",
     "text": [
      "Evaluating:  58%|██████████████████████████████████▉                         | 2327/4000 [2:39:49<1:58:07,  4.24s/file]"
     ]
    },
    {
     "name": "stdout",
     "output_type": "stream",
     "text": [
      "[WARN] 라벨링 누락: say_set1_collectorgs150_speakergs2662_49_0_32_1\n",
      "[WARN] 라벨링 누락: say_set1_collectorgs261_speakergs4073_63_0_24_1\n"
     ]
    },
    {
     "name": "stderr",
     "output_type": "stream",
     "text": [
      "Evaluating:  58%|██████████████████████████████████▉                         | 2330/4000 [2:39:58<1:42:39,  3.69s/file]"
     ]
    },
    {
     "name": "stdout",
     "output_type": "stream",
     "text": [
      "[WARN] 라벨링 누락: say_set2_collectorgs145_speakergs1371_31_0_51_1\n",
      "[WARN] 라벨링 누락: say_set2_collectorgs130_speakergs1949_34_0_26_1\n"
     ]
    },
    {
     "name": "stderr",
     "output_type": "stream",
     "text": [
      "Evaluating:  58%|██████████████████████████████████▉                         | 2333/4000 [2:40:06<1:31:16,  3.29s/file]"
     ]
    },
    {
     "name": "stdout",
     "output_type": "stream",
     "text": [
      "[WARN] 라벨링 누락: say_set1_collectorgs150_speakergs1400_59_0_33_1\n"
     ]
    },
    {
     "name": "stderr",
     "output_type": "stream",
     "text": [
      "Evaluating:  58%|███████████████████████████████████                         | 2336/4000 [2:40:22<1:55:53,  4.18s/file]"
     ]
    },
    {
     "name": "stdout",
     "output_type": "stream",
     "text": [
      "[WARN] 라벨링 누락: say_set1_collectorgs244_speakergs2059_12_0_7_1\n"
     ]
    },
    {
     "name": "stderr",
     "output_type": "stream",
     "text": [
      "Evaluating:  58%|███████████████████████████████████                         | 2338/4000 [2:40:30<1:54:52,  4.15s/file]"
     ]
    },
    {
     "name": "stdout",
     "output_type": "stream",
     "text": [
      "[WARN] 라벨링 누락: say_set2_collectorgs123_speakergs2363_69_0_30_1\n"
     ]
    },
    {
     "name": "stderr",
     "output_type": "stream",
     "text": [
      "Evaluating:  59%|███████████████████████████████████                         | 2341/4000 [2:40:42<1:58:45,  4.30s/file]"
     ]
    },
    {
     "name": "stdout",
     "output_type": "stream",
     "text": [
      "[WARN] 라벨링 누락: say_set2_collectorgs307_speakergs2488_10_0_15_1\n"
     ]
    },
    {
     "name": "stderr",
     "output_type": "stream",
     "text": [
      "Evaluating:  59%|███████████████████████████████████▏                        | 2343/4000 [2:40:50<1:57:17,  4.25s/file]"
     ]
    },
    {
     "name": "stdout",
     "output_type": "stream",
     "text": [
      "[WARN] 라벨링 누락: say_set2_collectorgs131_speakergs1089_42_0_42_1\n",
      "[WARN] 라벨링 누락: say_set2_collectorgs154_speakergs1508_13_0_31_1\n",
      "[WARN] 라벨링 누락: say_set2_collectorgs31_speakergs3687_22_0_45_1\n"
     ]
    },
    {
     "name": "stderr",
     "output_type": "stream",
     "text": [
      "Evaluating:  59%|███████████████████████████████████▏                        | 2348/4000 [2:41:02<1:35:02,  3.45s/file]"
     ]
    },
    {
     "name": "stdout",
     "output_type": "stream",
     "text": [
      "[WARN] 라벨링 누락: say_set1_collectorgs466_speakergs4462_10_0_19_1\n",
      "[WARN] 라벨링 누락: say_set1_collectorgs142_speakergs1556_56_0_36_1\n",
      "[WARN] 라벨링 누락: say_set2_collectorgs123_speakergs2811_30_0_31_1\n"
     ]
    },
    {
     "name": "stderr",
     "output_type": "stream",
     "text": [
      "Evaluating:  59%|███████████████████████████████████▎                        | 2354/4000 [2:41:18<1:24:22,  3.08s/file]"
     ]
    },
    {
     "name": "stdout",
     "output_type": "stream",
     "text": [
      "[WARN] 라벨링 누락: say_set1_collectorgs270_speakergs2219_57_0_5_1\n",
      "[WARN] 라벨링 누락: say_set1_collectorgs126_speakergs1960_46_0_35_1\n"
     ]
    },
    {
     "name": "stderr",
     "output_type": "stream",
     "text": [
      "Evaluating:  59%|███████████████████████████████████▎                        | 2357/4000 [2:41:21<1:00:40,  2.22s/file]"
     ]
    },
    {
     "name": "stdout",
     "output_type": "stream",
     "text": [
      "[WARN] 라벨링 누락: say_set1_collectorgs242_speakergs2415_25_0_32_1\n",
      "[WARN] 라벨링 누락: say_set1_collectorgs160_speakergs901_19_0_33_1\n"
     ]
    },
    {
     "name": "stderr",
     "output_type": "stream",
     "text": [
      "Evaluating:  59%|████████████████████████████████████▌                         | 2360/4000 [2:41:25<53:21,  1.95s/file]"
     ]
    },
    {
     "name": "stdout",
     "output_type": "stream",
     "text": [
      "[WARN] 라벨링 누락: say_set1_collectorgs261_speakergs3140_3_0_19_1\n",
      "[WARN] 라벨링 누락: say_set2_collectorgs219_speakergs2286_33_0_24_1\n"
     ]
    },
    {
     "name": "stderr",
     "output_type": "stream",
     "text": [
      "Evaluating:  59%|███████████████████████████████████▍                        | 2364/4000 [2:41:38<1:13:23,  2.69s/file]"
     ]
    },
    {
     "name": "stdout",
     "output_type": "stream",
     "text": [
      "[WARN] 라벨링 누락: say_set1_collectorgs195_speakergs1431_52_0_36_1\n"
     ]
    },
    {
     "name": "stderr",
     "output_type": "stream",
     "text": [
      "Evaluating:  59%|███████████████████████████████████▌                        | 2372/4000 [2:42:21<2:13:18,  4.91s/file]"
     ]
    },
    {
     "name": "stdout",
     "output_type": "stream",
     "text": [
      "[WARN] 라벨링 누락: say_set1_collectorgs437_speakergs4761_29_0_14_1\n"
     ]
    },
    {
     "name": "stderr",
     "output_type": "stream",
     "text": [
      "Evaluating:  59%|███████████████████████████████████▋                        | 2376/4000 [2:42:50<3:04:48,  6.83s/file]"
     ]
    },
    {
     "name": "stdout",
     "output_type": "stream",
     "text": [
      "[WARN] 라벨링 누락: say_set2_collectorgs187_speakergs3015_62_2_39_1\n",
      "[WARN] 라벨링 누락: say_set2_collectorgs504_speakergs4378_64_0_36_1\n",
      "[WARN] 라벨링 누락: say_set1_collectorgs466_speakergs4462_21_0_38_1\n",
      "[WARN] 라벨링 누락: say_set1_collectorgs130_speakergs1273_47_0_34_1\n"
     ]
    },
    {
     "name": "stderr",
     "output_type": "stream",
     "text": [
      "Evaluating:  60%|███████████████████████████████████▋                        | 2383/4000 [2:43:09<1:46:27,  3.95s/file]"
     ]
    },
    {
     "name": "stdout",
     "output_type": "stream",
     "text": [
      "[WARN] 라벨링 누락: say_set2_collectorgs219_speakergs2286_42_0_28_1\n"
     ]
    },
    {
     "name": "stderr",
     "output_type": "stream",
     "text": [
      "Evaluating:  60%|███████████████████████████████████▊                        | 2387/4000 [2:43:31<2:18:13,  5.14s/file]"
     ]
    },
    {
     "name": "stdout",
     "output_type": "stream",
     "text": [
      "[WARN] 라벨링 누락: say_set1_collectorgs292_speakergs2477_5_0_19_1\n"
     ]
    },
    {
     "name": "stderr",
     "output_type": "stream",
     "text": [
      "Evaluating:  60%|███████████████████████████████████▊                        | 2390/4000 [2:43:43<2:10:14,  4.85s/file]"
     ]
    },
    {
     "name": "stdout",
     "output_type": "stream",
     "text": [
      "[WARN] 라벨링 누락: say_set1_collectorgs160_speakergs901_55_0_41_1\n"
     ]
    },
    {
     "name": "stderr",
     "output_type": "stream",
     "text": [
      "Evaluating:  60%|███████████████████████████████████▉                        | 2393/4000 [2:44:01<2:28:14,  5.53s/file]"
     ]
    },
    {
     "name": "stdout",
     "output_type": "stream",
     "text": [
      "[WARN] 라벨링 누락: say_set2_collectorgs223_speakergs1702_6_0_41_1\n",
      "[WARN] 라벨링 누락: say_set1_collectorgs86_speakergs306_15_0_29_1\n"
     ]
    },
    {
     "name": "stderr",
     "output_type": "stream",
     "text": [
      "Evaluating:  60%|███████████████████████████████████▉                        | 2397/4000 [2:44:16<2:11:14,  4.91s/file]"
     ]
    },
    {
     "name": "stdout",
     "output_type": "stream",
     "text": [
      "[WARN] 라벨링 누락: say_set1_collectorgs160_speakergs1777_31_0_41_1\n"
     ]
    },
    {
     "name": "stderr",
     "output_type": "stream",
     "text": [
      "Evaluating:  60%|████████████████████████████████████                        | 2402/4000 [2:44:52<3:07:37,  7.04s/file]"
     ]
    },
    {
     "name": "stdout",
     "output_type": "stream",
     "text": [
      "[WARN] 라벨링 누락: say_set1_collectorgs273_speakergs2813_11_0_39_1\n"
     ]
    },
    {
     "name": "stderr",
     "output_type": "stream",
     "text": [
      "Evaluating:  60%|████████████████████████████████████                        | 2404/4000 [2:45:02<2:46:18,  6.25s/file]"
     ]
    },
    {
     "name": "stdout",
     "output_type": "stream",
     "text": [
      "[WARN] 라벨링 누락: say_set2_collectorgs160_speakergs2928_14_0_36_1\n",
      "[WARN] 라벨링 누락: say_set1_collectorgs201_speakergs2705_22_1_38_1\n"
     ]
    },
    {
     "name": "stderr",
     "output_type": "stream",
     "text": [
      "Evaluating:  60%|████████████████████████████████████                        | 2407/4000 [2:45:11<2:06:18,  4.76s/file]"
     ]
    },
    {
     "name": "stdout",
     "output_type": "stream",
     "text": [
      "[WARN] 라벨링 누락: say_set1_collectorgs73_speakergs2240_6_0_36_1\n"
     ]
    },
    {
     "name": "stderr",
     "output_type": "stream",
     "text": [
      "Evaluating:  60%|████████████████████████████████████▏                       | 2409/4000 [2:45:16<1:48:36,  4.10s/file]"
     ]
    },
    {
     "name": "stdout",
     "output_type": "stream",
     "text": [
      "[WARN] 라벨링 누락: say_set2_collectorgs213_speakergs3108_44_0_61_1\n"
     ]
    },
    {
     "name": "stderr",
     "output_type": "stream",
     "text": [
      "Evaluating:  60%|████████████████████████████████████▏                       | 2412/4000 [2:45:28<1:54:09,  4.31s/file]"
     ]
    },
    {
     "name": "stdout",
     "output_type": "stream",
     "text": [
      "[WARN] 라벨링 누락: say_set1_collectorgs380_speakergs3889_12_0_30_1\n",
      "[WARN] 라벨링 누락: say_set1_collectorgs197_speakergs1700_53_0_35_1\n",
      "[WARN] 라벨링 누락: say_set1_collectorgs474_speakergs4847_72_0_16_1\n"
     ]
    },
    {
     "name": "stderr",
     "output_type": "stream",
     "text": [
      "Evaluating:  60%|████████████████████████████████████▎                       | 2417/4000 [2:45:44<1:42:15,  3.88s/file]"
     ]
    },
    {
     "name": "stdout",
     "output_type": "stream",
     "text": [
      "[WARN] 라벨링 누락: say_set2_collectorgs303_speakergs3281_21_0_26_1\n"
     ]
    },
    {
     "name": "stderr",
     "output_type": "stream",
     "text": [
      "Evaluating:  60%|████████████████████████████████████▎                       | 2420/4000 [2:45:54<1:41:12,  3.84s/file]"
     ]
    },
    {
     "name": "stdout",
     "output_type": "stream",
     "text": [
      "[WARN] 라벨링 누락: say_set3_collectorgs115_speakergs842_37_0_44_1\n",
      "[WARN] 라벨링 누락: say_set2_collectorgs32_speakergs2209_52_0_45_1\n"
     ]
    },
    {
     "name": "stderr",
     "output_type": "stream",
     "text": [
      "Evaluating:  61%|████████████████████████████████████▎                       | 2423/4000 [2:46:04<1:34:26,  3.59s/file]"
     ]
    },
    {
     "name": "stdout",
     "output_type": "stream",
     "text": [
      "[WARN] 라벨링 누락: say_set1_collectorgs278_speakergs2586_43_3_31_1\n",
      "[WARN] 라벨링 누락: say_set2_collectorgs134_speakergs1505_23_0_33_1\n"
     ]
    },
    {
     "name": "stderr",
     "output_type": "stream",
     "text": [
      "Evaluating:  61%|████████████████████████████████████▍                       | 2426/4000 [2:46:09<1:13:55,  2.82s/file]"
     ]
    },
    {
     "name": "stdout",
     "output_type": "stream",
     "text": [
      "[WARN] 라벨링 누락: say_set1_collectorgs376_speakergs3077_15_0_36_1\n",
      "[WARN] 라벨링 누락: say_set1_collectorgs384_speakergs3684_43_0_27_1\n",
      "[WARN] 라벨링 누락: say_set2_collectorgs219_speakergs3698_18_0_41_1\n"
     ]
    },
    {
     "name": "stderr",
     "output_type": "stream",
     "text": [
      "Evaluating:  61%|████████████████████████████████████▍                       | 2433/4000 [2:46:43<2:12:10,  5.06s/file]"
     ]
    },
    {
     "name": "stdout",
     "output_type": "stream",
     "text": [
      "[WARN] 라벨링 누락: say_set1_collectorgs466_speakergs4841_59_0_10_1\n"
     ]
    },
    {
     "name": "stderr",
     "output_type": "stream",
     "text": [
      "Evaluating:  61%|████████████████████████████████████▌                       | 2435/4000 [2:46:55<2:21:21,  5.42s/file]"
     ]
    },
    {
     "name": "stdout",
     "output_type": "stream",
     "text": [
      "[WARN] 라벨링 누락: say_set1_collectorgs160_speakergs1419_25_0_32_1\n",
      "[WARN] 라벨링 누락: say_set2_collectorgs31_speakergs1740_10_0_30_1\n"
     ]
    },
    {
     "name": "stderr",
     "output_type": "stream",
     "text": [
      "Evaluating:  61%|████████████████████████████████████▋                       | 2443/4000 [2:47:45<3:08:28,  7.26s/file]"
     ]
    },
    {
     "name": "stdout",
     "output_type": "stream",
     "text": [
      "[WARN] 라벨링 누락: say_set1_collectorgs131_speakergs969_36_0_36_1\n"
     ]
    },
    {
     "name": "stderr",
     "output_type": "stream",
     "text": [
      "Evaluating:  61%|████████████████████████████████████▋                       | 2445/4000 [2:47:53<2:32:41,  5.89s/file]"
     ]
    },
    {
     "name": "stdout",
     "output_type": "stream",
     "text": [
      "[WARN] 라벨링 누락: say_set1_collectorgs414_speakergs3057_36_0_26_1\n"
     ]
    },
    {
     "name": "stderr",
     "output_type": "stream",
     "text": [
      "Evaluating:  61%|████████████████████████████████████▋                       | 2447/4000 [2:48:03<2:23:15,  5.53s/file]"
     ]
    },
    {
     "name": "stdout",
     "output_type": "stream",
     "text": [
      "[WARN] 라벨링 누락: say_set1_collectorgs282_speakergs2920_17_0_31_1\n"
     ]
    },
    {
     "name": "stderr",
     "output_type": "stream",
     "text": [
      "Evaluating:  61%|████████████████████████████████████▊                       | 2451/4000 [2:48:22<2:20:14,  5.43s/file]"
     ]
    },
    {
     "name": "stdout",
     "output_type": "stream",
     "text": [
      "[WARN] 라벨링 누락: say_set1_collectorgs448_speakergs3575_21_1_7_1\n"
     ]
    },
    {
     "name": "stderr",
     "output_type": "stream",
     "text": [
      "Evaluating:  61%|████████████████████████████████████▊                       | 2453/4000 [2:48:30<2:03:02,  4.77s/file]"
     ]
    },
    {
     "name": "stdout",
     "output_type": "stream",
     "text": [
      "[WARN] 라벨링 누락: say_set1_collectorgs150_speakergs1102_25_0_37_1\n",
      "[WARN] 라벨링 누락: say_set1_collectorgs219_speakergs2703_22_0_21_1\n",
      "[WARN] 라벨링 누락: say_set1_collectorgs141_speakergs1288_57_0_36_1\n",
      "[WARN] 라벨링 누락: say_set2_collectorgs218_speakergs3528_29_0_13_1\n"
     ]
    },
    {
     "name": "stderr",
     "output_type": "stream",
     "text": [
      "Evaluating:  61%|████████████████████████████████████▊                       | 2458/4000 [2:48:39<1:19:16,  3.08s/file]"
     ]
    },
    {
     "name": "stdout",
     "output_type": "stream",
     "text": [
      "[WARN] 라벨링 누락: say_set1_collectorgs216_speakergs1765_27_0_6_1\n",
      "[WARN] 라벨링 누락: say_set1_collectorgs380_speakergs4088_15_0_25_1\n"
     ]
    },
    {
     "name": "stderr",
     "output_type": "stream",
     "text": [
      "Evaluating:  62%|████████████████████████████████████▉                       | 2464/4000 [2:49:13<2:08:42,  5.03s/file]"
     ]
    },
    {
     "name": "stdout",
     "output_type": "stream",
     "text": [
      "[WARN] 라벨링 누락: say_set1_collectorgs142_speakergs1448_27_0_34_1\n"
     ]
    },
    {
     "name": "stderr",
     "output_type": "stream",
     "text": [
      "Evaluating:  62%|█████████████████████████████████████                       | 2470/4000 [2:49:49<2:37:33,  6.18s/file]"
     ]
    },
    {
     "name": "stdout",
     "output_type": "stream",
     "text": [
      "[WARN] 라벨링 누락: say_set1_collectorgs129_speakergs1473_25_0_39_1\n",
      "[WARN] 라벨링 누락: say_set1_collectorgs32_speakergs3282_37_0_26_1\n"
     ]
    },
    {
     "name": "stderr",
     "output_type": "stream",
     "text": [
      "Evaluating:  62%|█████████████████████████████████████                       | 2474/4000 [2:50:01<1:47:31,  4.23s/file]"
     ]
    },
    {
     "name": "stdout",
     "output_type": "stream",
     "text": [
      "[WARN] 라벨링 누락: say_set1_collectorgs436_speakergs4153_29_0_8_1\n",
      "[WARN] 라벨링 누락: say_set1_collectorgs287_speakergs2711_6_1_11_1\n",
      "[WARN] 라벨링 누락: say_set1_collectorgs198_speakergs1996_12_0_27_1\n",
      "[WARN] 라벨링 누락: say_set1_collectorgs297_speakergs2442_61_0_35_1\n"
     ]
    },
    {
     "name": "stderr",
     "output_type": "stream",
     "text": [
      "Evaluating:  62%|█████████████████████████████████████▏                      | 2483/4000 [2:50:27<1:36:07,  3.80s/file]"
     ]
    },
    {
     "name": "stdout",
     "output_type": "stream",
     "text": [
      "[WARN] 라벨링 누락: say_set1_collectorgs142_speakergs2301_52_0_32_1\n"
     ]
    },
    {
     "name": "stderr",
     "output_type": "stream",
     "text": [
      "Evaluating:  62%|█████████████████████████████████████▎                      | 2485/4000 [2:50:31<1:19:39,  3.15s/file]"
     ]
    },
    {
     "name": "stdout",
     "output_type": "stream",
     "text": [
      "[WARN] 라벨링 누락: say_set2_collectorgs155_speakergs736_20_0_37_1\n",
      "[WARN] 라벨링 누락: say_set2_collectorgs129_speakergs1261_39_0_29_1\n",
      "[WARN] 라벨링 누락: say_set1_collectorgs261_speakergs2478_6_0_6_1\n",
      "[WARN] 라벨링 누락: say_set2_collectorgs264_speakergs2177_28_0_6_1\n"
     ]
    },
    {
     "name": "stderr",
     "output_type": "stream",
     "text": [
      "Evaluating:  62%|██████████████████████████████████████▌                       | 2490/4000 [2:50:40<59:37,  2.37s/file]"
     ]
    },
    {
     "name": "stdout",
     "output_type": "stream",
     "text": [
      "[WARN] 라벨링 누락: say_set1_collectorgs150_speakergs2289_34_0_32_1\n"
     ]
    },
    {
     "name": "stderr",
     "output_type": "stream",
     "text": [
      "Evaluating:  62%|█████████████████████████████████████▍                      | 2492/4000 [2:50:49<1:12:36,  2.89s/file]"
     ]
    },
    {
     "name": "stdout",
     "output_type": "stream",
     "text": [
      "[WARN] 라벨링 누락: say_set1_collectorgs219_speakergs3598_37_0_38_1\n"
     ]
    },
    {
     "name": "stderr",
     "output_type": "stream",
     "text": [
      "Evaluating:  62%|█████████████████████████████████████▍                      | 2494/4000 [2:50:59<1:26:07,  3.43s/file]"
     ]
    },
    {
     "name": "stdout",
     "output_type": "stream",
     "text": [
      "[WARN] 라벨링 누락: say_set1_collectorgs390_speakergs3977_24_0_30_1\n",
      "[WARN] 라벨링 누락: say_set2_collectorgs144_speakergs2142_36_0_46_1\n",
      "[WARN] 라벨링 누락: say_set2_collectorgs31_speakergs3877_54_0_33_1\n",
      "[WARN] 라벨링 누락: say_set1_collectorgs150_speakergs2361_34_0_41_1\n"
     ]
    },
    {
     "name": "stderr",
     "output_type": "stream",
     "text": [
      "Evaluating:  62%|█████████████████████████████████████▌                      | 2500/4000 [2:51:12<1:12:44,  2.91s/file]"
     ]
    },
    {
     "name": "stdout",
     "output_type": "stream",
     "text": [
      "[WARN] 라벨링 누락: say_set1_collectorgs390_speakergs3627_17_0_29_1\n",
      "[WARN] 라벨링 누락: say_set1_collectorgs380_speakergs3728_24_0_25_1\n"
     ]
    },
    {
     "name": "stderr",
     "output_type": "stream",
     "text": [
      "Evaluating:  63%|█████████████████████████████████████▋                      | 2510/4000 [2:52:15<2:48:54,  6.80s/file]"
     ]
    },
    {
     "name": "stdout",
     "output_type": "stream",
     "text": [
      "[WARN] 라벨링 누락: say_set1_collectorgs154_speakergs1142_58_0_30_1\n"
     ]
    },
    {
     "name": "stderr",
     "output_type": "stream",
     "text": [
      "Evaluating:  63%|█████████████████████████████████████▋                      | 2513/4000 [2:52:27<2:19:53,  5.64s/file]"
     ]
    },
    {
     "name": "stdout",
     "output_type": "stream",
     "text": [
      "[WARN] 라벨링 누락: say_set1_collectorgs73_speakergs1717_25_0_34_1\n"
     ]
    },
    {
     "name": "stderr",
     "output_type": "stream",
     "text": [
      "Evaluating:  63%|█████████████████████████████████████▋                      | 2516/4000 [2:52:39<2:00:28,  4.87s/file]"
     ]
    },
    {
     "name": "stdout",
     "output_type": "stream",
     "text": [
      "[WARN] 라벨링 누락: say_set1_collectorgs143_speakergs2316_42_0_30_1\n"
     ]
    },
    {
     "name": "stderr",
     "output_type": "stream",
     "text": [
      "Evaluating:  63%|█████████████████████████████████████▊                      | 2518/4000 [2:53:12<3:53:34,  9.46s/file]"
     ]
    },
    {
     "name": "stdout",
     "output_type": "stream",
     "text": [
      "[WARN] 라벨링 누락: say_set1_collectorgs201_speakergs2705_28_0_24_1\n"
     ]
    },
    {
     "name": "stderr",
     "output_type": "stream",
     "text": [
      "Evaluating:  63%|█████████████████████████████████████▊                      | 2523/4000 [2:53:38<2:49:14,  6.88s/file]"
     ]
    },
    {
     "name": "stdout",
     "output_type": "stream",
     "text": [
      "[WARN] 라벨링 누락: say_set1_collectorgs32_speakergs967_31_0_33_1\n",
      "[WARN] 라벨링 누락: say_set2_collectorgs276_speakergs3070_1_0_15_1\n",
      "[WARN] 라벨링 누락: say_set1_collectorgs81_speakergs2241_28_0_30_1\n"
     ]
    },
    {
     "name": "stderr",
     "output_type": "stream",
     "text": [
      "Evaluating:  63%|█████████████████████████████████████▉                      | 2530/4000 [2:54:08<2:16:50,  5.59s/file]"
     ]
    },
    {
     "name": "stdout",
     "output_type": "stream",
     "text": [
      "[WARN] 라벨링 누락: say_set3_collectorgs119_speakergs1110_59_0_79_1\n",
      "[WARN] 라벨링 누락: say_set1_collectorgs436_speakergs3655_70_1_13_1\n",
      "[WARN] 라벨링 누락: say_set1_collectorgs64_speakergs1202_51_0_42_1\n",
      "[WARN] 라벨링 누락: say_set1_collectorgs475_speakergs3890_0_0_20_1\n"
     ]
    },
    {
     "name": "stderr",
     "output_type": "stream",
     "text": [
      "Evaluating:  63%|██████████████████████████████████████                      | 2535/4000 [2:54:15<1:14:57,  3.07s/file]"
     ]
    },
    {
     "name": "stdout",
     "output_type": "stream",
     "text": [
      "[WARN] 라벨링 누락: say_set2_collectorgs119_speakergs1237_43_0_43_1\n",
      "[WARN] 라벨링 누락: say_set1_collectorgs448_speakergs3465_22_0_18_1\n"
     ]
    },
    {
     "name": "stderr",
     "output_type": "stream",
     "text": [
      "Evaluating:  63%|███████████████████████████████████████▎                      | 2538/4000 [2:54:18<57:24,  2.36s/file]"
     ]
    },
    {
     "name": "stdout",
     "output_type": "stream",
     "text": [
      "[WARN] 라벨링 누락: say_set1_collectorgs206_speakergs1514_58_0_10_1\n",
      "[WARN] 라벨링 누락: say_set2_collectorgs160_speakergs2884_13_0_36_1\n"
     ]
    },
    {
     "name": "stderr",
     "output_type": "stream",
     "text": [
      "Evaluating:  64%|██████████████████████████████████████                      | 2541/4000 [2:54:27<1:02:23,  2.57s/file]"
     ]
    },
    {
     "name": "stdout",
     "output_type": "stream",
     "text": [
      "[WARN] 라벨링 누락: say_set1_collectorgs237_speakergs3842_23_0_26_1\n",
      "[WARN] 라벨링 누락: say_set1_collectorgs357_speakergs2631_4_0_6_1\n",
      "[WARN] 라벨링 누락: say_set1_collectorgs103_speakergs389_5_0_42_1\n"
     ]
    },
    {
     "name": "stderr",
     "output_type": "stream",
     "text": [
      "Evaluating:  64%|██████████████████████████████████████▏                     | 2546/4000 [2:54:47<1:22:44,  3.41s/file]"
     ]
    },
    {
     "name": "stdout",
     "output_type": "stream",
     "text": [
      "[WARN] 라벨링 누락: say_set1_collectorgs206_speakergs1510_16_0_6_1\n"
     ]
    },
    {
     "name": "stderr",
     "output_type": "stream",
     "text": [
      "Evaluating:  64%|██████████████████████████████████████▏                     | 2549/4000 [2:55:04<1:45:21,  4.36s/file]"
     ]
    },
    {
     "name": "stdout",
     "output_type": "stream",
     "text": [
      "[WARN] 라벨링 누락: say_set1_collectorgs163_speakergs1006_25_0_33_1\n"
     ]
    },
    {
     "name": "stderr",
     "output_type": "stream",
     "text": [
      "Evaluating:  64%|██████████████████████████████████████▎                     | 2553/4000 [2:55:32<2:28:32,  6.16s/file]"
     ]
    },
    {
     "name": "stdout",
     "output_type": "stream",
     "text": [
      "[WARN] 라벨링 누락: say_set1_collectorgs267_speakergs2213_54_0_49_1\n"
     ]
    },
    {
     "name": "stderr",
     "output_type": "stream",
     "text": [
      "Evaluating:  64%|██████████████████████████████████████▎                     | 2555/4000 [2:55:41<2:14:31,  5.59s/file]"
     ]
    },
    {
     "name": "stdout",
     "output_type": "stream",
     "text": [
      "[WARN] 라벨링 누락: say_set1_collectorgs466_speakergs4354_12_0_31_1\n",
      "[WARN] 라벨링 누락: say_set1_collectorgs482_speakergs4216_74_0_6_1\n"
     ]
    },
    {
     "name": "stderr",
     "output_type": "stream",
     "text": [
      "Evaluating:  64%|██████████████████████████████████████▍                     | 2559/4000 [2:55:58<2:02:52,  5.12s/file]"
     ]
    },
    {
     "name": "stdout",
     "output_type": "stream",
     "text": [
      "[WARN] 라벨링 누락: say_set1_collectorgs437_speakergs4761_24_0_27_1\n",
      "[WARN] 라벨링 누락: say_set1_collectorgs492_speakergs4118_46_3_8_1\n",
      "[WARN] 라벨링 누락: say_set1_collectorgs126_speakergs2318_44_0_34_1\n",
      "[WARN] 라벨링 누락: say_set1_collectorgs302_speakergs2617_48_0_26_1\n",
      "[WARN] 라벨링 누락: say_set2_collectorgs474_speakergs4346_48_0_8_1\n",
      "[WARN] 라벨링 누락: say_set1_collectorgs390_speakergs3826_1_0_21_1\n"
     ]
    },
    {
     "name": "stderr",
     "output_type": "stream",
     "text": [
      "Evaluating:  64%|██████████████████████████████████████▌                     | 2567/4000 [2:56:19<1:27:35,  3.67s/file]"
     ]
    },
    {
     "name": "stdout",
     "output_type": "stream",
     "text": [
      "[WARN] 라벨링 누락: say_set1_collectorgs297_speakergs2599_30_0_12_1\n",
      "[WARN] 라벨링 누락: say_set1_collectorgs284_speakergs2337_52_0_31_1\n"
     ]
    },
    {
     "name": "stderr",
     "output_type": "stream",
     "text": [
      "Evaluating:  64%|██████████████████████████████████████▌                     | 2572/4000 [2:56:43<1:53:28,  4.77s/file]"
     ]
    },
    {
     "name": "stdout",
     "output_type": "stream",
     "text": [
      "[WARN] 라벨링 누락: say_set1_collectorgs266_speakergs2595_51_0_26_1\n"
     ]
    },
    {
     "name": "stderr",
     "output_type": "stream",
     "text": [
      "Evaluating:  64%|██████████████████████████████████████▌                     | 2574/4000 [2:56:47<1:30:15,  3.80s/file]"
     ]
    },
    {
     "name": "stdout",
     "output_type": "stream",
     "text": [
      "[WARN] 라벨링 누락: say_set1_collectorgs135_speakergs2066_37_0_31_1\n",
      "[WARN] 라벨링 누락: say_set1_collectorgs261_speakergs3635_56_0_37_1\n"
     ]
    },
    {
     "name": "stderr",
     "output_type": "stream",
     "text": [
      "Evaluating:  64%|██████████████████████████████████████▋                     | 2578/4000 [2:56:58<1:25:06,  3.59s/file]"
     ]
    },
    {
     "name": "stdout",
     "output_type": "stream",
     "text": [
      "[WARN] 라벨링 누락: say_set2_collectorgs129_speakergs2357_17_0_33_1\n"
     ]
    },
    {
     "name": "stderr",
     "output_type": "stream",
     "text": [
      "Evaluating:  64%|██████████████████████████████████████▋                     | 2580/4000 [2:57:00<1:06:02,  2.79s/file]"
     ]
    },
    {
     "name": "stdout",
     "output_type": "stream",
     "text": [
      "[WARN] 라벨링 누락: say_set1_collectorgs142_speakergs2534_4_0_28_1\n"
     ]
    },
    {
     "name": "stderr",
     "output_type": "stream",
     "text": [
      "Evaluating:  65%|██████████████████████████████████████▋                     | 2582/4000 [2:57:08<1:12:48,  3.08s/file]"
     ]
    },
    {
     "name": "stdout",
     "output_type": "stream",
     "text": [
      "[WARN] 라벨링 누락: say_set1_collectorgs515_speakergs4106_69_0_19_1\n"
     ]
    },
    {
     "name": "stderr",
     "output_type": "stream",
     "text": [
      "Evaluating:  65%|██████████████████████████████████████▊                     | 2584/4000 [2:57:15<1:18:10,  3.31s/file]"
     ]
    },
    {
     "name": "stdout",
     "output_type": "stream",
     "text": [
      "[WARN] 라벨링 누락: say_set2_collectorgs218_speakergs2428_72_0_12_1\n",
      "[WARN] 라벨링 누락: say_set1_collectorgs261_speakergs2304_10_0_10_1\n"
     ]
    },
    {
     "name": "stderr",
     "output_type": "stream",
     "text": [
      "Evaluating:  65%|██████████████████████████████████████▊                     | 2587/4000 [2:57:22<1:09:10,  2.94s/file]"
     ]
    },
    {
     "name": "stdout",
     "output_type": "stream",
     "text": [
      "[WARN] 라벨링 누락: say_set1_collectorgs130_speakergs2269_6_0_41_1\n"
     ]
    },
    {
     "name": "stderr",
     "output_type": "stream",
     "text": [
      "Evaluating:  65%|██████████████████████████████████████▊                     | 2589/4000 [2:57:29<1:12:02,  3.06s/file]"
     ]
    },
    {
     "name": "stdout",
     "output_type": "stream",
     "text": [
      "[WARN] 라벨링 누락: say_set1_collectorgs484_speakergs3768_34_0_12_1\n"
     ]
    },
    {
     "name": "stderr",
     "output_type": "stream",
     "text": [
      "Evaluating:  65%|██████████████████████████████████████▉                     | 2593/4000 [2:57:50<1:45:55,  4.52s/file]"
     ]
    },
    {
     "name": "stdout",
     "output_type": "stream",
     "text": [
      "[WARN] 라벨링 누락: say_set1_collectorgs160_speakergs2384_50_0_16_1\n"
     ]
    },
    {
     "name": "stderr",
     "output_type": "stream",
     "text": [
      "Evaluating:  65%|██████████████████████████████████████▉                     | 2595/4000 [2:58:03<2:00:57,  5.17s/file]"
     ]
    },
    {
     "name": "stdout",
     "output_type": "stream",
     "text": [
      "[WARN] 라벨링 누락: say_set2_collectorgs244_speakergs3452_51_0_42_1\n"
     ]
    },
    {
     "name": "stderr",
     "output_type": "stream",
     "text": [
      "Evaluating:  65%|██████████████████████████████████████▉                     | 2597/4000 [2:58:10<1:49:01,  4.66s/file]"
     ]
    },
    {
     "name": "stdout",
     "output_type": "stream",
     "text": [
      "[WARN] 라벨링 누락: say_set1_collectorgs384_speakergs4054_36_0_43_1\n"
     ]
    },
    {
     "name": "stderr",
     "output_type": "stream",
     "text": [
      "Evaluating:  65%|███████████████████████████████████████                     | 2601/4000 [2:58:32<2:03:04,  5.28s/file]"
     ]
    },
    {
     "name": "stdout",
     "output_type": "stream",
     "text": [
      "[WARN] 라벨링 누락: say_set1_collectorgs160_speakergs973_3_0_33_1\n"
     ]
    },
    {
     "name": "stderr",
     "output_type": "stream",
     "text": [
      "Evaluating:  65%|███████████████████████████████████████                     | 2603/4000 [2:58:37<1:39:05,  4.26s/file]"
     ]
    },
    {
     "name": "stdout",
     "output_type": "stream",
     "text": [
      "[WARN] 라벨링 누락: say_set1_collectorgs150_speakergs2001_73_0_34_1\n"
     ]
    },
    {
     "name": "stderr",
     "output_type": "stream",
     "text": [
      "Evaluating:  65%|███████████████████████████████████████                     | 2605/4000 [2:58:45<1:35:58,  4.13s/file]"
     ]
    },
    {
     "name": "stdout",
     "output_type": "stream",
     "text": [
      "[WARN] 라벨링 누락: say_set2_collectorgs160_speakergs2541_0_0_13_1\n"
     ]
    },
    {
     "name": "stderr",
     "output_type": "stream",
     "text": [
      "Evaluating:  65%|███████████████████████████████████████                     | 2608/4000 [2:59:02<1:53:46,  4.90s/file]"
     ]
    },
    {
     "name": "stdout",
     "output_type": "stream",
     "text": [
      "[WARN] 라벨링 누락: say_set1_collectorgs130_speakergs1111_69_0_38_1\n"
     ]
    },
    {
     "name": "stderr",
     "output_type": "stream",
     "text": [
      "Evaluating:  65%|███████████████████████████████████████▏                    | 2611/4000 [2:59:17<1:56:54,  5.05s/file]"
     ]
    },
    {
     "name": "stdout",
     "output_type": "stream",
     "text": [
      "[WARN] 라벨링 누락: say_set1_collectorgs130_speakergs2269_35_0_34_1\n"
     ]
    },
    {
     "name": "stderr",
     "output_type": "stream",
     "text": [
      "Evaluating:  65%|███████████████████████████████████████▏                    | 2616/4000 [2:59:50<2:41:08,  6.99s/file]"
     ]
    },
    {
     "name": "stdout",
     "output_type": "stream",
     "text": [
      "[WARN] 라벨링 누락: say_set1_collectorgs245_speakergs2311_5_0_34_1\n"
     ]
    },
    {
     "name": "stderr",
     "output_type": "stream",
     "text": [
      "Evaluating:  66%|███████████████████████████████████████▎                    | 2622/4000 [3:00:24<2:30:12,  6.54s/file]"
     ]
    },
    {
     "name": "stdout",
     "output_type": "stream",
     "text": [
      "[WARN] 라벨링 누락: say_set1_collectorgs390_speakergs4062_14_0_30_1\n"
     ]
    },
    {
     "name": "stderr",
     "output_type": "stream",
     "text": [
      "Evaluating:  66%|███████████████████████████████████████▎                    | 2624/4000 [3:00:31<1:55:02,  5.02s/file]"
     ]
    },
    {
     "name": "stdout",
     "output_type": "stream",
     "text": [
      "[WARN] 라벨링 누락: say_set1_collectorgs130_speakergs1111_39_0_37_1\n",
      "[WARN] 라벨링 누락: say_set2_collectorgs213_speakergs3211_13_0_25_1\n"
     ]
    },
    {
     "name": "stderr",
     "output_type": "stream",
     "text": [
      "Evaluating:  66%|███████████████████████████████████████▍                    | 2628/4000 [3:00:46<1:42:12,  4.47s/file]"
     ]
    },
    {
     "name": "stdout",
     "output_type": "stream",
     "text": [
      "[WARN] 라벨링 누락: say_set1_collectorgs219_speakergs2893_44_0_13_1\n",
      "[WARN] 라벨링 누락: say_set1_collectorgs266_speakergs2595_43_0_22_1\n"
     ]
    },
    {
     "name": "stderr",
     "output_type": "stream",
     "text": [
      "Evaluating:  66%|███████████████████████████████████████▍                    | 2632/4000 [3:00:57<1:27:30,  3.84s/file]"
     ]
    },
    {
     "name": "stdout",
     "output_type": "stream",
     "text": [
      "[WARN] 라벨링 누락: say_set1_collectorgs131_speakergs1275_40_0_39_1\n",
      "[WARN] 라벨링 누락: say_set2_collectorgs448_speakergs4776_81_0_6_1\n"
     ]
    },
    {
     "name": "stderr",
     "output_type": "stream",
     "text": [
      "Evaluating:  66%|███████████████████████████████████████▌                    | 2636/4000 [3:01:10<1:19:55,  3.52s/file]"
     ]
    },
    {
     "name": "stdout",
     "output_type": "stream",
     "text": [
      "[WARN] 라벨링 누락: say_set1_collectorgs216_speakergs1765_55_0_24_1\n",
      "[WARN] 라벨링 누락: say_set1_collectorgs150_speakergs1102_13_0_35_1\n",
      "[WARN] 라벨링 누락: say_set2_collectorgs282_speakergs2493_28_0_47_1\n",
      "[WARN] 라벨링 누락: say_set1_collectorgs278_speakergs2586_4_1_23_1\n"
     ]
    },
    {
     "name": "stderr",
     "output_type": "stream",
     "text": [
      "Evaluating:  66%|███████████████████████████████████████▋                    | 2642/4000 [3:01:22<1:04:22,  2.84s/file]"
     ]
    },
    {
     "name": "stdout",
     "output_type": "stream",
     "text": [
      "[WARN] 라벨링 누락: say_set1_collectorgs306_speakergs2531_50_0_13_1\n"
     ]
    },
    {
     "name": "stderr",
     "output_type": "stream",
     "text": [
      "Evaluating:  66%|████████████████████████████████████████▉                     | 2644/4000 [3:01:26<55:57,  2.48s/file]"
     ]
    },
    {
     "name": "stdout",
     "output_type": "stream",
     "text": [
      "[WARN] 라벨링 누락: say_set1_collectorgs376_speakergs2827_32_0_16_1\n",
      "[WARN] 라벨링 누락: say_set2_collectorgs64_speakergs1675_60_0_34_1\n"
     ]
    },
    {
     "name": "stderr",
     "output_type": "stream",
     "text": [
      "Evaluating:  66%|███████████████████████████████████████▊                    | 2651/4000 [3:01:54<1:44:49,  4.66s/file]"
     ]
    },
    {
     "name": "stdout",
     "output_type": "stream",
     "text": [
      "[WARN] 라벨링 누락: say_set1_collectorgs431_speakergs3927_68_0_16_1\n"
     ]
    },
    {
     "name": "stderr",
     "output_type": "stream",
     "text": [
      "Evaluating:  66%|███████████████████████████████████████▊                    | 2655/4000 [3:02:18<2:08:17,  5.72s/file]"
     ]
    },
    {
     "name": "stdout",
     "output_type": "stream",
     "text": [
      "[WARN] 라벨링 누락: say_set1_collectorgs212_speakergs3106_78_0_26_1\n"
     ]
    },
    {
     "name": "stderr",
     "output_type": "stream",
     "text": [
      "Evaluating:  66%|███████████████████████████████████████▉                    | 2660/4000 [3:02:46<2:17:48,  6.17s/file]"
     ]
    },
    {
     "name": "stdout",
     "output_type": "stream",
     "text": [
      "[WARN] 라벨링 누락: say_set1_collectorgs139_speakergs2358_57_0_31_1\n"
     ]
    },
    {
     "name": "stderr",
     "output_type": "stream",
     "text": [
      "Evaluating:  67%|███████████████████████████████████████▉                    | 2663/4000 [3:03:01<2:06:07,  5.66s/file]"
     ]
    },
    {
     "name": "stdout",
     "output_type": "stream",
     "text": [
      "[WARN] 라벨링 누락: say_set2_collectorgs31_speakergs2418_60_0_38_1\n"
     ]
    },
    {
     "name": "stderr",
     "output_type": "stream",
     "text": [
      "Evaluating:  67%|████████████████████████████████████████                    | 2667/4000 [3:03:21<2:01:17,  5.46s/file]"
     ]
    },
    {
     "name": "stdout",
     "output_type": "stream",
     "text": [
      "[WARN] 라벨링 누락: say_set1_collectorgs246_speakergs2397_76_0_34_1\n",
      "[WARN] 라벨링 누락: say_set1_collectorgs142_speakergs2470_38_0_36_1\n"
     ]
    },
    {
     "name": "stderr",
     "output_type": "stream",
     "text": [
      "Evaluating:  67%|████████████████████████████████████████                    | 2670/4000 [3:03:31<1:37:45,  4.41s/file]"
     ]
    },
    {
     "name": "stdout",
     "output_type": "stream",
     "text": [
      "[WARN] 라벨링 누락: say_set1_collectorgs250_speakergs3638_82_0_62_1\n"
     ]
    },
    {
     "name": "stderr",
     "output_type": "stream",
     "text": [
      "Evaluating:  67%|████████████████████████████████████████                    | 2673/4000 [3:03:44<1:38:31,  4.45s/file]"
     ]
    },
    {
     "name": "stdout",
     "output_type": "stream",
     "text": [
      "[WARN] 라벨링 누락: say_set1_collectorgs242_speakergs2029_28_0_48_1\n",
      "[WARN] 라벨링 누락: say_set1_collectorgs377_speakergs3854_44_0_40_1\n"
     ]
    },
    {
     "name": "stderr",
     "output_type": "stream",
     "text": [
      "Evaluating:  67%|████████████████████████████████████████▏                   | 2676/4000 [3:03:53<1:25:23,  3.87s/file]"
     ]
    },
    {
     "name": "stdout",
     "output_type": "stream",
     "text": [
      "[WARN] 라벨링 누락: say_set2_collectorgs160_speakergs2683_59_0_36_1\n",
      "[WARN] 라벨링 누락: say_set1_collectorgs356_speakergs2905_2_0_3_1\n"
     ]
    },
    {
     "name": "stderr",
     "output_type": "stream",
     "text": [
      "Evaluating:  67%|████████████████████████████████████████▏                   | 2680/4000 [3:04:10<1:34:13,  4.28s/file]"
     ]
    },
    {
     "name": "stdout",
     "output_type": "stream",
     "text": [
      "[WARN] 라벨링 누락: say_set1_collectorgs377_speakergs3236_21_0_38_1\n",
      "[WARN] 라벨링 누락: say_set1_collectorgs264_speakergs2173_55_0_7_1\n"
     ]
    },
    {
     "name": "stderr",
     "output_type": "stream",
     "text": [
      "Evaluating:  67%|████████████████████████████████████████▏                   | 2683/4000 [3:04:18<1:19:58,  3.64s/file]"
     ]
    },
    {
     "name": "stdout",
     "output_type": "stream",
     "text": [
      "[WARN] 라벨링 누락: say_set1_collectorgs130_speakergs2052_5_0_30_1\n",
      "[WARN] 라벨링 누락: say_set2_collectorgs160_speakergs3704_16_0_36_1\n",
      "[WARN] 라벨링 누락: say_set2_collectorgs474_speakergs3517_23_0_15_1\n"
     ]
    },
    {
     "name": "stderr",
     "output_type": "stream",
     "text": [
      "Evaluating:  67%|█████████████████████████████████████████▋                    | 2687/4000 [3:04:22<54:39,  2.50s/file]"
     ]
    },
    {
     "name": "stdout",
     "output_type": "stream",
     "text": [
      "[WARN] 라벨링 누락: say_set1_collectorgs81_speakergs1174_26_0_33_1\n"
     ]
    },
    {
     "name": "stderr",
     "output_type": "stream",
     "text": [
      "Evaluating:  67%|████████████████████████████████████████▍                   | 2693/4000 [3:05:21<2:02:40,  5.63s/file]"
     ]
    },
    {
     "name": "stdout",
     "output_type": "stream",
     "text": [
      "[WARN] 라벨링 누락: say_set1_collectorgs135_speakergs640_14_0_20_1\n",
      "[WARN] 라벨링 누락: say_set2_collectorgs131_speakergs1413_1_0_33_1\n"
     ]
    },
    {
     "name": "stderr",
     "output_type": "stream",
     "text": [
      "Evaluating:  67%|████████████████████████████████████████▍                   | 2697/4000 [3:05:36<1:44:17,  4.80s/file]"
     ]
    },
    {
     "name": "stdout",
     "output_type": "stream",
     "text": [
      "[WARN] 라벨링 누락: say_set1_collectorgs273_speakergs2243_15_0_55_1\n",
      "[WARN] 라벨링 누락: say_set1_collectorgs442_speakergs4764_70_2_20_1\n",
      "[WARN] 라벨링 누락: say_set2_collectorgs296_speakergs3151_16_0_40_1\n"
     ]
    },
    {
     "name": "stderr",
     "output_type": "stream",
     "text": [
      "Evaluating:  68%|████████████████████████████████████████▌                   | 2701/4000 [3:05:46<1:19:59,  3.69s/file]"
     ]
    },
    {
     "name": "stdout",
     "output_type": "stream",
     "text": [
      "[WARN] 라벨링 누락: say_set2_collectorgs134_speakergs1576_30_0_32_1\n",
      "[WARN] 라벨링 누락: say_set1_collectorgs129_speakergs2003_34_0_34_1\n"
     ]
    },
    {
     "name": "stderr",
     "output_type": "stream",
     "text": [
      "Evaluating:  68%|████████████████████████████████████████▌                   | 2705/4000 [3:06:02<1:24:36,  3.92s/file]"
     ]
    },
    {
     "name": "stdout",
     "output_type": "stream",
     "text": [
      "[WARN] 라벨링 누락: say_set1_collectorgs72_speakergs349_57_0_37_1\n"
     ]
    },
    {
     "name": "stderr",
     "output_type": "stream",
     "text": [
      "Evaluating:  68%|████████████████████████████████████████▋                   | 2709/4000 [3:06:23<1:40:24,  4.67s/file]"
     ]
    },
    {
     "name": "stdout",
     "output_type": "stream",
     "text": [
      "[WARN] 라벨링 누락: say_set1_collectorgs129_speakergs645_6_0_34_1\n",
      "[WARN] 라벨링 누락: say_set1_collectorgs150_speakergs1254_39_0_37_1\n"
     ]
    },
    {
     "name": "stderr",
     "output_type": "stream",
     "text": [
      "Evaluating:  68%|████████████████████████████████████████▋                   | 2713/4000 [3:06:43<1:50:52,  5.17s/file]"
     ]
    },
    {
     "name": "stdout",
     "output_type": "stream",
     "text": [
      "[WARN] 라벨링 누락: say_set2_collectorgs244_speakergs3452_13_0_33_1\n"
     ]
    },
    {
     "name": "stderr",
     "output_type": "stream",
     "text": [
      "Evaluating:  68%|████████████████████████████████████████▋                   | 2715/4000 [3:07:18<3:17:25,  9.22s/file]"
     ]
    },
    {
     "name": "stdout",
     "output_type": "stream",
     "text": [
      "[WARN] 라벨링 누락: say_set1_collectorgs273_speakergs3516_28_1_17_1\n",
      "[WARN] 라벨링 누락: say_set1_collectorgs270_speakergs2219_80_0_4_1\n",
      "[WARN] 라벨링 누락: say_set1_collectorgs296_speakergs2545_8_0_15_1\n",
      "[WARN] 라벨링 누락: say_set1_collectorgs506_speakergs3963_16_0_15_1\n"
     ]
    },
    {
     "name": "stderr",
     "output_type": "stream",
     "text": [
      "Evaluating:  68%|████████████████████████████████████████▊                   | 2721/4000 [3:07:30<1:49:08,  5.12s/file]"
     ]
    },
    {
     "name": "stdout",
     "output_type": "stream",
     "text": [
      "[WARN] 라벨링 누락: say_set1_collectorgs156_speakergs2999_29_0_11_1\n"
     ]
    },
    {
     "name": "stderr",
     "output_type": "stream",
     "text": [
      "Evaluating:  68%|████████████████████████████████████████▊                   | 2724/4000 [3:07:47<1:55:34,  5.43s/file]"
     ]
    },
    {
     "name": "stdout",
     "output_type": "stream",
     "text": [
      "[WARN] 라벨링 누락: say_set1_collectorgs282_speakergs2340_78_0_29_1\n"
     ]
    },
    {
     "name": "stderr",
     "output_type": "stream",
     "text": [
      "Evaluating:  68%|████████████████████████████████████████▉                   | 2727/4000 [3:08:02<1:55:30,  5.44s/file]"
     ]
    },
    {
     "name": "stdout",
     "output_type": "stream",
     "text": [
      "[WARN] 라벨링 누락: say_set2_collectorgs218_speakergs3528_24_2_15_1\n",
      "[WARN] 라벨링 누락: say_set1_collectorgs135_speakergs929_57_0_32_1\n",
      "[WARN] 라벨링 누락: say_set1_collectorgs509_speakergs4210_26_0_30_1\n",
      "[WARN] 라벨링 누락: say_set1_collectorgs150_speakergs2289_3_0_33_1\n",
      "[WARN] 라벨링 누락: say_set1_collectorgs474_speakergs3820_15_0_10_1\n"
     ]
    },
    {
     "name": "stderr",
     "output_type": "stream",
     "text": [
      "Evaluating:  68%|██████████████████████████████████████████▎                   | 2733/4000 [3:08:09<59:24,  2.81s/file]"
     ]
    },
    {
     "name": "stdout",
     "output_type": "stream",
     "text": [
      "[WARN] 라벨링 누락: say_set1_collectorgs305_speakergs2699_5_0_12_1\n",
      "[WARN] 라벨링 누락: say_set1_collectorgs244_speakergs3545_45_0_42_1\n",
      "[WARN] 라벨링 누락: say_set2_collectorgs129_speakergs1261_14_0_32_1\n"
     ]
    },
    {
     "name": "stderr",
     "output_type": "stream",
     "text": [
      "Evaluating:  68%|██████████████████████████████████████████▍                   | 2737/4000 [3:08:16<50:16,  2.39s/file]"
     ]
    },
    {
     "name": "stdout",
     "output_type": "stream",
     "text": [
      "[WARN] 라벨링 누락: say_set1_collectorgs206_speakergs3733_3_0_27_1\n",
      "[WARN] 라벨링 누락: say_set1_collectorgs143_speakergs2490_36_0_31_1\n"
     ]
    },
    {
     "name": "stderr",
     "output_type": "stream",
     "text": [
      "Evaluating:  69%|█████████████████████████████████████████                   | 2741/4000 [3:08:32<1:05:24,  3.12s/file]"
     ]
    },
    {
     "name": "stdout",
     "output_type": "stream",
     "text": [
      "[WARN] 라벨링 누락: say_set1_collectorgs161_speakergs1468_55_0_32_1\n"
     ]
    },
    {
     "name": "stderr",
     "output_type": "stream",
     "text": [
      "Evaluating:  69%|█████████████████████████████████████████▏                  | 2743/4000 [3:08:37<1:00:53,  2.91s/file]"
     ]
    },
    {
     "name": "stdout",
     "output_type": "stream",
     "text": [
      "[WARN] 라벨링 누락: say_set1_collectorgs448_speakergs3926_54_0_46_1\n",
      "[WARN] 라벨링 누락: say_set1_collectorgs297_speakergs2599_37_0_18_1\n",
      "[WARN] 라벨링 누락: say_set1_collectorgs500_speakergs3829_53_0_7_1\n",
      "[WARN] 라벨링 누락: say_set1_collectorgs144_speakergs1964_18_0_43_1\n",
      "[WARN] 라벨링 누락: say_set1_collectorgs212_speakergs2388_37_0_36_1\n"
     ]
    },
    {
     "name": "stderr",
     "output_type": "stream",
     "text": [
      "Evaluating:  69%|█████████████████████████████████████████▎                  | 2750/4000 [3:08:56<1:02:57,  3.02s/file]"
     ]
    },
    {
     "name": "stdout",
     "output_type": "stream",
     "text": [
      "[WARN] 라벨링 누락: say_set2_collectorgs154_speakergs1579_24_0_33_1\n",
      "[WARN] 라벨링 누락: say_set1_collectorgs377_speakergs4104_4_0_47_1\n"
     ]
    },
    {
     "name": "stderr",
     "output_type": "stream",
     "text": [
      "Evaluating:  69%|██████████████████████████████████████████▋                   | 2753/4000 [3:09:03<58:08,  2.80s/file]"
     ]
    },
    {
     "name": "stdout",
     "output_type": "stream",
     "text": [
      "[WARN] 라벨링 누락: say_set1_collectorgs75_speakergs273_45_0_22_1\n",
      "[WARN] 라벨링 누락: say_set1_collectorgs219_speakergs2703_53_0_16_1\n",
      "[WARN] 라벨링 누락: say_set2_collectorgs142_speakergs1948_43_0_33_1\n"
     ]
    },
    {
     "name": "stderr",
     "output_type": "stream",
     "text": [
      "Evaluating:  69%|██████████████████████████████████████████▋                   | 2757/4000 [3:09:08<45:35,  2.20s/file]"
     ]
    },
    {
     "name": "stdout",
     "output_type": "stream",
     "text": [
      "[WARN] 라벨링 누락: say_set1_collectorgs183_speakergs1601_33_0_26_1\n"
     ]
    },
    {
     "name": "stderr",
     "output_type": "stream",
     "text": [
      "Evaluating:  69%|█████████████████████████████████████████▍                  | 2760/4000 [3:09:23<1:05:57,  3.19s/file]"
     ]
    },
    {
     "name": "stdout",
     "output_type": "stream",
     "text": [
      "[WARN] 라벨링 누락: say_set2_collectorgs414_speakergs3446_5_0_12_1\n"
     ]
    },
    {
     "name": "stderr",
     "output_type": "stream",
     "text": [
      "Evaluating:  69%|█████████████████████████████████████████▍                  | 2764/4000 [3:09:40<1:16:11,  3.70s/file]"
     ]
    },
    {
     "name": "stdout",
     "output_type": "stream",
     "text": [
      "[WARN] 라벨링 누락: say_set3_collectorgs115_speakergs1199_55_0_38_1\n"
     ]
    },
    {
     "name": "stderr",
     "output_type": "stream",
     "text": [
      "Evaluating:  69%|█████████████████████████████████████████▍                  | 2766/4000 [3:09:48<1:18:14,  3.80s/file]"
     ]
    },
    {
     "name": "stdout",
     "output_type": "stream",
     "text": [
      "[WARN] 라벨링 누락: say_set1_collectorgs377_speakergs3730_9_0_40_1\n"
     ]
    },
    {
     "name": "stderr",
     "output_type": "stream",
     "text": [
      "Evaluating:  69%|█████████████████████████████████████████▌                  | 2768/4000 [3:09:57<1:20:04,  3.90s/file]"
     ]
    },
    {
     "name": "stdout",
     "output_type": "stream",
     "text": [
      "[WARN] 라벨링 누락: say_set2_collectorgs303_speakergs3650_71_0_15_1\n",
      "[WARN] 라벨링 누락: say_set2_collectorgs134_speakergs1913_45_0_31_1\n"
     ]
    },
    {
     "name": "stderr",
     "output_type": "stream",
     "text": [
      "Evaluating:  69%|██████████████████████████████████████████▉                   | 2771/4000 [3:10:01<58:55,  2.88s/file]"
     ]
    },
    {
     "name": "stdout",
     "output_type": "stream",
     "text": [
      "[WARN] 라벨링 누락: say_set1_collectorgs246_speakergs2317_32_0_57_1\n",
      "[WARN] 라벨링 누락: say_set2_collectorgs130_speakergs2379_32_0_15_1\n",
      "[WARN] 라벨링 누락: say_set1_collectorgs261_speakergs3962_48_0_28_1\n"
     ]
    },
    {
     "name": "stderr",
     "output_type": "stream",
     "text": [
      "Evaluating:  69%|███████████████████████████████████████████                   | 2775/4000 [3:10:07<46:04,  2.26s/file]"
     ]
    },
    {
     "name": "stdout",
     "output_type": "stream",
     "text": [
      "[WARN] 라벨링 누락: say_set1_collectorgs135_speakergs1760_72_0_42_1\n",
      "[WARN] 라벨링 누락: say_set1_collectorgs486_speakergs3898_86_0_9_1\n",
      "[WARN] 라벨링 누락: say_set1_collectorgs482_speakergs3919_53_0_54_1\n"
     ]
    },
    {
     "name": "stderr",
     "output_type": "stream",
     "text": [
      "Evaluating:  70%|█████████████████████████████████████████▋                  | 2780/4000 [3:10:24<1:01:02,  3.00s/file]"
     ]
    },
    {
     "name": "stdout",
     "output_type": "stream",
     "text": [
      "[WARN] 라벨링 누락: say_set1_collectorgs238_speakergs2717_54_0_28_1\n",
      "[WARN] 라벨링 누락: say_set2_collectorgs406_speakergs2958_24_0_38_1\n"
     ]
    },
    {
     "name": "stderr",
     "output_type": "stream",
     "text": [
      "Evaluating:  70%|█████████████████████████████████████████▊                  | 2784/4000 [3:10:42<1:16:14,  3.76s/file]"
     ]
    },
    {
     "name": "stdout",
     "output_type": "stream",
     "text": [
      "[WARN] 라벨링 누락: say_set2_collectorgs154_speakergs2159_32_0_31_1\n",
      "[WARN] 라벨링 누락: say_set2_collectorgs145_speakergs1776_66_0_37_1\n"
     ]
    },
    {
     "name": "stderr",
     "output_type": "stream",
     "text": [
      "Evaluating:  70%|█████████████████████████████████████████▊                  | 2788/4000 [3:10:57<1:19:17,  3.92s/file]"
     ]
    },
    {
     "name": "stdout",
     "output_type": "stream",
     "text": [
      "[WARN] 라벨링 누락: say_set2_collectorgs269_speakergs2220_5_0_33_1\n",
      "[WARN] 라벨링 누락: say_set1_collectorgs270_speakergs2219_32_0_7_1\n",
      "[WARN] 라벨링 누락: say_set1_collectorgs438_speakergs3309_37_0_19_1\n",
      "[WARN] 라벨링 누락: say_set1_collectorgs195_speakergs1333_21_0_19_1\n",
      "[WARN] 라벨링 누락: say_set1_collectorgs145_speakergs1348_46_0_37_1\n"
     ]
    },
    {
     "name": "stderr",
     "output_type": "stream",
     "text": [
      "Evaluating:  70%|███████████████████████████████████████████▎                  | 2794/4000 [3:11:05<50:33,  2.52s/file]"
     ]
    },
    {
     "name": "stdout",
     "output_type": "stream",
     "text": [
      "[WARN] 라벨링 누락: say_set2_collectorgs264_speakergs2177_7_0_27_1\n"
     ]
    },
    {
     "name": "stderr",
     "output_type": "stream",
     "text": [
      "Evaluating:  70%|███████████████████████████████████████████▎                  | 2796/4000 [3:11:10<49:51,  2.49s/file]"
     ]
    },
    {
     "name": "stdout",
     "output_type": "stream",
     "text": [
      "[WARN] 라벨링 누락: say_set2_collectorgs263_speakergs3970_26_0_7_1\n"
     ]
    },
    {
     "name": "stderr",
     "output_type": "stream",
     "text": [
      "Evaluating:  70%|███████████████████████████████████████████▎                  | 2798/4000 [3:11:15<50:00,  2.50s/file]"
     ]
    },
    {
     "name": "stdout",
     "output_type": "stream",
     "text": [
      "[WARN] 라벨링 누락: say_set1_collectorgs128_speakergs1944_5_0_33_1\n",
      "[WARN] 라벨링 누락: say_set1_collectorgs26_speakergs72_16_0_41_1\n"
     ]
    },
    {
     "name": "stderr",
     "output_type": "stream",
     "text": [
      "Evaluating:  70%|███████████████████████████████████████████▍                  | 2801/4000 [3:11:19<42:39,  2.13s/file]"
     ]
    },
    {
     "name": "stdout",
     "output_type": "stream",
     "text": [
      "[WARN] 라벨링 누락: say_set1_collectorgs508_speakergs4120_45_0_17_1\n",
      "[WARN] 라벨링 누락: say_set1_collectorgs281_speakergs2804_54_0_36_1\n",
      "[WARN] 라벨링 누락: say_set1_collectorgs390_speakergs3365_38_0_25_1\n",
      "[WARN] 라벨링 누락: say_set2_collectorgs303_speakergs2578_38_2_21_1\n",
      "[WARN] 라벨링 누락: say_set1_collectorgs486_speakergs4121_38_0_9_1\n",
      "[WARN] 라벨링 누락: say_set1_collectorgs150_speakergs1471_56_0_31_1\n",
      "[WARN] 라벨링 누락: say_set1_collectorgs75_speakergs273_53_0_31_1\n",
      "[WARN] 라벨링 누락: say_set2_collectorgs513_speakergs4372_12_0_21_1\n"
     ]
    },
    {
     "name": "stderr",
     "output_type": "stream",
     "text": [
      "Evaluating:  70%|███████████████████████████████████████████▌                  | 2810/4000 [3:11:28<28:51,  1.46s/file]"
     ]
    },
    {
     "name": "stdout",
     "output_type": "stream",
     "text": [
      "[WARN] 라벨링 누락: say_set1_collectorgs135_speakergs1963_50_0_24_1\n",
      "[WARN] 라벨링 누락: say_set1_collectorgs242_speakergs2415_61_0_32_1\n",
      "[WARN] 라벨링 누락: say_set1_collectorgs305_speakergs2699_66_1_11_1\n",
      "[WARN] 라벨링 누락: say_set2_collectorgs160_speakergs2541_8_0_25_1\n",
      "[WARN] 라벨링 누락: say_set2_collectorgs160_speakergs2884_32_0_28_1\n",
      "[WARN] 라벨링 누락: say_set1_collectorgs406_speakergs2856_77_0_5_1\n",
      "[WARN] 라벨링 누락: say_set1_collectorgs466_speakergs4332_11_0_7_1\n",
      "[WARN] 라벨링 누락: say_set1_collectorgs32_speakergs2242_22_0_30_1\n",
      "[WARN] 라벨링 누락: say_set2_collectorgs219_speakergs3390_6_0_28_1\n",
      "[WARN] 라벨링 누락: say_set1_collectorgs32_speakergs1469_53_0_40_1\n"
     ]
    },
    {
     "name": "stderr",
     "output_type": "stream",
     "text": [
      "Evaluating:  71%|███████████████████████████████████████████▋                  | 2821/4000 [3:11:36<20:49,  1.06s/file]"
     ]
    },
    {
     "name": "stdout",
     "output_type": "stream",
     "text": [
      "[WARN] 라벨링 누락: say_set1_collectorgs510_speakergs4110_30_0_14_1\n"
     ]
    },
    {
     "name": "stderr",
     "output_type": "stream",
     "text": [
      "Evaluating:  71%|███████████████████████████████████████████▊                  | 2824/4000 [3:11:52<38:29,  1.96s/file]"
     ]
    },
    {
     "name": "stdout",
     "output_type": "stream",
     "text": [
      "[WARN] 라벨링 누락: say_set1_collectorgs245_speakergs2582_80_0_32_1\n"
     ]
    },
    {
     "name": "stderr",
     "output_type": "stream",
     "text": [
      "Evaluating:  71%|██████████████████████████████████████████▍                 | 2827/4000 [3:12:11<1:04:00,  3.27s/file]"
     ]
    },
    {
     "name": "stdout",
     "output_type": "stream",
     "text": [
      "[WARN] 라벨링 누락: say_set1_collectorgs380_speakergs4115_42_0_25_1\n",
      "[WARN] 라벨링 누락: say_set1_collectorgs390_speakergs3117_15_0_30_1\n",
      "[WARN] 라벨링 누락: say_set2_collectorgs134_speakergs1896_18_0_32_1\n",
      "[WARN] 라벨링 누락: say_set1_collectorgs448_speakergs3926_31_0_20_1\n"
     ]
    },
    {
     "name": "stderr",
     "output_type": "stream",
     "text": [
      "Evaluating:  71%|███████████████████████████████████████████▉                  | 2832/4000 [3:12:18<47:19,  2.43s/file]"
     ]
    },
    {
     "name": "stdout",
     "output_type": "stream",
     "text": [
      "[WARN] 라벨링 누락: say_set1_collectorgs150_speakergs1400_16_0_41_1\n",
      "[WARN] 라벨링 누락: say_set2_collectorgs474_speakergs4859_38_0_41_1\n",
      "[WARN] 라벨링 누락: say_set2_collectorgs31_speakergs3687_29_0_45_1\n"
     ]
    },
    {
     "name": "stderr",
     "output_type": "stream",
     "text": [
      "Evaluating:  71%|███████████████████████████████████████████▉                  | 2837/4000 [3:12:30<47:29,  2.45s/file]"
     ]
    },
    {
     "name": "stdout",
     "output_type": "stream",
     "text": [
      "[WARN] 라벨링 누락: say_set2_collectorgs123_speakergs2027_21_0_27_1\n"
     ]
    },
    {
     "name": "stderr",
     "output_type": "stream",
     "text": [
      "Evaluating:  71%|██████████████████████████████████████████▋                 | 2843/4000 [3:13:10<1:58:29,  6.15s/file]"
     ]
    },
    {
     "name": "stdout",
     "output_type": "stream",
     "text": [
      "[WARN] 라벨링 누락: say_set1_collectorgs436_speakergs4274_26_0_7_1\n"
     ]
    },
    {
     "name": "stderr",
     "output_type": "stream",
     "text": [
      "Evaluating:  71%|██████████████████████████████████████████▋                 | 2845/4000 [3:13:17<1:36:47,  5.03s/file]"
     ]
    },
    {
     "name": "stdout",
     "output_type": "stream",
     "text": [
      "[WARN] 라벨링 누락: say_set1_collectorgs134_speakergs742_25_0_30_1\n"
     ]
    },
    {
     "name": "stderr",
     "output_type": "stream",
     "text": [
      "Evaluating:  71%|██████████████████████████████████████████▊                 | 2851/4000 [3:13:57<2:08:51,  6.73s/file]"
     ]
    },
    {
     "name": "stdout",
     "output_type": "stream",
     "text": [
      "[WARN] 라벨링 누락: say_set1_collectorgs160_speakergs1591_31_0_33_1\n",
      "[WARN] 라벨링 누락: say_set1_collectorgs160_speakergs1419_19_0_33_1\n",
      "[WARN] 라벨링 누락: say_set1_collectorgs246_speakergs2701_27_0_61_1\n",
      "[WARN] 라벨링 누락: say_set2_collectorgs154_speakergs2159_19_0_20_1\n"
     ]
    },
    {
     "name": "stderr",
     "output_type": "stream",
     "text": [
      "Evaluating:  71%|██████████████████████████████████████████▊                 | 2856/4000 [3:14:03<1:00:35,  3.18s/file]"
     ]
    },
    {
     "name": "stdout",
     "output_type": "stream",
     "text": [
      "[WARN] 라벨링 누락: say_set1_collectorgs261_speakergs3756_79_0_8_1\n"
     ]
    },
    {
     "name": "stderr",
     "output_type": "stream",
     "text": [
      "Evaluating:  71%|██████████████████████████████████████████▊                 | 2858/4000 [3:14:10<1:00:34,  3.18s/file]"
     ]
    },
    {
     "name": "stdout",
     "output_type": "stream",
     "text": [
      "[WARN] 라벨링 누락: say_set2_collectorgs65_speakergs1674_1_0_18_1\n"
     ]
    },
    {
     "name": "stderr",
     "output_type": "stream",
     "text": [
      "Evaluating:  72%|██████████████████████████████████████████▉                 | 2862/4000 [3:14:29<1:23:20,  4.39s/file]"
     ]
    },
    {
     "name": "stdout",
     "output_type": "stream",
     "text": [
      "[WARN] 라벨링 누락: say_set1_collectorgs206_speakergs3752_68_0_29_1\n",
      "[WARN] 라벨링 누락: say_set1_collectorgs16_speakergs34_11_0_46_1\n"
     ]
    },
    {
     "name": "stderr",
     "output_type": "stream",
     "text": [
      "Evaluating:  72%|███████████████████████████████████████████                 | 2870/4000 [3:15:08<1:38:21,  5.22s/file]"
     ]
    },
    {
     "name": "stdout",
     "output_type": "stream",
     "text": [
      "[WARN] 라벨링 누락: say_set1_collectorgs142_speakergs1556_54_0_29_1\n",
      "[WARN] 라벨링 누락: say_set1_collectorgs436_speakergs4153_65_0_5_1\n",
      "[WARN] 라벨링 누락: say_set2_collectorgs123_speakergs2145_32_0_28_1\n",
      "[WARN] 라벨링 누락: say_set1_collectorgs160_speakergs2041_13_0_32_1\n",
      "[WARN] 라벨링 누락: say_set1_collectorgs63_speakergs335_49_0_29_1\n"
     ]
    },
    {
     "name": "stderr",
     "output_type": "stream",
     "text": [
      "Evaluating:  72%|███████████████████████████████████████████▏                | 2877/4000 [3:15:23<1:00:09,  3.21s/file]"
     ]
    },
    {
     "name": "stdout",
     "output_type": "stream",
     "text": [
      "[WARN] 라벨링 누락: say_set1_collectorgs160_speakergs2167_22_0_34_1\n",
      "[WARN] 라벨링 누락: say_set2_collectorgs129_speakergs2456_47_0_34_1\n",
      "[WARN] 라벨링 누락: say_set1_collectorgs81_speakergs463_26_0_39_1\n"
     ]
    },
    {
     "name": "stderr",
     "output_type": "stream",
     "text": [
      "Evaluating:  72%|████████████████████████████████████████████▋                 | 2881/4000 [3:15:29<46:09,  2.48s/file]"
     ]
    },
    {
     "name": "stdout",
     "output_type": "stream",
     "text": [
      "[WARN] 라벨링 누락: say_set3_collectorgs115_speakergs722_2_0_31_1\n"
     ]
    },
    {
     "name": "stderr",
     "output_type": "stream",
     "text": [
      "Evaluating:  72%|███████████████████████████████████████████▎                | 2886/4000 [3:15:52<1:08:30,  3.69s/file]"
     ]
    },
    {
     "name": "stdout",
     "output_type": "stream",
     "text": [
      "[WARN] 라벨링 누락: say_set1_collectorgs130_speakergs1555_44_0_35_1\n",
      "[WARN] 라벨링 누락: say_set2_collectorgs31_speakergs3110_18_0_35_1\n",
      "[WARN] 라벨링 누락: say_set2_collectorgs448_speakergs3575_22_0_8_1\n"
     ]
    },
    {
     "name": "stderr",
     "output_type": "stream",
     "text": [
      "Evaluating:  72%|███████████████████████████████████████████▍                | 2893/4000 [3:16:31<1:55:35,  6.26s/file]"
     ]
    },
    {
     "name": "stdout",
     "output_type": "stream",
     "text": [
      "[WARN] 라벨링 누락: say_set2_collectorgs223_speakergs1702_55_0_35_1\n"
     ]
    },
    {
     "name": "stderr",
     "output_type": "stream",
     "text": [
      "Evaluating:  72%|███████████████████████████████████████████▍                | 2897/4000 [3:16:52<1:54:08,  6.21s/file]"
     ]
    },
    {
     "name": "stdout",
     "output_type": "stream",
     "text": [
      "[WARN] 라벨링 누락: say_set1_collectorgs186_speakergs2300_12_0_29_1\n"
     ]
    },
    {
     "name": "stderr",
     "output_type": "stream",
     "text": [
      "Evaluating:  72%|███████████████████████████████████████████▍                | 2899/4000 [3:16:56<1:23:24,  4.55s/file]"
     ]
    },
    {
     "name": "stdout",
     "output_type": "stream",
     "text": [
      "[WARN] 라벨링 누락: say_set1_collectorgs508_speakergs4120_37_0_15_1\n"
     ]
    },
    {
     "name": "stderr",
     "output_type": "stream",
     "text": [
      "Evaluating:  73%|███████████████████████████████████████████▌                | 2902/4000 [3:17:14<1:36:45,  5.29s/file]"
     ]
    },
    {
     "name": "stdout",
     "output_type": "stream",
     "text": [
      "[WARN] 라벨링 누락: say_set2_collectorgs119_speakergs892_37_0_44_1\n",
      "[WARN] 라벨링 누락: say_set1_collectorgs129_speakergs1764_50_1_4_1\n"
     ]
    },
    {
     "name": "stderr",
     "output_type": "stream",
     "text": [
      "Evaluating:  73%|███████████████████████████████████████████▌                | 2906/4000 [3:17:27<1:19:47,  4.38s/file]"
     ]
    },
    {
     "name": "stdout",
     "output_type": "stream",
     "text": [
      "[WARN] 라벨링 누락: say_set1_collectorgs93_speakergs340_9_0_31_1\n",
      "[WARN] 라벨링 누락: say_set1_collectorgs483_speakergs3870_78_0_5_1\n",
      "[WARN] 라벨링 누락: say_set1_collectorgs233_speakergs2577_34_0_33_1\n"
     ]
    },
    {
     "name": "stderr",
     "output_type": "stream",
     "text": [
      "Evaluating:  73%|███████████████████████████████████████████▋                | 2915/4000 [3:18:07<1:37:41,  5.40s/file]"
     ]
    },
    {
     "name": "stdout",
     "output_type": "stream",
     "text": [
      "[WARN] 라벨링 누락: say_set2_collectorgs139_speakergs1331_51_0_49_1\n",
      "[WARN] 라벨링 누락: say_set1_collectorgs32_speakergs1087_13_0_36_1\n",
      "[WARN] 라벨링 누락: say_set1_collectorgs238_speakergs2096_0_0_21_1\n"
     ]
    },
    {
     "name": "stderr",
     "output_type": "stream",
     "text": [
      "Evaluating:  73%|███████████████████████████████████████████▊                | 2920/4000 [3:18:22<1:13:32,  4.09s/file]"
     ]
    },
    {
     "name": "stdout",
     "output_type": "stream",
     "text": [
      "[WARN] 라벨링 누락: say_set2_collectorgs139_speakergs1918_13_0_36_1\n"
     ]
    },
    {
     "name": "stderr",
     "output_type": "stream",
     "text": [
      "Evaluating:  73%|███████████████████████████████████████████▊                | 2922/4000 [3:18:30<1:12:12,  4.02s/file]"
     ]
    },
    {
     "name": "stdout",
     "output_type": "stream",
     "text": [
      "[WARN] 라벨링 누락: say_set1_collectorgs160_speakergs1160_71_0_43_1\n",
      "[WARN] 라벨링 누락: say_set1_collectorgs376_speakergs2827_1_0_16_1\n"
     ]
    },
    {
     "name": "stderr",
     "output_type": "stream",
     "text": [
      "Evaluating:  73%|███████████████████████████████████████████▉                | 2925/4000 [3:18:40<1:06:59,  3.74s/file]"
     ]
    },
    {
     "name": "stdout",
     "output_type": "stream",
     "text": [
      "[WARN] 라벨링 누락: say_set1_collectorgs416_speakergs3697_18_0_3_1\n",
      "[WARN] 라벨링 누락: say_set1_collectorgs384_speakergs4026_7_0_22_1\n",
      "[WARN] 라벨링 누락: say_set1_collectorgs186_speakergs1342_14_0_31_1\n",
      "[WARN] 라벨링 누락: say_set1_collectorgs261_speakergs2926_55_0_22_1\n"
     ]
    },
    {
     "name": "stderr",
     "output_type": "stream",
     "text": [
      "Evaluating:  73%|███████████████████████████████████████████▉                | 2932/4000 [3:19:02<1:08:50,  3.87s/file]"
     ]
    },
    {
     "name": "stdout",
     "output_type": "stream",
     "text": [
      "[WARN] 라벨링 누락: say_set2_collectorgs160_speakergs2722_48_0_31_1\n",
      "[WARN] 라벨링 누락: say_set1_collectorgs246_speakergs2317_15_0_73_1\n",
      "[WARN] 라벨링 누락: say_set2_collectorgs185_speakergs1409_54_0_28_1\n",
      "[WARN] 라벨링 누락: say_set2_collectorgs444_speakergs3392_28_0_18_1\n"
     ]
    },
    {
     "name": "stderr",
     "output_type": "stream",
     "text": [
      "Evaluating:  73%|█████████████████████████████████████████████▌                | 2938/4000 [3:19:12<46:01,  2.60s/file]"
     ]
    },
    {
     "name": "stdout",
     "output_type": "stream",
     "text": [
      "[WARN] 라벨링 누락: say_set1_collectorgs150_speakergs1542_34_0_26_1\n",
      "[WARN] 라벨링 누락: say_set2_collectorgs218_speakergs2707_70_0_33_1\n",
      "[WARN] 라벨링 누락: say_set1_collectorgs282_speakergs2340_41_0_25_1\n",
      "[WARN] 라벨링 누락: say_set1_collectorgs443_speakergs4762_52_0_20_1\n"
     ]
    },
    {
     "name": "stderr",
     "output_type": "stream",
     "text": [
      "Evaluating:  74%|█████████████████████████████████████████████▌                | 2943/4000 [3:19:17<32:17,  1.83s/file]"
     ]
    },
    {
     "name": "stdout",
     "output_type": "stream",
     "text": [
      "[WARN] 라벨링 누락: say_set1_collectorgs143_speakergs1543_12_0_35_1\n",
      "[WARN] 라벨링 누락: say_set1_collectorgs246_speakergs2155_6_0_67_1\n",
      "[WARN] 라벨링 누락: say_set1_collectorgs206_speakergs1514_45_0_14_1\n",
      "[WARN] 라벨링 누락: say_set1_collectorgs390_speakergs3242_13_0_27_1\n",
      "[WARN] 라벨링 누락: say_set1_collectorgs145_speakergs785_47_0_29_1\n"
     ]
    },
    {
     "name": "stderr",
     "output_type": "stream",
     "text": [
      "Evaluating:  74%|█████████████████████████████████████████████▋                | 2949/4000 [3:19:24<26:38,  1.52s/file]"
     ]
    },
    {
     "name": "stdout",
     "output_type": "stream",
     "text": [
      "[WARN] 라벨링 누락: say_set1_collectorgs380_speakergs4088_43_0_24_1\n",
      "[WARN] 라벨링 누락: say_set1_collectorgs206_speakergs2474_31_0_35_1\n",
      "[WARN] 라벨링 누락: say_set1_collectorgs150_speakergs2662_16_0_29_1\n",
      "[WARN] 라벨링 누락: say_set1_collectorgs142_speakergs2189_20_0_24_1\n"
     ]
    },
    {
     "name": "stderr",
     "output_type": "stream",
     "text": [
      "Evaluating:  74%|█████████████████████████████████████████████▊                | 2955/4000 [3:19:41<38:23,  2.20s/file]"
     ]
    },
    {
     "name": "stdout",
     "output_type": "stream",
     "text": [
      "[WARN] 라벨링 누락: say_set1_collectorgs296_speakergs3447_4_0_25_1\n",
      "[WARN] 라벨링 누락: say_set2_collectorgs448_speakergs3575_51_0_5_1\n"
     ]
    },
    {
     "name": "stderr",
     "output_type": "stream",
     "text": [
      "Evaluating:  74%|█████████████████████████████████████████████▊                | 2958/4000 [3:19:53<47:28,  2.73s/file]"
     ]
    },
    {
     "name": "stdout",
     "output_type": "stream",
     "text": [
      "[WARN] 라벨링 누락: say_set1_collectorgs32_speakergs3876_25_0_28_1\n",
      "[WARN] 라벨링 누락: say_set1_collectorgs206_speakergs2474_61_0_36_1\n",
      "[WARN] 라벨링 누락: say_set2_collectorgs448_speakergs4776_42_0_4_1\n",
      "[WARN] 라벨링 누락: say_set3_collectorgs115_speakergs722_51_0_30_1\n"
     ]
    },
    {
     "name": "stderr",
     "output_type": "stream",
     "text": [
      "Evaluating:  74%|█████████████████████████████████████████████▉                | 2964/4000 [3:20:08<45:55,  2.66s/file]"
     ]
    },
    {
     "name": "stdout",
     "output_type": "stream",
     "text": [
      "[WARN] 라벨링 누락: say_set1_collectorgs250_speakergs3621_46_0_18_1\n"
     ]
    },
    {
     "name": "stderr",
     "output_type": "stream",
     "text": [
      "Evaluating:  74%|█████████████████████████████████████████████▉                | 2966/4000 [3:20:13<44:52,  2.60s/file]"
     ]
    },
    {
     "name": "stdout",
     "output_type": "stream",
     "text": [
      "[WARN] 라벨링 누락: say_set2_collectorgs160_speakergs3142_13_0_35_1\n"
     ]
    },
    {
     "name": "stderr",
     "output_type": "stream",
     "text": [
      "Evaluating:  74%|██████████████████████████████████████████████                | 2968/4000 [3:20:20<50:27,  2.93s/file]"
     ]
    },
    {
     "name": "stdout",
     "output_type": "stream",
     "text": [
      "[WARN] 라벨링 누락: say_set1_collectorgs163_speakergs1232_8_0_19_1\n",
      "[WARN] 라벨링 누락: say_set1_collectorgs160_speakergs1311_16_1_29_1\n"
     ]
    },
    {
     "name": "stderr",
     "output_type": "stream",
     "text": [
      "Evaluating:  74%|████████████████████████████████████████████▌               | 2973/4000 [3:20:43<1:13:33,  4.30s/file]"
     ]
    },
    {
     "name": "stdout",
     "output_type": "stream",
     "text": [
      "[WARN] 라벨링 누락: say_set1_collectorgs431_speakergs4413_63_0_15_1\n"
     ]
    },
    {
     "name": "stderr",
     "output_type": "stream",
     "text": [
      "Evaluating:  74%|████████████████████████████████████████████▋               | 2975/4000 [3:20:47<1:00:50,  3.56s/file]"
     ]
    },
    {
     "name": "stdout",
     "output_type": "stream",
     "text": [
      "[WARN] 라벨링 누락: say_set1_collectorgs242_speakergs2060_85_0_33_1\n",
      "[WARN] 라벨링 누락: say_set1_collectorgs431_speakergs3927_59_0_24_1\n",
      "[WARN] 라벨링 누락: say_set1_collectorgs126_speakergs2891_18_0_36_1\n"
     ]
    },
    {
     "name": "stderr",
     "output_type": "stream",
     "text": [
      "Evaluating:  74%|████████████████████████████████████████████▋               | 2979/4000 [3:21:20<1:39:42,  5.86s/file]"
     ]
    },
    {
     "name": "stdout",
     "output_type": "stream",
     "text": [
      "[WARN] 라벨링 누락: say_set1_collectorgs303_speakergs3004_37_0_24_1\n",
      "[WARN] 라벨링 누락: say_set1_collectorgs437_speakergs3374_51_0_32_1\n"
     ]
    },
    {
     "name": "stderr",
     "output_type": "stream",
     "text": [
      "Evaluating:  75%|████████████████████████████████████████████▋               | 2983/4000 [3:21:32<1:18:28,  4.63s/file]"
     ]
    },
    {
     "name": "stdout",
     "output_type": "stream",
     "text": [
      "[WARN] 라벨링 누락: say_set1_collectorgs186_speakergs2874_32_0_22_1\n"
     ]
    },
    {
     "name": "stderr",
     "output_type": "stream",
     "text": [
      "Evaluating:  75%|████████████████████████████████████████████▊               | 2986/4000 [3:21:47<1:24:09,  4.98s/file]"
     ]
    },
    {
     "name": "stdout",
     "output_type": "stream",
     "text": [
      "[WARN] 라벨링 누락: say_set1_collectorgs131_speakergs1558_15_0_34_1\n"
     ]
    },
    {
     "name": "stderr",
     "output_type": "stream",
     "text": [
      "Evaluating:  75%|████████████████████████████████████████████▊               | 2988/4000 [3:21:50<1:04:49,  3.84s/file]"
     ]
    },
    {
     "name": "stdout",
     "output_type": "stream",
     "text": [
      "[WARN] 라벨링 누락: say_set1_collectorgs218_speakergs3018_62_1_15_1\n"
     ]
    },
    {
     "name": "stderr",
     "output_type": "stream",
     "text": [
      "Evaluating:  75%|██████████████████████████████████████████████▎               | 2990/4000 [3:21:56<58:53,  3.50s/file]"
     ]
    },
    {
     "name": "stdout",
     "output_type": "stream",
     "text": [
      "[WARN] 라벨링 누락: say_set1_collectorgs64_speakergs1696_46_0_31_1\n",
      "[WARN] 라벨링 누락: say_set2_collectorgs504_speakergs4272_66_0_28_1\n",
      "[WARN] 라벨링 누락: say_set2_collectorgs362_speakergs2678_50_0_10_1\n",
      "[WARN] 라벨링 누락: say_set2_collectorgs129_speakergs1746_38_0_29_1\n"
     ]
    },
    {
     "name": "stderr",
     "output_type": "stream",
     "text": [
      "Evaluating:  75%|██████████████████████████████████████████████▍               | 2996/4000 [3:22:12<54:14,  3.24s/file]"
     ]
    },
    {
     "name": "stdout",
     "output_type": "stream",
     "text": [
      "[WARN] 라벨링 누락: say_set1_collectorgs219_speakergs2703_9_0_32_1\n",
      "[WARN] 라벨링 누락: say_set1_collectorgs475_speakergs3890_62_0_21_1\n",
      "[WARN] 라벨링 누락: say_set1_collectorgs115_speakergs821_18_0_36_1\n"
     ]
    },
    {
     "name": "stderr",
     "output_type": "stream",
     "text": [
      "Evaluating:  75%|██████████████████████████████████████████████▌               | 3000/4000 [3:22:20<45:09,  2.71s/file]"
     ]
    },
    {
     "name": "stdout",
     "output_type": "stream",
     "text": [
      "[WARN] 라벨링 누락: say_set1_collectorgs143_speakergs1797_29_0_27_1\n"
     ]
    },
    {
     "name": "stderr",
     "output_type": "stream",
     "text": [
      "Evaluating:  75%|██████████████████████████████████████████████▌               | 3002/4000 [3:22:24<42:29,  2.55s/file]"
     ]
    },
    {
     "name": "stdout",
     "output_type": "stream",
     "text": [
      "[WARN] 라벨링 누락: say_set1_collectorgs150_speakergs2001_15_0_35_1\n",
      "[WARN] 라벨링 누락: say_set2_collectorgs504_speakergs4333_35_0_28_1\n",
      "[WARN] 라벨링 누락: say_set2_collectorgs160_speakergs3704_58_0_39_1\n",
      "[WARN] 라벨링 누락: say_set1_collectorgs273_speakergs2817_28_0_25_1\n"
     ]
    },
    {
     "name": "stderr",
     "output_type": "stream",
     "text": [
      "Evaluating:  75%|██████████████████████████████████████████████▌               | 3007/4000 [3:22:29<29:24,  1.78s/file]"
     ]
    },
    {
     "name": "stdout",
     "output_type": "stream",
     "text": [
      "[WARN] 라벨링 누락: say_set1_collectorgs31_speakergs1229_18_0_36_1\n"
     ]
    },
    {
     "name": "stderr",
     "output_type": "stream",
     "text": [
      "Evaluating:  75%|█████████████████████████████████████████████▏              | 3010/4000 [3:23:11<1:28:31,  5.36s/file]"
     ]
    },
    {
     "name": "stdout",
     "output_type": "stream",
     "text": [
      "[WARN] 라벨링 누락: say_set1_collectorgs306_speakergs2531_85_0_26_1\n",
      "[WARN] 라벨링 누락: say_set1_collectorgs131_speakergs924_3_0_38_1\n",
      "[WARN] 라벨링 누락: say_set1_collectorgs506_speakergs3999_48_0_10_1\n"
     ]
    },
    {
     "name": "stderr",
     "output_type": "stream",
     "text": [
      "Evaluating:  75%|██████████████████████████████████████████████▋               | 3014/4000 [3:23:15<57:03,  3.47s/file]"
     ]
    },
    {
     "name": "stdout",
     "output_type": "stream",
     "text": [
      "[WARN] 라벨링 누락: say_set1_collectorgs164_speakergs1465_6_0_34_1\n"
     ]
    },
    {
     "name": "stderr",
     "output_type": "stream",
     "text": [
      "Evaluating:  75%|██████████████████████████████████████████████▋               | 3016/4000 [3:23:18<50:16,  3.07s/file]"
     ]
    },
    {
     "name": "stdout",
     "output_type": "stream",
     "text": [
      "[WARN] 라벨링 누락: say_set1_collectorgs225_speakergs1719_26_0_36_1\n",
      "[WARN] 라벨링 누락: say_set1_collectorgs135_speakergs2661_55_0_32_1\n",
      "[WARN] 라벨링 누락: say_set1_collectorgs297_speakergs2442_73_0_51_1\n",
      "[WARN] 라벨링 누락: say_set1_collectorgs437_speakergs3308_34_0_25_1\n"
     ]
    },
    {
     "name": "stderr",
     "output_type": "stream",
     "text": [
      "Evaluating:  76%|██████████████████████████████████████████████▊               | 3021/4000 [3:23:27<40:46,  2.50s/file]"
     ]
    },
    {
     "name": "stdout",
     "output_type": "stream",
     "text": [
      "[WARN] 라벨링 누락: say_set2_collectorgs218_speakergs4357_27_1_8_1\n"
     ]
    },
    {
     "name": "stderr",
     "output_type": "stream",
     "text": [
      "Evaluating:  76%|██████████████████████████████████████████████▊               | 3023/4000 [3:23:32<41:17,  2.54s/file]"
     ]
    },
    {
     "name": "stdout",
     "output_type": "stream",
     "text": [
      "[WARN] 라벨링 누락: say_set1_collectorgs218_speakergs2068_47_0_7_1\n",
      "[WARN] 라벨링 누락: say_set2_collectorgs31_speakergs3110_22_0_35_1\n",
      "[WARN] 라벨링 누락: say_set1_collectorgs81_speakergs2241_53_0_33_1\n",
      "[WARN] 라벨링 누락: say_set2_collectorgs134_speakergs1896_35_0_31_1\n"
     ]
    },
    {
     "name": "stderr",
     "output_type": "stream",
     "text": [
      "Evaluating:  76%|██████████████████████████████████████████████▉               | 3031/4000 [3:23:59<57:59,  3.59s/file]"
     ]
    },
    {
     "name": "stdout",
     "output_type": "stream",
     "text": [
      "[WARN] 라벨링 누락: say_set1_collectorgs303_speakergs3004_79_0_13_1\n",
      "[WARN] 라벨링 누락: say_set1_collectorgs284_speakergs2337_44_0_31_1\n"
     ]
    },
    {
     "name": "stderr",
     "output_type": "stream",
     "text": [
      "Evaluating:  76%|███████████████████████████████████████████████               | 3038/4000 [3:24:21<59:58,  3.74s/file]"
     ]
    },
    {
     "name": "stdout",
     "output_type": "stream",
     "text": [
      "[WARN] 라벨링 누락: say_set1_collectorgs150_speakergs912_34_0_49_1\n"
     ]
    },
    {
     "name": "stderr",
     "output_type": "stream",
     "text": [
      "Evaluating:  76%|█████████████████████████████████████████████▌              | 3041/4000 [3:24:34<1:08:14,  4.27s/file]"
     ]
    },
    {
     "name": "stdout",
     "output_type": "stream",
     "text": [
      "[WARN] 라벨링 누락: say_set1_collectorgs438_speakergs3309_5_0_6_1\n"
     ]
    },
    {
     "name": "stderr",
     "output_type": "stream",
     "text": [
      "Evaluating:  76%|█████████████████████████████████████████████▋              | 3046/4000 [3:24:58<1:27:18,  5.49s/file]"
     ]
    },
    {
     "name": "stdout",
     "output_type": "stream",
     "text": [
      "[WARN] 라벨링 누락: say_set1_collectorgs150_speakergs2069_63_0_33_1\n",
      "[WARN] 라벨링 누락: say_set2_collectorgs154_speakergs2892_7_0_32_1\n"
     ]
    },
    {
     "name": "stderr",
     "output_type": "stream",
     "text": [
      "Evaluating:  76%|███████████████████████████████████████████████▎              | 3049/4000 [3:25:03<55:24,  3.50s/file]"
     ]
    },
    {
     "name": "stdout",
     "output_type": "stream",
     "text": [
      "[WARN] 라벨링 누락: say_set2_collectorgs303_speakergs2578_54_1_28_1\n"
     ]
    },
    {
     "name": "stderr",
     "output_type": "stream",
     "text": [
      "Evaluating:  76%|███████████████████████████████████████████████▎              | 3051/4000 [3:25:11<56:40,  3.58s/file]"
     ]
    },
    {
     "name": "stdout",
     "output_type": "stream",
     "text": [
      "[WARN] 라벨링 누락: say_set1_collectorgs448_speakergs4089_38_0_26_1\n"
     ]
    },
    {
     "name": "stderr",
     "output_type": "stream",
     "text": [
      "Evaluating:  76%|███████████████████████████████████████████████▎              | 3053/4000 [3:25:19<59:37,  3.78s/file]"
     ]
    },
    {
     "name": "stdout",
     "output_type": "stream",
     "text": [
      "[WARN] 라벨링 누락: say_set1_collectorgs154_speakergs1142_22_0_35_1\n",
      "[WARN] 라벨링 누락: say_set1_collectorgs72_speakergs267_55_0_45_1\n"
     ]
    },
    {
     "name": "stderr",
     "output_type": "stream",
     "text": [
      "Evaluating:  76%|███████████████████████████████████████████████▍              | 3057/4000 [3:25:32<55:19,  3.52s/file]"
     ]
    },
    {
     "name": "stdout",
     "output_type": "stream",
     "text": [
      "[WARN] 라벨링 누락: say_set1_collectorgs150_speakergs2449_20_0_32_1\n",
      "[WARN] 라벨링 누락: say_set1_collectorgs250_speakergs3638_85_0_64_1\n"
     ]
    },
    {
     "name": "stderr",
     "output_type": "stream",
     "text": [
      "Evaluating:  77%|█████████████████████████████████████████████▉              | 3061/4000 [3:25:49<1:03:52,  4.08s/file]"
     ]
    },
    {
     "name": "stdout",
     "output_type": "stream",
     "text": [
      "[WARN] 라벨링 누락: say_set1_collectorgs303_speakergs3004_1_1_18_1\n",
      "[WARN] 라벨링 누락: say_set1_collectorgs81_speakergs1209_12_0_31_1\n"
     ]
    },
    {
     "name": "stderr",
     "output_type": "stream",
     "text": [
      "Evaluating:  77%|███████████████████████████████████████████████▍              | 3064/4000 [3:25:55<51:36,  3.31s/file]"
     ]
    },
    {
     "name": "stdout",
     "output_type": "stream",
     "text": [
      "[WARN] 라벨링 누락: say_set2_collectorgs362_speakergs2678_34_0_26_1\n",
      "[WARN] 라벨링 누락: say_set1_collectorgs238_speakergs2344_9_0_6_1\n"
     ]
    },
    {
     "name": "stderr",
     "output_type": "stream",
     "text": [
      "Evaluating:  77%|███████████████████████████████████████████████▌              | 3067/4000 [3:26:04<49:13,  3.17s/file]"
     ]
    },
    {
     "name": "stdout",
     "output_type": "stream",
     "text": [
      "[WARN] 라벨링 누락: say_set1_collectorgs261_speakergs2687_15_0_22_1\n"
     ]
    },
    {
     "name": "stderr",
     "output_type": "stream",
     "text": [
      "Evaluating:  77%|███████████████████████████████████████████████▌              | 3069/4000 [3:26:11<50:40,  3.27s/file]"
     ]
    },
    {
     "name": "stdout",
     "output_type": "stream",
     "text": [
      "[WARN] 라벨링 누락: say_set2_collectorgs31_speakergs3613_37_0_34_1\n",
      "[WARN] 라벨링 누락: say_set1_collectorgs438_speakergs4760_17_0_12_1\n"
     ]
    },
    {
     "name": "stderr",
     "output_type": "stream",
     "text": [
      "Evaluating:  77%|███████████████████████████████████████████████▌              | 3072/4000 [3:26:17<44:12,  2.86s/file]"
     ]
    },
    {
     "name": "stdout",
     "output_type": "stream",
     "text": [
      "[WARN] 라벨링 누락: say_set1_collectorgs419_speakergs3708_85_0_40_1\n",
      "[WARN] 라벨링 누락: say_set2_collectorgs154_speakergs2102_3_0_38_1\n",
      "[WARN] 라벨링 누락: say_set1_collectorgs503_speakergs3847_62_0_29_1\n"
     ]
    },
    {
     "name": "stderr",
     "output_type": "stream",
     "text": [
      "Evaluating:  77%|███████████████████████████████████████████████▋              | 3076/4000 [3:26:24<36:21,  2.36s/file]"
     ]
    },
    {
     "name": "stdout",
     "output_type": "stream",
     "text": [
      "[WARN] 라벨링 누락: say_set1_collectorgs397_speakergs4131_14_1_13_1\n",
      "[WARN] 라벨링 누락: say_set2_collectorgs31_speakergs1697_53_0_41_1\n"
     ]
    },
    {
     "name": "stderr",
     "output_type": "stream",
     "text": [
      "Evaluating:  77%|███████████████████████████████████████████████▋              | 3079/4000 [3:26:32<37:37,  2.45s/file]"
     ]
    },
    {
     "name": "stdout",
     "output_type": "stream",
     "text": [
      "[WARN] 라벨링 누락: say_set1_collectorgs278_speakergs2586_63_0_18_1\n"
     ]
    },
    {
     "name": "stderr",
     "output_type": "stream",
     "text": [
      "Evaluating:  77%|███████████████████████████████████████████████▊              | 3081/4000 [3:26:35<34:03,  2.22s/file]"
     ]
    },
    {
     "name": "stdout",
     "output_type": "stream",
     "text": [
      "[WARN] 라벨링 누락: say_set2_collectorgs131_speakergs1775_37_0_33_1\n"
     ]
    },
    {
     "name": "stderr",
     "output_type": "stream",
     "text": [
      "Evaluating:  77%|███████████████████████████████████████████████▊              | 3084/4000 [3:26:52<54:20,  3.56s/file]"
     ]
    },
    {
     "name": "stdout",
     "output_type": "stream",
     "text": [
      "[WARN] 라벨링 누락: say_set1_collectorgs518_speakergs4137_8_0_17_1\n",
      "[WARN] 라벨링 누락: say_set1_collectorgs242_speakergs2060_30_0_37_1\n"
     ]
    },
    {
     "name": "stderr",
     "output_type": "stream",
     "text": [
      "Evaluating:  77%|███████████████████████████████████████████████▊              | 3087/4000 [3:26:57<44:09,  2.90s/file]"
     ]
    },
    {
     "name": "stdout",
     "output_type": "stream",
     "text": [
      "[WARN] 라벨링 누락: say_set3_collectorgs115_speakergs1199_61_0_33_1\n",
      "[WARN] 라벨링 누락: say_set2_collectorgs160_speakergs3639_44_0_41_1\n",
      "[WARN] 라벨링 누락: say_set2_collectorgs474_speakergs4173_27_0_14_1\n",
      "[WARN] 라벨링 누락: say_set2_collectorgs139_speakergs1763_45_0_30_1\n"
     ]
    },
    {
     "name": "stderr",
     "output_type": "stream",
     "text": [
      "Evaluating:  77%|███████████████████████████████████████████████▉              | 3094/4000 [3:27:23<57:58,  3.84s/file]"
     ]
    },
    {
     "name": "stdout",
     "output_type": "stream",
     "text": [
      "[WARN] 라벨링 누락: say_set1_collectorgs392_speakergs3016_63_0_33_1\n",
      "[WARN] 라벨링 누락: say_set1_collectorgs212_speakergs3002_18_0_20_1\n",
      "[WARN] 라벨링 누락: say_set2_collectorgs129_speakergs1747_52_0_34_1\n"
     ]
    },
    {
     "name": "stderr",
     "output_type": "stream",
     "text": [
      "Evaluating:  77%|████████████████████████████████████████████████              | 3098/4000 [3:27:29<41:21,  2.75s/file]"
     ]
    },
    {
     "name": "stdout",
     "output_type": "stream",
     "text": [
      "[WARN] 라벨링 누락: say_set2_collectorgs244_speakergs2175_4_0_33_1\n",
      "[WARN] 라벨링 누락: say_set1_collectorgs514_speakergs4129_60_1_5_1\n",
      "[WARN] 라벨링 누락: say_set1_collectorgs514_speakergs4093_56_0_11_1\n"
     ]
    },
    {
     "name": "stderr",
     "output_type": "stream",
     "text": [
      "Evaluating:  78%|████████████████████████████████████████████████              | 3102/4000 [3:27:35<34:15,  2.29s/file]"
     ]
    },
    {
     "name": "stdout",
     "output_type": "stream",
     "text": [
      "[WARN] 라벨링 누락: say_set2_collectorgs160_speakergs3142_31_0_32_1\n",
      "[WARN] 라벨링 누락: say_set1_collectorgs131_speakergs924_62_0_37_1\n",
      "[WARN] 라벨링 누락: say_set1_collectorgs518_speakergs4137_63_0_15_1\n",
      "[WARN] 라벨링 누락: say_set1_collectorgs414_speakergs3057_23_0_30_1\n",
      "[WARN] 라벨링 누락: say_set1_collectorgs160_speakergs2120_26_0_30_1\n"
     ]
    },
    {
     "name": "stderr",
     "output_type": "stream",
     "text": [
      "Evaluating:  78%|████████████████████████████████████████████████▏             | 3108/4000 [3:27:41<25:23,  1.71s/file]"
     ]
    },
    {
     "name": "stdout",
     "output_type": "stream",
     "text": [
      "[WARN] 라벨링 누락: say_set2_collectorgs119_speakergs1104_58_0_24_1\n"
     ]
    },
    {
     "name": "stderr",
     "output_type": "stream",
     "text": [
      "Evaluating:  78%|████████████████████████████████████████████████▏             | 3110/4000 [3:27:52<35:13,  2.37s/file]"
     ]
    },
    {
     "name": "stdout",
     "output_type": "stream",
     "text": [
      "[WARN] 라벨링 누락: say_set2_collectorgs239_speakergs2383_71_0_34_1\n",
      "[WARN] 라벨링 누락: say_set2_collectorgs359_speakergs4426_31_0_12_1\n"
     ]
    },
    {
     "name": "stderr",
     "output_type": "stream",
     "text": [
      "Evaluating:  78%|████████████████████████████████████████████████▎             | 3113/4000 [3:28:00<35:51,  2.43s/file]"
     ]
    },
    {
     "name": "stdout",
     "output_type": "stream",
     "text": [
      "[WARN] 라벨링 누락: say_set1_collectorgs154_speakergs1071_23_0_40_1\n"
     ]
    },
    {
     "name": "stderr",
     "output_type": "stream",
     "text": [
      "Evaluating:  78%|████████████████████████████████████████████████▎             | 3116/4000 [3:28:19<55:56,  3.80s/file]"
     ]
    },
    {
     "name": "stdout",
     "output_type": "stream",
     "text": [
      "[WARN] 라벨링 누락: say_set1_collectorgs206_speakergs1790_31_0_43_1\n"
     ]
    },
    {
     "name": "stderr",
     "output_type": "stream",
     "text": [
      "Evaluating:  78%|██████████████████████████████████████████████▊             | 3118/4000 [3:28:29<1:00:50,  4.14s/file]"
     ]
    },
    {
     "name": "stdout",
     "output_type": "stream",
     "text": [
      "[WARN] 라벨링 누락: say_set1_collectorgs508_speakergs4120_64_0_19_1\n"
     ]
    },
    {
     "name": "stderr",
     "output_type": "stream",
     "text": [
      "Evaluating:  78%|██████████████████████████████████████████████▊             | 3123/4000 [3:28:58<1:21:27,  5.57s/file]"
     ]
    },
    {
     "name": "stdout",
     "output_type": "stream",
     "text": [
      "[WARN] 라벨링 누락: say_set1_collectorgs376_speakergs3220_15_0_41_1\n"
     ]
    },
    {
     "name": "stderr",
     "output_type": "stream",
     "text": [
      "Evaluating:  78%|██████████████████████████████████████████████▉             | 3127/4000 [3:29:23<1:29:44,  6.17s/file]"
     ]
    },
    {
     "name": "stdout",
     "output_type": "stream",
     "text": [
      "[WARN] 라벨링 누락: say_set1_collectorgs32_speakergs2618_50_0_40_1\n",
      "[WARN] 라벨링 누락: say_set2_collectorgs139_speakergs2279_10_0_34_1\n"
     ]
    },
    {
     "name": "stderr",
     "output_type": "stream",
     "text": [
      "Evaluating:  78%|██████████████████████████████████████████████▉             | 3132/4000 [3:29:51<1:28:20,  6.11s/file]"
     ]
    },
    {
     "name": "stdout",
     "output_type": "stream",
     "text": [
      "[WARN] 라벨링 누락: say_set2_collectorgs240_speakergs3152_19_0_40_1\n",
      "[WARN] 라벨링 누락: say_set1_collectorgs75_speakergs273_10_0_25_1\n"
     ]
    },
    {
     "name": "stderr",
     "output_type": "stream",
     "text": [
      "Evaluating:  78%|███████████████████████████████████████████████             | 3135/4000 [3:29:58<1:02:50,  4.36s/file]"
     ]
    },
    {
     "name": "stdout",
     "output_type": "stream",
     "text": [
      "[WARN] 라벨링 누락: say_set2_collectorgs474_speakergs4346_14_0_13_1\n"
     ]
    },
    {
     "name": "stderr",
     "output_type": "stream",
     "text": [
      "Evaluating:  78%|████████████████████████████████████████████████▌             | 3137/4000 [3:30:03<54:32,  3.79s/file]"
     ]
    },
    {
     "name": "stdout",
     "output_type": "stream",
     "text": [
      "[WARN] 라벨링 누락: say_set2_collectorgs185_speakergs4434_44_0_31_1\n"
     ]
    },
    {
     "name": "stderr",
     "output_type": "stream",
     "text": [
      "Evaluating:  78%|████████████████████████████████████████████████▋             | 3139/4000 [3:30:12<57:02,  3.97s/file]"
     ]
    },
    {
     "name": "stdout",
     "output_type": "stream",
     "text": [
      "[WARN] 라벨링 누락: say_set1_collectorgs135_speakergs1470_32_0_34_1\n",
      "[WARN] 라벨링 누락: say_set2_collectorgs154_speakergs1796_5_0_31_1\n"
     ]
    },
    {
     "name": "stderr",
     "output_type": "stream",
     "text": [
      "Evaluating:  79%|███████████████████████████████████████████████▏            | 3146/4000 [3:30:45<1:06:39,  4.68s/file]"
     ]
    },
    {
     "name": "stdout",
     "output_type": "stream",
     "text": [
      "[WARN] 라벨링 누락: say_set2_collectorgs130_speakergs1949_3_0_29_1\n",
      "[WARN] 라벨링 누락: say_set1_collectorgs406_speakergs2856_56_0_5_1\n",
      "[WARN] 라벨링 누락: say_set1_collectorgs465_speakergs3878_70_0_10_1\n",
      "[WARN] 라벨링 누락: say_set1_collectorgs292_speakergs2477_66_0_33_1\n"
     ]
    },
    {
     "name": "stderr",
     "output_type": "stream",
     "text": [
      "Evaluating:  79%|████████████████████████████████████████████████▊             | 3151/4000 [3:30:54<39:41,  2.80s/file]"
     ]
    },
    {
     "name": "stdout",
     "output_type": "stream",
     "text": [
      "[WARN] 라벨링 누락: say_set1_collectorgs160_speakergs2343_43_0_38_1\n",
      "[WARN] 라벨링 누락: say_set1_collectorgs384_speakergs3577_29_0_29_1\n"
     ]
    },
    {
     "name": "stderr",
     "output_type": "stream",
     "text": [
      "Evaluating:  79%|████████████████████████████████████████████████▉             | 3154/4000 [3:30:59<35:09,  2.49s/file]"
     ]
    },
    {
     "name": "stdout",
     "output_type": "stream",
     "text": [
      "[WARN] 라벨링 누락: say_set1_collectorgs261_speakergs3387_55_0_10_1\n",
      "[WARN] 라벨링 누락: say_set1_collectorgs484_speakergs3768_52_0_24_1\n",
      "[WARN] 라벨링 누락: say_set1_collectorgs265_speakergs2619_0_0_31_1\n",
      "[WARN] 라벨링 누락: say_set2_collectorgs134_speakergs1325_0_0_37_1\n"
     ]
    },
    {
     "name": "stderr",
     "output_type": "stream",
     "text": [
      "Evaluating:  79%|████████████████████████████████████████████████▉             | 3159/4000 [3:31:03<23:50,  1.70s/file]"
     ]
    },
    {
     "name": "stdout",
     "output_type": "stream",
     "text": [
      "[WARN] 라벨링 누락: say_set2_collectorgs466_speakergs4476_58_0_31_1\n"
     ]
    },
    {
     "name": "stderr",
     "output_type": "stream",
     "text": [
      "Evaluating:  79%|████████████████████████████████████████████████▉             | 3161/4000 [3:31:14<34:51,  2.49s/file]"
     ]
    },
    {
     "name": "stdout",
     "output_type": "stream",
     "text": [
      "[WARN] 라벨링 누락: say_set2_collectorgs123_speakergs2363_57_0_31_1\n"
     ]
    },
    {
     "name": "stderr",
     "output_type": "stream",
     "text": [
      "Evaluating:  79%|█████████████████████████████████████████████████             | 3163/4000 [3:31:20<35:45,  2.56s/file]"
     ]
    },
    {
     "name": "stdout",
     "output_type": "stream",
     "text": [
      "[WARN] 라벨링 누락: say_set2_collectorgs142_speakergs1774_59_0_24_1\n"
     ]
    },
    {
     "name": "stderr",
     "output_type": "stream",
     "text": [
      "Evaluating:  79%|█████████████████████████████████████████████████             | 3165/4000 [3:31:27<38:48,  2.79s/file]"
     ]
    },
    {
     "name": "stdout",
     "output_type": "stream",
     "text": [
      "[WARN] 라벨링 누락: say_set1_collectorgs73_speakergs2240_36_0_34_1\n"
     ]
    },
    {
     "name": "stderr",
     "output_type": "stream",
     "text": [
      "Evaluating:  79%|█████████████████████████████████████████████████             | 3168/4000 [3:31:36<39:28,  2.85s/file]"
     ]
    },
    {
     "name": "stdout",
     "output_type": "stream",
     "text": [
      "[WARN] 라벨링 누락: say_set1_collectorgs206_speakergs2392_62_0_47_1\n",
      "[WARN] 라벨링 누락: say_set1_collectorgs218_speakergs1715_83_0_20_1\n",
      "[WARN] 라벨링 누락: say_set1_collectorgs492_speakergs4445_5_1_4_1\n"
     ]
    },
    {
     "name": "stderr",
     "output_type": "stream",
     "text": [
      "Evaluating:  79%|█████████████████████████████████████████████████▏            | 3172/4000 [3:31:43<31:47,  2.30s/file]"
     ]
    },
    {
     "name": "stdout",
     "output_type": "stream",
     "text": [
      "[WARN] 라벨링 누락: say_set1_collectorgs195_speakergs1398_10_0_30_1\n"
     ]
    },
    {
     "name": "stderr",
     "output_type": "stream",
     "text": [
      "Evaluating:  79%|█████████████████████████████████████████████████▏            | 3174/4000 [3:31:51<37:58,  2.76s/file]"
     ]
    },
    {
     "name": "stdout",
     "output_type": "stream",
     "text": [
      "[WARN] 라벨링 누락: say_set2_collectorgs223_speakergs1705_10_0_16_1\n"
     ]
    },
    {
     "name": "stderr",
     "output_type": "stream",
     "text": [
      "Evaluating:  79%|█████████████████████████████████████████████████▎            | 3178/4000 [3:32:11<57:41,  4.21s/file]"
     ]
    },
    {
     "name": "stdout",
     "output_type": "stream",
     "text": [
      "[WARN] 라벨링 누락: say_set2_collectorgs139_speakergs2002_62_0_34_1\n"
     ]
    },
    {
     "name": "stderr",
     "output_type": "stream",
     "text": [
      "Evaluating:  80%|█████████████████████████████████████████████████▎            | 3181/4000 [3:32:23<56:46,  4.16s/file]"
     ]
    },
    {
     "name": "stdout",
     "output_type": "stream",
     "text": [
      "[WARN] 라벨링 누락: say_set1_collectorgs245_speakergs2582_8_0_33_1\n"
     ]
    },
    {
     "name": "stderr",
     "output_type": "stream",
     "text": [
      "Evaluating:  80%|█████████████████████████████████████████████████▎            | 3185/4000 [3:32:38<57:58,  4.27s/file]"
     ]
    },
    {
     "name": "stdout",
     "output_type": "stream",
     "text": [
      "[WARN] 라벨링 누락: say_set2_collectorgs276_speakergs4010_71_0_16_1\n",
      "[WARN] 라벨링 누락: say_set2_collectorgs160_speakergs3142_49_0_31_1\n"
     ]
    },
    {
     "name": "stderr",
     "output_type": "stream",
     "text": [
      "Evaluating:  80%|█████████████████████████████████████████████████▍            | 3188/4000 [3:32:42<38:26,  2.84s/file]"
     ]
    },
    {
     "name": "stdout",
     "output_type": "stream",
     "text": [
      "[WARN] 라벨링 누락: say_set1_collectorgs219_speakergs4183_30_0_51_1\n"
     ]
    },
    {
     "name": "stderr",
     "output_type": "stream",
     "text": [
      "Evaluating:  80%|███████████████████████████████████████████████▉            | 3192/4000 [3:33:08<1:07:26,  5.01s/file]"
     ]
    },
    {
     "name": "stdout",
     "output_type": "stream",
     "text": [
      "[WARN] 라벨링 누락: say_set1_collectorgs482_speakergs4105_75_0_8_1\n",
      "[WARN] 라벨링 누락: say_set1_collectorgs293_speakergs2365_36_0_24_1\n",
      "[WARN] 라벨링 누락: say_set2_collectorgs73_speakergs1228_18_0_40_1\n"
     ]
    },
    {
     "name": "stderr",
     "output_type": "stream",
     "text": [
      "Evaluating:  80%|█████████████████████████████████████████████████▌            | 3197/4000 [3:33:23<54:42,  4.09s/file]"
     ]
    },
    {
     "name": "stdout",
     "output_type": "stream",
     "text": [
      "[WARN] 라벨링 누락: say_set1_collectorgs261_speakergs3756_1_0_11_1\n"
     ]
    },
    {
     "name": "stderr",
     "output_type": "stream",
     "text": [
      "Evaluating:  80%|████████████████████████████████████████████████            | 3201/4000 [3:33:46<1:12:10,  5.42s/file]"
     ]
    },
    {
     "name": "stdout",
     "output_type": "stream",
     "text": [
      "[WARN] 라벨링 누락: say_set1_collectorgs130_speakergs2052_42_0_33_1\n",
      "[WARN] 라벨링 누락: say_set2_collectorgs154_speakergs674_47_0_28_1\n"
     ]
    },
    {
     "name": "stderr",
     "output_type": "stream",
     "text": [
      "Evaluating:  80%|█████████████████████████████████████████████████▋            | 3205/4000 [3:33:58<55:16,  4.17s/file]"
     ]
    },
    {
     "name": "stdout",
     "output_type": "stream",
     "text": [
      "[WARN] 라벨링 누락: say_set1_collectorgs376_speakergs3907_37_0_45_1\n",
      "[WARN] 라벨링 누락: say_set2_collectorgs129_speakergs1921_10_0_27_1\n"
     ]
    },
    {
     "name": "stderr",
     "output_type": "stream",
     "text": [
      "Evaluating:  80%|█████████████████████████████████████████████████▋            | 3208/4000 [3:34:06<46:36,  3.53s/file]"
     ]
    },
    {
     "name": "stdout",
     "output_type": "stream",
     "text": [
      "[WARN] 라벨링 누락: say_set2_collectorgs213_speakergs2077_3_0_37_1\n",
      "[WARN] 라벨링 누락: say_set1_collectorgs411_speakergs3317_12_0_14_1\n",
      "[WARN] 라벨링 누락: say_set1_collectorgs186_speakergs2446_44_0_24_1\n",
      "[WARN] 라벨링 누락: say_set1_collectorgs185_speakergs1113_35_0_33_1\n",
      "[WARN] 라벨링 누락: say_set2_collectorgs31_speakergs3613_15_0_45_1\n",
      "[WARN] 라벨링 누락: say_set1_collectorgs213_speakergs3001_16_0_4_1\n"
     ]
    },
    {
     "name": "stderr",
     "output_type": "stream",
     "text": [
      "Evaluating:  80%|█████████████████████████████████████████████████▊            | 3216/4000 [3:34:18<31:33,  2.41s/file]"
     ]
    },
    {
     "name": "stdout",
     "output_type": "stream",
     "text": [
      "[WARN] 라벨링 누락: say_set1_collectorgs213_speakergs3001_48_0_16_1\n"
     ]
    },
    {
     "name": "stderr",
     "output_type": "stream",
     "text": [
      "Evaluating:  81%|█████████████████████████████████████████████████▉            | 3221/4000 [3:34:46<58:36,  4.51s/file]"
     ]
    },
    {
     "name": "stdout",
     "output_type": "stream",
     "text": [
      "[WARN] 라벨링 누락: say_set1_collectorgs520_speakergs4225_76_0_34_1\n",
      "[WARN] 라벨링 누락: say_set1_collectorgs203_speakergs1388_24_0_38_1\n",
      "[WARN] 라벨링 누락: say_set1_collectorgs206_speakergs1790_6_0_31_1\n",
      "[WARN] 라벨링 누락: say_set1_collectorgs131_speakergs2021_6_0_33_1\n"
     ]
    },
    {
     "name": "stderr",
     "output_type": "stream",
     "text": [
      "Evaluating:  81%|██████████████████████████████████████████████████            | 3228/4000 [3:35:02<43:06,  3.35s/file]"
     ]
    },
    {
     "name": "stdout",
     "output_type": "stream",
     "text": [
      "[WARN] 라벨링 누락: say_set1_collectorgs195_speakergs1398_56_0_51_1\n"
     ]
    },
    {
     "name": "stderr",
     "output_type": "stream",
     "text": [
      "Evaluating:  81%|████████████████████████████████████████████████▍           | 3232/4000 [3:35:29<1:09:42,  5.45s/file]"
     ]
    },
    {
     "name": "stdout",
     "output_type": "stream",
     "text": [
      "[WARN] 라벨링 누락: say_set1_collectorgs142_speakergs2336_59_0_37_1\n"
     ]
    },
    {
     "name": "stderr",
     "output_type": "stream",
     "text": [
      "Evaluating:  81%|████████████████████████████████████████████████▌           | 3235/4000 [3:35:41<1:01:01,  4.79s/file]"
     ]
    },
    {
     "name": "stdout",
     "output_type": "stream",
     "text": [
      "[WARN] 라벨링 누락: say_set2_collectorgs160_speakergs2683_39_0_35_1\n"
     ]
    },
    {
     "name": "stderr",
     "output_type": "stream",
     "text": [
      "Evaluating:  81%|████████████████████████████████████████████████▌           | 3238/4000 [3:35:57<1:06:28,  5.23s/file]"
     ]
    },
    {
     "name": "stdout",
     "output_type": "stream",
     "text": [
      "[WARN] 라벨링 누락: say_set2_collectorgs134_speakergs1896_83_0_31_1\n",
      "[WARN] 라벨링 누락: say_set2_collectorgs223_speakergs1702_3_0_30_1\n"
     ]
    },
    {
     "name": "stderr",
     "output_type": "stream",
     "text": [
      "Evaluating:  81%|████████████████████████████████████████████████▌           | 3241/4000 [3:36:30<1:41:57,  8.06s/file]"
     ]
    },
    {
     "name": "stdout",
     "output_type": "stream",
     "text": [
      "[WARN] 라벨링 누락: say_set1_collectorgs115_speakergs417_5_0_34_1\n",
      "[WARN] 라벨링 누락: say_set1_collectorgs486_speakergs3983_24_1_14_1\n",
      "[WARN] 라벨링 누락: say_set1_collectorgs160_speakergs1160_62_0_35_1\n"
     ]
    },
    {
     "name": "stderr",
     "output_type": "stream",
     "text": [
      "Evaluating:  81%|████████████████████████████████████████████████▋           | 3245/4000 [3:36:38<1:04:45,  5.15s/file]"
     ]
    },
    {
     "name": "stdout",
     "output_type": "stream",
     "text": [
      "[WARN] 라벨링 누락: say_set2_collectorgs129_speakergs1714_1_0_29_1\n"
     ]
    },
    {
     "name": "stderr",
     "output_type": "stream",
     "text": [
      "Evaluating:  81%|██████████████████████████████████████████████████▎           | 3247/4000 [3:36:42<53:31,  4.27s/file]"
     ]
    },
    {
     "name": "stdout",
     "output_type": "stream",
     "text": [
      "[WARN] 라벨링 누락: say_set2_collectorgs474_speakergs4859_64_0_22_1\n"
     ]
    },
    {
     "name": "stderr",
     "output_type": "stream",
     "text": [
      "Evaluating:  81%|████████████████████████████████████████████████▊           | 3250/4000 [3:37:00<1:04:30,  5.16s/file]"
     ]
    },
    {
     "name": "stdout",
     "output_type": "stream",
     "text": [
      "[WARN] 라벨링 누락: say_set2_collectorgs129_speakergs1330_10_0_43_1\n",
      "[WARN] 라벨링 누락: say_set1_collectorgs183_speakergs1343_4_0_34_1\n"
     ]
    },
    {
     "name": "stderr",
     "output_type": "stream",
     "text": [
      "Evaluating:  81%|██████████████████████████████████████████████████▍           | 3253/4000 [3:37:04<44:27,  3.57s/file]"
     ]
    },
    {
     "name": "stdout",
     "output_type": "stream",
     "text": [
      "[WARN] 라벨링 누락: say_set1_collectorgs219_speakergs3598_5_1_12_1\n"
     ]
    },
    {
     "name": "stderr",
     "output_type": "stream",
     "text": [
      "Evaluating:  81%|██████████████████████████████████████████████████▍           | 3255/4000 [3:37:13<47:58,  3.86s/file]"
     ]
    },
    {
     "name": "stdout",
     "output_type": "stream",
     "text": [
      "[WARN] 라벨링 누락: say_set1_collectorgs219_speakergs2703_43_1_24_1\n"
     ]
    },
    {
     "name": "stderr",
     "output_type": "stream",
     "text": [
      "Evaluating:  81%|██████████████████████████████████████████████████▍           | 3258/4000 [3:37:31<59:52,  4.84s/file]"
     ]
    },
    {
     "name": "stdout",
     "output_type": "stream",
     "text": [
      "[WARN] 라벨링 누락: say_set1_collectorgs142_speakergs1274_56_0_48_1\n"
     ]
    },
    {
     "name": "stderr",
     "output_type": "stream",
     "text": [
      "Evaluating:  82%|████████████████████████████████████████████████▉           | 3261/4000 [3:37:47<1:03:53,  5.19s/file]"
     ]
    },
    {
     "name": "stdout",
     "output_type": "stream",
     "text": [
      "[WARN] 라벨링 누락: say_set1_collectorgs197_speakergs1215_64_0_32_1\n",
      "[WARN] 라벨링 누락: say_set1_collectorgs475_speakergs3696_22_0_34_1\n",
      "[WARN] 라벨링 누락: say_set2_collectorgs188_speakergs1099_10_0_9_1\n"
     ]
    },
    {
     "name": "stderr",
     "output_type": "stream",
     "text": [
      "Evaluating:  82%|██████████████████████████████████████████████████▋           | 3267/4000 [3:38:07<57:01,  4.67s/file]"
     ]
    },
    {
     "name": "stdout",
     "output_type": "stream",
     "text": [
      "[WARN] 라벨링 누락: say_set1_collectorgs32_speakergs3686_72_0_40_1\n",
      "[WARN] 라벨링 누락: say_set2_collectorgs504_speakergs3869_6_0_66_1\n"
     ]
    },
    {
     "name": "stderr",
     "output_type": "stream",
     "text": [
      "Evaluating:  82%|██████████████████████████████████████████████████▋           | 3271/4000 [3:38:22<54:11,  4.46s/file]"
     ]
    },
    {
     "name": "stdout",
     "output_type": "stream",
     "text": [
      "[WARN] 라벨링 누락: say_set1_collectorgs130_speakergs1111_1_0_40_1\n"
     ]
    },
    {
     "name": "stderr",
     "output_type": "stream",
     "text": [
      "Evaluating:  82%|██████████████████████████████████████████████████▋           | 3274/4000 [3:38:28<41:46,  3.45s/file]"
     ]
    },
    {
     "name": "stdout",
     "output_type": "stream",
     "text": [
      "[WARN] 라벨링 누락: say_set2_collectorgs262_speakergs2180_76_0_14_1\n"
     ]
    },
    {
     "name": "stderr",
     "output_type": "stream",
     "text": [
      "Evaluating:  82%|██████████████████████████████████████████████████▊           | 3277/4000 [3:38:36<35:25,  2.94s/file]"
     ]
    },
    {
     "name": "stdout",
     "output_type": "stream",
     "text": [
      "[WARN] 라벨링 누락: say_set2_collectorgs213_speakergs2237_29_0_23_1\n"
     ]
    },
    {
     "name": "stderr",
     "output_type": "stream",
     "text": [
      "Evaluating:  82%|██████████████████████████████████████████████████▊           | 3279/4000 [3:38:39<29:43,  2.47s/file]"
     ]
    },
    {
     "name": "stdout",
     "output_type": "stream",
     "text": [
      "[WARN] 라벨링 누락: say_set1_collectorgs233_speakergs2577_10_0_27_1\n"
     ]
    },
    {
     "name": "stderr",
     "output_type": "stream",
     "text": [
      "Evaluating:  82%|██████████████████████████████████████████████████▉           | 3284/4000 [3:39:05<57:47,  4.84s/file]"
     ]
    },
    {
     "name": "stdout",
     "output_type": "stream",
     "text": [
      "[WARN] 라벨링 누락: say_set1_collectorgs506_speakergs3963_54_0_14_1\n",
      "[WARN] 라벨링 누락: say_set1_collectorgs65_speakergs1699_10_0_27_1\n"
     ]
    },
    {
     "name": "stderr",
     "output_type": "stream",
     "text": [
      "Evaluating:  82%|█████████████████████████████████████████████████▎          | 3291/4000 [3:39:43<1:15:45,  6.41s/file]"
     ]
    },
    {
     "name": "stdout",
     "output_type": "stream",
     "text": [
      "[WARN] 라벨링 누락: say_set1_collectorgs482_speakergs4105_81_0_8_1\n",
      "[WARN] 라벨링 누락: say_set1_collectorgs465_speakergs3874_35_0_56_1\n"
     ]
    },
    {
     "name": "stderr",
     "output_type": "stream",
     "text": [
      "Evaluating:  82%|███████████████████████████████████████████████████           | 3294/4000 [3:39:53<57:01,  4.85s/file]"
     ]
    },
    {
     "name": "stdout",
     "output_type": "stream",
     "text": [
      "[WARN] 라벨링 누락: say_set2_collectorgs522_speakergs4398_36_0_24_1\n",
      "[WARN] 라벨링 누락: say_set1_collectorgs150_speakergs2001_32_0_38_1\n"
     ]
    },
    {
     "name": "stderr",
     "output_type": "stream",
     "text": [
      "Evaluating:  82%|███████████████████████████████████████████████████▏          | 3299/4000 [3:40:14<56:26,  4.83s/file]"
     ]
    },
    {
     "name": "stdout",
     "output_type": "stream",
     "text": [
      "[WARN] 라벨링 누락: say_set1_collectorgs216_speakergs1765_30_0_5_1\n"
     ]
    },
    {
     "name": "stderr",
     "output_type": "stream",
     "text": [
      "Evaluating:  83%|█████████████████████████████████████████████████▌          | 3303/4000 [3:40:34<1:02:34,  5.39s/file]"
     ]
    },
    {
     "name": "stdout",
     "output_type": "stream",
     "text": [
      "[WARN] 라벨링 누락: say_set1_collectorgs25_speakergs3515_45_0_7_1\n"
     ]
    },
    {
     "name": "stderr",
     "output_type": "stream",
     "text": [
      "Evaluating:  83%|███████████████████████████████████████████████████▏          | 3305/4000 [3:40:43<56:37,  4.89s/file]"
     ]
    },
    {
     "name": "stdout",
     "output_type": "stream",
     "text": [
      "[WARN] 라벨링 누락: say_set2_collectorgs164_speakergs1031_55_0_32_1\n"
     ]
    },
    {
     "name": "stderr",
     "output_type": "stream",
     "text": [
      "Evaluating:  83%|█████████████████████████████████████████████████▋          | 3310/4000 [3:41:12<1:13:53,  6.43s/file]"
     ]
    },
    {
     "name": "stdout",
     "output_type": "stream",
     "text": [
      "[WARN] 라벨링 누락: say_set1_collectorgs161_speakergs1468_8_0_28_1\n"
     ]
    },
    {
     "name": "stderr",
     "output_type": "stream",
     "text": [
      "Evaluating:  83%|███████████████████████████████████████████████████▎          | 3312/4000 [3:41:18<57:53,  5.05s/file]"
     ]
    },
    {
     "name": "stdout",
     "output_type": "stream",
     "text": [
      "[WARN] 라벨링 누락: say_set2_collectorgs187_speakergs1007_43_0_9_1\n",
      "[WARN] 라벨링 누락: say_set1_collectorgs261_speakergs2687_66_0_18_1\n",
      "[WARN] 라벨링 누락: say_set2_collectorgs263_speakergs3970_59_0_7_1\n",
      "[WARN] 라벨링 누락: say_set1_collectorgs237_speakergs4186_54_0_52_1\n"
     ]
    },
    {
     "name": "stderr",
     "output_type": "stream",
     "text": [
      "Evaluating:  83%|███████████████████████████████████████████████████▍          | 3320/4000 [3:41:44<52:12,  4.61s/file]"
     ]
    },
    {
     "name": "stdout",
     "output_type": "stream",
     "text": [
      "[WARN] 라벨링 누락: say_set1_collectorgs73_speakergs308_32_0_40_1\n"
     ]
    },
    {
     "name": "stderr",
     "output_type": "stream",
     "text": [
      "Evaluating:  83%|███████████████████████████████████████████████████▍          | 3322/4000 [3:41:51<47:40,  4.22s/file]"
     ]
    },
    {
     "name": "stdout",
     "output_type": "stream",
     "text": [
      "[WARN] 라벨링 누락: say_set2_collectorgs119_speakergs892_1_0_29_1\n",
      "[WARN] 라벨링 누락: say_set2_collectorgs73_speakergs2265_28_0_36_1\n"
     ]
    },
    {
     "name": "stderr",
     "output_type": "stream",
     "text": [
      "Evaluating:  83%|███████████████████████████████████████████████████▌          | 3325/4000 [3:41:58<37:06,  3.30s/file]"
     ]
    },
    {
     "name": "stdout",
     "output_type": "stream",
     "text": [
      "[WARN] 라벨링 누락: say_set2_collectorgs31_speakergs3398_13_0_45_1\n",
      "[WARN] 라벨링 누락: say_set1_collectorgs356_speakergs2971_83_0_6_1\n"
     ]
    },
    {
     "name": "stderr",
     "output_type": "stream",
     "text": [
      "Evaluating:  83%|█████████████████████████████████████████████████▉          | 3333/4000 [3:42:43<1:09:10,  6.22s/file]"
     ]
    },
    {
     "name": "stdout",
     "output_type": "stream",
     "text": [
      "[WARN] 라벨링 누락: say_set1_collectorgs161_speakergs1451_32_0_38_1\n"
     ]
    },
    {
     "name": "stderr",
     "output_type": "stream",
     "text": [
      "Evaluating:  83%|███████████████████████████████████████████████████▋          | 3335/4000 [3:42:51<59:40,  5.38s/file]"
     ]
    },
    {
     "name": "stdout",
     "output_type": "stream",
     "text": [
      "[WARN] 라벨링 누락: say_set1_collectorgs246_speakergs2889_18_0_33_1\n"
     ]
    },
    {
     "name": "stderr",
     "output_type": "stream",
     "text": [
      "Evaluating:  83%|███████████████████████████████████████████████████▋          | 3337/4000 [3:43:00<54:37,  4.94s/file]"
     ]
    },
    {
     "name": "stdout",
     "output_type": "stream",
     "text": [
      "[WARN] 라벨링 누락: say_set1_collectorgs115_speakergs781_48_0_28_1\n",
      "[WARN] 라벨링 누락: say_set1_collectorgs212_speakergs2303_35_0_36_1\n",
      "[WARN] 라벨링 누락: say_set1_collectorgs296_speakergs3096_28_0_24_1\n"
     ]
    },
    {
     "name": "stderr",
     "output_type": "stream",
     "text": [
      "Evaluating:  84%|███████████████████████████████████████████████████▊          | 3343/4000 [3:43:17<42:17,  3.86s/file]"
     ]
    },
    {
     "name": "stdout",
     "output_type": "stream",
     "text": [
      "[WARN] 라벨링 누락: say_set1_collectorgs212_speakergs3285_21_0_40_1\n"
     ]
    },
    {
     "name": "stderr",
     "output_type": "stream",
     "text": [
      "Evaluating:  84%|███████████████████████████████████████████████████▉          | 3347/4000 [3:43:41<56:43,  5.21s/file]"
     ]
    },
    {
     "name": "stdout",
     "output_type": "stream",
     "text": [
      "[WARN] 라벨링 누락: say_set2_collectorgs160_speakergs3391_8_0_26_1\n"
     ]
    },
    {
     "name": "stderr",
     "output_type": "stream",
     "text": [
      "Evaluating:  84%|██████████████████████████████████████████████████▎         | 3351/4000 [3:44:06<1:05:09,  6.02s/file]"
     ]
    },
    {
     "name": "stdout",
     "output_type": "stream",
     "text": [
      "[WARN] 라벨링 누락: say_set2_collectorgs129_speakergs1714_69_0_41_1\n",
      "[WARN] 라벨링 누락: say_set1_collectorgs267_speakergs2191_51_0_32_1\n"
     ]
    },
    {
     "name": "stderr",
     "output_type": "stream",
     "text": [
      "Evaluating:  84%|██████████████████████████████████████████████████▎         | 3357/4000 [3:44:39<1:06:45,  6.23s/file]"
     ]
    },
    {
     "name": "stdout",
     "output_type": "stream",
     "text": [
      "[WARN] 라벨링 누락: say_set1_collectorgs144_speakergs1964_47_0_36_1\n"
     ]
    },
    {
     "name": "stderr",
     "output_type": "stream",
     "text": [
      "Evaluating:  84%|████████████████████████████████████████████████████          | 3359/4000 [3:44:47<57:45,  5.41s/file]"
     ]
    },
    {
     "name": "stdout",
     "output_type": "stream",
     "text": [
      "[WARN] 라벨링 누락: say_set1_collectorgs242_speakergs2029_47_0_26_1\n"
     ]
    },
    {
     "name": "stderr",
     "output_type": "stream",
     "text": [
      "Evaluating:  84%|██████████████████████████████████████████████████▍         | 3362/4000 [3:45:05<1:03:06,  5.94s/file]"
     ]
    },
    {
     "name": "stdout",
     "output_type": "stream",
     "text": [
      "[WARN] 라벨링 누락: say_set2_collectorgs139_speakergs1474_46_0_33_1\n"
     ]
    },
    {
     "name": "stderr",
     "output_type": "stream",
     "text": [
      "Evaluating:  84%|████████████████████████████████████████████████████▏         | 3365/4000 [3:45:19<57:10,  5.40s/file]"
     ]
    },
    {
     "name": "stdout",
     "output_type": "stream",
     "text": [
      "[WARN] 라벨링 누락: say_set2_collectorgs51_speakergs1723_47_0_14_1\n"
     ]
    },
    {
     "name": "stderr",
     "output_type": "stream",
     "text": [
      "Evaluating:  84%|██████████████████████████████████████████████████▌         | 3369/4000 [3:45:43<1:02:30,  5.94s/file]"
     ]
    },
    {
     "name": "stdout",
     "output_type": "stream",
     "text": [
      "[WARN] 라벨링 누락: say_set2_collectorgs139_speakergs2002_65_0_27_1\n",
      "[WARN] 라벨링 누락: say_set1_collectorgs143_speakergs2890_67_0_29_1\n",
      "[WARN] 라벨링 누락: say_set2_collectorgs119_speakergs892_19_0_54_1\n",
      "[WARN] 라벨링 누락: say_set1_collectorgs237_speakergs4186_55_0_34_1\n"
     ]
    },
    {
     "name": "stderr",
     "output_type": "stream",
     "text": [
      "Evaluating:  84%|████████████████████████████████████████████████████▎         | 3375/4000 [3:46:03<47:26,  4.55s/file]"
     ]
    },
    {
     "name": "stdout",
     "output_type": "stream",
     "text": [
      "[WARN] 라벨링 누락: say_set1_collectorgs188_speakergs1074_79_0_24_1\n",
      "[WARN] 라벨링 누락: say_set1_collectorgs187_speakergs2321_40_0_71_1\n",
      "[WARN] 라벨링 누락: say_set1_collectorgs150_speakergs1914_75_0_35_1\n"
     ]
    },
    {
     "name": "stderr",
     "output_type": "stream",
     "text": [
      "Evaluating:  85%|████████████████████████████████████████████████████▍         | 3381/4000 [3:46:18<36:47,  3.57s/file]"
     ]
    },
    {
     "name": "stdout",
     "output_type": "stream",
     "text": [
      "[WARN] 라벨링 누락: say_set2_collectorgs213_speakergs2087_33_0_24_1\n",
      "[WARN] 라벨링 누락: say_set1_collectorgs69_speakergs256_53_0_39_1\n",
      "[WARN] 라벨링 누락: say_set1_collectorgs284_speakergs2337_74_0_28_1\n",
      "[WARN] 라벨링 누락: say_set1_collectorgs32_speakergs342_26_0_29_1\n"
     ]
    },
    {
     "name": "stderr",
     "output_type": "stream",
     "text": [
      "Evaluating:  85%|████████████████████████████████████████████████████▍         | 3386/4000 [3:46:27<26:48,  2.62s/file]"
     ]
    },
    {
     "name": "stdout",
     "output_type": "stream",
     "text": [
      "[WARN] 라벨링 누락: say_set1_collectorgs486_speakergs3898_30_0_11_1\n"
     ]
    },
    {
     "name": "stderr",
     "output_type": "stream",
     "text": [
      "Evaluating:  85%|████████████████████████████████████████████████████▌         | 3388/4000 [3:46:34<29:00,  2.84s/file]"
     ]
    },
    {
     "name": "stdout",
     "output_type": "stream",
     "text": [
      "[WARN] 라벨링 누락: say_set2_collectorgs218_speakergs2641_16_1_2_1\n",
      "[WARN] 라벨링 누락: say_set1_collectorgs476_speakergs3617_45_0_14_1\n",
      "[WARN] 라벨링 누락: say_set2_collectorgs296_speakergs3746_5_0_23_1\n"
     ]
    },
    {
     "name": "stderr",
     "output_type": "stream",
     "text": [
      "Evaluating:  85%|████████████████████████████████████████████████████▌         | 3392/4000 [3:46:43<25:41,  2.54s/file]"
     ]
    },
    {
     "name": "stdout",
     "output_type": "stream",
     "text": [
      "[WARN] 라벨링 누락: say_set2_collectorgs31_speakergs3110_40_0_28_1\n",
      "[WARN] 라벨링 누락: say_set1_collectorgs186_speakergs3941_35_0_27_1\n"
     ]
    },
    {
     "name": "stderr",
     "output_type": "stream",
     "text": [
      "Evaluating:  85%|████████████████████████████████████████████████████▌         | 3395/4000 [3:46:48<22:58,  2.28s/file]"
     ]
    },
    {
     "name": "stdout",
     "output_type": "stream",
     "text": [
      "[WARN] 라벨링 누락: say_set1_collectorgs206_speakergs2394_71_0_32_1\n",
      "[WARN] 라벨링 누락: say_set2_collectorgs134_speakergs1896_31_0_32_1\n",
      "[WARN] 라벨링 누락: say_set2_collectorgs216_speakergs2872_5_0_8_1\n"
     ]
    },
    {
     "name": "stderr",
     "output_type": "stream",
     "text": [
      "Evaluating:  85%|████████████████████████████████████████████████████▋         | 3399/4000 [3:46:54<20:24,  2.04s/file]"
     ]
    },
    {
     "name": "stdout",
     "output_type": "stream",
     "text": [
      "[WARN] 라벨링 누락: say_set2_collectorgs474_speakergs4346_33_0_19_1\n"
     ]
    },
    {
     "name": "stderr",
     "output_type": "stream",
     "text": [
      "Evaluating:  85%|████████████████████████████████████████████████████▋         | 3401/4000 [3:47:04<26:17,  2.63s/file]"
     ]
    },
    {
     "name": "stdout",
     "output_type": "stream",
     "text": [
      "[WARN] 라벨링 누락: say_set1_collectorgs465_speakergs3878_76_0_16_1\n"
     ]
    },
    {
     "name": "stderr",
     "output_type": "stream",
     "text": [
      "Evaluating:  85%|████████████████████████████████████████████████████▊         | 3405/4000 [3:47:27<45:08,  4.55s/file]"
     ]
    },
    {
     "name": "stdout",
     "output_type": "stream",
     "text": [
      "[WARN] 라벨링 누락: say_set1_collectorgs139_speakergs1106_6_0_37_1\n"
     ]
    },
    {
     "name": "stderr",
     "output_type": "stream",
     "text": [
      "Evaluating:  85%|████████████████████████████████████████████████████▊         | 3407/4000 [3:47:31<37:11,  3.76s/file]"
     ]
    },
    {
     "name": "stdout",
     "output_type": "stream",
     "text": [
      "[WARN] 라벨링 누락: say_set1_collectorgs143_speakergs2353_33_0_33_1\n"
     ]
    },
    {
     "name": "stderr",
     "output_type": "stream",
     "text": [
      "Evaluating:  85%|████████████████████████████████████████████████████▊         | 3409/4000 [3:47:39<37:10,  3.77s/file]"
     ]
    },
    {
     "name": "stdout",
     "output_type": "stream",
     "text": [
      "[WARN] 라벨링 누락: say_set2_collectorgs31_speakergs3687_10_0_43_1\n",
      "[WARN] 라벨링 누락: say_set1_collectorgs484_speakergs3976_77_0_8_1\n",
      "[WARN] 라벨링 누락: say_set3_collectorgs115_speakergs809_24_0_33_1\n",
      "[WARN] 라벨링 누락: say_set1_collectorgs437_speakergs3374_57_0_8_1\n",
      "[WARN] 라벨링 누락: say_set1_collectorgs185_speakergs1113_46_0_38_1\n",
      "[WARN] 라벨링 누락: say_set1_collectorgs509_speakergs3969_0_1_27_1\n",
      "[WARN] 라벨링 누락: say_set1_collectorgs475_speakergs3890_60_0_9_1\n",
      "[WARN] 라벨링 누락: say_set1_collectorgs154_speakergs1142_80_0_35_1\n"
     ]
    },
    {
     "name": "stderr",
     "output_type": "stream",
     "text": [
      "Evaluating:  85%|████████████████████████████████████████████████████▉         | 3418/4000 [3:47:45<16:09,  1.67s/file]"
     ]
    },
    {
     "name": "stdout",
     "output_type": "stream",
     "text": [
      "[WARN] 라벨링 누락: say_set2_collectorgs414_speakergs4080_53_0_14_1\n"
     ]
    },
    {
     "name": "stderr",
     "output_type": "stream",
     "text": [
      "Evaluating:  86%|█████████████████████████████████████████████████████         | 3420/4000 [3:47:52<19:34,  2.02s/file]"
     ]
    },
    {
     "name": "stdout",
     "output_type": "stream",
     "text": [
      "[WARN] 라벨링 누락: say_set1_collectorgs143_speakergs2696_65_0_33_1\n",
      "[WARN] 라벨링 누락: say_set2_collectorgs134_speakergs1896_2_0_38_1\n"
     ]
    },
    {
     "name": "stderr",
     "output_type": "stream",
     "text": [
      "Evaluating:  86%|█████████████████████████████████████████████████████         | 3423/4000 [3:47:59<20:35,  2.14s/file]"
     ]
    },
    {
     "name": "stdout",
     "output_type": "stream",
     "text": [
      "[WARN] 라벨링 누락: say_set2_collectorgs160_speakergs2541_7_0_23_1\n"
     ]
    },
    {
     "name": "stderr",
     "output_type": "stream",
     "text": [
      "Evaluating:  86%|█████████████████████████████████████████████████████         | 3425/4000 [3:48:07<24:20,  2.54s/file]"
     ]
    },
    {
     "name": "stdout",
     "output_type": "stream",
     "text": [
      "[WARN] 라벨링 누락: say_set1_collectorgs419_speakergs3708_32_0_21_1\n",
      "[WARN] 라벨링 누락: say_set1_collectorgs142_speakergs1411_30_0_34_1\n",
      "[WARN] 라벨링 누락: say_set3_collectorgs115_speakergs1698_11_0_23_1\n",
      "[WARN] 라벨링 누락: say_set1_collectorgs438_speakergs4760_59_0_11_1\n"
     ]
    },
    {
     "name": "stderr",
     "output_type": "stream",
     "text": [
      "Evaluating:  86%|███████████████████████████████████████████████████▌        | 3436/4000 [3:49:08<1:03:03,  6.71s/file]"
     ]
    },
    {
     "name": "stdout",
     "output_type": "stream",
     "text": [
      "[WARN] 라벨링 누락: say_set1_collectorgs384_speakergs3144_35_0_53_1\n"
     ]
    },
    {
     "name": "stderr",
     "output_type": "stream",
     "text": [
      "Evaluating:  86%|█████████████████████████████████████████████████████▎        | 3438/4000 [3:49:15<51:43,  5.52s/file]"
     ]
    },
    {
     "name": "stdout",
     "output_type": "stream",
     "text": [
      "[WARN] 라벨링 누락: say_set1_collectorgs135_speakergs1101_26_0_34_1\n"
     ]
    },
    {
     "name": "stderr",
     "output_type": "stream",
     "text": [
      "Evaluating:  86%|█████████████████████████████████████████████████████▎        | 3441/4000 [3:49:27<46:45,  5.02s/file]"
     ]
    },
    {
     "name": "stdout",
     "output_type": "stream",
     "text": [
      "[WARN] 라벨링 누락: say_set2_collectorgs131_speakergs1450_44_0_41_1\n"
     ]
    },
    {
     "name": "stderr",
     "output_type": "stream",
     "text": [
      "Evaluating:  86%|█████████████████████████████████████████████████████▍        | 3444/4000 [3:49:41<47:43,  5.15s/file]"
     ]
    },
    {
     "name": "stdout",
     "output_type": "stream",
     "text": [
      "[WARN] 라벨링 누락: say_set2_collectorgs160_speakergs3448_32_0_29_1\n",
      "[WARN] 라벨링 누락: say_set1_collectorgs126_speakergs2396_74_0_32_1\n",
      "[WARN] 라벨링 누락: say_set1_collectorgs303_speakergs3616_67_0_22_1\n"
     ]
    },
    {
     "name": "stderr",
     "output_type": "stream",
     "text": [
      "Evaluating:  86%|█████████████████████████████████████████████████████▍        | 3449/4000 [3:49:59<40:50,  4.45s/file]"
     ]
    },
    {
     "name": "stdout",
     "output_type": "stream",
     "text": [
      "[WARN] 라벨링 누락: say_set1_collectorgs115_speakergs1676_22_0_32_1\n"
     ]
    },
    {
     "name": "stderr",
     "output_type": "stream",
     "text": [
      "Evaluating:  86%|███████████████████████████████████████████████████▊        | 3457/4000 [3:50:50<1:05:35,  7.25s/file]"
     ]
    },
    {
     "name": "stdout",
     "output_type": "stream",
     "text": [
      "[WARN] 라벨링 누락: say_set1_collectorgs135_speakergs1541_57_0_34_1\n",
      "[WARN] 라벨링 누락: say_set1_collectorgs482_speakergs3702_54_0_59_1\n",
      "[WARN] 라벨링 누락: say_set1_collectorgs135_speakergs1359_46_0_38_1\n",
      "[WARN] 라벨링 누락: say_set2_collectorgs64_speakergs1675_33_0_34_1\n"
     ]
    },
    {
     "name": "stderr",
     "output_type": "stream",
     "text": [
      "Evaluating:  87%|█████████████████████████████████████████████████████▋        | 3462/4000 [3:51:00<33:42,  3.76s/file]"
     ]
    },
    {
     "name": "stdout",
     "output_type": "stream",
     "text": [
      "[WARN] 라벨링 누락: say_set1_collectorgs390_speakergs3966_39_0_27_1\n",
      "[WARN] 라벨링 누락: say_set1_collectorgs129_speakergs2003_69_0_30_1\n",
      "[WARN] 라벨링 누락: say_set1_collectorgs219_speakergs3598_4_0_28_1\n",
      "[WARN] 라벨링 누락: say_set1_collectorgs32_speakergs1456_23_0_36_1\n"
     ]
    },
    {
     "name": "stderr",
     "output_type": "stream",
     "text": [
      "Evaluating:  87%|█████████████████████████████████████████████████████▊        | 3470/4000 [3:51:30<40:02,  4.53s/file]"
     ]
    },
    {
     "name": "stdout",
     "output_type": "stream",
     "text": [
      "[WARN] 라벨링 누락: say_set2_collectorgs123_speakergs2145_6_0_29_1\n",
      "[WARN] 라벨링 누락: say_set2_collectorgs161_speakergs1002_47_0_34_1\n"
     ]
    },
    {
     "name": "stderr",
     "output_type": "stream",
     "text": [
      "Evaluating:  87%|█████████████████████████████████████████████████████▊        | 3473/4000 [3:51:38<32:58,  3.76s/file]"
     ]
    },
    {
     "name": "stdout",
     "output_type": "stream",
     "text": [
      "[WARN] 라벨링 누락: say_set1_collectorgs336_speakergs3600_48_0_8_1\n",
      "[WARN] 라벨링 누락: say_set1_collectorgs287_speakergs3020_13_1_7_1\n"
     ]
    },
    {
     "name": "stderr",
     "output_type": "stream",
     "text": [
      "Evaluating:  87%|█████████████████████████████████████████████████████▉        | 3478/4000 [3:52:02<40:50,  4.69s/file]"
     ]
    },
    {
     "name": "stdout",
     "output_type": "stream",
     "text": [
      "[WARN] 라벨링 누락: say_set3_collectorgs119_speakergs1234_32_0_26_1\n",
      "[WARN] 라벨링 누락: say_set1_collectorgs292_speakergs2585_2_0_10_1\n"
     ]
    },
    {
     "name": "stderr",
     "output_type": "stream",
     "text": [
      "Evaluating:  87%|██████████████████████████████████████████████████████        | 3484/4000 [3:52:31<48:34,  5.65s/file]"
     ]
    },
    {
     "name": "stdout",
     "output_type": "stream",
     "text": [
      "[WARN] 라벨링 누락: say_set2_collectorgs474_speakergs4420_61_0_31_1\n",
      "[WARN] 라벨링 누락: say_set1_collectorgs477_speakergs4090_51_0_39_1\n",
      "[WARN] 라벨링 누락: say_set1_collectorgs150_speakergs1914_38_0_28_1\n"
     ]
    },
    {
     "name": "stderr",
     "output_type": "stream",
     "text": [
      "Evaluating:  87%|██████████████████████████████████████████████████████        | 3488/4000 [3:52:39<31:37,  3.71s/file]"
     ]
    },
    {
     "name": "stdout",
     "output_type": "stream",
     "text": [
      "[WARN] 라벨링 누락: say_set2_collectorgs442_speakergs4784_63_0_51_1\n"
     ]
    },
    {
     "name": "stderr",
     "output_type": "stream",
     "text": [
      "Evaluating:  87%|██████████████████████████████████████████████████████        | 3490/4000 [3:52:43<27:00,  3.18s/file]"
     ]
    },
    {
     "name": "stdout",
     "output_type": "stream",
     "text": [
      "[WARN] 라벨링 누락: say_set1_collectorgs144_speakergs1964_71_0_42_1\n"
     ]
    },
    {
     "name": "stderr",
     "output_type": "stream",
     "text": [
      "Evaluating:  87%|██████████████████████████████████████████████████████▏       | 3492/4000 [3:52:51<28:23,  3.35s/file]"
     ]
    },
    {
     "name": "stdout",
     "output_type": "stream",
     "text": [
      "[WARN] 라벨링 누락: say_set1_collectorgs476_speakergs3617_29_0_13_1\n"
     ]
    },
    {
     "name": "stderr",
     "output_type": "stream",
     "text": [
      "Evaluating:  87%|██████████████████████████████████████████████████████▏       | 3495/4000 [3:52:59<28:01,  3.33s/file]"
     ]
    },
    {
     "name": "stdout",
     "output_type": "stream",
     "text": [
      "[WARN] 라벨링 누락: say_set1_collectorgs150_speakergs1328_27_0_49_1\n",
      "[WARN] 라벨링 누락: say_set2_collectorgs160_speakergs3944_1_0_26_1\n"
     ]
    },
    {
     "name": "stderr",
     "output_type": "stream",
     "text": [
      "Evaluating:  87%|██████████████████████████████████████████████████████▏       | 3498/4000 [3:53:08<26:26,  3.16s/file]"
     ]
    },
    {
     "name": "stdout",
     "output_type": "stream",
     "text": [
      "[WARN] 라벨링 누락: say_set2_collectorgs32_speakergs2209_33_0_30_1\n",
      "[WARN] 라벨링 누락: say_set1_collectorgs115_speakergs1676_50_0_31_1\n",
      "[WARN] 라벨링 누락: say_set2_collectorgs218_speakergs2428_50_1_10_1\n",
      "[WARN] 라벨링 누락: say_set1_collectorgs126_speakergs2487_66_0_32_1\n",
      "[WARN] 라벨링 누락: say_set1_collectorgs238_speakergs2344_10_0_26_1\n"
     ]
    },
    {
     "name": "stderr",
     "output_type": "stream",
     "text": [
      "Evaluating:  88%|██████████████████████████████████████████████████████▎       | 3505/4000 [3:53:22<21:36,  2.62s/file]"
     ]
    },
    {
     "name": "stdout",
     "output_type": "stream",
     "text": [
      "[WARN] 라벨링 누락: say_set2_collectorgs160_speakergs2884_47_0_26_1\n",
      "[WARN] 라벨링 누락: say_set1_collectorgs483_speakergs3809_40_0_6_1\n",
      "[WARN] 라벨링 누락: say_set1_collectorgs348_speakergs2670_61_0_24_1\n",
      "[WARN] 라벨링 누락: say_set1_collectorgs474_speakergs4365_60_0_16_1\n"
     ]
    },
    {
     "name": "stderr",
     "output_type": "stream",
     "text": [
      "Evaluating:  88%|██████████████████████████████████████████████████████▍       | 3510/4000 [3:53:25<14:15,  1.75s/file]"
     ]
    },
    {
     "name": "stdout",
     "output_type": "stream",
     "text": [
      "[WARN] 라벨링 누락: say_set2_collectorgs31_speakergs2469_9_0_32_1\n"
     ]
    },
    {
     "name": "stderr",
     "output_type": "stream",
     "text": [
      "Evaluating:  88%|██████████████████████████████████████████████████████▍       | 3512/4000 [3:53:34<18:34,  2.28s/file]"
     ]
    },
    {
     "name": "stdout",
     "output_type": "stream",
     "text": [
      "[WARN] 라벨링 누락: say_set1_collectorgs206_speakergs2394_74_0_32_1\n",
      "[WARN] 라벨링 누락: say_set1_collectorgs384_speakergs3618_36_0_31_1\n",
      "[WARN] 라벨링 누락: say_set1_collectorgs261_speakergs3797_14_0_29_1\n"
     ]
    },
    {
     "name": "stderr",
     "output_type": "stream",
     "text": [
      "Evaluating:  88%|██████████████████████████████████████████████████████▍       | 3516/4000 [3:53:42<17:20,  2.15s/file]"
     ]
    },
    {
     "name": "stdout",
     "output_type": "stream",
     "text": [
      "[WARN] 라벨링 누락: say_set1_collectorgs216_speakergs2026_55_0_14_1\n"
     ]
    },
    {
     "name": "stderr",
     "output_type": "stream",
     "text": [
      "Evaluating:  88%|██████████████████████████████████████████████████████▌       | 3518/4000 [3:53:50<20:16,  2.52s/file]"
     ]
    },
    {
     "name": "stdout",
     "output_type": "stream",
     "text": [
      "[WARN] 라벨링 누락: say_set2_collectorgs474_speakergs4772_56_0_11_1\n"
     ]
    },
    {
     "name": "stderr",
     "output_type": "stream",
     "text": [
      "Evaluating:  88%|██████████████████████████████████████████████████████▌       | 3523/4000 [3:54:16<34:37,  4.35s/file]"
     ]
    },
    {
     "name": "stdout",
     "output_type": "stream",
     "text": [
      "[WARN] 라벨링 누락: say_set2_collectorgs303_speakergs3281_81_0_30_1\n",
      "[WARN] 라벨링 누락: say_set2_collectorgs129_speakergs913_70_0_41_1\n"
     ]
    },
    {
     "name": "stderr",
     "output_type": "stream",
     "text": [
      "Evaluating:  88%|██████████████████████████████████████████████████████▋       | 3526/4000 [3:54:25<30:03,  3.81s/file]"
     ]
    },
    {
     "name": "stdout",
     "output_type": "stream",
     "text": [
      "[WARN] 라벨링 누락: say_set1_collectorgs81_speakergs1174_30_0_33_1\n"
     ]
    },
    {
     "name": "stderr",
     "output_type": "stream",
     "text": [
      "Evaluating:  88%|██████████████████████████████████████████████████████▋       | 3528/4000 [3:54:33<29:45,  3.78s/file]"
     ]
    },
    {
     "name": "stdout",
     "output_type": "stream",
     "text": [
      "[WARN] 라벨링 누락: say_set2_collectorgs504_speakergs4378_69_0_29_1\n"
     ]
    },
    {
     "name": "stderr",
     "output_type": "stream",
     "text": [
      "Evaluating:  88%|██████████████████████████████████████████████████████▋       | 3532/4000 [3:54:49<30:29,  3.91s/file]"
     ]
    },
    {
     "name": "stdout",
     "output_type": "stream",
     "text": [
      "[WARN] 라벨링 누락: say_set1_collectorgs186_speakergs1467_49_0_33_1\n",
      "[WARN] 라벨링 누락: say_set1_collectorgs135_speakergs2066_18_0_31_1\n"
     ]
    },
    {
     "name": "stderr",
     "output_type": "stream",
     "text": [
      "Evaluating:  88%|██████████████████████████████████████████████████████▊       | 3535/4000 [3:54:57<25:55,  3.34s/file]"
     ]
    },
    {
     "name": "stdout",
     "output_type": "stream",
     "text": [
      "[WARN] 라벨링 누락: say_set1_collectorgs63_speakergs919_43_0_36_1\n"
     ]
    },
    {
     "name": "stderr",
     "output_type": "stream",
     "text": [
      "Evaluating:  88%|██████████████████████████████████████████████████████▊       | 3537/4000 [3:55:06<28:33,  3.70s/file]"
     ]
    },
    {
     "name": "stdout",
     "output_type": "stream",
     "text": [
      "[WARN] 라벨링 누락: say_set1_collectorgs377_speakergs4127_19_0_43_1\n"
     ]
    },
    {
     "name": "stderr",
     "output_type": "stream",
     "text": [
      "Evaluating:  88%|██████████████████████████████████████████████████████▊       | 3539/4000 [3:55:12<27:15,  3.55s/file]"
     ]
    },
    {
     "name": "stdout",
     "output_type": "stream",
     "text": [
      "[WARN] 라벨링 누락: say_set2_collectorgs131_speakergs1413_6_0_35_1\n",
      "[WARN] 라벨링 누락: say_set2_collectorgs154_speakergs1508_45_0_33_1\n"
     ]
    },
    {
     "name": "stderr",
     "output_type": "stream",
     "text": [
      "Evaluating:  89%|██████████████████████████████████████████████████████▉       | 3543/4000 [3:55:25<27:32,  3.62s/file]"
     ]
    },
    {
     "name": "stdout",
     "output_type": "stream",
     "text": [
      "[WARN] 라벨링 누락: say_set1_collectorgs206_speakergs1982_13_0_28_1\n"
     ]
    },
    {
     "name": "stderr",
     "output_type": "stream",
     "text": [
      "Evaluating:  89%|██████████████████████████████████████████████████████▉       | 3546/4000 [3:55:40<34:46,  4.60s/file]"
     ]
    },
    {
     "name": "stdout",
     "output_type": "stream",
     "text": [
      "[WARN] 라벨링 누락: say_set1_collectorgs306_speakergs3030_49_0_10_1\n",
      "[WARN] 라벨링 누락: say_set1_collectorgs371_speakergs3759_3_0_6_1\n",
      "[WARN] 라벨링 누락: say_set1_collectorgs198_speakergs1397_1_0_16_1\n",
      "[WARN] 라벨링 누락: say_set1_collectorgs477_speakergs4313_23_0_40_1\n"
     ]
    },
    {
     "name": "stderr",
     "output_type": "stream",
     "text": [
      "Evaluating:  89%|███████████████████████████████████████████████████████       | 3554/4000 [3:56:05<33:28,  4.50s/file]"
     ]
    },
    {
     "name": "stdout",
     "output_type": "stream",
     "text": [
      "[WARN] 라벨링 누락: say_set1_collectorgs150_speakergs2449_41_0_33_1\n"
     ]
    },
    {
     "name": "stderr",
     "output_type": "stream",
     "text": [
      "Evaluating:  89%|███████████████████████████████████████████████████████▏      | 3559/4000 [3:56:39<51:16,  6.98s/file]"
     ]
    },
    {
     "name": "stdout",
     "output_type": "stream",
     "text": [
      "[WARN] 라벨링 누락: say_set2_collectorgs164_speakergs1282_14_0_19_1\n",
      "[WARN] 라벨링 누락: say_set1_collectorgs512_speakergs4146_32_0_6_1\n",
      "[WARN] 라벨링 누락: say_set1_collectorgs246_speakergs2155_57_0_65_1\n"
     ]
    },
    {
     "name": "stderr",
     "output_type": "stream",
     "text": [
      "Evaluating:  89%|███████████████████████████████████████████████████████▎      | 3566/4000 [3:57:03<37:02,  5.12s/file]"
     ]
    },
    {
     "name": "stdout",
     "output_type": "stream",
     "text": [
      "[WARN] 라벨링 누락: say_set2_collectorgs31_speakergs2089_36_0_34_1\n"
     ]
    },
    {
     "name": "stderr",
     "output_type": "stream",
     "text": [
      "Evaluating:  89%|███████████████████████████████████████████████████████▎      | 3568/4000 [3:57:14<38:09,  5.30s/file]"
     ]
    },
    {
     "name": "stdout",
     "output_type": "stream",
     "text": [
      "[WARN] 라벨링 누락: say_set1_collectorgs200_speakergs3127_36_0_34_1\n"
     ]
    },
    {
     "name": "stderr",
     "output_type": "stream",
     "text": [
      "Evaluating:  89%|███████████████████████████████████████████████████████▎      | 3571/4000 [3:57:26<32:22,  4.53s/file]"
     ]
    },
    {
     "name": "stdout",
     "output_type": "stream",
     "text": [
      "[WARN] 라벨링 누락: say_set1_collectorgs150_speakergs641_4_0_32_1\n",
      "[WARN] 라벨링 누락: say_set2_collectorgs129_speakergs913_71_0_46_1\n",
      "[WARN] 라벨링 누락: say_set1_collectorgs448_speakergs4386_73_0_44_1\n"
     ]
    },
    {
     "name": "stderr",
     "output_type": "stream",
     "text": [
      "Evaluating:  89%|███████████████████████████████████████████████████████▍      | 3576/4000 [3:57:42<28:43,  4.06s/file]"
     ]
    },
    {
     "name": "stdout",
     "output_type": "stream",
     "text": [
      "[WARN] 라벨링 누락: say_set1_collectorgs238_speakergs3105_47_0_34_1\n"
     ]
    },
    {
     "name": "stderr",
     "output_type": "stream",
     "text": [
      "Evaluating:  90%|███████████████████████████████████████████████████████▍      | 3580/4000 [3:58:01<35:12,  5.03s/file]"
     ]
    },
    {
     "name": "stdout",
     "output_type": "stream",
     "text": [
      "[WARN] 라벨링 누락: say_set2_collectorgs489_speakergs3802_25_0_41_1\n",
      "[WARN] 라벨링 누락: say_set2_collectorgs185_speakergs4360_31_0_36_1\n",
      "[WARN] 라벨링 누락: say_set1_collectorgs160_speakergs2384_7_0_28_1\n"
     ]
    },
    {
     "name": "stderr",
     "output_type": "stream",
     "text": [
      "Evaluating:  90%|███████████████████████████████████████████████████████▌      | 3584/4000 [3:58:11<24:59,  3.61s/file]"
     ]
    },
    {
     "name": "stdout",
     "output_type": "stream",
     "text": [
      "[WARN] 라벨링 누락: say_set2_collectorgs134_speakergs1505_55_0_31_1\n"
     ]
    },
    {
     "name": "stderr",
     "output_type": "stream",
     "text": [
      "Evaluating:  90%|███████████████████████████████████████████████████████▌      | 3588/4000 [3:58:26<25:47,  3.76s/file]"
     ]
    },
    {
     "name": "stdout",
     "output_type": "stream",
     "text": [
      "[WARN] 라벨링 누락: say_set1_collectorgs130_speakergs994_13_0_47_1\n",
      "[WARN] 라벨링 누락: say_set1_collectorgs261_speakergs3635_30_0_20_1\n"
     ]
    },
    {
     "name": "stderr",
     "output_type": "stream",
     "text": [
      "Evaluating:  90%|███████████████████████████████████████████████████████▋      | 3595/4000 [3:59:27<44:58,  6.66s/file]"
     ]
    },
    {
     "name": "stdout",
     "output_type": "stream",
     "text": [
      "[WARN] 라벨링 누락: say_set1_collectorgs246_speakergs2155_45_0_66_1\n"
     ]
    },
    {
     "name": "stderr",
     "output_type": "stream",
     "text": [
      "Evaluating:  90%|███████████████████████████████████████████████████████▊      | 3598/4000 [3:59:40<39:12,  5.85s/file]"
     ]
    },
    {
     "name": "stdout",
     "output_type": "stream",
     "text": [
      "[WARN] 라벨링 누락: say_set1_collectorgs32_speakergs1207_38_0_29_1\n"
     ]
    },
    {
     "name": "stderr",
     "output_type": "stream",
     "text": [
      "Evaluating:  90%|███████████████████████████████████████████████████████▊      | 3601/4000 [3:59:56<37:13,  5.60s/file]"
     ]
    },
    {
     "name": "stdout",
     "output_type": "stream",
     "text": [
      "[WARN] 라벨링 누락: say_set1_collectorgs292_speakergs2477_44_0_31_1\n",
      "[WARN] 라벨링 누락: say_set1_collectorgs161_speakergs1306_30_0_30_1\n"
     ]
    },
    {
     "name": "stderr",
     "output_type": "stream",
     "text": [
      "Evaluating:  90%|███████████████████████████████████████████████████████▊      | 3604/4000 [3:59:59<22:58,  3.48s/file]"
     ]
    },
    {
     "name": "stdout",
     "output_type": "stream",
     "text": [
      "[WARN] 라벨링 누락: say_set1_collectorgs476_speakergs3617_73_0_10_1\n",
      "[WARN] 라벨링 누락: say_set1_collectorgs390_speakergs4062_22_0_30_1\n"
     ]
    },
    {
     "name": "stderr",
     "output_type": "stream",
     "text": [
      "Evaluating:  90%|███████████████████████████████████████████████████████▉      | 3610/4000 [4:00:32<35:39,  5.49s/file]"
     ]
    },
    {
     "name": "stdout",
     "output_type": "stream",
     "text": [
      "[WARN] 라벨링 누락: say_set2_collectorgs436_speakergs4017_43_0_8_1\n",
      "[WARN] 라벨링 누락: say_set2_collectorgs154_speakergs2031_37_0_49_1\n"
     ]
    },
    {
     "name": "stderr",
     "output_type": "stream",
     "text": [
      "Evaluating:  90%|████████████████████████████████████████████████████████      | 3614/4000 [4:00:47<30:27,  4.73s/file]"
     ]
    },
    {
     "name": "stdout",
     "output_type": "stream",
     "text": [
      "[WARN] 라벨링 누락: say_set1_collectorgs384_speakergs3749_7_0_35_1\n"
     ]
    },
    {
     "name": "stderr",
     "output_type": "stream",
     "text": [
      "Evaluating:  90%|████████████████████████████████████████████████████████      | 3616/4000 [4:00:55<28:09,  4.40s/file]"
     ]
    },
    {
     "name": "stdout",
     "output_type": "stream",
     "text": [
      "[WARN] 라벨링 누락: say_set1_collectorgs503_speakergs3840_25_0_32_1\n"
     ]
    },
    {
     "name": "stderr",
     "output_type": "stream",
     "text": [
      "Evaluating:  90%|████████████████████████████████████████████████████████      | 3620/4000 [4:01:43<49:03,  7.75s/file]"
     ]
    },
    {
     "name": "stdout",
     "output_type": "stream",
     "text": [
      "[WARN] 라벨링 누락: say_set1_collectorgs474_speakergs3820_67_0_6_1\n",
      "[WARN] 라벨링 누락: say_set1_collectorgs150_speakergs2001_25_0_44_1\n"
     ]
    },
    {
     "name": "stderr",
     "output_type": "stream",
     "text": [
      "Evaluating:  91%|████████████████████████████████████████████████████████▏     | 3623/4000 [4:01:48<30:00,  4.78s/file]"
     ]
    },
    {
     "name": "stdout",
     "output_type": "stream",
     "text": [
      "[WARN] 라벨링 누락: say_set1_collectorgs206_speakergs1792_2_0_19_1\n"
     ]
    },
    {
     "name": "stderr",
     "output_type": "stream",
     "text": [
      "Evaluating:  91%|████████████████████████████████████████████████████████▏     | 3625/4000 [4:01:56<29:01,  4.64s/file]"
     ]
    },
    {
     "name": "stdout",
     "output_type": "stream",
     "text": [
      "[WARN] 라벨링 누락: say_set1_collectorgs186_speakergs1119_12_0_30_1\n"
     ]
    },
    {
     "name": "stderr",
     "output_type": "stream",
     "text": [
      "Evaluating:  91%|████████████████████████████████████████████████████████▏     | 3627/4000 [4:02:01<24:14,  3.90s/file]"
     ]
    },
    {
     "name": "stdout",
     "output_type": "stream",
     "text": [
      "[WARN] 라벨링 누락: say_set2_collectorgs123_speakergs2814_0_0_34_1\n",
      "[WARN] 라벨링 누락: say_set1_collectorgs139_speakergs2358_65_0_32_1\n"
     ]
    },
    {
     "name": "stderr",
     "output_type": "stream",
     "text": [
      "Evaluating:  91%|████████████████████████████████████████████████████████▎     | 3630/4000 [4:02:09<21:24,  3.47s/file]"
     ]
    },
    {
     "name": "stdout",
     "output_type": "stream",
     "text": [
      "[WARN] 라벨링 누락: say_set2_collectorgs380_speakergs4314_6_0_22_1\n",
      "[WARN] 라벨링 누락: say_set1_collectorgs282_speakergs2340_85_0_35_1\n",
      "[WARN] 라벨링 누락: say_set1_collectorgs142_speakergs1448_71_0_37_1\n"
     ]
    },
    {
     "name": "stderr",
     "output_type": "stream",
     "text": [
      "Evaluating:  91%|████████████████████████████████████████████████████████▎     | 3635/4000 [4:02:23<20:00,  3.29s/file]"
     ]
    },
    {
     "name": "stdout",
     "output_type": "stream",
     "text": [
      "[WARN] 라벨링 누락: say_set1_collectorgs131_speakergs924_77_0_41_1\n",
      "[WARN] 라벨링 누락: say_set1_collectorgs212_speakergs3634_42_0_39_1\n"
     ]
    },
    {
     "name": "stderr",
     "output_type": "stream",
     "text": [
      "Evaluating:  91%|████████████████████████████████████████████████████████▍     | 3638/4000 [4:02:27<15:50,  2.63s/file]"
     ]
    },
    {
     "name": "stdout",
     "output_type": "stream",
     "text": [
      "[WARN] 라벨링 누락: say_set2_collectorgs131_speakergs1775_28_0_17_1\n"
     ]
    },
    {
     "name": "stderr",
     "output_type": "stream",
     "text": [
      "Evaluating:  91%|████████████████████████████████████████████████████████▍     | 3641/4000 [4:02:43<21:52,  3.66s/file]"
     ]
    },
    {
     "name": "stdout",
     "output_type": "stream",
     "text": [
      "[WARN] 라벨링 누락: say_set1_collectorgs130_speakergs1412_33_0_36_1\n",
      "[WARN] 라벨링 누락: say_set2_collectorgs474_speakergs4346_68_0_3_1\n",
      "[WARN] 라벨링 누락: say_set1_collectorgs135_speakergs2448_9_0_21_1\n"
     ]
    },
    {
     "name": "stderr",
     "output_type": "stream",
     "text": [
      "Evaluating:  91%|████████████████████████████████████████████████████████▍     | 3645/4000 [4:02:54<19:11,  3.24s/file]"
     ]
    },
    {
     "name": "stdout",
     "output_type": "stream",
     "text": [
      "[WARN] 라벨링 누락: say_set2_collectorgs303_speakergs2824_13_0_18_1\n",
      "[WARN] 라벨링 누락: say_set2_collectorgs218_speakergs2904_38_1_14_1\n",
      "[WARN] 라벨링 누락: say_set1_collectorgs522_speakergs4376_10_0_7_1\n"
     ]
    },
    {
     "name": "stderr",
     "output_type": "stream",
     "text": [
      "Evaluating:  91%|████████████████████████████████████████████████████████▌     | 3650/4000 [4:03:03<15:00,  2.57s/file]"
     ]
    },
    {
     "name": "stdout",
     "output_type": "stream",
     "text": [
      "[WARN] 라벨링 누락: say_set1_collectorgs493_speakergs3812_35_1_3_1\n"
     ]
    },
    {
     "name": "stderr",
     "output_type": "stream",
     "text": [
      "Evaluating:  91%|████████████████████████████████████████████████████████▌     | 3652/4000 [4:03:08<15:16,  2.63s/file]"
     ]
    },
    {
     "name": "stdout",
     "output_type": "stream",
     "text": [
      "[WARN] 라벨링 누락: say_set1_collectorgs411_speakergs3317_53_0_5_1\n",
      "[WARN] 라벨링 누락: say_set1_collectorgs186_speakergs1999_69_0_27_1\n",
      "[WARN] 라벨링 누락: say_set2_collectorgs466_speakergs4868_4_0_13_1\n"
     ]
    },
    {
     "name": "stderr",
     "output_type": "stream",
     "text": [
      "Evaluating:  91%|████████████████████████████████████████████████████████▋     | 3657/4000 [4:03:21<15:23,  2.69s/file]"
     ]
    },
    {
     "name": "stdout",
     "output_type": "stream",
     "text": [
      "[WARN] 라벨링 누락: say_set1_collectorgs239_speakergs2024_73_0_44_1\n",
      "[WARN] 라벨링 누락: say_set1_collectorgs126_speakergs1360_21_0_32_1\n"
     ]
    },
    {
     "name": "stderr",
     "output_type": "stream",
     "text": [
      "Evaluating:  92%|████████████████████████████████████████████████████████▊     | 3664/4000 [4:03:55<27:41,  4.95s/file]"
     ]
    },
    {
     "name": "stdout",
     "output_type": "stream",
     "text": [
      "[WARN] 라벨링 누락: say_set2_collectorgs216_speakergs2872_34_0_14_1\n",
      "[WARN] 라벨링 누락: say_set1_collectorgs411_speakergs2940_37_0_19_1\n",
      "[WARN] 라벨링 누락: say_set1_collectorgs206_speakergs1792_13_0_34_1\n",
      "[WARN] 라벨링 누락: say_set2_collectorgs144_speakergs2097_81_0_52_1\n"
     ]
    },
    {
     "name": "stderr",
     "output_type": "stream",
     "text": [
      "Evaluating:  92%|████████████████████████████████████████████████████████▊     | 3669/4000 [4:04:01<14:36,  2.65s/file]"
     ]
    },
    {
     "name": "stdout",
     "output_type": "stream",
     "text": [
      "[WARN] 라벨링 누락: say_set1_collectorgs186_speakergs1342_54_0_25_1\n",
      "[WARN] 라벨링 누락: say_set1_collectorgs305_speakergs2497_41_0_6_1\n",
      "[WARN] 라벨링 누락: say_set1_collectorgs203_speakergs1388_27_0_65_1\n"
     ]
    },
    {
     "name": "stderr",
     "output_type": "stream",
     "text": [
      "Evaluating:  92%|████████████████████████████████████████████████████████▉     | 3675/4000 [4:04:48<28:46,  5.31s/file]"
     ]
    },
    {
     "name": "stdout",
     "output_type": "stream",
     "text": [
      "[WARN] 라벨링 누락: say_set1_collectorgs218_speakergs3527_85_0_9_1\n"
     ]
    },
    {
     "name": "stderr",
     "output_type": "stream",
     "text": [
      "Evaluating:  92%|█████████████████████████████████████████████████████████     | 3679/4000 [4:05:08<28:06,  5.25s/file]"
     ]
    },
    {
     "name": "stdout",
     "output_type": "stream",
     "text": [
      "[WARN] 라벨링 누락: say_set2_collectorgs129_speakergs1047_66_0_39_1\n"
     ]
    },
    {
     "name": "stderr",
     "output_type": "stream",
     "text": [
      "Evaluating:  92%|█████████████████████████████████████████████████████████     | 3681/4000 [4:05:16<25:54,  4.87s/file]"
     ]
    },
    {
     "name": "stdout",
     "output_type": "stream",
     "text": [
      "[WARN] 라벨링 누락: say_set1_collectorgs212_speakergs2388_22_0_39_1\n",
      "[WARN] 라벨링 누락: say_set1_collectorgs267_speakergs2191_59_0_30_1\n",
      "[WARN] 라벨링 누락: say_set1_collectorgs442_speakergs4764_54_0_33_1\n",
      "[WARN] 라벨링 누락: say_set2_collectorgs504_speakergs4366_0_0_19_1\n",
      "[WARN] 라벨링 누락: say_set1_collectorgs431_speakergs3927_53_0_15_1\n"
     ]
    },
    {
     "name": "stderr",
     "output_type": "stream",
     "text": [
      "Evaluating:  92%|█████████████████████████████████████████████████████████▏    | 3691/4000 [4:05:49<20:50,  4.05s/file]"
     ]
    },
    {
     "name": "stdout",
     "output_type": "stream",
     "text": [
      "[WARN] 라벨링 누락: say_set2_collectorgs357_speakergs3786_64_0_12_1\n",
      "[WARN] 라벨링 누락: say_set1_collectorgs246_speakergs2317_8_0_40_1\n"
     ]
    },
    {
     "name": "stderr",
     "output_type": "stream",
     "text": [
      "Evaluating:  92%|█████████████████████████████████████████████████████████▎    | 3694/4000 [4:05:56<17:17,  3.39s/file]"
     ]
    },
    {
     "name": "stdout",
     "output_type": "stream",
     "text": [
      "[WARN] 라벨링 누락: say_set1_collectorgs282_speakergs2340_55_0_46_1\n",
      "[WARN] 라벨링 누락: say_set1_collectorgs244_speakergs3139_11_0_34_1\n"
     ]
    },
    {
     "name": "stderr",
     "output_type": "stream",
     "text": [
      "Evaluating:  92%|█████████████████████████████████████████████████████████▎    | 3698/4000 [4:06:15<20:57,  4.16s/file]"
     ]
    },
    {
     "name": "stdout",
     "output_type": "stream",
     "text": [
      "[WARN] 라벨링 누락: say_set1_collectorgs503_speakergs3840_35_0_24_1\n",
      "[WARN] 라벨링 누락: say_set2_collectorgs448_speakergs3575_46_0_6_1\n"
     ]
    },
    {
     "name": "stderr",
     "output_type": "stream",
     "text": [
      "Evaluating:  93%|█████████████████████████████████████████████████████████▎    | 3701/4000 [4:06:20<16:16,  3.27s/file]"
     ]
    },
    {
     "name": "stdout",
     "output_type": "stream",
     "text": [
      "[WARN] 라벨링 누락: say_set2_collectorgs201_speakergs2949_45_0_35_1\n"
     ]
    },
    {
     "name": "stderr",
     "output_type": "stream",
     "text": [
      "Evaluating:  93%|█████████████████████████████████████████████████████████▍    | 3703/4000 [4:06:23<13:30,  2.73s/file]"
     ]
    },
    {
     "name": "stdout",
     "output_type": "stream",
     "text": [
      "[WARN] 라벨링 누락: say_set1_collectorgs126_speakergs1506_27_1_39_1\n"
     ]
    },
    {
     "name": "stderr",
     "output_type": "stream",
     "text": [
      "Evaluating:  93%|█████████████████████████████████████████████████████████▍    | 3705/4000 [4:06:32<15:40,  3.19s/file]"
     ]
    },
    {
     "name": "stdout",
     "output_type": "stream",
     "text": [
      "[WARN] 라벨링 누락: say_set1_collectorgs492_speakergs3831_69_0_19_1\n"
     ]
    },
    {
     "name": "stderr",
     "output_type": "stream",
     "text": [
      "Evaluating:  93%|█████████████████████████████████████████████████████████▍    | 3707/4000 [4:06:40<16:43,  3.42s/file]"
     ]
    },
    {
     "name": "stdout",
     "output_type": "stream",
     "text": [
      "[WARN] 라벨링 누락: say_set1_collectorgs514_speakergs4177_39_0_28_1\n",
      "[WARN] 라벨링 누락: say_set2_collectorgs160_speakergs2928_63_0_32_1\n"
     ]
    },
    {
     "name": "stderr",
     "output_type": "stream",
     "text": [
      "Evaluating:  93%|█████████████████████████████████████████████████████████▌    | 3710/4000 [4:06:45<13:22,  2.77s/file]"
     ]
    },
    {
     "name": "stdout",
     "output_type": "stream",
     "text": [
      "[WARN] 라벨링 누락: say_set1_collectorgs237_speakergs4186_6_0_38_1\n"
     ]
    },
    {
     "name": "stderr",
     "output_type": "stream",
     "text": [
      "Evaluating:  93%|█████████████████████████████████████████████████████████▌    | 3712/4000 [4:06:54<15:14,  3.18s/file]"
     ]
    },
    {
     "name": "stdout",
     "output_type": "stream",
     "text": [
      "[WARN] 라벨링 누락: say_set1_collectorgs164_speakergs945_8_0_32_1\n"
     ]
    },
    {
     "name": "stderr",
     "output_type": "stream",
     "text": [
      "Evaluating:  93%|█████████████████████████████████████████████████████████▌    | 3714/4000 [4:06:59<14:44,  3.09s/file]"
     ]
    },
    {
     "name": "stdout",
     "output_type": "stream",
     "text": [
      "[WARN] 라벨링 누락: say_set1_collectorgs197_speakergs1179_59_0_34_1\n"
     ]
    },
    {
     "name": "stderr",
     "output_type": "stream",
     "text": [
      "Evaluating:  93%|█████████████████████████████████████████████████████████▌    | 3716/4000 [4:07:08<16:19,  3.45s/file]"
     ]
    },
    {
     "name": "stdout",
     "output_type": "stream",
     "text": [
      "[WARN] 라벨링 누락: say_set1_collectorgs506_speakergs3999_10_0_11_1\n"
     ]
    },
    {
     "name": "stderr",
     "output_type": "stream",
     "text": [
      "Evaluating:  93%|█████████████████████████████████████████████████████████▋    | 3720/4000 [4:07:26<19:30,  4.18s/file]"
     ]
    },
    {
     "name": "stdout",
     "output_type": "stream",
     "text": [
      "[WARN] 라벨링 누락: say_set1_collectorgs486_speakergs3983_48_0_17_1\n"
     ]
    },
    {
     "name": "stderr",
     "output_type": "stream",
     "text": [
      "Evaluating:  93%|█████████████████████████████████████████████████████████▋    | 3723/4000 [4:07:40<20:56,  4.54s/file]"
     ]
    },
    {
     "name": "stdout",
     "output_type": "stream",
     "text": [
      "[WARN] 라벨링 누락: say_set1_collectorgs261_speakergs2721_2_0_31_1\n"
     ]
    },
    {
     "name": "stderr",
     "output_type": "stream",
     "text": [
      "Evaluating:  93%|█████████████████████████████████████████████████████████▋    | 3725/4000 [4:07:48<20:20,  4.44s/file]"
     ]
    },
    {
     "name": "stdout",
     "output_type": "stream",
     "text": [
      "[WARN] 라벨링 누락: say_set2_collectorgs218_speakergs3528_50_0_11_1\n",
      "[WARN] 라벨링 누락: say_set2_collectorgs31_speakergs2418_10_0_33_1\n"
     ]
    },
    {
     "name": "stderr",
     "output_type": "stream",
     "text": [
      "Evaluating:  93%|█████████████████████████████████████████████████████████▊    | 3731/4000 [4:08:22<27:20,  6.10s/file]"
     ]
    },
    {
     "name": "stdout",
     "output_type": "stream",
     "text": [
      "[WARN] 라벨링 누락: say_set1_collectorgs419_speakergs4077_51_0_4_1\n",
      "[WARN] 라벨링 누락: say_set1_collectorgs384_speakergs3618_8_0_35_1\n"
     ]
    },
    {
     "name": "stderr",
     "output_type": "stream",
     "text": [
      "Evaluating:  93%|█████████████████████████████████████████████████████████▉    | 3734/4000 [4:08:31<20:27,  4.62s/file]"
     ]
    },
    {
     "name": "stdout",
     "output_type": "stream",
     "text": [
      "[WARN] 라벨링 누락: say_set2_collectorgs164_speakergs1485_41_0_31_1\n",
      "[WARN] 라벨링 누락: say_set2_collectorgs276_speakergs3674_52_0_12_1\n"
     ]
    },
    {
     "name": "stderr",
     "output_type": "stream",
     "text": [
      "Evaluating:  93%|█████████████████████████████████████████████████████████▉    | 3737/4000 [4:08:36<14:52,  3.39s/file]"
     ]
    },
    {
     "name": "stdout",
     "output_type": "stream",
     "text": [
      "[WARN] 라벨링 누락: say_set1_collectorgs160_speakergs2041_50_0_29_1\n"
     ]
    },
    {
     "name": "stderr",
     "output_type": "stream",
     "text": [
      "Evaluating:  94%|██████████████████████████████████████████████████████████    | 3742/4000 [4:08:59<18:08,  4.22s/file]"
     ]
    },
    {
     "name": "stdout",
     "output_type": "stream",
     "text": [
      "[WARN] 라벨링 누락: say_set1_collectorgs161_speakergs1306_42_0_28_1\n"
     ]
    },
    {
     "name": "stderr",
     "output_type": "stream",
     "text": [
      "Evaluating:  94%|██████████████████████████████████████████████████████████    | 3745/4000 [4:09:10<17:20,  4.08s/file]"
     ]
    },
    {
     "name": "stdout",
     "output_type": "stream",
     "text": [
      "[WARN] 라벨링 누락: say_set2_collectorgs123_speakergs2166_26_0_35_1\n"
     ]
    },
    {
     "name": "stderr",
     "output_type": "stream",
     "text": [
      "Evaluating:  94%|██████████████████████████████████████████████████████████    | 3748/4000 [4:09:27<21:38,  5.15s/file]"
     ]
    },
    {
     "name": "stdout",
     "output_type": "stream",
     "text": [
      "[WARN] 라벨링 누락: say_set1_collectorgs129_speakergs2664_62_0_33_1\n"
     ]
    },
    {
     "name": "stderr",
     "output_type": "stream",
     "text": [
      "Evaluating:  94%|██████████████████████████████████████████████████████████▏   | 3754/4000 [4:10:01<24:28,  5.97s/file]"
     ]
    },
    {
     "name": "stdout",
     "output_type": "stream",
     "text": [
      "[WARN] 라벨링 누락: say_set2_collectorgs218_speakergs4357_24_1_12_1\n"
     ]
    },
    {
     "name": "stderr",
     "output_type": "stream",
     "text": [
      "Evaluating:  94%|██████████████████████████████████████████████████████████▏   | 3756/4000 [4:10:12<24:08,  5.94s/file]"
     ]
    },
    {
     "name": "stdout",
     "output_type": "stream",
     "text": [
      "[WARN] 라벨링 누락: say_set1_collectorgs32_speakergs2618_12_0_34_1\n",
      "[WARN] 라벨링 누락: say_set1_collectorgs150_speakergs2289_28_0_33_1\n"
     ]
    },
    {
     "name": "stderr",
     "output_type": "stream",
     "text": [
      "Evaluating:  94%|██████████████████████████████████████████████████████████▎   | 3759/4000 [4:10:16<15:00,  3.74s/file]"
     ]
    },
    {
     "name": "stdout",
     "output_type": "stream",
     "text": [
      "[WARN] 라벨링 누락: say_set2_collectorgs119_speakergs1208_28_0_36_1\n"
     ]
    },
    {
     "name": "stderr",
     "output_type": "stream",
     "text": [
      "Evaluating:  94%|██████████████████████████████████████████████████████████▎   | 3763/4000 [4:10:39<20:26,  5.18s/file]"
     ]
    },
    {
     "name": "stdout",
     "output_type": "stream",
     "text": [
      "[WARN] 라벨링 누락: say_set1_collectorgs154_speakergs1426_4_0_28_1\n"
     ]
    },
    {
     "name": "stderr",
     "output_type": "stream",
     "text": [
      "Evaluating:  94%|██████████████████████████████████████████████████████████▎   | 3766/4000 [4:10:53<20:07,  5.16s/file]"
     ]
    },
    {
     "name": "stdout",
     "output_type": "stream",
     "text": [
      "[WARN] 라벨링 누락: say_set1_collectorgs437_speakergs3374_8_0_18_1\n"
     ]
    },
    {
     "name": "stderr",
     "output_type": "stream",
     "text": [
      "Evaluating:  94%|██████████████████████████████████████████████████████████▍   | 3769/4000 [4:11:06<18:32,  4.82s/file]"
     ]
    },
    {
     "name": "stdout",
     "output_type": "stream",
     "text": [
      "[WARN] 라벨링 누락: say_set1_collectorgs135_speakergs1359_58_0_35_1\n"
     ]
    },
    {
     "name": "stderr",
     "output_type": "stream",
     "text": [
      "Evaluating:  94%|██████████████████████████████████████████████████████████▌   | 3775/4000 [4:11:44<22:27,  5.99s/file]"
     ]
    },
    {
     "name": "stdout",
     "output_type": "stream",
     "text": [
      "[WARN] 라벨링 누락: say_set2_collectorgs129_speakergs913_14_0_48_1\n"
     ]
    },
    {
     "name": "stderr",
     "output_type": "stream",
     "text": [
      "Evaluating:  94%|██████████████████████████████████████████████████████████▌   | 3777/4000 [4:11:48<16:02,  4.31s/file]"
     ]
    },
    {
     "name": "stdout",
     "output_type": "stream",
     "text": [
      "[WARN] 라벨링 누락: say_set1_collectorgs126_speakergs1360_49_0_31_1\n"
     ]
    },
    {
     "name": "stderr",
     "output_type": "stream",
     "text": [
      "Evaluating:  95%|██████████████████████████████████████████████████████████▌   | 3781/4000 [4:12:36<30:55,  8.47s/file]"
     ]
    },
    {
     "name": "stdout",
     "output_type": "stream",
     "text": [
      "[WARN] 라벨링 누락: say_set1_collectorgs119_speakergs2190_6_0_38_1\n"
     ]
    },
    {
     "name": "stderr",
     "output_type": "stream",
     "text": [
      "Evaluating:  95%|██████████████████████████████████████████████████████████▋   | 3783/4000 [4:12:44<24:11,  6.69s/file]"
     ]
    },
    {
     "name": "stdout",
     "output_type": "stream",
     "text": [
      "[WARN] 라벨링 누락: say_set1_collectorgs474_speakergs3514_9_0_8_1\n",
      "[WARN] 라벨링 누락: say_set2_collectorgs160_speakergs3391_2_0_29_1\n"
     ]
    },
    {
     "name": "stderr",
     "output_type": "stream",
     "text": [
      "Evaluating:  95%|██████████████████████████████████████████████████████████▊   | 3791/4000 [4:13:18<17:30,  5.02s/file]"
     ]
    },
    {
     "name": "stdout",
     "output_type": "stream",
     "text": [
      "[WARN] 라벨링 누락: say_set2_collectorgs145_speakergs1129_4_0_39_1\n"
     ]
    },
    {
     "name": "stderr",
     "output_type": "stream",
     "text": [
      "Evaluating:  95%|██████████████████████████████████████████████████████████▉   | 3801/4000 [4:14:26<25:37,  7.73s/file]"
     ]
    },
    {
     "name": "stdout",
     "output_type": "stream",
     "text": [
      "[WARN] 라벨링 누락: say_set1_collectorgs81_speakergs1695_53_0_35_1\n",
      "[WARN] 라벨링 누락: say_set1_collectorgs466_speakergs4462_16_0_30_1\n"
     ]
    },
    {
     "name": "stderr",
     "output_type": "stream",
     "text": [
      "Evaluating:  95%|██████████████████████████████████████████████████████████▉   | 3804/4000 [4:14:32<14:57,  4.58s/file]"
     ]
    },
    {
     "name": "stdout",
     "output_type": "stream",
     "text": [
      "[WARN] 라벨링 누락: say_set2_collectorgs31_speakergs1697_1_0_36_1\n",
      "[WARN] 라벨링 누락: say_set1_collectorgs265_speakergs2619_1_0_37_1\n"
     ]
    },
    {
     "name": "stderr",
     "output_type": "stream",
     "text": [
      "Evaluating:  95%|███████████████████████████████████████████████████████████   | 3807/4000 [4:14:39<11:34,  3.60s/file]"
     ]
    },
    {
     "name": "stdout",
     "output_type": "stream",
     "text": [
      "[WARN] 라벨링 누락: say_set2_collectorgs276_speakergs3674_49_0_15_1\n"
     ]
    },
    {
     "name": "stderr",
     "output_type": "stream",
     "text": [
      "Evaluating:  95%|███████████████████████████████████████████████████████████   | 3809/4000 [4:14:42<09:33,  3.00s/file]"
     ]
    },
    {
     "name": "stdout",
     "output_type": "stream",
     "text": [
      "[WARN] 라벨링 누락: say_set1_collectorgs139_speakergs2358_62_0_33_1\n"
     ]
    },
    {
     "name": "stderr",
     "output_type": "stream",
     "text": [
      "Evaluating:  95%|███████████████████████████████████████████████████████████   | 3812/4000 [4:14:53<10:20,  3.30s/file]"
     ]
    },
    {
     "name": "stdout",
     "output_type": "stream",
     "text": [
      "[WARN] 라벨링 누락: say_set1_collectorgs384_speakergs3450_12_0_44_1\n",
      "[WARN] 라벨링 누락: say_set1_collectorgs504_speakergs4172_45_0_47_1\n",
      "[WARN] 라벨링 누락: say_set1_collectorgs206_speakergs1792_52_0_38_1\n"
     ]
    },
    {
     "name": "stderr",
     "output_type": "stream",
     "text": [
      "Evaluating:  95%|███████████████████████████████████████████████████████████▏  | 3816/4000 [4:14:58<07:08,  2.33s/file]"
     ]
    },
    {
     "name": "stdout",
     "output_type": "stream",
     "text": [
      "[WARN] 라벨링 누락: say_set1_collectorgs195_speakergs1398_7_0_36_1\n"
     ]
    },
    {
     "name": "stderr",
     "output_type": "stream",
     "text": [
      "Evaluating:  95%|███████████████████████████████████████████████████████████▏  | 3819/4000 [4:15:14<10:58,  3.64s/file]"
     ]
    },
    {
     "name": "stdout",
     "output_type": "stream",
     "text": [
      "[WARN] 라벨링 누락: say_set2_collectorgs31_speakergs3613_21_0_45_1\n",
      "[WARN] 라벨링 누락: say_set2_collectorgs396_speakergs3705_50_0_17_1\n"
     ]
    },
    {
     "name": "stderr",
     "output_type": "stream",
     "text": [
      "Evaluating:  96%|███████████████████████████████████████████████████████████▎  | 3827/4000 [4:16:05<19:54,  6.91s/file]"
     ]
    },
    {
     "name": "stdout",
     "output_type": "stream",
     "text": [
      "[WARN] 라벨링 누락: say_set1_collectorgs142_speakergs1556_59_0_33_1\n"
     ]
    },
    {
     "name": "stderr",
     "output_type": "stream",
     "text": [
      "Evaluating:  96%|███████████████████████████████████████████████████████████▎  | 3830/4000 [4:16:22<18:03,  6.37s/file]"
     ]
    },
    {
     "name": "stdout",
     "output_type": "stream",
     "text": [
      "[WARN] 라벨링 누락: say_set1_collectorgs492_speakergs3831_29_0_10_1\n"
     ]
    },
    {
     "name": "stderr",
     "output_type": "stream",
     "text": [
      "Evaluating:  96%|███████████████████████████████████████████████████████████▍  | 3832/4000 [4:16:28<14:12,  5.07s/file]"
     ]
    },
    {
     "name": "stdout",
     "output_type": "stream",
     "text": [
      "[WARN] 라벨링 누락: say_set2_collectorgs119_speakergs806_12_0_31_1\n"
     ]
    },
    {
     "name": "stderr",
     "output_type": "stream",
     "text": [
      "Evaluating:  96%|███████████████████████████████████████████████████████████▍  | 3834/4000 [4:16:39<14:11,  5.13s/file]"
     ]
    },
    {
     "name": "stdout",
     "output_type": "stream",
     "text": [
      "[WARN] 라벨링 누락: say_set2_collectorgs154_speakergs1508_14_0_29_1\n",
      "[WARN] 라벨링 누락: say_set1_collectorgs160_speakergs2167_34_0_33_1\n",
      "[WARN] 라벨링 누락: say_set1_collectorgs141_speakergs1141_50_0_33_1\n",
      "[WARN] 라벨링 누락: say_set1_collectorgs436_speakergs3655_8_0_5_1\n",
      "[WARN] 라벨링 누락: say_set2_collectorgs380_speakergs2767_1_0_33_1\n",
      "[WARN] 라벨링 누락: say_set1_collectorgs369_speakergs4027_36_0_36_1\n",
      "[WARN] 라벨링 누락: say_set2_collectorgs123_speakergs2695_14_0_21_1\n",
      "[WARN] 라벨링 누락: say_set2_collectorgs249_speakergs2614_58_0_13_1\n"
     ]
    },
    {
     "name": "stderr",
     "output_type": "stream",
     "text": [
      "Evaluating:  96%|███████████████████████████████████████████████████████████▌  | 3843/4000 [4:16:44<04:59,  1.91s/file]"
     ]
    },
    {
     "name": "stdout",
     "output_type": "stream",
     "text": [
      "[WARN] 라벨링 누락: say_set1_collectorgs504_speakergs4477_26_1_15_1\n"
     ]
    },
    {
     "name": "stderr",
     "output_type": "stream",
     "text": [
      "Evaluating:  96%|███████████████████████████████████████████████████████████▌  | 3845/4000 [4:16:47<04:50,  1.88s/file]"
     ]
    },
    {
     "name": "stdout",
     "output_type": "stream",
     "text": [
      "[WARN] 라벨링 누락: say_set1_collectorgs142_speakergs2011_38_0_31_1\n"
     ]
    },
    {
     "name": "stderr",
     "output_type": "stream",
     "text": [
      "Evaluating:  96%|███████████████████████████████████████████████████████████▋  | 3848/4000 [4:17:01<07:20,  2.90s/file]"
     ]
    },
    {
     "name": "stdout",
     "output_type": "stream",
     "text": [
      "[WARN] 라벨링 누락: say_set1_collectorgs130_speakergs2119_14_0_39_1\n",
      "[WARN] 라벨링 누락: say_set1_collectorgs197_speakergs1179_42_0_35_1\n"
     ]
    },
    {
     "name": "stderr",
     "output_type": "stream",
     "text": [
      "Evaluating:  96%|███████████████████████████████████████████████████████████▋  | 3851/4000 [4:17:11<07:31,  3.03s/file]"
     ]
    },
    {
     "name": "stdout",
     "output_type": "stream",
     "text": [
      "[WARN] 라벨링 누락: say_set3_collectorgs115_speakergs436_4_0_26_1\n",
      "[WARN] 라벨링 누락: say_set2_collectorgs466_speakergs4862_25_0_30_1\n",
      "[WARN] 라벨링 누락: say_set2_collectorgs139_speakergs992_55_0_44_1\n",
      "[WARN] 라벨링 누락: say_set2_collectorgs51_speakergs1723_31_0_18_1\n",
      "[WARN] 라벨링 누락: say_set1_collectorgs504_speakergs4486_59_0_19_1\n"
     ]
    },
    {
     "name": "stderr",
     "output_type": "stream",
     "text": [
      "Evaluating:  96%|███████████████████████████████████████████████████████████▊  | 3860/4000 [4:17:44<10:31,  4.51s/file]"
     ]
    },
    {
     "name": "stdout",
     "output_type": "stream",
     "text": [
      "[WARN] 라벨링 누락: say_set2_collectorgs139_speakergs1331_15_0_41_1\n",
      "[WARN] 라벨링 누락: say_set1_collectorgs218_speakergs3018_15_1_10_1\n"
     ]
    },
    {
     "name": "stderr",
     "output_type": "stream",
     "text": [
      "Evaluating:  97%|███████████████████████████████████████████████████████████▉  | 3864/4000 [4:17:55<08:08,  3.59s/file]"
     ]
    },
    {
     "name": "stdout",
     "output_type": "stream",
     "text": [
      "[WARN] 라벨링 누락: say_set2_collectorgs129_speakergs2456_0_0_38_1\n"
     ]
    },
    {
     "name": "stderr",
     "output_type": "stream",
     "text": [
      "Evaluating:  97%|███████████████████████████████████████████████████████████▉  | 3867/4000 [4:18:10<09:54,  4.47s/file]"
     ]
    },
    {
     "name": "stdout",
     "output_type": "stream",
     "text": [
      "[WARN] 라벨링 누락: say_set2_collectorgs399_speakergs2786_14_0_31_1\n"
     ]
    },
    {
     "name": "stderr",
     "output_type": "stream",
     "text": [
      "Evaluating:  97%|███████████████████████████████████████████████████████████▉  | 3870/4000 [4:18:26<10:49,  4.99s/file]"
     ]
    },
    {
     "name": "stdout",
     "output_type": "stream",
     "text": [
      "[WARN] 라벨링 누락: say_set1_collectorgs520_speakergs4325_23_0_67_1\n",
      "[WARN] 라벨링 누락: say_set1_collectorgs150_speakergs912_2_0_36_1\n",
      "[WARN] 라벨링 누락: say_set2_collectorgs213_speakergs3108_33_0_19_1\n",
      "[WARN] 라벨링 누락: say_set2_collectorgs31_speakergs2268_10_0_25_1\n"
     ]
    },
    {
     "name": "stderr",
     "output_type": "stream",
     "text": [
      "Evaluating:  97%|████████████████████████████████████████████████████████████  | 3875/4000 [4:18:36<06:43,  3.23s/file]"
     ]
    },
    {
     "name": "stdout",
     "output_type": "stream",
     "text": [
      "[WARN] 라벨링 누락: say_set2_collectorgs31_speakergs2268_23_0_41_1\n",
      "[WARN] 라벨링 누락: say_set1_collectorgs305_speakergs2699_7_0_6_1\n"
     ]
    },
    {
     "name": "stderr",
     "output_type": "stream",
     "text": [
      "Evaluating:  97%|████████████████████████████████████████████████████████████▏ | 3880/4000 [4:18:59<08:24,  4.20s/file]"
     ]
    },
    {
     "name": "stdout",
     "output_type": "stream",
     "text": [
      "[WARN] 라벨링 누락: say_set1_collectorgs503_speakergs4331_50_0_18_1\n",
      "[WARN] 라벨링 누락: say_set1_collectorgs206_speakergs1510_0_0_9_1\n",
      "[WARN] 라벨링 누락: say_set1_collectorgs504_speakergs4486_54_0_19_1\n",
      "[WARN] 라벨링 누락: say_set2_collectorgs32_speakergs2209_22_0_34_1\n"
     ]
    },
    {
     "name": "stderr",
     "output_type": "stream",
     "text": [
      "Evaluating:  97%|████████████████████████████████████████████████████████████▏ | 3885/4000 [4:19:08<05:38,  2.94s/file]"
     ]
    },
    {
     "name": "stdout",
     "output_type": "stream",
     "text": [
      "[WARN] 라벨링 누락: say_set1_collectorgs297_speakergs2956_33_0_9_1\n"
     ]
    },
    {
     "name": "stderr",
     "output_type": "stream",
     "text": [
      "Evaluating:  97%|████████████████████████████████████████████████████████████▏ | 3887/4000 [4:19:17<06:12,  3.29s/file]"
     ]
    },
    {
     "name": "stdout",
     "output_type": "stream",
     "text": [
      "[WARN] 라벨링 누락: say_set2_collectorgs73_speakergs1228_68_0_39_1\n"
     ]
    },
    {
     "name": "stderr",
     "output_type": "stream",
     "text": [
      "Evaluating:  97%|████████████████████████████████████████████████████████████▎ | 3890/4000 [4:19:25<05:51,  3.19s/file]"
     ]
    },
    {
     "name": "stdout",
     "output_type": "stream",
     "text": [
      "[WARN] 라벨링 누락: say_set1_collectorgs296_speakergs3371_15_0_23_1\n",
      "[WARN] 라벨링 누락: say_set2_collectorgs218_speakergs2428_26_0_36_1\n",
      "[WARN] 라벨링 누락: say_set2_collectorgs198_speakergs1321_51_0_52_1\n",
      "[WARN] 라벨링 누락: say_set1_collectorgs150_speakergs2449_30_0_31_1\n"
     ]
    },
    {
     "name": "stderr",
     "output_type": "stream",
     "text": [
      "Evaluating:  97%|████████████████████████████████████████████████████████████▎ | 3895/4000 [4:19:29<03:22,  1.93s/file]"
     ]
    },
    {
     "name": "stdout",
     "output_type": "stream",
     "text": [
      "[WARN] 라벨링 누락: say_set2_collectorgs139_speakergs1918_75_0_25_1\n",
      "[WARN] 라벨링 누락: say_set2_collectorgs160_speakergs3599_28_0_32_1\n",
      "[WARN] 라벨링 누락: say_set1_collectorgs139_speakergs2358_25_0_33_1\n",
      "[WARN] 라벨링 누락: say_set1_collectorgs436_speakergs3675_6_1_9_1\n"
     ]
    },
    {
     "name": "stderr",
     "output_type": "stream",
     "text": [
      "Evaluating:  98%|████████████████████████████████████████████████████████████▍ | 3902/4000 [4:19:41<03:08,  1.93s/file]"
     ]
    },
    {
     "name": "stdout",
     "output_type": "stream",
     "text": [
      "[WARN] 라벨링 누락: say_set1_collectorgs142_speakergs2212_18_0_23_1\n"
     ]
    },
    {
     "name": "stderr",
     "output_type": "stream",
     "text": [
      "Evaluating:  98%|████████████████████████████████████████████████████████████▌ | 3904/4000 [4:19:46<03:24,  2.13s/file]"
     ]
    },
    {
     "name": "stdout",
     "output_type": "stream",
     "text": [
      "[WARN] 라벨링 누락: say_set1_collectorgs197_speakergs1215_59_0_32_1\n"
     ]
    },
    {
     "name": "stderr",
     "output_type": "stream",
     "text": [
      "Evaluating:  98%|████████████████████████████████████████████████████████████▌ | 3906/4000 [4:19:55<04:22,  2.79s/file]"
     ]
    },
    {
     "name": "stdout",
     "output_type": "stream",
     "text": [
      "[WARN] 라벨링 누락: say_set1_collectorgs135_speakergs714_1_0_32_1\n"
     ]
    },
    {
     "name": "stderr",
     "output_type": "stream",
     "text": [
      "Evaluating:  98%|████████████████████████████████████████████████████████████▌ | 3909/4000 [4:20:09<05:55,  3.91s/file]"
     ]
    },
    {
     "name": "stdout",
     "output_type": "stream",
     "text": [
      "[WARN] 라벨링 누락: say_set2_collectorgs219_speakergs3390_53_0_60_1\n"
     ]
    },
    {
     "name": "stderr",
     "output_type": "stream",
     "text": [
      "Evaluating:  98%|████████████████████████████████████████████████████████████▌ | 3911/4000 [4:20:19<06:14,  4.21s/file]"
     ]
    },
    {
     "name": "stdout",
     "output_type": "stream",
     "text": [
      "[WARN] 라벨링 누락: say_set1_collectorgs64_speakergs1180_38_0_35_1\n"
     ]
    },
    {
     "name": "stderr",
     "output_type": "stream",
     "text": [
      "Evaluating:  98%|████████████████████████████████████████████████████████████▋ | 3913/4000 [4:20:53<11:52,  8.19s/file]"
     ]
    },
    {
     "name": "stdout",
     "output_type": "stream",
     "text": [
      "[WARN] 라벨링 누락: say_set2_collectorgs239_speakergs2095_70_0_30_1\n"
     ]
    },
    {
     "name": "stderr",
     "output_type": "stream",
     "text": [
      "Evaluating:  98%|████████████████████████████████████████████████████████████▋ | 3915/4000 [4:20:57<08:58,  6.33s/file]"
     ]
    },
    {
     "name": "stdout",
     "output_type": "stream",
     "text": [
      "[WARN] 라벨링 누락: say_set1_collectorgs129_speakergs1711_7_0_33_1\n",
      "[WARN] 라벨링 누락: say_set2_collectorgs119_speakergs2210_52_0_61_1\n",
      "[WARN] 라벨링 누락: say_set1_collectorgs216_speakergs1765_61_0_15_1\n",
      "[WARN] 라벨링 누락: say_set2_collectorgs245_speakergs2686_65_0_18_1\n"
     ]
    },
    {
     "name": "stderr",
     "output_type": "stream",
     "text": [
      "Evaluating:  98%|████████████████████████████████████████████████████████████▊ | 3923/4000 [4:21:25<06:24,  4.99s/file]"
     ]
    },
    {
     "name": "stdout",
     "output_type": "stream",
     "text": [
      "[WARN] 라벨링 누락: say_set1_collectorgs492_speakergs3831_50_0_6_1\n",
      "[WARN] 라벨링 누락: say_set1_collectorgs287_speakergs3020_48_1_8_1\n",
      "[WARN] 라벨링 누락: say_set1_collectorgs359_speakergs4461_39_0_11_1\n",
      "[WARN] 라벨링 누락: say_set1_collectorgs161_speakergs1468_37_0_34_1\n"
     ]
    },
    {
     "name": "stderr",
     "output_type": "stream",
     "text": [
      "Evaluating:  98%|████████████████████████████████████████████████████████████▉ | 3928/4000 [4:21:35<03:58,  3.31s/file]"
     ]
    },
    {
     "name": "stdout",
     "output_type": "stream",
     "text": [
      "[WARN] 라벨링 누락: say_set1_collectorgs51_speakergs236_59_0_22_1\n",
      "[WARN] 라벨링 누락: say_set2_collectorgs129_speakergs991_41_0_39_1\n"
     ]
    },
    {
     "name": "stderr",
     "output_type": "stream",
     "text": [
      "Evaluating:  98%|████████████████████████████████████████████████████████████▉ | 3932/4000 [4:21:52<04:24,  3.88s/file]"
     ]
    },
    {
     "name": "stdout",
     "output_type": "stream",
     "text": [
      "[WARN] 라벨링 누락: say_set2_collectorgs237_speakergs4359_3_0_40_1\n",
      "[WARN] 라벨링 누락: say_set1_collectorgs81_speakergs1672_37_0_39_1\n",
      "[WARN] 라벨링 누락: say_set1_collectorgs237_speakergs4223_89_0_32_1\n"
     ]
    },
    {
     "name": "stderr",
     "output_type": "stream",
     "text": [
      "Evaluating:  98%|█████████████████████████████████████████████████████████████ | 3940/4000 [4:22:26<05:00,  5.01s/file]"
     ]
    },
    {
     "name": "stdout",
     "output_type": "stream",
     "text": [
      "[WARN] 라벨링 누락: say_set1_collectorgs212_speakergs3634_11_0_39_1\n"
     ]
    },
    {
     "name": "stderr",
     "output_type": "stream",
     "text": [
      "Evaluating:  99%|█████████████████████████████████████████████████████████████ | 3942/4000 [4:22:29<03:37,  3.75s/file]"
     ]
    },
    {
     "name": "stdout",
     "output_type": "stream",
     "text": [
      "[WARN] 라벨링 누락: say_set1_collectorgs293_speakergs2365_53_0_33_1\n"
     ]
    },
    {
     "name": "stderr",
     "output_type": "stream",
     "text": [
      "Evaluating:  99%|█████████████████████████████████████████████████████████████▏| 3946/4000 [4:22:51<04:44,  5.27s/file]"
     ]
    },
    {
     "name": "stdout",
     "output_type": "stream",
     "text": [
      "[WARN] 라벨링 누락: say_set1_collectorgs156_speakergs2999_75_0_15_1\n"
     ]
    },
    {
     "name": "stderr",
     "output_type": "stream",
     "text": [
      "Evaluating:  99%|█████████████████████████████████████████████████████████████▏| 3949/4000 [4:23:02<03:42,  4.37s/file]"
     ]
    },
    {
     "name": "stdout",
     "output_type": "stream",
     "text": [
      "[WARN] 라벨링 누락: say_set1_collectorgs245_speakergs2582_57_0_36_1\n",
      "[WARN] 라벨링 누락: say_set1_collectorgs267_speakergs2213_5_0_31_1\n",
      "[WARN] 라벨링 누락: say_set1_collectorgs143_speakergs1543_35_0_31_1\n",
      "[WARN] 라벨링 누락: say_set1_collectorgs142_speakergs1448_13_0_34_1\n"
     ]
    },
    {
     "name": "stderr",
     "output_type": "stream",
     "text": [
      "Evaluating:  99%|█████████████████████████████████████████████████████████████▎| 3954/4000 [4:23:11<02:09,  2.81s/file]"
     ]
    },
    {
     "name": "stdout",
     "output_type": "stream",
     "text": [
      "[WARN] 라벨링 누락: say_set1_collectorgs242_speakergs2060_69_0_41_1\n"
     ]
    },
    {
     "name": "stderr",
     "output_type": "stream",
     "text": [
      "Evaluating:  99%|█████████████████████████████████████████████████████████████▎| 3956/4000 [4:23:18<02:14,  3.06s/file]"
     ]
    },
    {
     "name": "stdout",
     "output_type": "stream",
     "text": [
      "[WARN] 라벨링 누락: say_set1_collectorgs267_speakergs2213_10_0_34_1\n",
      "[WARN] 라벨링 누락: say_set2_collectorgs218_speakergs2904_25_0_31_1\n"
     ]
    },
    {
     "name": "stderr",
     "output_type": "stream",
     "text": [
      "Evaluating:  99%|█████████████████████████████████████████████████████████████▎| 3959/4000 [4:23:26<01:59,  2.91s/file]"
     ]
    },
    {
     "name": "stdout",
     "output_type": "stream",
     "text": [
      "[WARN] 라벨링 누락: say_set1_collectorgs142_speakergs2470_14_0_39_1\n",
      "[WARN] 라벨링 누락: say_set1_collectorgs150_speakergs1762_9_0_31_1\n"
     ]
    },
    {
     "name": "stderr",
     "output_type": "stream",
     "text": [
      "Evaluating:  99%|█████████████████████████████████████████████████████████████▍| 3962/4000 [4:23:34<01:46,  2.81s/file]"
     ]
    },
    {
     "name": "stdout",
     "output_type": "stream",
     "text": [
      "[WARN] 라벨링 누락: say_set1_collectorgs163_speakergs1006_33_0_35_1\n",
      "[WARN] 라벨링 누락: say_set1_collectorgs359_speakergs4219_13_0_7_1\n"
     ]
    },
    {
     "name": "stderr",
     "output_type": "stream",
     "text": [
      "Evaluating:  99%|█████████████████████████████████████████████████████████████▍| 3965/4000 [4:23:40<01:29,  2.54s/file]"
     ]
    },
    {
     "name": "stdout",
     "output_type": "stream",
     "text": [
      "[WARN] 라벨링 누락: say_set1_collectorgs492_speakergs4445_1_2_19_1\n"
     ]
    },
    {
     "name": "stderr",
     "output_type": "stream",
     "text": [
      "Evaluating:  99%|█████████████████████████████████████████████████████████████▌| 3968/4000 [4:23:51<01:36,  3.01s/file]"
     ]
    },
    {
     "name": "stdout",
     "output_type": "stream",
     "text": [
      "[WARN] 라벨링 누락: say_set1_collectorgs32_speakergs1207_23_0_40_1\n"
     ]
    },
    {
     "name": "stderr",
     "output_type": "stream",
     "text": [
      "Evaluating:  99%|█████████████████████████████████████████████████████████████▋| 3977/4000 [4:24:48<02:27,  6.40s/file]"
     ]
    },
    {
     "name": "stdout",
     "output_type": "stream",
     "text": [
      "[WARN] 라벨링 누락: say_set2_collectorgs249_speakergs2614_61_0_6_1\n",
      "[WARN] 라벨링 누락: say_set1_collectorgs246_speakergs2889_67_0_28_1\n",
      "[WARN] 라벨링 누락: say_set2_collectorgs448_speakergs3575_15_0_8_1\n",
      "[WARN] 라벨링 누락: say_set1_collectorgs296_speakergs4055_6_0_21_1\n",
      "[WARN] 라벨링 누락: say_set1_collectorgs126_speakergs1068_35_0_33_1\n",
      "[WARN] 라벨링 누락: say_set1_collectorgs237_speakergs3922_31_0_39_1\n"
     ]
    },
    {
     "name": "stderr",
     "output_type": "stream",
     "text": [
      "Evaluating: 100%|█████████████████████████████████████████████████████████████▊| 3984/4000 [4:24:55<00:39,  2.47s/file]"
     ]
    },
    {
     "name": "stdout",
     "output_type": "stream",
     "text": [
      "[WARN] 라벨링 누락: say_set1_collectorgs297_speakergs2700_19_0_9_1\n",
      "[WARN] 라벨링 누락: say_set2_collectorgs244_speakergs3452_53_0_35_1\n",
      "[WARN] 라벨링 누락: say_set1_collectorgs141_speakergs1355_4_0_36_1\n"
     ]
    },
    {
     "name": "stderr",
     "output_type": "stream",
     "text": [
      "Evaluating: 100%|█████████████████████████████████████████████████████████████▊| 3988/4000 [4:25:01<00:25,  2.14s/file]"
     ]
    },
    {
     "name": "stdout",
     "output_type": "stream",
     "text": [
      "[WARN] 라벨링 누락: say_set3_collectorgs115_speakergs436_40_0_33_1\n",
      "[WARN] 라벨링 누락: say_set1_collectorgs493_speakergs3812_62_1_4_1\n",
      "[WARN] 라벨링 누락: say_set3_collectorgs119_speakergs1110_64_0_71_1\n"
     ]
    },
    {
     "name": "stderr",
     "output_type": "stream",
     "text": [
      "Evaluating: 100%|█████████████████████████████████████████████████████████████▉| 3992/4000 [4:25:08<00:16,  2.00s/file]"
     ]
    },
    {
     "name": "stdout",
     "output_type": "stream",
     "text": [
      "[WARN] 라벨링 누락: say_set1_collectorgs508_speakergs4120_24_0_15_1\n"
     ]
    },
    {
     "name": "stderr",
     "output_type": "stream",
     "text": [
      "Evaluating: 100%|█████████████████████████████████████████████████████████████▉| 3994/4000 [4:25:17<00:14,  2.45s/file]"
     ]
    },
    {
     "name": "stdout",
     "output_type": "stream",
     "text": [
      "[WARN] 라벨링 누락: say_set1_collectorgs160_speakergs2093_17_0_29_1\n",
      "[WARN] 라벨링 누락: say_set2_collectorgs139_speakergs1331_70_0_36_1\n",
      "[WARN] 라벨링 누락: say_set1_collectorgs293_speakergs2600_1_1_48_1\n"
     ]
    },
    {
     "name": "stderr",
     "output_type": "stream",
     "text": [
      "Evaluating: 100%|██████████████████████████████████████████████████████████████| 4000/4000 [4:25:31<00:00,  3.98s/file]"
     ]
    },
    {
     "name": "stdout",
     "output_type": "stream",
     "text": [
      "[WARN] 라벨링 누락: say_set1_collectorgs212_speakergs3634_6_0_32_1\n"
     ]
    },
    {
     "name": "stderr",
     "output_type": "stream",
     "text": [
      "\n"
     ]
    }
   ],
   "source": [
    "# 무작위 샘플링\n",
    "all_audio_files = [f for f in os.listdir(AUDIO_DIR) if f.endswith(\".wav\")]\n",
    "random.seed(42)  # 동일한 결과 재현용\n",
    "sample_audio_files = random.sample(all_audio_files, min(4000, len(all_audio_files)))\n",
    "\n",
    "for audio_file in tqdm(sample_audio_files, desc=\"Evaluating\", unit=\"file\"):\n",
    "    file_id = os.path.splitext(audio_file)[0]\n",
    "    audio_path = os.path.join(AUDIO_DIR, audio_file)\n",
    "    json_path = os.path.join(LABEL_DIR, file_id + \".json\")\n",
    "\n",
    "    if not os.path.exists(json_path):\n",
    "        print(f\"[WARN] 라벨링 누락: {file_id}\")\n",
    "        continue\n",
    "\n",
    "    try:\n",
    "        # 정답 문장 불러오기\n",
    "        with open(json_path, \"r\", encoding=\"utf-8\") as jf:\n",
    "            data = json.load(jf)\n",
    "            reference = data.get(\"transcription\", {}).get(\"standard\", \"\").strip()\n",
    "\n",
    "        if not reference:\n",
    "            print(f\"[WARN] 정답 누락: {file_id}\")\n",
    "            continue\n",
    "\n",
    "        # 음성 → 텍스트\n",
    "        audio = load_audio(audio_path)\n",
    "        hypothesis = transcribe(audio)\n",
    "\n",
    "        # CER 계산\n",
    "        ref_norm = normalize_korean(reference)\n",
    "        hyp_norm = normalize_korean(hypothesis)\n",
    "        file_cer = cer(ref_norm, hyp_norm)\n",
    "\n",
    "        # 결과 저장\n",
    "        total_cer += file_cer\n",
    "        count += 1\n",
    "        results.append({\n",
    "            \"file_id\": file_id,\n",
    "            \"audio_file\": audio_file,\n",
    "            \"reference\": ref_norm,\n",
    "            \"hypothesis\": hyp_norm,\n",
    "            \"cer\": round(file_cer, 3)\n",
    "        })\n",
    "\n",
    "    except Exception as e:\n",
    "        print(f\"[ERROR] {file_id}: {e}\")"
   ]
  },
  {
   "cell_type": "code",
   "execution_count": 10,
   "id": "e96c8d51-f588-4f37-85aa-ef76aee37cb1",
   "metadata": {},
   "outputs": [
    {
     "name": "stdout",
     "output_type": "stream",
     "text": [
      "\n",
      "✅ 평균 CER: 0.390 (2029개 파일 기준)\n"
     ]
    }
   ],
   "source": [
    "# ------------------------------\n",
    "# 💾 8. 결과 저장 및 평균 CER 출력\n",
    "# ------------------------------\n",
    "df = pd.DataFrame(results)\n",
    "df.to_csv(OUTPUT_CSV, index=False, encoding=\"utf-8-sig\")\n",
    "\n",
    "if count > 0:\n",
    "    print(f\"\\n✅ 평균 CER: {total_cer / count:.3f} ({count}개 파일 기준)\")\n",
    "else:\n",
    "    print(\"❌ 평가할 파일이 없습니다.\")"
   ]
  },
  {
   "cell_type": "code",
   "execution_count": null,
   "id": "6eb36f87-9c4b-43b2-897d-ff17b6f92690",
   "metadata": {},
   "outputs": [],
   "source": []
  }
 ],
 "metadata": {
  "kernelspec": {
   "display_name": "Python [conda env:whisper-env]",
   "language": "python",
   "name": "conda-env-whisper-env-py"
  },
  "language_info": {
   "codemirror_mode": {
    "name": "ipython",
    "version": 3
   },
   "file_extension": ".py",
   "mimetype": "text/x-python",
   "name": "python",
   "nbconvert_exporter": "python",
   "pygments_lexer": "ipython3",
   "version": "3.10.18"
  }
 },
 "nbformat": 4,
 "nbformat_minor": 5
}
