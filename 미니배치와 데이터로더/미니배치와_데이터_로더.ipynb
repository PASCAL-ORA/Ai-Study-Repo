{
  "nbformat": 4,
  "nbformat_minor": 0,
  "metadata": {
    "colab": {
      "provenance": []
    },
    "kernelspec": {
      "name": "python3",
      "display_name": "Python 3"
    },
    "language_info": {
      "name": "python"
    }
  },
  "cells": [
    {
      "cell_type": "code",
      "execution_count": null,
      "metadata": {
        "id": "UXU2NfoT8vHP"
      },
      "outputs": [],
      "source": [
        "import torch\n",
        "import torch.nn as nn\n",
        "import torch.nn.functional as F"
      ]
    },
    {
      "cell_type": "code",
      "source": [
        "from torch.utils.data import TensorDataset\n",
        "from torch.utils.data import DataLoader"
      ],
      "metadata": {
        "id": "H876pdaFEogV"
      },
      "execution_count": null,
      "outputs": []
    },
    {
      "cell_type": "code",
      "source": [
        "x_train  =  torch.FloatTensor([[73,  80,  75],\n",
        "                               [93,  88,  93],\n",
        "                               [89,  91,  90],\n",
        "                               [96,  98,  100],\n",
        "                               [73,  66,  70]])\n",
        "y_train  =  torch.FloatTensor([[152],  [185],  [180],  [196],  [142]])"
      ],
      "metadata": {
        "id": "FRoHLWe0Er1x"
      },
      "execution_count": null,
      "outputs": []
    },
    {
      "cell_type": "code",
      "source": [
        "dataset = TensorDataset(x_train, y_train)"
      ],
      "metadata": {
        "id": "aNyjNaSNEuYw"
      },
      "execution_count": null,
      "outputs": []
    },
    {
      "cell_type": "code",
      "source": [
        "dataloader = DataLoader(dataset, batch_size=2, shuffle=True)"
      ],
      "metadata": {
        "id": "ZvKZamisEveO"
      },
      "execution_count": null,
      "outputs": []
    },
    {
      "cell_type": "code",
      "source": [
        "model = nn.Linear(3,1)\n",
        "optimizer = torch.optim.SGD(model.parameters(), lr=1e-5)"
      ],
      "metadata": {
        "id": "Jzs-ZF13Ew1S"
      },
      "execution_count": null,
      "outputs": []
    },
    {
      "cell_type": "code",
      "source": [
        "nb_epochs = 20\n",
        "for epoch in range(nb_epochs + 1):\n",
        "  for batch_idx, samples in enumerate(dataloader):\n",
        "    x_train, y_train = samples\n",
        "\n",
        "    prediction = model(x_train)\n",
        "\n",
        "    cost = F.mse_loss(prediction, y_train)\n",
        "\n",
        "    optimizer.zero_grad()\n",
        "    cost.backward()\n",
        "    optimizer.step()\n",
        "\n",
        "    print('Epoch {:4d}/{} Batch {}/{} Cost: {:.6f}'.format(\n",
        "        epoch, nb_epochs, batch_idx+1, len(dataloader),\n",
        "        cost.item()\n",
        "        ))"
      ],
      "metadata": {
        "colab": {
          "base_uri": "https://localhost:8080/"
        },
        "id": "PERccuymEx_E",
        "outputId": "453dee3d-cd1f-4ae2-b7fd-2c01584bfcf2"
      },
      "execution_count": null,
      "outputs": [
        {
          "output_type": "stream",
          "name": "stdout",
          "text": [
            "Epoch    0/20 Batch 1/3 Cost: 62589.523438\n",
            "Epoch    0/20 Batch 2/3 Cost: 11293.736328\n",
            "Epoch    0/20 Batch 3/3 Cost: 2863.930176\n",
            "Epoch    1/20 Batch 1/3 Cost: 2101.312744\n",
            "Epoch    1/20 Batch 2/3 Cost: 432.273163\n",
            "Epoch    1/20 Batch 3/3 Cost: 158.922470\n",
            "Epoch    2/20 Batch 1/3 Cost: 61.368248\n",
            "Epoch    2/20 Batch 2/3 Cost: 7.596621\n",
            "Epoch    2/20 Batch 3/3 Cost: 26.490070\n",
            "Epoch    3/20 Batch 1/3 Cost: 1.058799\n",
            "Epoch    3/20 Batch 2/3 Cost: 4.645626\n",
            "Epoch    3/20 Batch 3/3 Cost: 10.360548\n",
            "Epoch    4/20 Batch 1/3 Cost: 5.961160\n",
            "Epoch    4/20 Batch 2/3 Cost: 7.530002\n",
            "Epoch    4/20 Batch 3/3 Cost: 4.085104\n",
            "Epoch    5/20 Batch 1/3 Cost: 1.758853\n",
            "Epoch    5/20 Batch 2/3 Cost: 6.375649\n",
            "Epoch    5/20 Batch 3/3 Cost: 4.834415\n",
            "Epoch    6/20 Batch 1/3 Cost: 5.822937\n",
            "Epoch    6/20 Batch 2/3 Cost: 7.570997\n",
            "Epoch    6/20 Batch 3/3 Cost: 4.041428\n",
            "Epoch    7/20 Batch 1/3 Cost: 2.678779\n",
            "Epoch    7/20 Batch 2/3 Cost: 5.592821\n",
            "Epoch    7/20 Batch 3/3 Cost: 3.527881\n",
            "Epoch    8/20 Batch 1/3 Cost: 0.687422\n",
            "Epoch    8/20 Batch 2/3 Cost: 7.054964\n",
            "Epoch    8/20 Batch 3/3 Cost: 5.686962\n",
            "Epoch    9/20 Batch 1/3 Cost: 4.565406\n",
            "Epoch    9/20 Batch 2/3 Cost: 6.059594\n",
            "Epoch    9/20 Batch 3/3 Cost: 3.848149\n",
            "Epoch   10/20 Batch 1/3 Cost: 2.904237\n",
            "Epoch   10/20 Batch 2/3 Cost: 9.928207\n",
            "Epoch   10/20 Batch 3/3 Cost: 1.615509\n",
            "Epoch   11/20 Batch 1/3 Cost: 0.965498\n",
            "Epoch   11/20 Batch 2/3 Cost: 6.774997\n",
            "Epoch   11/20 Batch 3/3 Cost: 5.369839\n",
            "Epoch   12/20 Batch 1/3 Cost: 5.476588\n",
            "Epoch   12/20 Batch 2/3 Cost: 2.924124\n",
            "Epoch   12/20 Batch 3/3 Cost: 8.457025\n",
            "Epoch   13/20 Batch 1/3 Cost: 6.416739\n",
            "Epoch   13/20 Batch 2/3 Cost: 6.869525\n",
            "Epoch   13/20 Batch 3/3 Cost: 5.902566\n",
            "Epoch   14/20 Batch 1/3 Cost: 1.669759\n",
            "Epoch   14/20 Batch 2/3 Cost: 4.083838\n",
            "Epoch   14/20 Batch 3/3 Cost: 9.849154\n",
            "Epoch   15/20 Batch 1/3 Cost: 2.630407\n",
            "Epoch   15/20 Batch 2/3 Cost: 4.948462\n",
            "Epoch   15/20 Batch 3/3 Cost: 10.406866\n",
            "Epoch   16/20 Batch 1/3 Cost: 5.328958\n",
            "Epoch   16/20 Batch 2/3 Cost: 4.691731\n",
            "Epoch   16/20 Batch 3/3 Cost: 5.101577\n",
            "Epoch   17/20 Batch 1/3 Cost: 3.284274\n",
            "Epoch   17/20 Batch 2/3 Cost: 5.414749\n",
            "Epoch   17/20 Batch 3/3 Cost: 2.652391\n",
            "Epoch   18/20 Batch 1/3 Cost: 1.287111\n",
            "Epoch   18/20 Batch 2/3 Cost: 6.471343\n",
            "Epoch   18/20 Batch 3/3 Cost: 5.022753\n",
            "Epoch   19/20 Batch 1/3 Cost: 2.516506\n",
            "Epoch   19/20 Batch 2/3 Cost: 5.286837\n",
            "Epoch   19/20 Batch 3/3 Cost: 4.909860\n",
            "Epoch   20/20 Batch 1/3 Cost: 0.619075\n",
            "Epoch   20/20 Batch 2/3 Cost: 6.988476\n",
            "Epoch   20/20 Batch 3/3 Cost: 5.568522\n"
          ]
        }
      ]
    },
    {
      "cell_type": "code",
      "source": [
        "new_var =  torch.FloatTensor([[73, 80, 75]])\n",
        "pred_y = model(new_var)\n",
        "print(\"훈련 후 입력이 73, 80, 75일 때의 예측값 :\", pred_y)"
      ],
      "metadata": {
        "colab": {
          "base_uri": "https://localhost:8080/"
        },
        "id": "ILO9MdPXE5ek",
        "outputId": "42949c64-a6a5-4dc0-c324-6c7a4901272e"
      },
      "execution_count": null,
      "outputs": [
        {
          "output_type": "stream",
          "name": "stdout",
          "text": [
            "훈련 후 입력이 73, 80, 75일 때의 예측값 : tensor([[154.2470]], grad_fn=<AddmmBackward0>)\n"
          ]
        }
      ]
    },
    {
      "cell_type": "code",
      "source": [
        "class CustomDataset(torch.utils.data.Dataset):\n",
        "  def __init__(self):\n",
        "\n",
        "  def __len__(self):\n",
        "\n",
        "  def __getitem__(self, idx):"
      ],
      "metadata": {
        "colab": {
          "base_uri": "https://localhost:8080/",
          "height": 110
        },
        "id": "xOHYbbm5e4te",
        "outputId": "55c7ed69-de08-426d-9fb4-1c4c36f7391e"
      },
      "execution_count": null,
      "outputs": [
        {
          "output_type": "error",
          "ename": "IndentationError",
          "evalue": "expected an indented block after function definition on line 2 (<ipython-input-9-aa26ed03969e>, line 4)",
          "traceback": [
            "\u001b[0;36m  File \u001b[0;32m\"<ipython-input-9-aa26ed03969e>\"\u001b[0;36m, line \u001b[0;32m4\u001b[0m\n\u001b[0;31m    def __len__(self):\u001b[0m\n\u001b[0m    ^\u001b[0m\n\u001b[0;31mIndentationError\u001b[0m\u001b[0;31m:\u001b[0m expected an indented block after function definition on line 2\n"
          ]
        }
      ]
    },
    {
      "cell_type": "code",
      "source": [
        "import torch\n",
        "import torch.nn.functional as F\n",
        "from torch.utils.data import Dataset\n",
        "from torch.utils.data import DataLoader\n",
        "\n",
        "class CustomDataset(Dataset):\n",
        "  def __init__(self):\n",
        "    self.x_data = [[73, 80, 75],\n",
        "                   [93, 88, 93],\n",
        "                   [89, 91, 90],\n",
        "                   [96, 98, 100],\n",
        "                   [73, 66, 70]]\n",
        "    self.y_data = [[152], [185], [180], [196], [142]]\n",
        "\n",
        "  def __len__(self):\n",
        "    return len(self.x_data)\n",
        "\n",
        "  def __getitem__(self, idx):\n",
        "    x = torch.FloatTensor(self.x_data[idx])\n",
        "    y = torch.FloatTensor(self.y_data[idx])\n",
        "    return x, y"
      ],
      "metadata": {
        "id": "DiluU4VydMwo"
      },
      "execution_count": null,
      "outputs": []
    },
    {
      "cell_type": "code",
      "source": [
        "dataset = CustomDataset()\n",
        "dataloader = DataLoader(dataset, batch_size=2, shuffle=True)\n",
        "\n",
        "model = torch.nn.Linear(3,1)\n",
        "optimizer = torch.optim.SGD(model.parameters(), lr=1e-5)"
      ],
      "metadata": {
        "id": "NunVHM8beyKd"
      },
      "execution_count": null,
      "outputs": []
    },
    {
      "cell_type": "code",
      "source": [
        "nb_epochs = 20\n",
        "for epoch in range(nb_epochs + 1):\n",
        "  for batch_idx, samples in enumerate(dataloader):\n",
        "\n",
        "    x_train, y_train = samples\n",
        "\n",
        "    prediction = model(x_train)\n",
        "\n",
        "    cost = F.mse_loss(prediction, y_train)\n",
        "\n",
        "    optimizer.zero_grad()\n",
        "    cost.backward()\n",
        "    optimizer.step()\n",
        "\n",
        "    print('Epoch {:4d}/{} Batch {}/{} Cost: {:.6f}'.format(\n",
        "        epoch, nb_epochs, batch_idx+1, len(dataloader),\n",
        "        cost.item()\n",
        "        ))"
      ],
      "metadata": {
        "colab": {
          "base_uri": "https://localhost:8080/"
        },
        "id": "Le1v5Yoeuorb",
        "outputId": "00cafc8a-a39c-460b-b1cd-fabc9d86d3f4"
      },
      "execution_count": null,
      "outputs": [
        {
          "output_type": "stream",
          "name": "stdout",
          "text": [
            "Epoch    0/20 Batch 1/3 Cost: 20533.947266\n",
            "Epoch    0/20 Batch 2/3 Cost: 4932.895020\n",
            "Epoch    0/20 Batch 3/3 Cost: 939.873962\n",
            "Epoch    1/20 Batch 1/3 Cost: 707.584595\n",
            "Epoch    1/20 Batch 2/3 Cost: 177.012833\n",
            "Epoch    1/20 Batch 3/3 Cost: 85.097076\n",
            "Epoch    2/20 Batch 1/3 Cost: 19.135080\n",
            "Epoch    2/20 Batch 2/3 Cost: 5.285640\n",
            "Epoch    2/20 Batch 3/3 Cost: 2.452003\n",
            "Epoch    3/20 Batch 1/3 Cost: 1.470477\n",
            "Epoch    3/20 Batch 2/3 Cost: 0.314296\n",
            "Epoch    3/20 Batch 3/3 Cost: 0.950339\n",
            "Epoch    4/20 Batch 1/3 Cost: 1.391297\n",
            "Epoch    4/20 Batch 2/3 Cost: 0.601474\n",
            "Epoch    4/20 Batch 3/3 Cost: 0.004377\n",
            "Epoch    5/20 Batch 1/3 Cost: 0.307938\n",
            "Epoch    5/20 Batch 2/3 Cost: 0.510203\n",
            "Epoch    5/20 Batch 3/3 Cost: 1.885425\n",
            "Epoch    6/20 Batch 1/3 Cost: 0.784527\n",
            "Epoch    6/20 Batch 2/3 Cost: 0.929636\n",
            "Epoch    6/20 Batch 3/3 Cost: 0.246669\n",
            "Epoch    7/20 Batch 1/3 Cost: 0.491308\n",
            "Epoch    7/20 Batch 2/3 Cost: 0.840282\n",
            "Epoch    7/20 Batch 3/3 Cost: 0.274147\n",
            "Epoch    8/20 Batch 1/3 Cost: 0.822978\n",
            "Epoch    8/20 Batch 2/3 Cost: 0.657388\n",
            "Epoch    8/20 Batch 3/3 Cost: 0.001934\n",
            "Epoch    9/20 Batch 1/3 Cost: 0.626411\n",
            "Epoch    9/20 Batch 2/3 Cost: 1.011519\n",
            "Epoch    9/20 Batch 3/3 Cost: 0.212084\n",
            "Epoch   10/20 Batch 1/3 Cost: 0.183465\n",
            "Epoch   10/20 Batch 2/3 Cost: 0.578031\n",
            "Epoch   10/20 Batch 3/3 Cost: 1.629152\n",
            "Epoch   11/20 Batch 1/3 Cost: 1.173130\n",
            "Epoch   11/20 Batch 2/3 Cost: 0.538225\n",
            "Epoch   11/20 Batch 3/3 Cost: 0.620743\n",
            "Epoch   12/20 Batch 1/3 Cost: 0.775617\n",
            "Epoch   12/20 Batch 2/3 Cost: 0.185380\n",
            "Epoch   12/20 Batch 3/3 Cost: 1.251315\n",
            "Epoch   13/20 Batch 1/3 Cost: 0.433897\n",
            "Epoch   13/20 Batch 2/3 Cost: 1.109013\n",
            "Epoch   13/20 Batch 3/3 Cost: 0.074860\n",
            "Epoch   14/20 Batch 1/3 Cost: 0.171176\n",
            "Epoch   14/20 Batch 2/3 Cost: 0.572340\n",
            "Epoch   14/20 Batch 3/3 Cost: 1.515105\n",
            "Epoch   15/20 Batch 1/3 Cost: 0.157437\n",
            "Epoch   15/20 Batch 2/3 Cost: 1.110576\n",
            "Epoch   15/20 Batch 3/3 Cost: 0.456680\n",
            "Epoch   16/20 Batch 1/3 Cost: 1.105450\n",
            "Epoch   16/20 Batch 2/3 Cost: 0.178478\n",
            "Epoch   16/20 Batch 3/3 Cost: 0.003151\n",
            "Epoch   17/20 Batch 1/3 Cost: 0.054341\n",
            "Epoch   17/20 Batch 2/3 Cost: 1.086830\n",
            "Epoch   17/20 Batch 3/3 Cost: 0.325082\n",
            "Epoch   18/20 Batch 1/3 Cost: 0.790495\n",
            "Epoch   18/20 Batch 2/3 Cost: 1.107568\n",
            "Epoch   18/20 Batch 3/3 Cost: 0.004178\n",
            "Epoch   19/20 Batch 1/3 Cost: 0.485438\n",
            "Epoch   19/20 Batch 2/3 Cost: 0.211460\n",
            "Epoch   19/20 Batch 3/3 Cost: 1.552636\n",
            "Epoch   20/20 Batch 1/3 Cost: 0.515400\n",
            "Epoch   20/20 Batch 2/3 Cost: 0.137075\n",
            "Epoch   20/20 Batch 3/3 Cost: 1.683983\n"
          ]
        }
      ]
    },
    {
      "cell_type": "code",
      "source": [
        "new_var =  torch.FloatTensor([[73, 80, 75]])\n",
        "pred_y = model(new_var)\n",
        "print(\"훈련 후 입력이 73, 80, 75일 때의 예측값 :\", pred_y)"
      ],
      "metadata": {
        "colab": {
          "base_uri": "https://localhost:8080/"
        },
        "id": "YTtDXokAw_Zy",
        "outputId": "f6f48337-2ca7-4b0f-d2ce-46713f57dcdc"
      },
      "execution_count": null,
      "outputs": [
        {
          "output_type": "stream",
          "name": "stdout",
          "text": [
            "훈련 후 입력이 73, 80, 75일 때의 예측값 : tensor([[151.1527]], grad_fn=<AddmmBackward0>)\n"
          ]
        }
      ]
    }
  ]
}