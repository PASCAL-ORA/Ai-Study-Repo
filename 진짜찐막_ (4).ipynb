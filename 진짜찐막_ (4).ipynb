{
  "cells": [
    {
      "cell_type": "code",
      "execution_count": 1,
      "metadata": {},
      "outputs": [
        {
          "name": "stdout",
          "output_type": "stream",
          "text": [
            "Hello! 2.13.0\n"
          ]
        }
      ],
      "source": [
        "import tensorflow as tf\n",
        "print(\"Hello!\", tf.__version__)"
      ]
    },
    {
      "cell_type": "code",
      "execution_count": 2,
      "metadata": {
        "colab": {
          "base_uri": "https://localhost:8080/"
        },
        "id": "l0TWggQiimlJ",
        "outputId": "6f1df237-f4ba-4660-d688-95910e933066"
      },
      "outputs": [],
      "source": [
        "# 2. 필요한 라이브러리 설치 및 임포트\n",
        "# # 필요 라이브러리 설치 코드 (설치 안 된 경우에만 설치되도록 구성)\n",
        "import sys\n",
        "import subprocess\n",
        "\n",
        "def install(package):\n",
        "    subprocess.check_call([sys.executable, \"-m\", \"pip\", \"install\", package])\n",
        "\n",
        "# 설치할 패키지 목록\n",
        "required_packages = [\n",
        "    \"librosa\",\n",
        "    \"matplotlib\",\n",
        "    \"numpy\",\n",
        "    \"pandas\",\n",
        "    \"scikit-learn\",\n",
        "    \"tensorflow==2.13\"\n",
        "]\n",
        "\n",
        "for pkg in required_packages:\n",
        "    try:\n",
        "        __import__(pkg.split(\"==\")[0])\n",
        "    except ImportError:\n",
        "        install(pkg)\n",
        "\n",
        "# # 임포트 코드\n",
        "import os\n",
        "import json\n",
        "import librosa\n",
        "import numpy as np\n",
        "import pandas as pd\n",
        "import matplotlib.pyplot as plt\n",
        "\n",
        "from sklearn.model_selection import train_test_split\n",
        "from sklearn.preprocessing import LabelEncoder\n",
        "\n",
        "import tensorflow as tf\n",
        "from tensorflow.keras import layers, models\n",
        "from tensorflow.keras.callbacks import EarlyStopping\n"
      ]
    },
    {
      "cell_type": "code",
      "execution_count": 3,
      "metadata": {
        "id": "lu850QWoYMe1"
      },
      "outputs": [],
      "source": [
        "# Focal Loss 정의 함수\n",
        "def focal_loss(gamma=1.5, alpha=0.3):\n",
        "    def loss(y_true, y_pred):\n",
        "        y_pred = tf.clip_by_value(y_pred, 1e-8, 1. - 1e-8)  # log 안정성 확보\n",
        "        cross_entropy = -y_true * tf.math.log(y_pred)\n",
        "        weight = alpha * tf.math.pow(1 - y_pred, gamma)\n",
        "        return tf.reduce_mean(weight * cross_entropy)\n",
        "    return loss"
      ]
    },
    {
      "cell_type": "code",
      "execution_count": 4,
      "metadata": {
        "id": "jzzbp4UMirWo"
      },
      "outputs": [],
      "source": [
        "# 3. 오디오 및 라벨 경로 설정\n",
        "label_dir = \"D:/machinelearning_task/label_data/indoor\"\n",
        "audio_dir = \"D:/machinelearning_task/audio_data/indoor\""
      ]
    },
    {
      "cell_type": "code",
      "execution_count": 5,
      "metadata": {
        "colab": {
          "base_uri": "https://localhost:8080/"
        },
        "id": "GXkDbyKCirUU",
        "outputId": "841db9b3-2474-4eea-d066-c4393fc9b787"
      },
      "outputs": [
        {
          "name": "stdout",
          "output_type": "stream",
          "text": [
            "                                            filename emotion\n",
            "0  2_0001G2A3_0005G2A6_T1_2D06T0219C000451_000112...      긍정\n",
            "1  2_0002G2A3_0003G2A5_T1_2D01T0030C000132_000323...      긍정\n",
            "2  2_0002G2A3_0003G2A5_T1_2D01T0042C000171_000324...      긍정\n",
            "3  2_0002G2A3_0003G2A5_T1_2D02T0058C000224_000309...      긍정\n",
            "4  2_0002G2A3_0003G2A5_T1_2D02T0065C000405_000351...      긍정\n"
          ]
        }
      ],
      "source": [
        "# 4. 오디오 파일과 라벨 매칭 및 데이터 준비\n",
        "def extract_emotion_label(json_path):\n",
        "    with open(json_path, encoding='utf-8') as f:\n",
        "        data = json.load(f)\n",
        "    file_name = data.get(\"File\", {}).get(\"FileName\", None)\n",
        "    conv = data.get(\"Conversation\", [])\n",
        "\n",
        "    # 대화 내에서 감정 정보가 있는 항목 탐색\n",
        "    for turn in conv:\n",
        "        emotion = turn.get(\"SpeakerEmotionCategory\", None)\n",
        "        if file_name and emotion:\n",
        "            return file_name + \".wav\", emotion\n",
        "    return None, None\n",
        "\n",
        "file_labels = []\n",
        "for fname in os.listdir(label_dir):\n",
        "    if fname.endswith(\".json\"):\n",
        "        wav_name, emotion = extract_emotion_label(os.path.join(label_dir, fname))\n",
        "        if wav_name and emotion:\n",
        "            file_labels.append((wav_name, emotion))\n",
        "\n",
        "df = pd.DataFrame(file_labels, columns=[\"filename\", \"emotion\"])\n",
        "print(df.head())"
      ]
    },
    {
      "cell_type": "code",
      "execution_count": 6,
      "metadata": {
        "id": "nfHK3RXzVokg"
      },
      "outputs": [],
      "source": [
        "def augment_audio(y, sr):\n",
        "    y_stretch = librosa.effects.time_stretch(y, rate=np.random.uniform(0.8, 1.2))\n",
        "    y_shift = librosa.effects.pitch_shift(y_stretch, sr=sr, n_steps=np.random.randint(-2, 2))\n",
        "    noise = np.random.normal(0, 0.005, size=y_shift.shape)\n",
        "    y_noisy = y_shift + noise\n",
        "    return y_noisy"
      ]
    },
    {
      "cell_type": "code",
      "execution_count": 7,
      "metadata": {
        "colab": {
          "base_uri": "https://localhost:8080/"
        },
        "id": "ASiTUnqEirSb",
        "outputId": "77d7f1ae-daff-4336-aa0d-93cda0d971f7"
      },
      "outputs": [
        {
          "name": "stderr",
          "output_type": "stream",
          "text": [
            "c:\\Users\\nh\\anaconda3\\envs\\tf_env\\lib\\site-packages\\librosa\\core\\pitch.py:103: UserWarning: Trying to estimate tuning from empty frequency set.\n",
            "  return pitch_tuning(\n"
          ]
        },
        {
          "name": "stdout",
          "output_type": "stream",
          "text": [
            "데이터 수 확인 전:\n",
            "2298 2298\n",
            "감정별 데이터 개수:\n",
            "- 긍정: 1488개\n",
            "- 중립: 362개\n",
            "- 부정: 448개\n",
            "X shape: (2298, 83, 128, 1)\n",
            "y shape: (2298, 3)\n"
          ]
        }
      ],
      "source": [
        "# 5. 멜 스펙트로그램으로 오디오 전처리\n",
        "def extract_audio_features(audio_path, sr=22050, duration=3, offset=0.5):\n",
        "    try:\n",
        "        y, sr = librosa.load(audio_path, sr=sr, duration=duration, offset=offset)\n",
        "        mel = librosa.feature.melspectrogram(y=y, sr=sr, n_mels=64)\n",
        "        chroma = librosa.feature.chroma_stft(y=y, sr=sr)\n",
        "        contrast = librosa.feature.spectral_contrast(y=y, sr=sr)\n",
        "\n",
        "        # 시간 축 기준으로 padding 또는 trimming\n",
        "        mel = librosa.util.fix_length(mel, size=128, axis=1)\n",
        "        chroma = librosa.util.fix_length(chroma, size=128, axis=1)\n",
        "        contrast = librosa.util.fix_length(contrast, size=128, axis=1)\n",
        "\n",
        "        features = np.vstack([mel, chroma, contrast])\n",
        "        return features\n",
        "    except Exception as e:\n",
        "        print(f\"Error with {audio_path}: {e}\")\n",
        "        return None\n",
        "\n",
        "def extract_audio_features_from_wave(y, sr):\n",
        "    try:\n",
        "        mel = librosa.feature.melspectrogram(y=y, sr=sr, n_mels=64)\n",
        "        chroma = librosa.feature.chroma_stft(y=y, sr=sr)\n",
        "        contrast = librosa.feature.spectral_contrast(y=y, sr=sr)\n",
        "\n",
        "        mel = librosa.util.fix_length(mel, size=128, axis=1)\n",
        "        chroma = librosa.util.fix_length(chroma, size=128, axis=1)\n",
        "        contrast = librosa.util.fix_length(contrast, size=128, axis=1)\n",
        "\n",
        "        features = np.vstack([mel, chroma, contrast])\n",
        "        return features\n",
        "    except Exception as e:\n",
        "        print(f\"Feature extraction error: {e}\")\n",
        "        return None\n",
        "\n",
        "X, y = [], []\n",
        "for i, row in df.iterrows():\n",
        "    wav_path = os.path.join(audio_dir, row[\"filename\"])\n",
        "    try:\n",
        "        y_raw, sr = librosa.load(wav_path, sr=22050, duration=3, offset=0.5)\n",
        "        emotion = row[\"emotion\"]\n",
        "\n",
        "        # 원본 추가\n",
        "        feat_orig = extract_audio_features_from_wave(y_raw, sr)\n",
        "        if feat_orig is not None:\n",
        "            X.append(feat_orig)\n",
        "            y.append(emotion)\n",
        "\n",
        "        # 부정 감정만 증강 3배, 나머지는 1번\n",
        "        aug_n = 3 if emotion == \"부정\" else 1\n",
        "\n",
        "        for _ in range(aug_n):\n",
        "            y_aug = augment_audio(y_raw, sr)\n",
        "            feat_aug = extract_audio_features_from_wave(y_aug, sr)\n",
        "            if feat_aug is not None:\n",
        "                X.append(feat_aug)\n",
        "                y.append(emotion)\n",
        "\n",
        "    except Exception as e:\n",
        "        print(f\"Error processing {row['filename']}: {e}\")\n",
        "\n",
        "        # X, y에 데이터 다 넣은 후\n",
        "print(\"데이터 수 확인 전:\")\n",
        "print(len(X), len(y))\n",
        "\n",
        "from collections import Counter\n",
        "label_counts = Counter(y)\n",
        "print(\"감정별 데이터 개수:\")\n",
        "for label, count in label_counts.items():\n",
        "    print(f\"- {label}: {count}개\")\n",
        "\n",
        "\n",
        "X = np.array(X)\n",
        "X = X[..., np.newaxis]  # CNN 입력을 위한 채널 차원 추가\n",
        "le = LabelEncoder()\n",
        "y = le.fit_transform(y)\n",
        "y = tf.keras.utils.to_categorical(y)\n",
        "\n",
        "print(\"X shape:\", X.shape)\n",
        "print(\"y shape:\", y.shape)"
      ]
    },
    {
      "cell_type": "code",
      "execution_count": 8,
      "metadata": {
        "id": "0jRyNGG8iurm"
      },
      "outputs": [],
      "source": [
        "# 6. 훈련/테스트 분리\n",
        "X_train, X_test, y_train, y_test = train_test_split(X, y, test_size=0.2, random_state=42)"
      ]
    },
    {
      "cell_type": "code",
      "execution_count": 9,
      "metadata": {
        "id": "EkZEM5aDSuvW"
      },
      "outputs": [],
      "source": [
        "from sklearn.utils.class_weight import compute_class_weight\n",
        "\n",
        "# 클래스 가중치 계산\n",
        "y_integers = np.argmax(y, axis=1)\n",
        "class_weights = compute_class_weight(class_weight='balanced', classes=np.unique(y_integers), y=y_integers)\n",
        "class_weights = dict(enumerate(class_weights))"
      ]
    },
    {
      "cell_type": "code",
      "execution_count": 10,
      "metadata": {
        "colab": {
          "base_uri": "https://localhost:8080/",
          "height": 788
        },
        "id": "KDo9wppQiupQ",
        "outputId": "9120bcf4-62b7-492e-b10f-f8f09dad40f9"
      },
      "outputs": [
        {
          "name": "stdout",
          "output_type": "stream",
          "text": [
            "Model: \"sequential\"\n",
            "_________________________________________________________________\n",
            " Layer (type)                Output Shape              Param #   \n",
            "=================================================================\n",
            " conv2d (Conv2D)             (None, 81, 126, 32)       320       \n",
            "                                                                 \n",
            " batch_normalization (Batch  (None, 81, 126, 32)       128       \n",
            " Normalization)                                                  \n",
            "                                                                 \n",
            " max_pooling2d (MaxPooling2  (None, 40, 63, 32)        0         \n",
            " D)                                                              \n",
            "                                                                 \n",
            " dropout (Dropout)           (None, 40, 63, 32)        0         \n",
            "                                                                 \n",
            " conv2d_1 (Conv2D)           (None, 38, 61, 64)        18496     \n",
            "                                                                 \n",
            " batch_normalization_1 (Bat  (None, 38, 61, 64)        256       \n",
            " chNormalization)                                                \n",
            "                                                                 \n",
            " max_pooling2d_1 (MaxPoolin  (None, 19, 30, 64)        0         \n",
            " g2D)                                                            \n",
            "                                                                 \n",
            " dropout_1 (Dropout)         (None, 19, 30, 64)        0         \n",
            "                                                                 \n",
            " conv2d_2 (Conv2D)           (None, 17, 28, 128)       73856     \n",
            "                                                                 \n",
            " batch_normalization_2 (Bat  (None, 17, 28, 128)       512       \n",
            " chNormalization)                                                \n",
            "                                                                 \n",
            " max_pooling2d_2 (MaxPoolin  (None, 8, 14, 128)        0         \n",
            " g2D)                                                            \n",
            "                                                                 \n",
            " dropout_2 (Dropout)         (None, 8, 14, 128)        0         \n",
            "                                                                 \n",
            " flatten (Flatten)           (None, 14336)             0         \n",
            "                                                                 \n",
            " dense (Dense)               (None, 128)               1835136   \n",
            "                                                                 \n",
            " dropout_3 (Dropout)         (None, 128)               0         \n",
            "                                                                 \n",
            " dense_1 (Dense)             (None, 3)                 387       \n",
            "                                                                 \n",
            "=================================================================\n",
            "Total params: 1929091 (7.36 MB)\n",
            "Trainable params: 1928643 (7.36 MB)\n",
            "Non-trainable params: 448 (1.75 KB)\n",
            "_________________________________________________________________\n"
          ]
        }
      ],
      "source": [
        "# 7. CNN 모델 정의\n",
        "early_stop = EarlyStopping(monitor='val_loss', patience=5, restore_best_weights=True)\n",
        "\n",
        "model = models.Sequential([\n",
        "    layers.Conv2D(32, (3,3), activation='relu', input_shape=X.shape[1:]),\n",
        "    layers.BatchNormalization(),\n",
        "    layers.MaxPooling2D((2,2)),\n",
        "    layers.Dropout(0.3),\n",
        "\n",
        "    layers.Conv2D(64, (3,3), activation='relu'),\n",
        "    layers.BatchNormalization(),\n",
        "    layers.MaxPooling2D((2,2)),\n",
        "    layers.Dropout(0.3),\n",
        "\n",
        "    layers.Conv2D(128, (3,3), activation='relu'),\n",
        "    layers.BatchNormalization(),\n",
        "    layers.MaxPooling2D((2,2)),\n",
        "    layers.Dropout(0.4),\n",
        "\n",
        "    layers.Flatten(),\n",
        "    layers.Dense(128, activation='relu'),\n",
        "    layers.Dropout(0.5),\n",
        "    layers.Dense(y.shape[1], activation='softmax')\n",
        "])\n",
        "\n",
        "model.compile(optimizer='adam', loss=focal_loss(gamma=2., alpha=0.25), metrics=['accuracy'])\n",
        "model.summary()"
      ]
    },
    {
      "cell_type": "code",
      "execution_count": 11,
      "metadata": {
        "colab": {
          "base_uri": "https://localhost:8080/"
        },
        "id": "cpHPxehDiulo",
        "outputId": "fcf43313-c4c4-4a7d-ab9a-4d8909d3705f"
      },
      "outputs": [
        {
          "name": "stdout",
          "output_type": "stream",
          "text": [
            "Epoch 1/50\n",
            "115/115 [==============================] - 29s 224ms/step - loss: 0.0957 - accuracy: 0.5778 - val_loss: 0.0380 - val_accuracy: 0.6152\n",
            "Epoch 2/50\n",
            "115/115 [==============================] - 25s 215ms/step - loss: 0.0368 - accuracy: 0.6507 - val_loss: 0.0343 - val_accuracy: 0.6174\n",
            "Epoch 3/50\n",
            "115/115 [==============================] - 25s 217ms/step - loss: 0.0347 - accuracy: 0.6551 - val_loss: 0.0343 - val_accuracy: 0.6174\n",
            "Epoch 4/50\n",
            "115/115 [==============================] - 25s 216ms/step - loss: 0.0340 - accuracy: 0.6545 - val_loss: 0.0339 - val_accuracy: 0.6174\n",
            "Epoch 5/50\n",
            "115/115 [==============================] - 25s 216ms/step - loss: 0.0336 - accuracy: 0.6556 - val_loss: 0.0346 - val_accuracy: 0.6174\n",
            "Epoch 6/50\n",
            "115/115 [==============================] - 25s 222ms/step - loss: 0.0328 - accuracy: 0.6561 - val_loss: 0.0335 - val_accuracy: 0.6174\n",
            "Epoch 7/50\n",
            "115/115 [==============================] - 25s 216ms/step - loss: 0.0321 - accuracy: 0.6551 - val_loss: 0.0333 - val_accuracy: 0.6174\n",
            "Epoch 8/50\n",
            "115/115 [==============================] - 25s 217ms/step - loss: 0.0325 - accuracy: 0.6567 - val_loss: 0.0336 - val_accuracy: 0.6152\n",
            "Epoch 9/50\n",
            "115/115 [==============================] - 25s 216ms/step - loss: 0.0326 - accuracy: 0.6561 - val_loss: 0.0334 - val_accuracy: 0.6152\n",
            "Epoch 10/50\n",
            "115/115 [==============================] - 25s 221ms/step - loss: 0.0325 - accuracy: 0.6567 - val_loss: 0.0333 - val_accuracy: 0.6174\n",
            "Epoch 11/50\n",
            "115/115 [==============================] - 25s 220ms/step - loss: 0.0324 - accuracy: 0.6567 - val_loss: 0.0331 - val_accuracy: 0.6174\n",
            "Epoch 12/50\n",
            "115/115 [==============================] - 25s 217ms/step - loss: 0.0321 - accuracy: 0.6561 - val_loss: 0.0331 - val_accuracy: 0.6174\n",
            "Epoch 13/50\n",
            "115/115 [==============================] - 25s 218ms/step - loss: 0.0333 - accuracy: 0.6529 - val_loss: 0.0333 - val_accuracy: 0.6174\n",
            "Epoch 14/50\n",
            "115/115 [==============================] - 25s 218ms/step - loss: 0.0322 - accuracy: 0.6561 - val_loss: 0.0330 - val_accuracy: 0.6174\n",
            "Epoch 15/50\n",
            "115/115 [==============================] - 26s 228ms/step - loss: 0.0330 - accuracy: 0.6561 - val_loss: 0.0332 - val_accuracy: 0.6174\n",
            "Epoch 16/50\n",
            "115/115 [==============================] - 25s 220ms/step - loss: 0.0327 - accuracy: 0.6567 - val_loss: 0.0333 - val_accuracy: 0.6174\n",
            "Epoch 17/50\n",
            "115/115 [==============================] - 25s 216ms/step - loss: 0.0320 - accuracy: 0.6578 - val_loss: 0.0333 - val_accuracy: 0.6174\n",
            "Epoch 18/50\n",
            "115/115 [==============================] - 25s 219ms/step - loss: 0.0321 - accuracy: 0.6567 - val_loss: 0.0333 - val_accuracy: 0.6174\n",
            "Epoch 19/50\n",
            "115/115 [==============================] - 25s 217ms/step - loss: 0.0331 - accuracy: 0.6567 - val_loss: 0.0330 - val_accuracy: 0.6174\n",
            "Epoch 20/50\n",
            "115/115 [==============================] - 25s 217ms/step - loss: 0.0323 - accuracy: 0.6551 - val_loss: 0.0332 - val_accuracy: 0.6174\n",
            "Epoch 21/50\n",
            "115/115 [==============================] - 25s 217ms/step - loss: 0.0323 - accuracy: 0.6556 - val_loss: 0.0333 - val_accuracy: 0.6174\n",
            "Epoch 22/50\n",
            "115/115 [==============================] - 25s 217ms/step - loss: 0.0325 - accuracy: 0.6551 - val_loss: 0.0333 - val_accuracy: 0.6174\n",
            "Epoch 23/50\n",
            "115/115 [==============================] - 27s 236ms/step - loss: 0.0326 - accuracy: 0.6551 - val_loss: 0.0333 - val_accuracy: 0.6174\n",
            "Epoch 24/50\n",
            "115/115 [==============================] - 25s 216ms/step - loss: 0.0321 - accuracy: 0.6556 - val_loss: 0.0334 - val_accuracy: 0.6174\n"
          ]
        }
      ],
      "source": [
        "# 8. 모델 훈련\n",
        "history = model.fit(X_train, y_train, epochs=50, batch_size=16, validation_data=(X_test, y_test), class_weight=class_weights, callbacks=[early_stop])"
      ]
    },
    {
      "cell_type": "code",
      "execution_count": 12,
      "metadata": {
        "colab": {
          "base_uri": "https://localhost:8080/",
          "height": 489
        },
        "id": "jKOHaiHai0fi",
        "outputId": "c9bb9e6c-a5a7-476b-c391-e1f33bdc5355"
      },
      "outputs": [
        {
          "name": "stdout",
          "output_type": "stream",
          "text": [
            "15/15 [==============================] - 1s 68ms/step - loss: 0.0330 - accuracy: 0.6174\n",
            "Test Accuracy: 0.6174\n"
          ]
        },
        {
          "data": {
            "image/png": "[encoded data removed]",
            "text/plain": [
              "<Figure size 640x480 with 1 Axes>"
            ]
          },
          "metadata": {},
          "output_type": "display_data"
        }
      ],
      "source": [
        "# 9. 평가 및 시각화\n",
        "test_loss, test_acc = model.evaluate(X_test, y_test)\n",
        "print(f\"Test Accuracy: {test_acc:.4f}\")\n",
        "\n",
        "plt.plot(history.history['accuracy'], label='train')\n",
        "plt.plot(history.history['val_accuracy'], label='val')\n",
        "plt.legend()\n",
        "plt.title(\"Accuracy\")\n",
        "plt.show()"
      ]
    },
    {
      "cell_type": "code",
      "execution_count": 15,
      "metadata": {
        "colab": {
          "base_uri": "https://localhost:8080/",
          "height": 1000
        },
        "id": "M_lyHNAtm-r5",
        "outputId": "f174d40f-5877-422c-a31a-29748232b6cf"
      },
      "outputs": [
        {
          "name": "stdout",
          "output_type": "stream",
          "text": [
            "Collecting seaborn\n",
            "  Downloading seaborn-0.13.2-py3-none-any.whl.metadata (5.4 kB)\n",
            "Requirement already satisfied: numpy!=1.24.0,>=1.20 in c:\\users\\nh\\anaconda3\\envs\\tf_env\\lib\\site-packages (from seaborn) (1.24.3)\n",
            "Requirement already satisfied: pandas>=1.2 in c:\\users\\nh\\anaconda3\\envs\\tf_env\\lib\\site-packages (from seaborn) (2.3.0)\n",
            "Requirement already satisfied: matplotlib!=3.6.1,>=3.4 in c:\\users\\nh\\anaconda3\\envs\\tf_env\\lib\\site-packages (from seaborn) (3.10.3)\n",
            "Requirement already satisfied: contourpy>=1.0.1 in c:\\users\\nh\\anaconda3\\envs\\tf_env\\lib\\site-packages (from matplotlib!=3.6.1,>=3.4->seaborn) (1.3.2)\n",
            "Requirement already satisfied: cycler>=0.10 in c:\\users\\nh\\anaconda3\\envs\\tf_env\\lib\\site-packages (from matplotlib!=3.6.1,>=3.4->seaborn) (0.12.1)\n",
            "Requirement already satisfied: fonttools>=4.22.0 in c:\\users\\nh\\anaconda3\\envs\\tf_env\\lib\\site-packages (from matplotlib!=3.6.1,>=3.4->seaborn) (4.58.4)\n",
            "Requirement already satisfied: kiwisolver>=1.3.1 in c:\\users\\nh\\anaconda3\\envs\\tf_env\\lib\\site-packages (from matplotlib!=3.6.1,>=3.4->seaborn) (1.4.8)\n",
            "Requirement already satisfied: packaging>=20.0 in c:\\users\\nh\\anaconda3\\envs\\tf_env\\lib\\site-packages (from matplotlib!=3.6.1,>=3.4->seaborn) (25.0)\n",
            "Requirement already satisfied: pillow>=8 in c:\\users\\nh\\anaconda3\\envs\\tf_env\\lib\\site-packages (from matplotlib!=3.6.1,>=3.4->seaborn) (11.2.1)\n",
            "Requirement already satisfied: pyparsing>=2.3.1 in c:\\users\\nh\\anaconda3\\envs\\tf_env\\lib\\site-packages (from matplotlib!=3.6.1,>=3.4->seaborn) (3.2.3)\n",
            "Requirement already satisfied: python-dateutil>=2.7 in c:\\users\\nh\\anaconda3\\envs\\tf_env\\lib\\site-packages (from matplotlib!=3.6.1,>=3.4->seaborn) (2.9.0.post0)\n",
            "Requirement already satisfied: pytz>=2020.1 in c:\\users\\nh\\anaconda3\\envs\\tf_env\\lib\\site-packages (from pandas>=1.2->seaborn) (2025.2)\n",
            "Requirement already satisfied: tzdata>=2022.7 in c:\\users\\nh\\anaconda3\\envs\\tf_env\\lib\\site-packages (from pandas>=1.2->seaborn) (2025.2)\n",
            "Requirement already satisfied: six>=1.5 in c:\\users\\nh\\anaconda3\\envs\\tf_env\\lib\\site-packages (from python-dateutil>=2.7->matplotlib!=3.6.1,>=3.4->seaborn) (1.17.0)\n",
            "Downloading seaborn-0.13.2-py3-none-any.whl (294 kB)\n",
            "Installing collected packages: seaborn\n",
            "Successfully installed seaborn-0.13.2\n",
            "15/15 [==============================] - 1s 67ms/step\n"
          ]
        },
        {
          "name": "stderr",
          "output_type": "stream",
          "text": [
            "c:\\Users\\nh\\anaconda3\\envs\\tf_env\\lib\\site-packages\\seaborn\\utils.py:61: UserWarning: Glyph 44557 (\\N{HANGUL SYLLABLE GEUNG}) missing from font(s) DejaVu Sans.\n",
            "  fig.canvas.draw()\n",
            "c:\\Users\\nh\\anaconda3\\envs\\tf_env\\lib\\site-packages\\seaborn\\utils.py:61: UserWarning: Glyph 51221 (\\N{HANGUL SYLLABLE JEONG}) missing from font(s) DejaVu Sans.\n",
            "  fig.canvas.draw()\n",
            "c:\\Users\\nh\\anaconda3\\envs\\tf_env\\lib\\site-packages\\seaborn\\utils.py:61: UserWarning: Glyph 48512 (\\N{HANGUL SYLLABLE BU}) missing from font(s) DejaVu Sans.\n",
            "  fig.canvas.draw()\n",
            "c:\\Users\\nh\\anaconda3\\envs\\tf_env\\lib\\site-packages\\seaborn\\utils.py:61: UserWarning: Glyph 51473 (\\N{HANGUL SYLLABLE JUNG}) missing from font(s) DejaVu Sans.\n",
            "  fig.canvas.draw()\n",
            "c:\\Users\\nh\\anaconda3\\envs\\tf_env\\lib\\site-packages\\seaborn\\utils.py:61: UserWarning: Glyph 47549 (\\N{HANGUL SYLLABLE RIB}) missing from font(s) DejaVu Sans.\n",
            "  fig.canvas.draw()\n",
            "c:\\Users\\nh\\anaconda3\\envs\\tf_env\\lib\\site-packages\\IPython\\core\\pylabtools.py:170: UserWarning: Glyph 44557 (\\N{HANGUL SYLLABLE GEUNG}) missing from font(s) DejaVu Sans.\n",
            "  fig.canvas.print_figure(bytes_io, **kw)\n",
            "c:\\Users\\nh\\anaconda3\\envs\\tf_env\\lib\\site-packages\\IPython\\core\\pylabtools.py:170: UserWarning: Glyph 51221 (\\N{HANGUL SYLLABLE JEONG}) missing from font(s) DejaVu Sans.\n",
            "  fig.canvas.print_figure(bytes_io, **kw)\n",
            "c:\\Users\\nh\\anaconda3\\envs\\tf_env\\lib\\site-packages\\IPython\\core\\pylabtools.py:170: UserWarning: Glyph 48512 (\\N{HANGUL SYLLABLE BU}) missing from font(s) DejaVu Sans.\n",
            "  fig.canvas.print_figure(bytes_io, **kw)\n",
            "c:\\Users\\nh\\anaconda3\\envs\\tf_env\\lib\\site-packages\\IPython\\core\\pylabtools.py:170: UserWarning: Glyph 51473 (\\N{HANGUL SYLLABLE JUNG}) missing from font(s) DejaVu Sans.\n",
            "  fig.canvas.print_figure(bytes_io, **kw)\n",
            "c:\\Users\\nh\\anaconda3\\envs\\tf_env\\lib\\site-packages\\IPython\\core\\pylabtools.py:170: UserWarning: Glyph 47549 (\\N{HANGUL SYLLABLE RIB}) missing from font(s) DejaVu Sans.\n",
            "  fig.canvas.print_figure(bytes_io, **kw)\n"
          ]
        },
        {
          "data": {
            "image/png": "[encoded data removed]",
            "text/plain": [
              "<Figure size 800x600 with 2 Axes>"
            ]
          },
          "metadata": {},
          "output_type": "display_data"
        },
        {
          "name": "stdout",
          "output_type": "stream",
          "text": [
            "Classification Report:\n",
            "\n",
            "              precision    recall  f1-score   support\n",
            "\n",
            "          긍정       0.62      1.00      0.76       284\n",
            "          부정       0.00      0.00      0.00       104\n",
            "          중립       0.00      0.00      0.00        72\n",
            "\n",
            "    accuracy                           0.62       460\n",
            "   macro avg       0.21      0.33      0.25       460\n",
            "weighted avg       0.38      0.62      0.47       460\n",
            "\n"
          ]
        },
        {
          "name": "stderr",
          "output_type": "stream",
          "text": [
            "c:\\Users\\nh\\anaconda3\\envs\\tf_env\\lib\\site-packages\\sklearn\\metrics\\_classification.py:1706: UndefinedMetricWarning: Precision is ill-defined and being set to 0.0 in labels with no predicted samples. Use `zero_division` parameter to control this behavior.\n",
            "  _warn_prf(average, modifier, f\"{metric.capitalize()} is\", result.shape[0])\n",
            "c:\\Users\\nh\\anaconda3\\envs\\tf_env\\lib\\site-packages\\sklearn\\metrics\\_classification.py:1706: UndefinedMetricWarning: Precision is ill-defined and being set to 0.0 in labels with no predicted samples. Use `zero_division` parameter to control this behavior.\n",
            "  _warn_prf(average, modifier, f\"{metric.capitalize()} is\", result.shape[0])\n",
            "c:\\Users\\nh\\anaconda3\\envs\\tf_env\\lib\\site-packages\\sklearn\\metrics\\_classification.py:1706: UndefinedMetricWarning: Precision is ill-defined and being set to 0.0 in labels with no predicted samples. Use `zero_division` parameter to control this behavior.\n",
            "  _warn_prf(average, modifier, f\"{metric.capitalize()} is\", result.shape[0])\n"
          ]
        }
      ],
      "source": [
        "!pip install seaborn\n",
        "from sklearn.metrics import confusion_matrix, classification_report\n",
        "import seaborn as sns\n",
        "import matplotlib.pyplot as plt\n",
        "\n",
        "# 예측\n",
        "y_pred_probs = model.predict(X_test)\n",
        "y_pred = y_pred_probs.argmax(axis=1)\n",
        "y_true = y_test.argmax(axis=1)\n",
        "\n",
        "# 라벨 디코딩\n",
        "labels = le.classes_\n",
        "\n",
        "# 혼동 행렬\n",
        "cm = confusion_matrix(y_true, y_pred)\n",
        "\n",
        "# 시각화\n",
        "plt.figure(figsize=(8,6))\n",
        "sns.heatmap(cm, annot=True, fmt='d', xticklabels=labels, yticklabels=labels, cmap='YlGnBu')\n",
        "plt.xlabel(\"Predicted\")\n",
        "plt.ylabel(\"True\")\n",
        "plt.title(\"Confusion Matrix\")\n",
        "plt.show()\n",
        "\n",
        "# 정밀도/재현율/정확도 등\n",
        "print(\"Classification Report:\\n\")\n",
        "print(classification_report(y_true, y_pred, target_names=labels))"
      ]
    }
  ],
  "metadata": {
    "accelerator": "GPU",
    "colab": {
      "gpuType": "T4",
      "provenance": []
    },
    "kernelspec": {
      "display_name": "tf_env",
      "language": "python",
      "name": "python3"
    },
    "language_info": {
      "codemirror_mode": {
        "name": "ipython",
        "version": 3
      },
      "file_extension": ".py",
      "mimetype": "text/x-python",
      "name": "python",
      "nbconvert_exporter": "python",
      "pygments_lexer": "ipython3",
      "version": "3.10.18"
    }
  },
  "nbformat": 4,
  "nbformat_minor": 0
}
